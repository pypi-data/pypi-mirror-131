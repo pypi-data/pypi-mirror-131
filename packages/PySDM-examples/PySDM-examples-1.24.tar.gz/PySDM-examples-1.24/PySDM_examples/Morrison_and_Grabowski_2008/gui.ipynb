{
 "cells": [
  {
   "cell_type": "markdown",
   "metadata": {},
   "source": [
    "[![Binder](https://mybinder.org/badge_logo.svg)](https://mybinder.org/v2/gh/atmos-cloud-sim-uj/PySDM-examples.git/main?urlpath=lab/tree/PySDM_examples/Morrison_and_Grabowski_2008/gui.ipynb)\n",
    "[![Open In Colab](https://colab.research.google.com/assets/colab-badge.svg)](https://colab.research.google.com/github/atmos-cloud-sim-uj/PySDM-examples/blob/main/PySDM_examples/Morrison_and_Grabowski_2008/gui.ipynb)"
   ]
  },
  {
   "cell_type": "markdown",
   "metadata": {},
   "source": [
    "#### based on Morrison and Granowski 2008 (J. Atmos. Sci. 65)  \"_A Novel Approach for Representing Ice Microphysics in Models: Description and Tests Using a Kinematic Framework_\"\n",
    "https://doi.org/10.1175/2007JAS2491.1"
   ]
  },
  {
   "cell_type": "code",
   "execution_count": 1,
   "metadata": {
    "pycharm": {
     "name": "#%%\n"
    }
   },
   "outputs": [],
   "source": [
    "import sys\n",
    "if 'google.colab' in sys.modules:\n",
    "    !pip --quiet install atmos-cloud-sim-uj-utils\n",
    "    from atmos_cloud_sim_uj_utils import pip_install_on_colab\n",
    "    pip_install_on_colab('PySDM-examples')"
   ]
  },
  {
   "cell_type": "code",
   "execution_count": 2,
   "metadata": {
    "pycharm": {
     "name": "#%%\n"
    }
   },
   "outputs": [
    {
     "data": {
      "application/vnd.jupyter.widget-view+json": {
       "model_id": "24b2aa8c0b0d49a68febfac843fe2b07",
       "version_major": 2,
       "version_minor": 0
      },
      "text/plain": [
       "Tab(children=(VBox(children=(HBox(children=(FloatProgress(value=0.0, max=1.0), Button(icon='play', style=Butto…"
      ]
     },
     "metadata": {},
     "output_type": "display_data"
    },
    {
     "name": "stdout",
     "output_type": "stream",
     "text": [
      "TOMS748 problem: not fa * fb < 0\n",
      "TOMS748 problem: not fa * fb < 0\n",
      "TOMS748 problem: not fa * fb < 0\n",
      "TOMS748 problem: not fa * fb < 0\n",
      "TOMS748 problem: not fa * fb < 0\n",
      "TOMS748 problem: not fa * fb < 0\n",
      "TOMS748 problem: not fa * fb < 0\n",
      "TOMS748 problem: not fa * fb < 0\n",
      "TOMS748 problem: not fa * fb < 0\n",
      "TOMS748 problem: not fa * fb < 0\n",
      "TOMS748 problem: not fa * fb < 0\n",
      "TOMS748 problem: not fa * fb < 0\n",
      "TOMS748 problem: not fa * fb < 0\n"
     ]
    }
   ],
   "source": [
    "from PySDM_examples.Szumowski_et_al_1998 import gui, Simulation, GUISettings, Storage\n",
    "from PySDM_examples.Morrison_and_Grabowski_2008.settings import ColdCumulus\n",
    "settings = GUISettings(ColdCumulus())\n",
    "storage = Storage()\n",
    "simulation = Simulation(settings, storage, SpinUp=None)\n",
    "gui.launch(settings, simulation, storage)"
   ]
  },
  {
   "cell_type": "code",
   "execution_count": null,
   "metadata": {},
   "outputs": [],
   "source": []
  }
 ],
 "metadata": {
  "kernelspec": {
   "display_name": "Python 3 (ipykernel)",
   "language": "python",
   "name": "python3"
  },
  "language_info": {
   "codemirror_mode": {
    "name": "ipython",
    "version": 3
   },
   "file_extension": ".py",
   "mimetype": "text/x-python",
   "name": "python",
   "nbconvert_exporter": "python",
   "pygments_lexer": "ipython3",
   "version": "3.8.2"
  }
 },
 "nbformat": 4,
 "nbformat_minor": 1
}