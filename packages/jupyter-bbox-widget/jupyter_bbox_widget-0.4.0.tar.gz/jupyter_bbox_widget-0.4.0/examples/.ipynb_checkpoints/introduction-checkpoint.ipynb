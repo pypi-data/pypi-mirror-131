{
 "cells": [
  {
   "cell_type": "code",
   "execution_count": null,
   "metadata": {
    "ExecuteTime": {
     "end_time": "2021-12-15T15:05:20.133440Z",
     "start_time": "2021-12-15T15:05:19.867664Z"
    }
   },
   "outputs": [],
   "source": [
    "from jupyter_bbox_widget import BBoxWidget\n",
    "import ipywidgets as widgets\n",
    "import os\n",
    "import json\n",
    "import base64"
   ]
  },
  {
   "cell_type": "markdown",
   "metadata": {},
   "source": [
    "\n",
    "# jupyter_bbox_widget\n",
    "\n",
    "It's a custom widget that helps you annotate images for object detection tasks.\n",
    "\n",
    "## Introduction\n",
    "\n",
    "Initialize the widget with an image path and a list of classes.\n",
    "\n",
    "Click and drag anywhere on the image to create bboxes, move and resize them as necessary.\n"
   ]
  },
  {
   "cell_type": "code",
   "execution_count": null,
   "metadata": {
    "ExecuteTime": {
     "end_time": "2021-12-15T15:05:21.168329Z",
     "start_time": "2021-12-15T15:05:21.151365Z"
    }
   },
   "outputs": [],
   "source": [
    "widget = BBoxWidget(\n",
    "#     image='fruit/fruit.jpg',\n",
    "    image = 'https://upload.wikimedia.org/wikipedia/commons/thumb/d/d9/%D0%9E%D0%B1%D1%8B%D0%BA%D0%BD%D0%BE%D0%B2%D0%B5%D0%BD%D0%BD%D0%B0%D1%8F_%D0%BF%D0%B8%D1%89%D1%83%D1%85%D0%B0_%28Certhia_familiaris%29.jpg/800px-%D0%9E%D0%B1%D1%8B%D0%BA%D0%BD%D0%BE%D0%B2%D0%B5%D0%BD%D0%BD%D0%B0%D1%8F_%D0%BF%D0%B8%D1%89%D1%83%D1%85%D0%B0_%28Certhia_familiaris%29.jpg',\n",
    "    classes=['apple', 'orange', 'pear'],\n",
    ")\n",
    "widget"
   ]
  },
  {
   "cell_type": "code",
   "execution_count": null,
   "metadata": {
    "ExecuteTime": {
     "end_time": "2021-12-15T15:00:10.298526Z",
     "start_time": "2021-12-15T15:00:10.292798Z"
    }
   },
   "outputs": [],
   "source": [
    "widget.label = 'orange'"
   ]
  },
  {
   "cell_type": "markdown",
   "metadata": {},
   "source": [
    "Access the current state of bboxes like this:"
   ]
  },
  {
   "cell_type": "code",
   "execution_count": null,
   "metadata": {
    "ExecuteTime": {
     "end_time": "2021-11-01T04:53:46.965058Z",
     "start_time": "2021-11-01T04:53:46.952949Z"
    }
   },
   "outputs": [],
   "source": [
    "widget.bboxes"
   ]
  },
  {
   "cell_type": "markdown",
   "metadata": {},
   "source": [
    "## Image display troubleshooting\n",
    "\n",
    "\n",
    "The `image` property of the widget is used in its html as the image `src` attribute.\n",
    "\n",
    "Images from the web are displayed nicely if you provide a URL. Jupyter Notebook can display images given a relative path to the image file. Jupyter Lab seems more strict about it and doesn't display the image this easily.\n",
    "\n",
    "In order to display the image in Jupyter Lab you can encode it as a base64 string using this (or similar) function."
   ]
  },
  {
   "cell_type": "code",
   "execution_count": null,
   "metadata": {
    "ExecuteTime": {
     "end_time": "2021-06-21T17:45:42.956355Z",
     "start_time": "2021-06-21T17:45:42.950568Z"
    }
   },
   "outputs": [],
   "source": [
    "def encode_image(filepath):\n",
    "    with open(filepath, 'rb') as f:\n",
    "        image_bytes = f.read()\n",
    "    encoded = str(base64.b64encode(image_bytes), 'utf-8')\n",
    "    return \"data:image/jpg;base64,\"+encoded"
   ]
  },
  {
   "cell_type": "code",
   "execution_count": null,
   "metadata": {
    "ExecuteTime": {
     "end_time": "2021-06-21T17:46:10.635851Z",
     "start_time": "2021-06-21T17:46:10.632903Z"
    }
   },
   "outputs": [],
   "source": [
    "widget.image = encode_image('fruit/fruit2.jpg')\n",
    "widget.bboxes = []"
   ]
  },
  {
   "cell_type": "markdown",
   "metadata": {},
   "source": [
    "## A simple annotation workflow\n",
    "\n",
    "Let's say we have a folder of image files that we would like to create annotations for."
   ]
  },
  {
   "cell_type": "code",
   "execution_count": null,
   "metadata": {
    "ExecuteTime": {
     "end_time": "2021-06-21T17:46:25.979364Z",
     "start_time": "2021-06-21T17:46:25.976519Z"
    }
   },
   "outputs": [],
   "source": [
    "path = 'fruit'\n",
    "files = sorted(os.listdir(path))\n",
    "\n",
    "annotations = {}\n",
    "annotations_path = 'annotations.json'"
   ]
  },
  {
   "cell_type": "markdown",
   "metadata": {},
   "source": [
    "We'll use a `BBoxWidget` for creating annotations for an image. It already has \"Submit\" and \"Skip\" buttons for going through our list of images. Let's also add a progress bar - from the `ipywidgets` library."
   ]
  },
  {
   "cell_type": "code",
   "execution_count": null,
   "metadata": {
    "ExecuteTime": {
     "end_time": "2021-06-21T17:46:43.718549Z",
     "start_time": "2021-06-21T17:46:43.704636Z"
    }
   },
   "outputs": [],
   "source": [
    "# a progress bar to show how far we got\n",
    "w_progress = widgets.IntProgress(value=0, max=len(files), description='Progress')\n",
    "# the bbox widget\n",
    "w_bbox = BBoxWidget(\n",
    "    image = os.path.join(path, files[0]),\n",
    "    classes=['apple', 'orange', 'pear']\n",
    ")\n",
    "\n",
    "# combine widgets into a container\n",
    "w_container = widgets.VBox([\n",
    "    w_progress,\n",
    "    w_bbox,\n",
    "])"
   ]
  },
  {
   "cell_type": "markdown",
   "metadata": {},
   "source": [
    "Define the functions to process clicks on our Submit and Skip buttons."
   ]
  },
  {
   "cell_type": "code",
   "execution_count": null,
   "metadata": {
    "ExecuteTime": {
     "end_time": "2021-06-21T17:47:55.771388Z",
     "start_time": "2021-06-21T17:47:55.766333Z"
    }
   },
   "outputs": [],
   "source": [
    "# when Skip button is pressed we move on to the next file\n",
    "def on_skip():\n",
    "    w_progress.value += 1\n",
    "    # open new image in the widget\n",
    "    image_file = files[w_progress.value]\n",
    "    w_bbox.image = os.path.join(path, image_file)\n",
    "    # here we assign an empty list to bboxes but \n",
    "    # we could also run a detection model on the file\n",
    "    # and use its output for creating inital bboxes\n",
    "    w_bbox.bboxes = [] \n",
    "\n",
    "w_bbox.on_skip(on_skip)\n",
    "\n",
    "# when Submit button is pressed we save current annotations\n",
    "# and then move on to the next file\n",
    "def on_submit():\n",
    "    image_file = files[w_progress.value]\n",
    "    # save annotations for current image\n",
    "    annotations[image_file] = w_bbox.bboxes\n",
    "    with open(annotations_path, 'w') as f:\n",
    "        json.dump(annotations, f, indent=4)\n",
    "    # move on to the next file\n",
    "    on_skip()\n",
    "\n",
    "w_bbox.on_submit(on_submit)"
   ]
  },
  {
   "cell_type": "markdown",
   "metadata": {},
   "source": [
    "Now we display the container widget and we are ready to annotate."
   ]
  },
  {
   "cell_type": "code",
   "execution_count": null,
   "metadata": {
    "ExecuteTime": {
     "end_time": "2021-06-21T17:47:39.123150Z",
     "start_time": "2021-06-21T17:47:39.117561Z"
    }
   },
   "outputs": [],
   "source": [
    "w_container"
   ]
  },
  {
   "cell_type": "markdown",
   "metadata": {},
   "source": [
    "The last image has more fruit kinds than we anticipated, so we can just add more classes to the list and keep going:"
   ]
  },
  {
   "cell_type": "code",
   "execution_count": null,
   "metadata": {
    "ExecuteTime": {
     "end_time": "2021-06-21T17:48:10.848126Z",
     "start_time": "2021-06-21T17:48:10.845179Z"
    }
   },
   "outputs": [],
   "source": [
    "w_bbox.classes = w_bbox.classes + ['lemon', 'grapefruit']"
   ]
  },
  {
   "cell_type": "markdown",
   "metadata": {},
   "source": [
    "To verify the saved annotations we can look at the annotations file contents:"
   ]
  },
  {
   "cell_type": "code",
   "execution_count": null,
   "metadata": {
    "ExecuteTime": {
     "end_time": "2021-06-21T17:48:56.808572Z",
     "start_time": "2021-06-21T17:48:56.805484Z"
    }
   },
   "outputs": [],
   "source": [
    "with open(annotations_path, 'r') as f:\n",
    "    print(f.read())"
   ]
  },
  {
   "cell_type": "markdown",
   "metadata": {},
   "source": [
    "## Recording additional data\n",
    "\n",
    "Sometimes you need more information about the object than just a location and a class label. For example, you might want to specify whether the object is in focus or blurred, record its size or other properties.\n",
    "\n",
    "`BBoxWidget` lets you select a bbox (by clicking on it or with a `Tab`/`Shift-Tab` keyboard shortcut). The selected bbox is displayed with a thicker border. And its index is exposed in the `selected_index` widget trait. This makes it possible to use other widgets to edit additional properties of the selected bbox.\n",
    "\n",
    "To facilitate this process `BBoxWidget` has an `attach` method that lets you attach another widget for editing an additional bbox property. \n",
    "\n",
    "For example, we want to apply a rating on a scale from 1 to 5 to every object in the image. Then we create a slider widget to edit the rating values:\n",
    "\n",
    "```\n",
    "w_rating = widgets.IntSlider(value=3, min=1, max=5, description='Rating')\n",
    "```\n",
    "\n",
    "And we attach it to the bbox widget.\n",
    "\n",
    "```\n",
    "w_bbox.attach(w_rating, name='rating')\n",
    "```\n",
    "\n",
    "As a result:\n",
    "\n",
    "- Attached widget's value (`3` in this example) is used as the default `rating` value for new bboxes. Each newly created bbox will get a `rating` property with a value of `3` in addition to the usual `x`, `y`, `width`, `height` and `label`.\n",
    "- When a bbox is selected the slider value will be set to bbox's `rating`.\n",
    "- When you change the slider value then the new value is recorded in the selected bbox's `rating` property.\n",
    "- When no bboxes are selected the attached widget will be disabled.\n",
    "\n",
    "You can attach any number of widgets to the `BBoxWidget`. Displaying the attached widgets is left to you so you can make a layout that matches your use case.\n",
    "\n",
    "### An example of attached widgets\n",
    "\n",
    "Here's an example of using two attached widgets for two additional properties (`size` and `in_focus`). The output widget below will show live updates of bbox annotations as you play with the controls."
   ]
  },
  {
   "cell_type": "code",
   "execution_count": null,
   "metadata": {
    "ExecuteTime": {
     "end_time": "2021-06-21T17:49:12.423940Z",
     "start_time": "2021-06-21T17:49:12.388690Z"
    },
    "scrolled": false
   },
   "outputs": [],
   "source": [
    "w_bbox = BBoxWidget(\n",
    "    image='fruit/fruit.jpg',\n",
    "    classes=['apple', 'orange', 'pear'],\n",
    ")\n",
    "# a slider to record size\n",
    "w_size = widgets.IntSlider(value=2, min=1, max=3, description='Size')\n",
    "# a checkbox to record if the object is in focus\n",
    "w_focus = widgets.Checkbox(value=True, description='Object is in focus')\n",
    "\n",
    "w_bbox.attach(w_size, name='size')\n",
    "w_bbox.attach(w_focus, name='in_focus')\n",
    "\n",
    "# the output widget will show current state of bbox annotations\n",
    "# as you play with the controls\n",
    "w_out = widgets.Output()\n",
    "def on_bbox_change(change):\n",
    "    w_out.clear_output(wait=True)\n",
    "    with w_out:\n",
    "        print(json.dumps(change['new'], indent=4))\n",
    "w_bbox.observe(on_bbox_change, names=['bboxes'])\n",
    "\n",
    "w_container = widgets.VBox([\n",
    "    w_bbox,\n",
    "    widgets.HBox([\n",
    "        w_size,\n",
    "        w_focus,\n",
    "    ]),\n",
    "    w_out,\n",
    "])\n",
    "w_container"
   ]
  },
  {
   "cell_type": "code",
   "execution_count": null,
   "metadata": {},
   "outputs": [],
   "source": []
  },
  {
   "cell_type": "code",
   "execution_count": null,
   "metadata": {},
   "outputs": [],
   "source": []
  },
  {
   "cell_type": "code",
   "execution_count": null,
   "metadata": {},
   "outputs": [],
   "source": []
  },
  {
   "cell_type": "code",
   "execution_count": null,
   "metadata": {},
   "outputs": [],
   "source": []
  },
  {
   "cell_type": "code",
   "execution_count": null,
   "metadata": {},
   "outputs": [],
   "source": []
  },
  {
   "cell_type": "code",
   "execution_count": null,
   "metadata": {},
   "outputs": [],
   "source": []
  },
  {
   "cell_type": "code",
   "execution_count": null,
   "metadata": {},
   "outputs": [],
   "source": []
  },
  {
   "cell_type": "code",
   "execution_count": null,
   "metadata": {},
   "outputs": [],
   "source": []
  }
 ],
 "metadata": {
  "hide_input": false,
  "kernelspec": {
   "display_name": "Python 3",
   "language": "python",
   "name": "python3"
  },
  "language_info": {
   "codemirror_mode": {
    "name": "ipython",
    "version": 3
   },
   "file_extension": ".py",
   "mimetype": "text/x-python",
   "name": "python",
   "nbconvert_exporter": "python",
   "pygments_lexer": "ipython3",
   "version": "3.7.12"
  },
  "toc": {
   "colors": {
    "hover_highlight": "#DAA520",
    "running_highlight": "#FF0000",
    "selected_highlight": "#FFD700"
   },
   "moveMenuLeft": true,
   "nav_menu": {
    "height": "49.1333px",
    "width": "252px"
   },
   "navigate_menu": true,
   "number_sections": true,
   "sideBar": true,
   "threshold": 4,
   "toc_cell": false,
   "toc_section_display": "block",
   "toc_window_display": false,
   "widenNotebook": false
  }
 },
 "nbformat": 4,
 "nbformat_minor": 4
}
