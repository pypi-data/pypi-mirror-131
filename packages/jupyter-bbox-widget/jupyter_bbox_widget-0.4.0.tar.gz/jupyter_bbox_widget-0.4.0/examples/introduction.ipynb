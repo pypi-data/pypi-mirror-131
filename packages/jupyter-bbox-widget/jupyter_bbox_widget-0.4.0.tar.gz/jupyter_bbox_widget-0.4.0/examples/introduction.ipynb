{
 "cells": [
  {
   "cell_type": "code",
   "execution_count": 1,
   "metadata": {
    "ExecuteTime": {
     "end_time": "2021-12-16T18:23:53.121578Z",
     "start_time": "2021-12-16T18:23:52.966764Z"
    }
   },
   "outputs": [],
   "source": [
    "from jupyter_bbox_widget import BBoxWidget\n",
    "import ipywidgets as widgets\n",
    "import os\n",
    "import json\n",
    "import base64"
   ]
  },
  {
   "cell_type": "markdown",
   "metadata": {},
   "source": [
    "\n",
    "# jupyter_bbox_widget\n",
    "\n",
    "It's a custom widget that helps you annotate images for object detection tasks.\n",
    "\n",
    "## Introduction\n",
    "\n",
    "Initialize the widget with an image path and a list of classes.\n",
    "\n",
    "Click and drag anywhere on the image to create bboxes, move and resize them as necessary.\n"
   ]
  },
  {
   "cell_type": "code",
   "execution_count": 2,
   "metadata": {
    "ExecuteTime": {
     "end_time": "2021-12-16T18:23:53.891584Z",
     "start_time": "2021-12-16T18:23:53.879220Z"
    }
   },
   "outputs": [
    {
     "data": {
      "application/vnd.jupyter.widget-view+json": {
       "model_id": "26af3d73294f4f59a2e21ce1c22f1f0b",
       "version_major": 2,
       "version_minor": 0
      },
      "text/plain": [
       "BBoxWidget(classes=['1', '2', '3'], colors=['#1f77b4', '#ff7f0e', '#2ca02c', '#d62728', '#9467bd', '#8c564b', …"
      ]
     },
     "metadata": {},
     "output_type": "display_data"
    }
   ],
   "source": [
    "widget = BBoxWidget(\n",
    "    image='fruit/fruit.jpg',\n",
    "#     image = 'https://upload.wikimedia.org/wikipedia/commons/thumb/d/d9/%D0%9E%D0%B1%D1%8B%D0%BA%D0%BD%D0%BE%D0%B2%D0%B5%D0%BD%D0%BD%D0%B0%D1%8F_%D0%BF%D0%B8%D1%89%D1%83%D1%85%D0%B0_%28Certhia_familiaris%29.jpg/800px-%D0%9E%D0%B1%D1%8B%D0%BA%D0%BD%D0%BE%D0%B2%D0%B5%D0%BD%D0%BD%D0%B0%D1%8F_%D0%BF%D0%B8%D1%89%D1%83%D1%85%D0%B0_%28Certhia_familiaris%29.jpg',\n",
    "#     classes=['apple', 'orange', 'pear'],\n",
    "    classes=['1','2','3'],\n",
    ")\n",
    "widget"
   ]
  },
  {
   "cell_type": "code",
   "execution_count": 4,
   "metadata": {
    "ExecuteTime": {
     "end_time": "2021-12-16T18:28:21.075708Z",
     "start_time": "2021-12-16T18:28:21.064758Z"
    }
   },
   "outputs": [
    {
     "data": {
      "text/plain": [
       "[]"
      ]
     },
     "execution_count": 4,
     "metadata": {},
     "output_type": "execute_result"
    }
   ],
   "source": [
    "widget.bboxes"
   ]
  },
  {
   "cell_type": "code",
   "execution_count": 5,
   "metadata": {
    "ExecuteTime": {
     "end_time": "2021-12-16T18:28:21.543221Z",
     "start_time": "2021-12-16T18:28:21.540808Z"
    }
   },
   "outputs": [],
   "source": [
    "widget.label = 'foo'"
   ]
  },
  {
   "cell_type": "code",
   "execution_count": 6,
   "metadata": {
    "ExecuteTime": {
     "end_time": "2021-12-16T18:28:28.377764Z",
     "start_time": "2021-12-16T18:28:28.371263Z"
    }
   },
   "outputs": [],
   "source": [
    "widget.label = '3'"
   ]
  },
  {
   "cell_type": "markdown",
   "metadata": {},
   "source": [
    "Access the current state of bboxes like this:"
   ]
  },
  {
   "cell_type": "code",
   "execution_count": null,
   "metadata": {
    "ExecuteTime": {
     "end_time": "2021-11-01T04:53:46.965058Z",
     "start_time": "2021-11-01T04:53:46.952949Z"
    }
   },
   "outputs": [],
   "source": [
    "widget.bboxes"
   ]
  },
  {
   "cell_type": "markdown",
   "metadata": {},
   "source": [
    "## Image display troubleshooting\n",
    "\n",
    "\n",
    "The `image` property of the widget is used in its html as the image `src` attribute.\n",
    "\n",
    "Images from the web are displayed nicely if you provide a URL. Jupyter Notebook can display images given a relative path to the image file. Jupyter Lab seems more strict about it and doesn't display the image this easily.\n",
    "\n",
    "In order to display the image in Jupyter Lab you can encode it as a base64 string using this (or similar) function."
   ]
  },
  {
   "cell_type": "code",
   "execution_count": null,
   "metadata": {
    "ExecuteTime": {
     "end_time": "2021-06-21T17:45:42.956355Z",
     "start_time": "2021-06-21T17:45:42.950568Z"
    }
   },
   "outputs": [],
   "source": [
    "def encode_image(filepath):\n",
    "    with open(filepath, 'rb') as f:\n",
    "        image_bytes = f.read()\n",
    "    encoded = str(base64.b64encode(image_bytes), 'utf-8')\n",
    "    return \"data:image/jpg;base64,\"+encoded"
   ]
  },
  {
   "cell_type": "code",
   "execution_count": null,
   "metadata": {
    "ExecuteTime": {
     "end_time": "2021-06-21T17:46:10.635851Z",
     "start_time": "2021-06-21T17:46:10.632903Z"
    }
   },
   "outputs": [],
   "source": [
    "widget.image = encode_image('fruit/fruit2.jpg')\n",
    "widget.bboxes = []"
   ]
  },
  {
   "cell_type": "markdown",
   "metadata": {},
   "source": [
    "## A simple annotation workflow\n",
    "\n",
    "Let's say we have a folder of image files that we would like to create annotations for."
   ]
  },
  {
   "cell_type": "code",
   "execution_count": 11,
   "metadata": {
    "ExecuteTime": {
     "end_time": "2021-12-15T15:18:17.020933Z",
     "start_time": "2021-12-15T15:18:17.016054Z"
    }
   },
   "outputs": [],
   "source": [
    "path = 'fruit'\n",
    "files = sorted(os.listdir(path))\n",
    "\n",
    "annotations = {}\n",
    "annotations_path = 'annotations.json'"
   ]
  },
  {
   "cell_type": "markdown",
   "metadata": {},
   "source": [
    "We'll use a `BBoxWidget` for creating annotations for an image. It already has \"Submit\" and \"Skip\" buttons for going through our list of images. Let's also add a progress bar - from the `ipywidgets` library."
   ]
  },
  {
   "cell_type": "code",
   "execution_count": 12,
   "metadata": {
    "ExecuteTime": {
     "end_time": "2021-12-15T15:18:18.410090Z",
     "start_time": "2021-12-15T15:18:18.393086Z"
    }
   },
   "outputs": [],
   "source": [
    "# a progress bar to show how far we got\n",
    "w_progress = widgets.IntProgress(value=0, max=len(files), description='Progress')\n",
    "# the bbox widget\n",
    "w_bbox = BBoxWidget(\n",
    "    image = os.path.join(path, files[0]),\n",
    "    classes=['apple', 'orange', 'pear']\n",
    ")\n",
    "\n",
    "# combine widgets into a container\n",
    "w_container = widgets.VBox([\n",
    "    w_progress,\n",
    "    w_bbox,\n",
    "])"
   ]
  },
  {
   "cell_type": "markdown",
   "metadata": {},
   "source": [
    "Define the functions to process clicks on our Submit and Skip buttons."
   ]
  },
  {
   "cell_type": "code",
   "execution_count": 13,
   "metadata": {
    "ExecuteTime": {
     "end_time": "2021-12-15T15:18:20.283297Z",
     "start_time": "2021-12-15T15:18:20.273881Z"
    }
   },
   "outputs": [],
   "source": [
    "# when Skip button is pressed we move on to the next file\n",
    "def on_skip():\n",
    "    w_progress.value += 1\n",
    "    # open new image in the widget\n",
    "    image_file = files[w_progress.value]\n",
    "    w_bbox.image = os.path.join(path, image_file)\n",
    "    # here we assign an empty list to bboxes but \n",
    "    # we could also run a detection model on the file\n",
    "    # and use its output for creating inital bboxes\n",
    "    w_bbox.bboxes = [] \n",
    "\n",
    "w_bbox.on_skip(on_skip)\n",
    "\n",
    "# when Submit button is pressed we save current annotations\n",
    "# and then move on to the next file\n",
    "def on_submit():\n",
    "    image_file = files[w_progress.value]\n",
    "    # save annotations for current image\n",
    "    annotations[image_file] = w_bbox.bboxes\n",
    "    with open(annotations_path, 'w') as f:\n",
    "        json.dump(annotations, f, indent=4)\n",
    "    # move on to the next file\n",
    "    on_skip()\n",
    "\n",
    "w_bbox.on_submit(on_submit)"
   ]
  },
  {
   "cell_type": "markdown",
   "metadata": {},
   "source": [
    "Now we display the container widget and we are ready to annotate."
   ]
  },
  {
   "cell_type": "code",
   "execution_count": 14,
   "metadata": {
    "ExecuteTime": {
     "end_time": "2021-12-15T15:18:25.192522Z",
     "start_time": "2021-12-15T15:18:25.185475Z"
    }
   },
   "outputs": [
    {
     "data": {
      "application/vnd.jupyter.widget-view+json": {
       "model_id": "7653c16d85494341bfd1e29d6e14ccee",
       "version_major": 2,
       "version_minor": 0
      },
      "text/plain": [
       "VBox(children=(IntProgress(value=0, description='Progress', max=3), BBoxWidget(classes=['apple', 'orange', 'pe…"
      ]
     },
     "metadata": {},
     "output_type": "display_data"
    }
   ],
   "source": [
    "w_container"
   ]
  },
  {
   "cell_type": "markdown",
   "metadata": {},
   "source": [
    "The last image has more fruit kinds than we anticipated, so we can just add more classes to the list and keep going:"
   ]
  },
  {
   "cell_type": "code",
   "execution_count": 15,
   "metadata": {
    "ExecuteTime": {
     "end_time": "2021-12-15T15:19:26.667691Z",
     "start_time": "2021-12-15T15:19:26.656819Z"
    }
   },
   "outputs": [],
   "source": [
    "w_bbox.classes = w_bbox.classes + ['lemon', 'grapefruit']"
   ]
  },
  {
   "cell_type": "markdown",
   "metadata": {},
   "source": [
    "To verify the saved annotations we can look at the annotations file contents:"
   ]
  },
  {
   "cell_type": "code",
   "execution_count": 16,
   "metadata": {
    "ExecuteTime": {
     "end_time": "2021-12-15T15:20:04.672027Z",
     "start_time": "2021-12-15T15:20:04.658166Z"
    }
   },
   "outputs": [
    {
     "name": "stdout",
     "output_type": "stream",
     "text": [
      "{\n",
      "    \"fruit.jpg\": [\n",
      "        {\n",
      "            \"x\": 418,\n",
      "            \"y\": 180,\n",
      "            \"width\": 131,\n",
      "            \"height\": 162,\n",
      "            \"label\": \"apple\"\n",
      "        },\n",
      "        {\n",
      "            \"x\": 210,\n",
      "            \"y\": 142,\n",
      "            \"width\": 167,\n",
      "            \"height\": 161,\n",
      "            \"label\": \"orange\"\n",
      "        },\n",
      "        {\n",
      "            \"x\": 51,\n",
      "            \"y\": 187,\n",
      "            \"width\": 219,\n",
      "            \"height\": 178,\n",
      "            \"label\": \"pear\"\n",
      "        }\n",
      "    ],\n",
      "    \"fruit2.jpg\": [\n",
      "        {\n",
      "            \"x\": 129,\n",
      "            \"y\": 138,\n",
      "            \"width\": 218,\n",
      "            \"height\": 329,\n",
      "            \"label\": \"pear\"\n",
      "        },\n",
      "        {\n",
      "            \"x\": 347,\n",
      "            \"y\": 128,\n",
      "            \"width\": 226,\n",
      "            \"height\": 318,\n",
      "            \"label\": \"pear\"\n",
      "        },\n",
      "        {\n",
      "            \"x\": 576,\n",
      "            \"y\": 119,\n",
      "            \"width\": 219,\n",
      "            \"height\": 329,\n",
      "            \"label\": \"pear\"\n",
      "        }\n",
      "    ],\n",
      "    \"fruit3.jpg\": [\n",
      "        {\n",
      "            \"x\": 429,\n",
      "            \"y\": 227,\n",
      "            \"width\": 170,\n",
      "            \"height\": 163,\n",
      "            \"label\": \"pear\"\n",
      "        },\n",
      "        {\n",
      "            \"x\": 240,\n",
      "            \"y\": 180,\n",
      "            \"width\": 156,\n",
      "            \"height\": 161,\n",
      "            \"label\": \"pear\"\n",
      "        },\n",
      "        {\n",
      "            \"x\": 132,\n",
      "            \"y\": 125,\n",
      "            \"width\": 128,\n",
      "            \"height\": 154,\n",
      "            \"label\": \"pear\"\n",
      "        },\n",
      "        {\n",
      "            \"x\": 363,\n",
      "            \"y\": 51,\n",
      "            \"width\": 171,\n",
      "            \"height\": 177,\n",
      "            \"label\": \"orange\"\n",
      "        },\n",
      "        {\n",
      "            \"x\": 172,\n",
      "            \"y\": 3,\n",
      "            \"width\": 220,\n",
      "            \"height\": 173,\n",
      "            \"label\": \"apple\"\n",
      "        },\n",
      "        {\n",
      "            \"x\": 290,\n",
      "            \"y\": 330,\n",
      "            \"width\": 151,\n",
      "            \"height\": 123,\n",
      "            \"label\": \"lemon\"\n",
      "        },\n",
      "        {\n",
      "            \"x\": 491,\n",
      "            \"y\": 374,\n",
      "            \"width\": 136,\n",
      "            \"height\": 157,\n",
      "            \"label\": \"lemon\"\n",
      "        },\n",
      "        {\n",
      "            \"x\": 612,\n",
      "            \"y\": 284,\n",
      "            \"width\": 159,\n",
      "            \"height\": 175,\n",
      "            \"label\": \"apple\"\n",
      "        },\n",
      "        {\n",
      "            \"x\": 102,\n",
      "            \"y\": 279,\n",
      "            \"width\": 192,\n",
      "            \"height\": 209,\n",
      "            \"label\": \"grapefruit\"\n",
      "        }\n",
      "    ]\n",
      "}\n"
     ]
    }
   ],
   "source": [
    "with open(annotations_path, 'r') as f:\n",
    "    print(f.read())"
   ]
  },
  {
   "cell_type": "markdown",
   "metadata": {},
   "source": [
    "## Recording additional data\n",
    "\n",
    "Sometimes you need more information about the object than just a location and a class label. For example, you might want to specify whether the object is in focus or blurred, record its size or other properties.\n",
    "\n",
    "`BBoxWidget` lets you select a bbox (by clicking on it or with a `Tab`/`Shift-Tab` keyboard shortcut). The selected bbox is displayed with a thicker border. And its index is exposed in the `selected_index` widget trait. This makes it possible to use other widgets to edit additional properties of the selected bbox.\n",
    "\n",
    "To facilitate this process `BBoxWidget` has an `attach` method that lets you attach another widget for editing an additional bbox property. \n",
    "\n",
    "For example, we want to apply a rating on a scale from 1 to 5 to every object in the image. Then we create a slider widget to edit the rating values:\n",
    "\n",
    "```\n",
    "w_rating = widgets.IntSlider(value=3, min=1, max=5, description='Rating')\n",
    "```\n",
    "\n",
    "And we attach it to the bbox widget.\n",
    "\n",
    "```\n",
    "w_bbox.attach(w_rating, name='rating')\n",
    "```\n",
    "\n",
    "As a result:\n",
    "\n",
    "- Attached widget's value (`3` in this example) is used as the default `rating` value for new bboxes. Each newly created bbox will get a `rating` property with a value of `3` in addition to the usual `x`, `y`, `width`, `height` and `label`.\n",
    "- When a bbox is selected the slider value will be set to bbox's `rating`.\n",
    "- When you change the slider value then the new value is recorded in the selected bbox's `rating` property.\n",
    "- When no bboxes are selected the attached widget will be disabled.\n",
    "\n",
    "You can attach any number of widgets to the `BBoxWidget`. Displaying the attached widgets is left to you so you can make a layout that matches your use case.\n",
    "\n",
    "### An example of attached widgets\n",
    "\n",
    "Here's an example of using two attached widgets for two additional properties (`size` and `in_focus`). The output widget below will show live updates of bbox annotations as you play with the controls."
   ]
  },
  {
   "cell_type": "code",
   "execution_count": 17,
   "metadata": {
    "ExecuteTime": {
     "end_time": "2021-12-15T15:20:18.649639Z",
     "start_time": "2021-12-15T15:20:18.602365Z"
    },
    "scrolled": false
   },
   "outputs": [
    {
     "data": {
      "application/vnd.jupyter.widget-view+json": {
       "model_id": "7b36953ab323420c9008e83658a72579",
       "version_major": 2,
       "version_minor": 0
      },
      "text/plain": [
       "VBox(children=(BBoxWidget(classes=['apple', 'orange', 'pear'], colors=['#1f77b4', '#ff7f0e', '#2ca02c', '#d627…"
      ]
     },
     "metadata": {},
     "output_type": "display_data"
    }
   ],
   "source": [
    "w_bbox = BBoxWidget(\n",
    "    image='fruit/fruit.jpg',\n",
    "    classes=['apple', 'orange', 'pear'],\n",
    ")\n",
    "# a slider to record size\n",
    "w_size = widgets.IntSlider(value=2, min=1, max=3, description='Size')\n",
    "# a checkbox to record if the object is in focus\n",
    "w_focus = widgets.Checkbox(value=True, description='Object is in focus')\n",
    "\n",
    "w_bbox.attach(w_size, name='size')\n",
    "w_bbox.attach(w_focus, name='in_focus')\n",
    "\n",
    "# the output widget will show current state of bbox annotations\n",
    "# as you play with the controls\n",
    "w_out = widgets.Output()\n",
    "def on_bbox_change(change):\n",
    "    w_out.clear_output(wait=True)\n",
    "    with w_out:\n",
    "        print(json.dumps(change['new'], indent=4))\n",
    "w_bbox.observe(on_bbox_change, names=['bboxes'])\n",
    "\n",
    "w_container = widgets.VBox([\n",
    "    w_bbox,\n",
    "    widgets.HBox([\n",
    "        w_size,\n",
    "        w_focus,\n",
    "    ]),\n",
    "    w_out,\n",
    "])\n",
    "w_container"
   ]
  },
  {
   "cell_type": "code",
   "execution_count": 20,
   "metadata": {
    "ExecuteTime": {
     "end_time": "2021-12-15T15:22:32.363177Z",
     "start_time": "2021-12-15T15:22:32.352930Z"
    }
   },
   "outputs": [],
   "source": [
    "w_bbox.label = 'boo'"
   ]
  },
  {
   "cell_type": "code",
   "execution_count": null,
   "metadata": {},
   "outputs": [],
   "source": []
  },
  {
   "cell_type": "code",
   "execution_count": null,
   "metadata": {},
   "outputs": [],
   "source": []
  },
  {
   "cell_type": "code",
   "execution_count": null,
   "metadata": {},
   "outputs": [],
   "source": []
  },
  {
   "cell_type": "code",
   "execution_count": null,
   "metadata": {},
   "outputs": [],
   "source": []
  },
  {
   "cell_type": "code",
   "execution_count": null,
   "metadata": {},
   "outputs": [],
   "source": []
  },
  {
   "cell_type": "code",
   "execution_count": null,
   "metadata": {},
   "outputs": [],
   "source": []
  },
  {
   "cell_type": "code",
   "execution_count": null,
   "metadata": {},
   "outputs": [],
   "source": []
  }
 ],
 "metadata": {
  "hide_input": false,
  "kernelspec": {
   "display_name": "Python 3",
   "language": "python",
   "name": "python3"
  },
  "language_info": {
   "codemirror_mode": {
    "name": "ipython",
    "version": 3
   },
   "file_extension": ".py",
   "mimetype": "text/x-python",
   "name": "python",
   "nbconvert_exporter": "python",
   "pygments_lexer": "ipython3",
   "version": "3.7.12"
  },
  "toc": {
   "colors": {
    "hover_highlight": "#DAA520",
    "running_highlight": "#FF0000",
    "selected_highlight": "#FFD700"
   },
   "moveMenuLeft": true,
   "nav_menu": {
    "height": "49.1333px",
    "width": "252px"
   },
   "navigate_menu": true,
   "number_sections": true,
   "sideBar": true,
   "threshold": 4,
   "toc_cell": false,
   "toc_section_display": "block",
   "toc_window_display": false,
   "widenNotebook": false
  }
 },
 "nbformat": 4,
 "nbformat_minor": 4
}
