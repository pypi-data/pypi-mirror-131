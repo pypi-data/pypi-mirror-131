{
 "cells": [
  {
   "cell_type": "code",
   "execution_count": 1,
   "metadata": {},
   "outputs": [],
   "source": [
    "import numpy as np\n",
    "import scipy.stats\n",
    "import scs"
   ]
  },
  {
   "cell_type": "code",
   "execution_count": 2,
   "metadata": {},
   "outputs": [],
   "source": [
    "#############################################\n",
    "#      Generate random cone problems        #\n",
    "#############################################\n",
    "\n",
    "def pos(x):\n",
    "    return (x + np.abs(x)) / 2.\n",
    "    \n",
    "def gen_feasible(m, n, p_scale = 0.1):\n",
    "    z = np.random.randn(m)\n",
    "    y = pos(z)\n",
    "    s = y - z\n",
    "\n",
    "    P = np.random.randn(n,n)\n",
    "    P = p_scale * P.T @ P\n",
    "\n",
    "    # Make problem slightly more numerically challenging:\n",
    "    A = np.random.randn(m, n)\n",
    "    U, S, V = np.linalg.svd(A, full_matrices=False)\n",
    "    S = S**2\n",
    "    S /= np.max(S)\n",
    "    A = (U * S) @ V\n",
    "        \n",
    "    x = np.random.randn(n)\n",
    "    c = -A.T @ y - P @ x\n",
    "    b = A.dot(x) + s\n",
    "    \n",
    "    #b /= np.linalg.norm(b)\n",
    "    #x /= np.linalg.norm(b)\n",
    "    \n",
    "    #c /= np.linalg.norm(c)\n",
    "    #y /= np.linalg.norm(c)\n",
    "    \n",
    "    return (P, A, b, c, x, y)"
   ]
  },
  {
   "cell_type": "code",
   "execution_count": 3,
   "metadata": {},
   "outputs": [],
   "source": [
    "def gen_infeasible(m, n, p_scale = 0.1):\n",
    "    # b'y < 0, A'y == 0\n",
    "    z = np.random.randn(m)\n",
    "    y = pos(z)  # y = s - z;\n",
    "    \n",
    "    A = np.random.randn(m, n)\n",
    "    \n",
    "    # A := A - y(A'y)' / y'y\n",
    "    A = A - np.outer(y, np.transpose(A).dot(y)) / np.linalg.norm(y)**2\n",
    "\n",
    "    b = np.random.randn(m)\n",
    "    b = -b / np.dot(b, y)\n",
    "    \n",
    "    P = np.random.randn(n,n)\n",
    "    P = p_scale * P.T @ P\n",
    "\n",
    "    return (P, A, b, np.random.randn(n))\n",
    "\n",
    "def gen_unbounded(m, n, p_scale = 0.1):\n",
    "    # c'x < 0, Ax + s = 0, Px = 0\n",
    "    z = np.random.randn(m)\n",
    "    s = pos(z)\n",
    "    \n",
    "    P = np.random.randn(n,n)\n",
    "    P = p_scale * P.T @ P\n",
    "    eigs, V = np.linalg.eig(P)\n",
    "    \n",
    "    i = np.argmin(eigs)\n",
    "    eigs[i] = 0\n",
    "    x = V[:,i]\n",
    "    \n",
    "    # Px = 0\n",
    "    P = (V * eigs) @ V.T\n",
    "    P = 0.5 * (P + P.T)\n",
    "      \n",
    "    A = np.random.randn(m, n)\n",
    "\n",
    "    # A := A - (s + Ax)x' / x'x ===> Ax + s == 0\n",
    "    A = A - np.outer(s + A.dot(x), x) / np.linalg.norm(x)**2\n",
    "        \n",
    "    c = np.random.randn(n)\n",
    "    c = -c / np.dot(c, x)\n",
    "    \n",
    "    return (P, A, np.random.randn(m), c)"
   ]
  },
  {
   "cell_type": "code",
   "execution_count": 4,
   "metadata": {},
   "outputs": [],
   "source": [
    "def is_optimal(P, A, b, c, x, y, tol=1e-6):\n",
    "    s = b - A @ x\n",
    "    \n",
    "    if (np.linalg.norm(P @ x + c + A.T @ y) < tol and\n",
    "        np.abs(y.T @ s) < tol and\n",
    "        np.linalg.norm(s - pos(s)) < tol and\n",
    "        np.linalg.norm(y - pos(y)) < tol):\n",
    "        return True\n",
    "    return False\n",
    "\n",
    "def is_infeasible(A, b, y, tol=1e-6):\n",
    "    if b.T @ y >= 0:\n",
    "        return False\n",
    "    \n",
    "    y_hat = y / np.abs(b.T @ y)\n",
    "    if (np.linalg.norm(y_hat - pos(y_hat)) < tol and np.linalg.norm(A.T @ y_hat) < tol):\n",
    "        return True\n",
    "    return False\n",
    "\n",
    "def is_unbounded(P, A, c, x, tol=1e-6):\n",
    "    if c.T @ x >= 0:\n",
    "        return False\n",
    "    \n",
    "    x_hat = x / np.abs(c.T @ x)\n",
    "    if np.linalg.norm(P @ x_hat) < tol and np.linalg.norm(A @ x_hat + pos(-A @ x_hat)) < tol:\n",
    "        return True\n",
    "    return False"
   ]
  },
  {
   "cell_type": "code",
   "execution_count": 5,
   "metadata": {},
   "outputs": [],
   "source": [
    "# ''linear'' projection logic\n",
    "\n",
    "class LinearProjector(object):\n",
    "    def __init__(self, P, A, b, c):\n",
    "        (m,n) = A.shape\n",
    "        self.A = A\n",
    "        self.h = np.hstack((c, b))        \n",
    "        self.L = scipy.linalg.cho_factor(np.eye(n) + P + A.T @ A)\n",
    "        self.g = self._solve(self.h)\n",
    "\n",
    "    def _solve(self, v):\n",
    "        (m, n) = self.A.shape\n",
    "        sol = np.zeros(n+m,)\n",
    "        sol[:n] = scipy.linalg.cho_solve(self.L, v[:n] - self.A.T @ v[n:])\n",
    "        sol[n:] = v[n:] + self.A @ sol[:n]\n",
    "        return sol\n",
    "        \n",
    "    def project(self, w):\n",
    "        g = self.g\n",
    "        p = self._solve(w[:-1])\n",
    "        \n",
    "        _a = 1 + g.T@g\n",
    "        _b = w[:-1].T @ g - 2 * p.T @ g - w[-1]\n",
    "        _c = p.T@p - w[:-1].T @ p\n",
    "        \n",
    "        tau = (-_b + np.sqrt(_b ** 2 - 4 * _a * _c)) / 2 / _a\n",
    "        \n",
    "        return np.hstack((p - tau * g, tau))\n",
    "\n",
    "# Douglas-Rachford splitting / ADMM for QP\n",
    "def solve_qp_dr(P, A, b, c, N=1000, tol=1e-6):\n",
    "    (m,n) = np.shape(A)\n",
    "\n",
    "    lp = LinearProjector(P, A, b, c)\n",
    "\n",
    "    u = np.zeros(n+m+1,)\n",
    "    #u[:n+m] = np.hstack((c, b))\n",
    "    u[-1] = 1.\n",
    "\n",
    "    def proj_cone(v):\n",
    "        v[n:] = np.maximum(v[n:], 0.)\n",
    "        return v\n",
    "\n",
    "\n",
    "    use_dr = True # slightly different DR vs ADMM\n",
    "    \n",
    "    for i in range(N):\n",
    "        # for DR ut converges to sol *not* u, see Patrinos, Stella, Bemporad, 2014\n",
    "        # v - ut go to zero\n",
    "        dr_lam = 0.5 # \\in [0,1], 0.5 = DR, 1.0 = PR\n",
    "\n",
    "        ut = lp.project(u)\n",
    "        v = proj_cone(2 * ut - u)\n",
    "        u += 2 * dr_lam * (v - ut)\n",
    "        \n",
    "        x = ut[:n] / ut[-1]\n",
    "        y = ut[n:-1] / ut[-1]\n",
    "        \n",
    "        if (is_optimal(P, A, b, c, x, y, tol=tol) or \n",
    "            is_infeasible(A, b, y, tol=tol) or\n",
    "            is_unbounded(P, A, c, x, tol=tol)):\n",
    "            break\n",
    "        \n",
    "    print(i)\n",
    "    return x,y\n"
   ]
  },
  {
   "cell_type": "code",
   "execution_count": 6,
   "metadata": {},
   "outputs": [],
   "source": [
    "m = 1500\n",
    "n = 1000\n",
    "N = int(5e3)\n",
    "seed = 1234"
   ]
  },
  {
   "cell_type": "code",
   "execution_count": 7,
   "metadata": {},
   "outputs": [
    {
     "name": "stderr",
     "output_type": "stream",
     "text": [
      "/Users/bodonoghue/miniconda2/envs/python37/lib/python3.7/site-packages/ipykernel_launcher.py:56: RuntimeWarning: divide by zero encountered in true_divide\n",
      "/Users/bodonoghue/miniconda2/envs/python37/lib/python3.7/site-packages/ipykernel_launcher.py:57: RuntimeWarning: divide by zero encountered in true_divide\n",
      "/Users/bodonoghue/miniconda2/envs/python37/lib/python3.7/site-packages/ipykernel_launcher.py:2: RuntimeWarning: invalid value encountered in matmul\n",
      "  \n",
      "/Users/bodonoghue/miniconda2/envs/python37/lib/python3.7/site-packages/ipykernel_launcher.py:4: RuntimeWarning: invalid value encountered in matmul\n",
      "  after removing the cwd from sys.path.\n",
      "/Users/bodonoghue/miniconda2/envs/python37/lib/python3.7/site-packages/ipykernel_launcher.py:12: RuntimeWarning: invalid value encountered in matmul\n",
      "  if sys.path[0] == '':\n",
      "/Users/bodonoghue/miniconda2/envs/python37/lib/python3.7/site-packages/ipykernel_launcher.py:15: RuntimeWarning: invalid value encountered in matmul\n",
      "  from ipykernel import kernelapp as app\n",
      "/Users/bodonoghue/miniconda2/envs/python37/lib/python3.7/site-packages/ipykernel_launcher.py:21: RuntimeWarning: invalid value encountered in matmul\n",
      "/Users/bodonoghue/miniconda2/envs/python37/lib/python3.7/site-packages/ipykernel_launcher.py:24: RuntimeWarning: invalid value encountered in matmul\n"
     ]
    },
    {
     "name": "stdout",
     "output_type": "stream",
     "text": [
      "4825\n",
      "------------------------------------------------------------------\n",
      "\t       SCS v3.0.0 - Splitting Conic Solver\n",
      "\t(c) Brendan O'Donoghue, Stanford University, 2012\n",
      "------------------------------------------------------------------\n",
      "problem:  variables n: 1000, constraints m: 1500\n",
      "cones: \t  l: linear vars: 1500\n",
      "settings: eps: 1.00e-06, alpha: 1.50, max_iters: 50000,\n",
      "\t  normalize: 1, scale: 1.00, adaptive_scaling: 1,\n",
      "\t  acceleration_lookback: 10, acceleration_interval: 50,\n",
      "\t  warm_start: 0\n",
      "lin-sys:  sparse-direct\n",
      "\t  nnz(A): 1500000, nnz(P): 500500\n",
      "------------------------------------------------------------------\n",
      " iter | pri res | dua res |   gap   |   obj   |  scale  | time (s)\n",
      "------------------------------------------------------------------\n",
      "     0| 2.27e+19  2.28e+20  1.77e+21  1.55e+21  1.00e+00  2.31e-02 \n",
      "   100| 8.71e-02  1.78e+00  2.98e+00 -1.42e+02  2.10e-01  4.03e+00 \n",
      "   200| 5.84e+01  9.11e-01  2.31e+01 -2.01e+04  8.29e-03  1.13e+01 \n",
      "   300| 1.33e+03  9.66e-01  5.07e+02 -7.81e+06  2.27e-03  1.54e+01 \n",
      "   400| 9.79e+03  8.45e-01  1.06e+03 -3.25e+08  6.80e-04  1.96e+01 \n",
      "   500| 1.30e+04  8.83e-01  1.90e+03 -5.73e+08  6.80e-04  2.04e+01 \n",
      "   600| 2.89e+04  1.77e+00  4.63e+09 -5.22e+09  6.80e-04  2.12e+01 \n",
      "   700| 1.00e+05  8.44e-01  6.81e+10 -6.81e+10  1.97e-04  2.54e+01 \n",
      "   800| 1.12e+05  7.75e-01  7.94e+10 -7.94e+10  1.97e-04  2.62e+01 \n",
      "   900| 1.38e+05  8.53e-01  1.14e+11 -1.14e+11  1.97e-04  2.71e+01 \n",
      "  1000| 1.85e+05  8.06e-01  2.07e+11 -2.07e+11  1.97e-04  2.79e+01 \n",
      "  1100| 2.28e+05  1.01e+00  3.21e+11 -3.21e+11  1.97e-04  2.88e+01 \n",
      "  1200| 2.95e+05  3.76e-01  5.37e+11 -5.37e+11  6.06e-05  3.28e+01 \n",
      "  1300| 2.99e+05  2.31e-01  5.55e+11 -5.55e+11  6.06e-05  3.40e+01 \n",
      "  1400| 3.11e+05  2.01e-01  6.00e+11 -6.00e+11  6.06e-05  3.52e+01 \n",
      "  1500| 3.63e+05  5.55e-01  8.17e+11 -8.17e+11  6.06e-05  3.61e+01 \n",
      "  1600| 3.71e+05  3.34e-01  8.54e+11 -8.54e+11  6.06e-05  3.70e+01 \n",
      "  1700| 4.03e+05  3.50e-01  9.97e+11 -9.97e+11  6.06e-05  3.80e+01 \n",
      "  1800| 4.85e+05  3.22e-01  1.40e+12 -1.40e+12  6.06e-05  3.90e+01 \n",
      "  1825| 5.95e+05  1.38e+01  2.03e+12 -2.03e+12  6.06e-05  3.92e+01 \n",
      "------------------------------------------------------------------\n",
      "status:  unbounded\n",
      "timings: total: 4.26e+01s = setup: 3.34e+00s + solve: 3.92e+01s\n",
      "\t lin-sys: 1.50e+01s, cones: 9.14e-03s, accel: 1.15e-02s\n",
      "lin-sys: nnz(L): 3126250, factorizations: 8\n",
      "------------------------------------------------------------------\n",
      "cone: dist(s, K) = 0.00e+00\n",
      "cert: |Ax+s| = 1.97e-07\n",
      "      |Px| = 8.99e-07\n",
      "      c'x = -1.00\n",
      "------------------------------------------------------------------\n",
      "optimal objective = -inf\n",
      "------------------------------------------------------------------\n"
     ]
    }
   ],
   "source": [
    "np.random.seed(seed)\n",
    "(P, A, b, c) = gen_unbounded(m, n)\n",
    "#P = P + 1e-7 * np.eye(n)\n",
    "(x,y) = solve_qp_dr(P, A, b, c, N=N)\n",
    "probdata = dict(P=scipy.sparse.csc_matrix(P), A=scipy.sparse.csc_matrix(A), b=b, c=c)\n",
    "cone = dict(l=m)\n",
    "sol = scs.solve(probdata, cone, normalize=True, max_iters=10 * N, acceleration_lookback = 10, eps=1e-6)"
   ]
  },
  {
   "cell_type": "code",
   "execution_count": 8,
   "metadata": {},
   "outputs": [
    {
     "name": "stdout",
     "output_type": "stream",
     "text": [
      "-0.9999999999999991\n",
      "0.00016302068657004883\n",
      "6.998773443321813e-07\n"
     ]
    }
   ],
   "source": [
    "print(c.T @ sol['x'])\n",
    "print(np.linalg.norm(c) * np.linalg.norm(A @ sol['x'] + sol['s']))\n",
    "print(np.sqrt(max(0., sol['x'].T @ P @ sol['x'])))"
   ]
  },
  {
   "cell_type": "code",
   "execution_count": 9,
   "metadata": {},
   "outputs": [
    {
     "name": "stdout",
     "output_type": "stream",
     "text": [
      "0.0\n"
     ]
    }
   ],
   "source": [
    "print(np.linalg.norm(P - P.T))"
   ]
  },
  {
   "cell_type": "code",
   "execution_count": 10,
   "metadata": {},
   "outputs": [
    {
     "name": "stderr",
     "output_type": "stream",
     "text": [
      "/Users/bodonoghue/miniconda2/envs/python37/lib/python3.7/site-packages/ipykernel_launcher.py:56: RuntimeWarning: divide by zero encountered in true_divide\n",
      "/Users/bodonoghue/miniconda2/envs/python37/lib/python3.7/site-packages/ipykernel_launcher.py:57: RuntimeWarning: divide by zero encountered in true_divide\n",
      "/Users/bodonoghue/miniconda2/envs/python37/lib/python3.7/site-packages/ipykernel_launcher.py:2: RuntimeWarning: invalid value encountered in matmul\n",
      "  \n",
      "/Users/bodonoghue/miniconda2/envs/python37/lib/python3.7/site-packages/ipykernel_launcher.py:4: RuntimeWarning: invalid value encountered in matmul\n",
      "  after removing the cwd from sys.path.\n",
      "/Users/bodonoghue/miniconda2/envs/python37/lib/python3.7/site-packages/ipykernel_launcher.py:12: RuntimeWarning: invalid value encountered in matmul\n",
      "  if sys.path[0] == '':\n",
      "/Users/bodonoghue/miniconda2/envs/python37/lib/python3.7/site-packages/ipykernel_launcher.py:15: RuntimeWarning: invalid value encountered in matmul\n",
      "  from ipykernel import kernelapp as app\n",
      "/Users/bodonoghue/miniconda2/envs/python37/lib/python3.7/site-packages/ipykernel_launcher.py:21: RuntimeWarning: invalid value encountered in matmul\n",
      "/Users/bodonoghue/miniconda2/envs/python37/lib/python3.7/site-packages/ipykernel_launcher.py:24: RuntimeWarning: invalid value encountered in matmul\n"
     ]
    },
    {
     "name": "stdout",
     "output_type": "stream",
     "text": [
      "518\n",
      "------------------------------------------------------------------\n",
      "\t       SCS v3.0.0 - Splitting Conic Solver\n",
      "\t(c) Brendan O'Donoghue, Stanford University, 2012\n",
      "------------------------------------------------------------------\n",
      "problem:  variables n: 1000, constraints m: 1500\n",
      "cones: \t  l: linear vars: 1500\n",
      "settings: eps: 1.00e-06, alpha: 1.50, max_iters: 5000,\n",
      "\t  normalize: 1, scale: 1.00, adaptive_scaling: 1,\n",
      "\t  acceleration_lookback: 10, acceleration_interval: 50,\n",
      "\t  warm_start: 0\n",
      "lin-sys:  sparse-direct\n",
      "\t  nnz(A): 1500000, nnz(P): 500500\n",
      "------------------------------------------------------------------\n",
      " iter | pri res | dua res |   gap   |   obj   |  scale  | time (s)\n",
      "------------------------------------------------------------------\n",
      "     0| 2.75e-01  4.81e+00  2.28e+00 -2.51e+00  1.00e+00  2.30e-02 \n",
      "   100| 7.54e-01  4.95e+00  4.02e-01  6.90e+02  1.00e+00  8.93e-01 \n",
      "   200| 2.74e+13  1.92e+14  1.09e+19  2.42e+14  1.00e+00  1.75e+00 \n",
      "   300| 7.04e+10  5.99e+11  1.09e+19  5.00e+11  1.00e+00  2.63e+00 \n",
      "------------------------------------------------------------------\n",
      "status:  infeasible\n",
      "timings: total: 6.11e+00s = setup: 3.48e+00s + solve: 2.63e+00s\n",
      "\t lin-sys: 2.54e+00s, cones: 1.77e-03s, accel: 5.36e-04s\n",
      "lin-sys: nnz(L): 3126250, factorizations: 1\n",
      "------------------------------------------------------------------\n",
      "cone: dist(y, K*) = 0.00e+00\n",
      "cert: |A'y| = 5.03e-07\n",
      "      b'y = -1.00\n",
      "------------------------------------------------------------------\n",
      "optimal objective = inf\n",
      "------------------------------------------------------------------\n"
     ]
    }
   ],
   "source": [
    "np.random.seed(seed)\n",
    "(P, A, b, c) = gen_infeasible(m, n)\n",
    "#P = P + np.eye(n)\n",
    "(x,y) = solve_qp_dr(P, A, b, c, N=N)\n",
    "probdata = dict(P=scipy.sparse.csc_matrix(P), A=scipy.sparse.csc_matrix(A), b=b, c=c)\n",
    "cone = dict(l=m)\n",
    "sol = scs.solve(probdata, cone, normalize=True, max_iters=N, acceleration_lookback = 10, eps=1e-6)"
   ]
  },
  {
   "cell_type": "code",
   "execution_count": 11,
   "metadata": {},
   "outputs": [
    {
     "name": "stdout",
     "output_type": "stream",
     "text": [
      "-1.0000000000000007\n",
      "8.069000938048694e-06\n"
     ]
    }
   ],
   "source": [
    "print(b.T @ sol['y'])\n",
    "print(np.linalg.norm(b) * np.linalg.norm(A.T @ sol['y']))"
   ]
  },
  {
   "cell_type": "code",
   "execution_count": 12,
   "metadata": {},
   "outputs": [
    {
     "name": "stdout",
     "output_type": "stream",
     "text": [
      "------------------------------------------------------------------\n",
      "\t       SCS v3.0.0 - Splitting Conic Solver\n",
      "\t(c) Brendan O'Donoghue, Stanford University, 2012\n",
      "------------------------------------------------------------------\n",
      "problem:  variables n: 1000, constraints m: 1500\n",
      "cones: \t  l: linear vars: 1500\n",
      "settings: eps: 1.00e-09, alpha: 1.50, max_iters: 5000,\n",
      "\t  normalize: 1, scale: 0.10, adaptive_scaling: 1,\n",
      "\t  acceleration_lookback: 5, acceleration_interval: 50,\n",
      "\t  warm_start: 0\n",
      "lin-sys:  sparse-direct\n",
      "\t  nnz(A): 1500000, nnz(P): 500500\n",
      "------------------------------------------------------------------\n",
      " iter | pri res | dua res |   gap   |   obj   |  scale  | time (s)\n",
      "------------------------------------------------------------------\n",
      "     0| 4.13e+17  4.98e+19  8.38e+21 -9.20e+21  1.00e-01  2.23e-02 \n",
      "   100| 4.02e-05  6.39e-04  4.95e-03 -4.81e+04  1.00e-01  8.68e-01 \n",
      "   200| 5.44e-06  5.01e-05  9.08e-04 -4.81e+04  1.00e-01  1.72e+00 \n",
      "   300| 1.49e-06  1.40e-05  1.44e-04 -4.81e+04  1.00e-01  2.59e+00 \n",
      "   400| 1.92e-07  2.03e-06  1.84e-05 -4.81e+04  1.00e-01  3.45e+00 \n",
      "   500| 3.95e-08  3.71e-07  2.06e-06 -4.81e+04  1.00e-01  4.31e+00 \n",
      "   600| 6.46e-09  6.52e-08  1.67e-07 -4.81e+04  1.00e-01  5.16e+00 \n",
      "   625| 3.97e-09  3.09e-08  2.17e-07 -4.81e+04  1.00e-01  5.38e+00 \n",
      "------------------------------------------------------------------\n",
      "status:  solved\n",
      "timings: total: 9.07e+00s = setup: 3.69e+00s + solve: 5.38e+00s\n",
      "\t lin-sys: 5.21e+00s, cones: 3.97e-03s, accel: 1.79e-03s\n",
      "lin-sys: nnz(L): 3126250, factorizations: 1\n",
      "------------------------------------------------------------------\n",
      "cones: dist(s, K) = 0.00e+00, dist(y, K*) = 0.00e+00\n",
      "comp slack: s'y/|s||y| = 0.00e+00, gap: |x'Px+c'x+b'y| = 3.82e-08\n",
      "pri res: |Ax+s-b| = 7.42e-09, dua res: |Px+A'y+c| = 7.85e-08\n",
      "------------------------------------------------------------------\n",
      "optimal objective = -48121.413832\n",
      "------------------------------------------------------------------\n"
     ]
    }
   ],
   "source": [
    "np.random.seed(seed)\n",
    "(P, A, b, c, _x, _y) = gen_feasible(m, n, p_scale=0.1)\n",
    "#(_x,_y) = solve_qp_dr(P, A, b, c, N=int())\n",
    "probdata = dict(P=scipy.sparse.csc_matrix(P), A=scipy.sparse.csc_matrix(A), b=b, c=c)\n",
    "\n",
    "cone = dict(l=m)\n",
    "sol = scs.solve(probdata, cone, normalize=True, max_iters=N, acceleration_lookback = 5, eps=1e-9, scale=0.1)"
   ]
  },
  {
   "cell_type": "code",
   "execution_count": 13,
   "metadata": {},
   "outputs": [
    {
     "name": "stdout",
     "output_type": "stream",
     "text": [
      "-48121.41383246187\n",
      "-48121.41383249919\n",
      "3.9219615997217865e-06\n",
      "0.015022402050802713\n",
      "2.140565429176178e-09\n",
      "1.619912428757439e-10\n",
      "1.9776537255227922e-13\n"
     ]
    }
   ],
   "source": [
    "x = sol['x']\n",
    "y = sol['y']\n",
    "s = sol['s']\n",
    "\n",
    "print(_x.T@ P @ _x / 2 + c.T @ _x)\n",
    "print(x.T@ P @ x / 2 + c.T @ x)\n",
    "\n",
    "print(np.linalg.norm(x - _x))\n",
    "print(np.linalg.norm(y - _y))\n",
    "\n",
    "#x = _x\n",
    "#y = _y\n",
    "#s = b - A @ _x\n",
    "\n",
    "print(np.linalg.norm(A @ x + s - b) / (1+np.linalg.norm(b)))\n",
    "print(np.linalg.norm(P@x + A.T @ y + c) / (1+np.linalg.norm(c)))\n",
    "print(abs(x.T@ P @ x + c.T @ x + b.T @ y) / (1 + abs(x.T@P @ x) + abs(c.T @ x) + abs(b.T @ y)))"
   ]
  },
  {
   "cell_type": "code",
   "execution_count": 14,
   "metadata": {},
   "outputs": [],
   "source": [
    "np.random.seed(seed)\n",
    "(P, A, b, c, _, _) = gen_feasible(m, n, p_scale=0.)\n",
    "#(x,y) = solve_qp_dr(P, A, b, c, N=N)\n",
    "#print(c.T @ x)\n",
    "#print(x)"
   ]
  },
  {
   "cell_type": "code",
   "execution_count": 15,
   "metadata": {},
   "outputs": [
    {
     "name": "stdout",
     "output_type": "stream",
     "text": [
      "------------------------------------------------------------------\n",
      "\t       SCS v3.0.0 - Splitting Conic Solver\n",
      "\t(c) Brendan O'Donoghue, Stanford University, 2012\n",
      "------------------------------------------------------------------\n",
      "problem:  variables n: 1000, constraints m: 1500\n",
      "cones: \t  l: linear vars: 1500\n",
      "settings: eps: 1.00e-06, alpha: 1.50, max_iters: 5000,\n",
      "\t  normalize: 1, scale: 1.00, adaptive_scaling: 1,\n",
      "\t  acceleration_lookback: 0, acceleration_interval: 50,\n",
      "\t  warm_start: 0\n",
      "lin-sys:  sparse-direct\n",
      "\t  nnz(A): 1500000, nnz(P): 500500\n",
      "------------------------------------------------------------------\n",
      " iter | pri res | dua res |   gap   |   obj   |  scale  | time (s)\n",
      "------------------------------------------------------------------\n",
      "     0| 5.40e+17  2.43e+20  1.25e+21 -9.73e+21  1.00e+00  2.24e-02 \n",
      "   100| 3.35e-04  1.82e+00  2.31e+01 -4.81e+04  2.88e-01  3.92e+00 \n",
      "   200| 7.73e-06  4.89e-04  4.82e-03 -4.81e+04  1.51e-01  1.10e+01 \n",
      "   225| 4.21e-06  1.46e-04  2.02e-03 -4.81e+04  1.51e-01  1.12e+01 \n",
      "------------------------------------------------------------------\n",
      "status:  solved\n",
      "timings: total: 1.47e+01s = setup: 3.42e+00s + solve: 1.12e+01s\n",
      "\t lin-sys: 1.80e+00s, cones: 1.13e-03s, accel: 1.51e-06s\n",
      "lin-sys: nnz(L): 3126250, factorizations: 4\n",
      "------------------------------------------------------------------\n",
      "cones: dist(s, K) = 0.00e+00, dist(y, K*) = 0.00e+00\n",
      "comp slack: s'y/|s||y| = 0.00e+00, gap: |x'Px+c'x+b'y| = 2.02e-03\n",
      "pri res: |Ax+s-b| = 4.21e-06, dua res: |Px+A'y+c| = 1.46e-04\n",
      "------------------------------------------------------------------\n",
      "optimal objective = -48121.413752\n",
      "------------------------------------------------------------------\n",
      "6.935541916027688\n"
     ]
    }
   ],
   "source": [
    "sol = scs.solve(probdata, cone, normalize=True, max_iters=N, acceleration_lookback = 0, eps=1e-6, use_indirect=False)\n",
    "print(c.T @ sol['x'])"
   ]
  },
  {
   "cell_type": "code",
   "execution_count": null,
   "metadata": {},
   "outputs": [
    {
     "name": "stdout",
     "output_type": "stream",
     "text": [
      "------------------------------------------------------------------\n",
      "\t       SCS v3.0.0 - Splitting Conic Solver\n",
      "\t(c) Brendan O'Donoghue, Stanford University, 2012\n",
      "------------------------------------------------------------------\n",
      "problem:  variables n: 1000, constraints m: 1500\n",
      "cones: \t  l: linear vars: 1500\n",
      "settings: eps: 1.00e-06, alpha: 1.50, max_iters: 5000,\n",
      "\t  normalize: 1, scale: 1.00, adaptive_scaling: 1,\n",
      "\t  acceleration_lookback: 0, acceleration_interval: 50,\n",
      "\t  warm_start: 0\n",
      "lin-sys:  sparse-indirect\n",
      "\t  nnz(A): 1500000, nnz(P): 0, cg_rate: 2.00\n"
     ]
    }
   ],
   "source": [
    "probdata = dict(P=None, A=scipy.sparse.csc_matrix(A), b=b, c=c)\n",
    "cone = dict(l=m)\n",
    "sol = scs.solve(probdata, cone, normalize=True, max_iters=N, acceleration_lookback = 0, eps=1e-6, use_indirect=True)\n",
    "print(c.T @ sol['x'])"
   ]
  },
  {
   "cell_type": "code",
   "execution_count": null,
   "metadata": {},
   "outputs": [],
   "source": [
    "np.random.seed(seed)\n",
    "(P, A, b, c, _, _) = gen_feasible(m, n, 0.001)"
   ]
  },
  {
   "cell_type": "code",
   "execution_count": null,
   "metadata": {},
   "outputs": [],
   "source": [
    "print(np.linalg.norm(A.flatten(), np.inf))\n",
    "print(np.linalg.norm(P.flatten(), np.inf))"
   ]
  },
  {
   "cell_type": "code",
   "execution_count": null,
   "metadata": {},
   "outputs": [],
   "source": [
    "(x,y) = solve_qp_dr(P, A, b, c, N=N)\n",
    "print(x)\n",
    "print(y)"
   ]
  },
  {
   "cell_type": "code",
   "execution_count": null,
   "metadata": {},
   "outputs": [],
   "source": [
    "np.random.seed(seed)\n",
    "(P, A, b, c, _, _) = gen_feasible(m, n)\n",
    "\n",
    "probdata = dict(P=scipy.sparse.csc_matrix(P), A=scipy.sparse.csc_matrix(A), b=b, c=c)\n",
    "\n",
    "cone = dict(l=m)\n",
    "scs.solve(probdata, cone, normalize=True, max_iters=N, acceleration_lookback = 5, eps=1e-6, scale=1)"
   ]
  },
  {
   "cell_type": "code",
   "execution_count": null,
   "metadata": {},
   "outputs": [],
   "source": [
    "scs.solve(probdata, cone, normalize=True, max_iters=N, acceleration_lookback = 5, eps=1e-6, use_indirect=True, scale=1)"
   ]
  },
  {
   "cell_type": "code",
   "execution_count": null,
   "metadata": {},
   "outputs": [],
   "source": [
    "scs.solve(probdata, cone, normalize=True, max_iters=N, acceleration_lookback = 0, eps=1e-6, use_indirect=True, scale=1)"
   ]
  },
  {
   "cell_type": "code",
   "execution_count": null,
   "metadata": {},
   "outputs": [],
   "source": [
    "np.random.seed(seed)\n",
    "(P, A, b, c, _, _) = gen_feasible(m, n, p_scale=0.)\n",
    "(x,y) = solve_qp_dr(P, A, b, c, N=N)\n",
    "print(x)\n",
    "\n",
    "probdata = dict(P=scipy.sparse.csc_matrix(P), A=scipy.sparse.csc_matrix(A), b=b, c=c)\n",
    "cone = dict(l=m)\n",
    "scs.solve(probdata, cone, normalize=True, max_iters=N, acceleration_lookback = 10, eps=1e-6)\n",
    "\n",
    "probdata = dict(P=None, A=scipy.sparse.csc_matrix(A), b=b, c=c)\n",
    "cone = dict(l=m)\n",
    "scs.solve(probdata, cone, normalize=True, max_iters=N, acceleration_lookback = 10, eps=1e-6)"
   ]
  },
  {
   "cell_type": "code",
   "execution_count": null,
   "metadata": {},
   "outputs": [],
   "source": [
    "sol = scs.solve(probdata, cone, normalize=False, max_iters=N, acceleration_lookback = 0, eps=1e-6, use_indirect=True)\n",
    "print(c.T @ sol['x'])"
   ]
  },
  {
   "cell_type": "code",
   "execution_count": null,
   "metadata": {},
   "outputs": [],
   "source": [
    "probdata = dict(P=None, A=scipy.sparse.csc_matrix(A), b=b, c=c)\n",
    "cone = dict(l=m)\n",
    "sol = scs.solve(probdata, cone, normalize=True, max_iters=N, acceleration_lookback = 10, eps=1e-6, use_indirect=True)\n",
    "print(c.T @ sol['x'])"
   ]
  },
  {
   "cell_type": "code",
   "execution_count": null,
   "metadata": {},
   "outputs": [],
   "source": [
    "np.random.seed(seed)\n",
    "(P, A, b, c, _, _) = gen_feasible(m, n, p_scale=0.)\n",
    "print(np.linalg.norm(A))"
   ]
  },
  {
   "cell_type": "code",
   "execution_count": null,
   "metadata": {},
   "outputs": [],
   "source": [
    "np.random.seed(seed)\n",
    "(P, A, b, c, _, _) = gen_feasible(m, n, p_scale=0.)\n",
    "(x,y) = solve_qp_dr(P, A, b, c, N=N)\n",
    "print(c.T @ x)\n",
    "print(x)\n",
    "\n",
    "probdata = dict(P=scipy.sparse.csc_matrix(P), A=scipy.sparse.csc_matrix(A), b=b, c=c)\n",
    "cone = dict(l=m)\n",
    "scs.solve(probdata, cone, normalize=True, max_iters=N, acceleration_lookback = 10, eps=1e-6, use_indirect=True)\n",
    "\n",
    "probdata = dict(P=None, A=scipy.sparse.csc_matrix(A), b=b, c=c)\n",
    "cone = dict(l=m)\n",
    "sol = scs.solve(probdata, cone, normalize=True, max_iters=N, acceleration_lookback = 10, eps=1e-6, use_indirect=True)\n",
    "print(c.T @ sol['x'])"
   ]
  }
 ],
 "metadata": {
  "kernelspec": {
   "display_name": "Python 3",
   "language": "python",
   "name": "python3"
  },
  "language_info": {
   "codemirror_mode": {
    "name": "ipython",
    "version": 3
   },
   "file_extension": ".py",
   "mimetype": "text/x-python",
   "name": "python",
   "nbconvert_exporter": "python",
   "pygments_lexer": "ipython3",
   "version": "3.7.3"
  }
 },
 "nbformat": 4,
 "nbformat_minor": 4
}
