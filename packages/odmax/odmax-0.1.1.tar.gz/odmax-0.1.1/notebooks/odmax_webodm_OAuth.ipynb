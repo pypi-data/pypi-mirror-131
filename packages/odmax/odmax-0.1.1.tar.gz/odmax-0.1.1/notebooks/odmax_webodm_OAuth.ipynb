{
 "cells": [
  {
   "cell_type": "code",
   "execution_count": null,
   "id": "3d07bc6d",
   "metadata": {},
   "outputs": [],
   "source": [
    "!pip install requests_oauthlib\n",
    "\n",
    "from requests_oauthlib import OAuth2Session"
   ]
  },
  {
   "cell_type": "code",
   "execution_count": null,
   "id": "36b01985",
   "metadata": {
    "scrolled": true
   },
   "outputs": [],
   "source": [
    "\n",
    "# Google OAuth information\n",
    "scope = [\"openid\", \"profile\", \"email\"]\n",
    "authorization_base_url = \"https://accounts.google.com/o/oauth2/auth\"\n",
    "token_url = \"https://www.googleapis.com/oauth2/v4/token\"\n",
    "\n",
    "# information about the app goes below, this example assumes the ASDC drone cloud is used\n",
    "client_id = \"477872227117-uhgs6mj7f4agvhbaib3r3d745ct1p8s5.apps.googleusercontent.com\"\n",
    "client_secret = None  # None does not work unfortunately. If you make this None, the client secret will not be forwarded to any token request\n",
    "redirect_uri = \"https://login.au.auth0.com/login/callback\"  # login callback after granted\n",
    "\n",
    "# start a session\n",
    "webodm = OAuth2Session(\n",
    "    client_id,\n",
    "    scope=scope,\n",
    "    redirect_uri=redirect_uri\n",
    ")\n",
    "\n",
    "# retrieve the authorization url based on session\n",
    "authorization_url, state = webodm.authorization_url(\n",
    "    authorization_base_url,\n",
    "    access_type=\"offline\",\n",
    "    prompt=\"select_account\"\n",
    ")\n",
    "\n",
    "# now retrieve a authorization url within browser by logging in\n",
    "print('Please go here and authorize:', authorization_url)\n",
    "redirect_response = input('Paste the full redirect URL here: ')\n",
    "\n",
    "# this results in an error on the browser side, however, you can try to fill in the url on the address bar.\n",
    "webodm.fetch_token(\n",
    "    token_url,\n",
    "    client_secret=client_secret,\n",
    "    authorization_response=redirect_response,\n",
    "    include_client_id=True\n",
    ")\n",
    "\n",
    "# Fetch a protected resource, i.e. user profile\n",
    "r = webodm.get('http://asdc.cloud.edu.au/api/projects/')\n",
    "\n",
    "\n",
    "print(r.content)"
   ]
  }
 ],
 "metadata": {
  "kernelspec": {
   "display_name": "Python 3 (ipykernel)",
   "language": "python",
   "name": "python3"
  },
  "language_info": {
   "codemirror_mode": {
    "name": "ipython",
    "version": 3
   },
   "file_extension": ".py",
   "mimetype": "text/x-python",
   "name": "python",
   "nbconvert_exporter": "python",
   "pygments_lexer": "ipython3",
   "version": "3.8.12"
  }
 },
 "nbformat": 4,
 "nbformat_minor": 5
}
