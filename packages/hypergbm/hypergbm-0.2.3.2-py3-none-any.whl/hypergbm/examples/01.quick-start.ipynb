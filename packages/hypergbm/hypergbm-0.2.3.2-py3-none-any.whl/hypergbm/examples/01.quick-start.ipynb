{
 "cells": [
  {
   "cell_type": "markdown",
   "id": "3e04025a",
   "metadata": {},
   "source": [
    "## Prepare train_data and test_data"
   ]
  },
  {
   "cell_type": "code",
   "execution_count": 1,
   "id": "90e59bf3-da64-453b-a199-38ed3bb0697b",
   "metadata": {},
   "outputs": [],
   "source": [
    "import pandas as pd\n",
    "from sklearn import datasets\n",
    "from sklearn.model_selection import train_test_split"
   ]
  },
  {
   "cell_type": "code",
   "execution_count": 2,
   "id": "21254360-c3aa-4cd5-91d0-89b7559532fa",
   "metadata": {},
   "outputs": [],
   "source": [
    "X,y = datasets.load_breast_cancer(as_frame=True,return_X_y=True)\n",
    "X_train,X_test,y_train,y_test = train_test_split(X,y,train_size=0.7,random_state=335)"
   ]
  },
  {
   "cell_type": "code",
   "execution_count": null,
   "id": "e096753e-a581-4d4c-a96b-ff7d0492c681",
   "metadata": {},
   "outputs": [],
   "source": []
  },
  {
   "cell_type": "markdown",
   "id": "30825862-d3a4-466d-a0f8-e8a6228dd4e5",
   "metadata": {},
   "source": [
    "## Make HyperGBM experiment with default settings and run it"
   ]
  },
  {
   "cell_type": "code",
   "execution_count": 3,
   "id": "159e1614",
   "metadata": {},
   "outputs": [],
   "source": [
    "from hypergbm import make_experiment"
   ]
  },
  {
   "cell_type": "code",
   "execution_count": 4,
   "id": "0afe5742",
   "metadata": {},
   "outputs": [
    {
     "data": {
      "application/vnd.jupyter.widget-view+json": {
       "model_id": "deedcf88cc854786b4de4ba3dedf5859",
       "version_major": 2,
       "version_minor": 0
      },
      "text/plain": [
       "ExperimentProcessWidget(initData='{\"steps\": [{\"index\": 0, \"name\": \"data_clean\", \"type\": \"DataCleanStep\", \"stat…"
      ]
     },
     "metadata": {},
     "output_type": "display_data"
    },
    {
     "name": "stdout",
     "output_type": "stream",
     "text": [
      "CPU times: user 3min 16s, sys: 10.9 s, total: 3min 27s\n",
      "Wall time: 16 s\n"
     ]
    }
   ],
   "source": [
    "%%time\n",
    "train_data = pd.concat([X_train,y_train],axis=1)\n",
    "experiment = make_experiment(train_data, target='target', reward_metric='precision')\n",
    "estimator = experiment.run()"
   ]
  },
  {
   "cell_type": "code",
   "execution_count": 5,
   "id": "2593d656",
   "metadata": {},
   "outputs": [
    {
     "data": {
      "text/plain": [
       "Pipeline(steps=[('data_clean',\n",
       "                 DataCleanStep(cv=True,\n",
       "                               data_cleaner_args={'correct_object_dtype': True,\n",
       "                                                  'drop_columns': None,\n",
       "                                                  'drop_constant_columns': True,\n",
       "                                                  'drop_duplicated_columns': False,\n",
       "                                                  'drop_idness_columns': True,\n",
       "                                                  'drop_label_nan_rows': True,\n",
       "                                                  'int_convert_to': 'float',\n",
       "                                                  'nan_chars': None,\n",
       "                                                  'reduce_mem_usage': False,\n",
       "                                                  'reserve_columns': None},\n",
       "                               name='data_clean')),\n",
       "                ('est...\n",
       "                 GreedyEnsemble(weight=[0.4 0.6 0.  0.  0.  0.  0.  0.  0. ], scores=[0.9637096774193549, 0.9676113360323887, 0.967741935483871, 0.967741935483871, 0.967741935483871, 0.967741935483871, 0.967741935483871, 0.967741935483871, 0.967741935483871, 0.967741935483871, 0.967741935483871, 0.967741935483871, 0.967741935483871, 0.967741935483871, 0.967741935483871, 0.967741935483871, 0.967741935483871, 0.967741935483871, 0.967741935483871, 0.967741935483871]))])"
      ]
     },
     "execution_count": 5,
     "metadata": {},
     "output_type": "execute_result"
    }
   ],
   "source": [
    "estimator"
   ]
  },
  {
   "cell_type": "code",
   "execution_count": null,
   "id": "e9c970c4",
   "metadata": {},
   "outputs": [],
   "source": []
  },
  {
   "cell_type": "markdown",
   "id": "87ea03ca",
   "metadata": {},
   "source": [
    "## Export the trained model"
   ]
  },
  {
   "cell_type": "code",
   "execution_count": 6,
   "id": "089bc603",
   "metadata": {},
   "outputs": [],
   "source": [
    "import pickle\n",
    "with open('model.pkl','wb') as f:\n",
    "    pickle.dump( estimator,f)"
   ]
  },
  {
   "cell_type": "code",
   "execution_count": null,
   "id": "24145bbe",
   "metadata": {},
   "outputs": [],
   "source": []
  },
  {
   "cell_type": "markdown",
   "id": "92dec730",
   "metadata": {},
   "source": [
    "## Scoring with sklearn"
   ]
  },
  {
   "cell_type": "code",
   "execution_count": 7,
   "id": "bfd84ff1",
   "metadata": {},
   "outputs": [
    {
     "data": {
      "text/plain": [
       "0.9652173913043478"
      ]
     },
     "execution_count": 7,
     "metadata": {},
     "output_type": "execute_result"
    }
   ],
   "source": [
    "from sklearn.metrics import get_scorer\n",
    "\n",
    "scorer=get_scorer('precision')\n",
    "# scorer=get_scorer('accuracy')\n",
    "# scorer = get_scorer('roc_auc_ovo')\n",
    "# sc=get_scorer('recall')\n",
    "score = scorer(estimator,X_test,y_test)\n",
    "score"
   ]
  },
  {
   "cell_type": "code",
   "execution_count": 8,
   "id": "c2db130a",
   "metadata": {},
   "outputs": [
    {
     "name": "stdout",
     "output_type": "stream",
     "text": [
      "              precision    recall  f1-score   support\n",
      "\n",
      "           0    0.96429   0.93103   0.94737        58\n",
      "           1    0.96522   0.98230   0.97368       113\n",
      "\n",
      "    accuracy                        0.96491       171\n",
      "   macro avg    0.96475   0.95667   0.96053       171\n",
      "weighted avg    0.96490   0.96491   0.96476       171\n",
      "\n"
     ]
    }
   ],
   "source": [
    "from sklearn.metrics import classification_report\n",
    "\n",
    "y_pred=estimator.predict(X_test)\n",
    "print(classification_report(y_test, y_pred, digits=5))"
   ]
  },
  {
   "cell_type": "code",
   "execution_count": null,
   "id": "686c51ff-a0c3-4bde-923b-b6c569a06193",
   "metadata": {},
   "outputs": [],
   "source": []
  },
  {
   "cell_type": "markdown",
   "id": "364df85d",
   "metadata": {},
   "source": [
    "## Scoring with Hypernets.tabular toolbox"
   ]
  },
  {
   "cell_type": "code",
   "execution_count": 9,
   "id": "671f7f59",
   "metadata": {},
   "outputs": [
    {
     "data": {
      "text/plain": [
       "{'auc': 0.9835215135794935,\n",
       " 'accuracy': 0.9649122807017544,\n",
       " 'f1': 0.9736842105263158,\n",
       " 'recall': 0.9823008849557522,\n",
       " 'precision': 0.9652173913043478}"
      ]
     },
     "execution_count": 9,
     "metadata": {},
     "output_type": "execute_result"
    }
   ],
   "source": [
    "from hypernets.tabular.metrics import calc_score\n",
    "\n",
    "preds=estimator.predict(X_test)\n",
    "proba=estimator.predict_proba(X_test)\n",
    "\n",
    "scores = calc_score(y_test,preds,proba,task='binary', metrics=['auc','accuracy','f1','recall','precision'] )\n",
    "scores"
   ]
  },
  {
   "cell_type": "code",
   "execution_count": null,
   "id": "dc58739f-9536-4495-a138-21c2e4848ce8",
   "metadata": {},
   "outputs": [],
   "source": []
  }
 ],
 "metadata": {
  "kernelspec": {
   "display_name": "Python 3 (ipykernel)",
   "language": "python",
   "name": "python3"
  },
  "language_info": {
   "codemirror_mode": {
    "name": "ipython",
    "version": 3
   },
   "file_extension": ".py",
   "mimetype": "text/x-python",
   "name": "python",
   "nbconvert_exporter": "python",
   "pygments_lexer": "ipython3",
   "version": "3.7.11"
  }
 },
 "nbformat": 4,
 "nbformat_minor": 5
}
