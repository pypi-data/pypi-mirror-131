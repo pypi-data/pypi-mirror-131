{
 "cells": [
  {
   "cell_type": "markdown",
   "id": "50ed32de",
   "metadata": {},
   "source": [
    "## Prepare train_data and test_data"
   ]
  },
  {
   "cell_type": "code",
   "execution_count": 1,
   "id": "b3b0c7d4",
   "metadata": {
    "scrolled": true
   },
   "outputs": [],
   "source": [
    "import pandas as pd\n",
    "from sklearn import datasets\n",
    "from sklearn.model_selection import train_test_split\n",
    "from hypergbm import make_experiment"
   ]
  },
  {
   "cell_type": "code",
   "execution_count": 2,
   "id": "913bfc32",
   "metadata": {},
   "outputs": [],
   "source": [
    "X,y = datasets.load_breast_cancer(as_frame=True,return_X_y=True)\n",
    "X_train,X_test,y_train,y_test = train_test_split(X,y,train_size=0.7,random_state=335)\n",
    "train_data = pd.concat([X_train,y_train],axis=1)"
   ]
  },
  {
   "cell_type": "markdown",
   "id": "ce270b47-4d82-480e-a806-fdded00ade23",
   "metadata": {},
   "source": [
    "# Set the maximum trial number\n",
    "\n",
    "set the maximum trial number with `max_trials`, default is 10."
   ]
  },
  {
   "cell_type": "code",
   "execution_count": 3,
   "id": "fac042b2-d50c-4599-96a1-432efa160f30",
   "metadata": {},
   "outputs": [
    {
     "data": {
      "application/vnd.jupyter.widget-view+json": {
       "model_id": "5f325e3e63fd4de3abedbd4bbab29160",
       "version_major": 2,
       "version_minor": 0
      },
      "text/plain": [
       "ExperimentProcessWidget(initData='{\"steps\": [{\"index\": 0, \"name\": \"data_clean\", \"type\": \"DataCleanStep\", \"stat…"
      ]
     },
     "metadata": {},
     "output_type": "display_data"
    }
   ],
   "source": [
    "experiment = make_experiment(train_data.copy(), target='target', reward_metric='precision',\n",
    "                             max_trials=5)\n",
    "estimator = experiment.run()"
   ]
  },
  {
   "cell_type": "markdown",
   "id": "e7141fc0",
   "metadata": {},
   "source": [
    "# Set cv policy\n",
    "\n",
    "use `num_folds` to change the number of cross-validated folds, to set `cv=False` to disable  cross-validation."
   ]
  },
  {
   "cell_type": "code",
   "execution_count": 4,
   "id": "c9afdb67",
   "metadata": {},
   "outputs": [
    {
     "data": {
      "application/vnd.jupyter.widget-view+json": {
       "model_id": "942bf64023e14062a97c220f93024ac9",
       "version_major": 2,
       "version_minor": 0
      },
      "text/plain": [
       "ExperimentProcessWidget(initData='{\"steps\": [{\"index\": 0, \"name\": \"data_clean\", \"type\": \"DataCleanStep\", \"stat…"
      ]
     },
     "metadata": {},
     "output_type": "display_data"
    }
   ],
   "source": [
    "experiment = make_experiment(train_data.copy(), target='target', reward_metric='precision',\n",
    "                             cv=True, num_folds=5)\n",
    "estimator = experiment.run()"
   ]
  },
  {
   "cell_type": "markdown",
   "id": "c6164703",
   "metadata": {},
   "source": [
    "# Select searcher\n",
    "\n",
    "Select searcher with `searcher`, possible values:\n",
    "* one of 'evolution', 'mcts', 'random' \n",
    "* or one of EvolutionSearcher, MCTSSearcher, RandomSearcher, or subclass of hypernets Searcher "
   ]
  },
  {
   "cell_type": "code",
   "execution_count": 5,
   "id": "d8ac67ff",
   "metadata": {},
   "outputs": [
    {
     "data": {
      "application/vnd.jupyter.widget-view+json": {
       "model_id": "9b27a57f212b4d21aaf124a0ac5a2205",
       "version_major": 2,
       "version_minor": 0
      },
      "text/plain": [
       "ExperimentProcessWidget(initData='{\"steps\": [{\"index\": 0, \"name\": \"data_clean\", \"type\": \"DataCleanStep\", \"stat…"
      ]
     },
     "metadata": {},
     "output_type": "display_data"
    }
   ],
   "source": [
    "#searcher = ['evolution', 'mcts', 'random']\n",
    "experiment = make_experiment(train_data.copy(), target='target', reward_metric='precision',\n",
    "                             searcher='mcts')\n",
    "estimator = experiment.run()"
   ]
  },
  {
   "cell_type": "markdown",
   "id": "fbf55a43",
   "metadata": {},
   "source": [
    "# Set early_stopping policy\n",
    "\n",
    "Use these settings to set search early stopping policy:\n",
    "* early_stopping_rounds:　int, optional, zero or None to disable it, default is 10.\n",
    "* early_stopping_time_limit: int, optional, zero or None to disable it, default is 3600 seconds.\n",
    "* early_stopping_reward: float, optional, zero or None to disable it, default is None."
   ]
  },
  {
   "cell_type": "code",
   "execution_count": 6,
   "id": "b33533e0",
   "metadata": {},
   "outputs": [
    {
     "data": {
      "application/vnd.jupyter.widget-view+json": {
       "model_id": "8d590adc0aeb40cc85585435e64b6788",
       "version_major": 2,
       "version_minor": 0
      },
      "text/plain": [
       "ExperimentProcessWidget(initData='{\"steps\": [{\"index\": 0, \"name\": \"data_clean\", \"type\": \"DataCleanStep\", \"stat…"
      ]
     },
     "metadata": {},
     "output_type": "display_data"
    }
   ],
   "source": [
    "experiment = make_experiment(train_data.copy(), target='target', reward_metric='precision',\n",
    "                             early_stopping_rounds=10,\n",
    "                             early_stopping_time_limit=1800,\n",
    "                             early_stopping_reward=0.96)\n",
    "estimator = experiment.run()"
   ]
  },
  {
   "cell_type": "markdown",
   "id": "4c8cc690",
   "metadata": {},
   "source": [
    "# Set ensemble_size\n",
    "\n",
    "Use `ensemble_size` to set the estimator number in model ensemble, set `0` to disable it."
   ]
  },
  {
   "cell_type": "code",
   "execution_count": 7,
   "id": "440e8717",
   "metadata": {},
   "outputs": [
    {
     "data": {
      "application/vnd.jupyter.widget-view+json": {
       "model_id": "615b3829919d4bc7816d55ecbff43f80",
       "version_major": 2,
       "version_minor": 0
      },
      "text/plain": [
       "ExperimentProcessWidget(initData='{\"steps\": [{\"index\": 0, \"name\": \"data_clean\", \"type\": \"DataCleanStep\", \"stat…"
      ]
     },
     "metadata": {},
     "output_type": "display_data"
    }
   ],
   "source": [
    "experiment = make_experiment(train_data.copy(), target='target', reward_metric='precision',\n",
    "                             max_trials=5,ensemble_size=0)\n",
    "estimator = experiment.run()"
   ]
  },
  {
   "cell_type": "markdown",
   "id": "002a36d9-d612-4791-ab83-a4a18e79896f",
   "metadata": {},
   "source": [
    "# Set random_state\n"
   ]
  },
  {
   "cell_type": "code",
   "execution_count": 8,
   "id": "0c7357ce-fe9f-4bb7-9aec-e5c426f784a3",
   "metadata": {},
   "outputs": [
    {
     "data": {
      "application/vnd.jupyter.widget-view+json": {
       "model_id": "8e0581f50f9c4d3cb13d01b6041e7f9a",
       "version_major": 2,
       "version_minor": 0
      },
      "text/plain": [
       "ExperimentProcessWidget(initData='{\"steps\": [{\"index\": 0, \"name\": \"data_clean\", \"type\": \"DataCleanStep\", \"stat…"
      ]
     },
     "metadata": {},
     "output_type": "display_data"
    }
   ],
   "source": [
    "experiment = make_experiment(train_data.copy(), target='target', reward_metric='precision',\n",
    "                             max_trials=5, random_state=8888)\n",
    "estimator = experiment.run()"
   ]
  },
  {
   "cell_type": "markdown",
   "id": "11a4ee7a-762d-48ce-b228-4d9ebbc53394",
   "metadata": {},
   "source": [
    "# Set log_level \n",
    "\n",
    "Use `log_level` to set logging level in th experiment, possible values:\n",
    "- logging.CRITICAL\n",
    "- logging.FATAL\n",
    "- logging.ERROR\n",
    "- logging.WARNING\n",
    "- logging.WARN\n",
    "- logging.INFO\n",
    "- logging.DEBUG"
   ]
  },
  {
   "cell_type": "code",
   "execution_count": 9,
   "id": "f175c148",
   "metadata": {},
   "outputs": [
    {
     "data": {
      "application/vnd.jupyter.widget-view+json": {
       "model_id": "97f36f045328498c82cd4e8b8f3bdb8b",
       "version_major": 2,
       "version_minor": 0
      },
      "text/plain": [
       "ExperimentProcessWidget(initData='{\"steps\": [{\"index\": 0, \"name\": \"data_clean\", \"type\": \"DataCleanStep\", \"stat…"
      ]
     },
     "metadata": {},
     "output_type": "display_data"
    }
   ],
   "source": [
    "experiment = make_experiment(train_data.copy(), target='target', reward_metric='precision',\n",
    "                             max_trials=5,log_level='info')\n",
    "estimator = experiment.run()"
   ]
  },
  {
   "cell_type": "code",
   "execution_count": null,
   "id": "14365f2b",
   "metadata": {},
   "outputs": [],
   "source": []
  }
 ],
 "metadata": {
  "kernelspec": {
   "display_name": "Python 3 (ipykernel)",
   "language": "python",
   "name": "python3"
  },
  "language_info": {
   "codemirror_mode": {
    "name": "ipython",
    "version": 3
   },
   "file_extension": ".py",
   "mimetype": "text/x-python",
   "name": "python",
   "nbconvert_exporter": "python",
   "pygments_lexer": "ipython3",
   "version": "3.7.11"
  }
 },
 "nbformat": 4,
 "nbformat_minor": 5
}
