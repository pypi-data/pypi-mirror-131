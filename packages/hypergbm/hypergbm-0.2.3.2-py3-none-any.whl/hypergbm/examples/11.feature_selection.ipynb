{
 "cells": [
  {
   "cell_type": "markdown",
   "id": "50ed32de",
   "metadata": {},
   "source": [
    "# Prepare train_data and test_data"
   ]
  },
  {
   "cell_type": "code",
   "execution_count": 1,
   "id": "b3b0c7d4",
   "metadata": {
    "scrolled": true
   },
   "outputs": [],
   "source": [
    "import pandas as pd\n",
    "from sklearn import datasets\n",
    "from sklearn.model_selection import train_test_split\n",
    "from hypergbm import make_experiment\n",
    "from hypernets.tabular.metrics import metric_to_scoring"
   ]
  },
  {
   "cell_type": "code",
   "execution_count": 2,
   "id": "913bfc32",
   "metadata": {},
   "outputs": [],
   "source": [
    "X,y = datasets.load_breast_cancer(as_frame=True,return_X_y=True)\n",
    "X_train,X_test,y_train,y_test = train_test_split(X,y,train_size=0.7,random_state=335)\n",
    "train_data = pd.concat([X_train,y_train],axis=1)"
   ]
  },
  {
   "cell_type": "code",
   "execution_count": 3,
   "id": "c9afdb67",
   "metadata": {
    "scrolled": true,
    "tags": []
   },
   "outputs": [
    {
     "data": {
      "application/vnd.jupyter.widget-view+json": {
       "model_id": "42f28bb2c91f43bb9a02ba9f329a43dd",
       "version_major": 2,
       "version_minor": 0
      },
      "text/plain": [
       "ExperimentProcessWidget(initData='{\"steps\": [{\"index\": 0, \"name\": \"data_clean\", \"type\": \"DataCleanStep\", \"stat…"
      ]
     },
     "metadata": {},
     "output_type": "display_data"
    }
   ],
   "source": [
    "experiment = make_experiment(train_data.copy(), target='target', \n",
    "                             reward_metric='precision', pos_label=1,\n",
    "                             random_state=1234, max_trials=20)\n",
    "estimator = experiment.run()"
   ]
  },
  {
   "cell_type": "code",
   "execution_count": 4,
   "id": "83c39212",
   "metadata": {
    "tags": []
   },
   "outputs": [
    {
     "data": {
      "text/plain": [
       "0.9649122807017544"
      ]
     },
     "execution_count": 4,
     "metadata": {},
     "output_type": "execute_result"
    }
   ],
   "source": [
    "scorer = metric_to_scoring('precision',pos_label=1)\n",
    "score = scorer(estimator, X_test, y_test)\n",
    "score"
   ]
  },
  {
   "cell_type": "markdown",
   "id": "4fee1c7a",
   "metadata": {},
   "source": [
    "# Use Feature selection\n",
    "Set `feature_selection=True` to enable feature selection with feature_importance before HyperGBM search, optional settings:\n",
    "* feature_selection_strategy: one of *threshold*, *number* or *quantile*. default is *threshold*\n",
    "* feature_selection_threshold: confidence threshold of feature_importance  \n",
    "* feature_selection_quantile: confidence quantile of feature_importance  \n",
    "* feature_selection_number: expected feature number to keep"
   ]
  },
  {
   "cell_type": "code",
   "execution_count": 5,
   "id": "ad9abe14",
   "metadata": {},
   "outputs": [
    {
     "data": {
      "application/vnd.jupyter.widget-view+json": {
       "model_id": "4499f8410f614f4ba9bf491d1a152a94",
       "version_major": 2,
       "version_minor": 0
      },
      "text/plain": [
       "ExperimentProcessWidget(initData='{\"steps\": [{\"index\": 0, \"name\": \"data_clean\", \"type\": \"DataCleanStep\", \"stat…"
      ]
     },
     "metadata": {},
     "output_type": "display_data"
    }
   ],
   "source": [
    "#feature_selection_number = 15\n",
    "#feature_selection_quantile = 0.1\n",
    "#feature_selection_threshold = 0.1\n",
    "experiment = make_experiment(train_data.copy(), target='target', \n",
    "                             reward_metric='precision', pos_label=1,\n",
    "                             random_state=1234, max_trials=20,\n",
    "                             feature_selection=True,\n",
    "                             feature_selection_threshold=0.0001,\n",
    "                             )\n",
    "estimator = experiment.run()"
   ]
  },
  {
   "cell_type": "code",
   "execution_count": 6,
   "id": "26baa6a3-b2d0-4287-83b4-cb14cc4e5527",
   "metadata": {},
   "outputs": [
    {
     "data": {
      "text/plain": [
       "0.9568965517241379"
      ]
     },
     "execution_count": 6,
     "metadata": {},
     "output_type": "execute_result"
    }
   ],
   "source": [
    "scorer = metric_to_scoring('precision', pos_label=1)\n",
    "score = scorer(estimator, X_test, y_test)\n",
    "score"
   ]
  },
  {
   "cell_type": "code",
   "execution_count": null,
   "id": "1cc97f8d-8186-4ea4-ad37-f5ef214d45d3",
   "metadata": {},
   "outputs": [],
   "source": []
  }
 ],
 "metadata": {
  "kernelspec": {
   "display_name": "Python 3 (ipykernel)",
   "language": "python",
   "name": "python3"
  },
  "language_info": {
   "codemirror_mode": {
    "name": "ipython",
    "version": 3
   },
   "file_extension": ".py",
   "mimetype": "text/x-python",
   "name": "python",
   "nbconvert_exporter": "python",
   "pygments_lexer": "ipython3",
   "version": "3.7.11"
  }
 },
 "nbformat": 4,
 "nbformat_minor": 5
}
