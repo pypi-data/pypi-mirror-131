{
 "cells": [
  {
   "cell_type": "markdown",
   "id": "50ed32de",
   "metadata": {},
   "source": [
    "## Prepare train_data and test_data"
   ]
  },
  {
   "cell_type": "code",
   "execution_count": 1,
   "id": "b3b0c7d4",
   "metadata": {
    "scrolled": true
   },
   "outputs": [],
   "source": [
    "import pandas as pd\n",
    "from sklearn import datasets\n",
    "from sklearn.model_selection import train_test_split\n",
    "import warnings\n",
    "warnings.filterwarnings(\"ignore\")"
   ]
  },
  {
   "cell_type": "code",
   "execution_count": 2,
   "id": "913bfc32",
   "metadata": {},
   "outputs": [],
   "source": [
    "X,y = datasets.load_breast_cancer(as_frame=True,return_X_y=True)\n",
    "X_train,X_test,y_train,y_test = train_test_split(X,y,train_size=0.7,random_state=335)\n",
    "train_data = pd.concat([X_train,y_train],axis=1)\n",
    "eval_data = pd.concat([X_test,y_test],axis=1)"
   ]
  },
  {
   "cell_type": "markdown",
   "id": "eb913df0",
   "metadata": {},
   "source": [
    "# Use HyperGBM to train model"
   ]
  },
  {
   "cell_type": "code",
   "execution_count": 3,
   "id": "83c39212",
   "metadata": {
    "scrolled": true
   },
   "outputs": [],
   "source": [
    "from hypergbm import HyperGBM\n",
    "from hypergbm.search_space import search_space_general\n",
    "from hypernets.searchers.random_searcher import RandomSearcher"
   ]
  },
  {
   "cell_type": "code",
   "execution_count": 4,
   "id": "a5b0481f",
   "metadata": {},
   "outputs": [
    {
     "name": "stdout",
     "output_type": "stream",
     "text": [
      "08-17 07:09:48 I hypernets.c.meta_learner.py 22 - Initialize Meta Learner: dataset_id:ab373b8b2ef606325314215dd3595e3d\n",
      "08-17 07:09:49 I hypergbm.hyper_gbm.py 308 - oof_scores:[{'accuracy': 0.9624060150375939}, {'accuracy': 0.9323308270676691}, {'accuracy': 0.9242424242424242}]\n",
      "08-17 07:09:49 I hypernets.d.in_process_dispatcher.py 76 - Trial 1 done, reward: 0.9396984924623115, best_trial_no:1, best_reward:0.9396984924623115\n",
      "\n",
      "08-17 07:09:50 I hypergbm.hyper_gbm.py 308 - oof_scores:[{'accuracy': 0.9624060150375939}, {'accuracy': 0.9323308270676691}, {'accuracy': 0.946969696969697}]\n",
      "08-17 07:09:50 I hypernets.d.in_process_dispatcher.py 76 - Trial 2 done, reward: 0.9472361809045227, best_trial_no:2, best_reward:0.9472361809045227\n",
      "\n",
      "08-17 07:09:50 I hypergbm.hyper_gbm.py 308 - oof_scores:[{'accuracy': 0.6165413533834586}, {'accuracy': 0.6090225563909775}, {'accuracy': 0.6136363636363636}]\n",
      "08-17 07:09:50 I hypernets.d.in_process_dispatcher.py 76 - Trial 3 done, reward: 0.6130653266331658, best_trial_no:2, best_reward:0.9472361809045227\n",
      "\n",
      "08-17 07:09:51 I hypergbm.hyper_gbm.py 308 - oof_scores:[{'accuracy': 0.9548872180451128}, {'accuracy': 0.9548872180451128}, {'accuracy': 0.9393939393939394}]\n",
      "08-17 07:09:51 I hypernets.d.in_process_dispatcher.py 76 - Trial 4 done, reward: 0.949748743718593, best_trial_no:4, best_reward:0.949748743718593\n",
      "\n",
      "08-17 07:09:52 I hypergbm.hyper_gbm.py 308 - oof_scores:[{'accuracy': 0.38345864661654133}, {'accuracy': 0.39097744360902253}, {'accuracy': 0.38636363636363635}]\n",
      "08-17 07:09:52 I hypernets.d.in_process_dispatcher.py 76 - Trial 5 done, reward: 0.3869346733668342, best_trial_no:4, best_reward:0.949748743718593\n",
      "\n",
      "08-17 07:09:52 I hypergbm.hyper_gbm.py 308 - oof_scores:[{'accuracy': 0.9699248120300752}, {'accuracy': 0.9323308270676691}, {'accuracy': 0.9393939393939394}]\n",
      "08-17 07:09:52 I hypernets.d.in_process_dispatcher.py 76 - Trial 6 done, reward: 0.9472361809045227, best_trial_no:4, best_reward:0.949748743718593\n",
      "\n",
      "08-17 07:09:52 I hypergbm.hyper_gbm.py 308 - oof_scores:[{'accuracy': 0.6165413533834586}, {'accuracy': 0.6090225563909775}, {'accuracy': 0.6136363636363636}]\n",
      "08-17 07:09:52 I hypernets.d.in_process_dispatcher.py 76 - Trial 7 done, reward: 0.6130653266331658, best_trial_no:4, best_reward:0.949748743718593\n",
      "\n",
      "08-17 07:10:17 I hypergbm.hyper_gbm.py 308 - oof_scores:[{'accuracy': 0.9624060150375939}, {'accuracy': 0.9548872180451128}, {'accuracy': 0.9696969696969697}]\n",
      "08-17 07:10:17 I hypernets.d.in_process_dispatcher.py 76 - Trial 8 done, reward: 0.9623115577889447, best_trial_no:8, best_reward:0.9623115577889447\n",
      "\n",
      "08-17 07:10:17 I hypergbm.hyper_gbm.py 308 - oof_scores:[{'accuracy': 0.9699248120300752}, {'accuracy': 0.9323308270676691}, {'accuracy': 0.9621212121212122}]\n",
      "08-17 07:10:17 I hypernets.d.in_process_dispatcher.py 76 - Trial 9 done, reward: 0.9547738693467337, best_trial_no:8, best_reward:0.9623115577889447\n",
      "\n",
      "08-17 07:10:17 I hypergbm.hyper_gbm.py 308 - oof_scores:[{'accuracy': 0.9699248120300752}, {'accuracy': 0.9548872180451128}, {'accuracy': 0.9393939393939394}]\n",
      "08-17 07:10:17 I hypernets.d.in_process_dispatcher.py 76 - Trial 10 done, reward: 0.9547738693467337, best_trial_no:8, best_reward:0.9623115577889447\n",
      "\n",
      "08-17 07:10:18 I hypergbm.hyper_gbm.py 308 - oof_scores:[{'accuracy': 0.9624060150375939}, {'accuracy': 0.9624060150375939}, {'accuracy': 0.9393939393939394}]\n",
      "08-17 07:10:18 I hypernets.d.in_process_dispatcher.py 76 - Trial 11 done, reward: 0.9547738693467337, best_trial_no:8, best_reward:0.9623115577889447\n",
      "\n",
      "08-17 07:10:19 I hypergbm.hyper_gbm.py 308 - oof_scores:[{'accuracy': 0.9699248120300752}, {'accuracy': 0.9398496240601504}, {'accuracy': 0.946969696969697}]\n",
      "08-17 07:10:19 I hypernets.d.in_process_dispatcher.py 76 - Trial 12 done, reward: 0.9522613065326633, best_trial_no:8, best_reward:0.9623115577889447\n",
      "\n",
      "08-17 07:10:19 I hypergbm.hyper_gbm.py 308 - oof_scores:[{'accuracy': 0.9624060150375939}, {'accuracy': 0.9323308270676691}, {'accuracy': 0.9242424242424242}]\n",
      "08-17 07:10:19 I hypernets.d.in_process_dispatcher.py 76 - Trial 13 done, reward: 0.9396984924623115, best_trial_no:8, best_reward:0.9623115577889447\n",
      "\n",
      "08-17 07:10:20 I hypergbm.hyper_gbm.py 308 - oof_scores:[{'accuracy': 0.9924812030075187}, {'accuracy': 0.924812030075188}, {'accuracy': 0.9848484848484849}]\n",
      "08-17 07:10:20 I hypernets.d.in_process_dispatcher.py 76 - Trial 14 done, reward: 0.9673366834170855, best_trial_no:14, best_reward:0.9673366834170855\n",
      "\n",
      "08-17 07:10:21 I hypergbm.hyper_gbm.py 308 - oof_scores:[{'accuracy': 0.9699248120300752}, {'accuracy': 0.9323308270676691}, {'accuracy': 0.9545454545454546}]\n",
      "08-17 07:10:21 I hypernets.d.in_process_dispatcher.py 76 - Trial 15 done, reward: 0.9522613065326633, best_trial_no:14, best_reward:0.9673366834170855\n",
      "\n",
      "08-17 07:10:22 I hypergbm.hyper_gbm.py 308 - oof_scores:[{'accuracy': 0.6165413533834586}, {'accuracy': 0.6090225563909775}, {'accuracy': 0.6136363636363636}]\n",
      "08-17 07:10:22 I hypernets.d.in_process_dispatcher.py 76 - Trial 16 done, reward: 0.6130653266331658, best_trial_no:14, best_reward:0.9673366834170855\n",
      "\n",
      "08-17 07:10:24 I hypergbm.hyper_gbm.py 308 - oof_scores:[{'accuracy': 0.9548872180451128}, {'accuracy': 0.9624060150375939}, {'accuracy': 0.9393939393939394}]\n",
      "08-17 07:10:24 I hypernets.d.in_process_dispatcher.py 76 - Trial 17 done, reward: 0.9522613065326633, best_trial_no:14, best_reward:0.9673366834170855\n",
      "\n",
      "08-17 07:10:25 I hypergbm.hyper_gbm.py 308 - oof_scores:[{'accuracy': 0.9172932330827067}, {'accuracy': 0.8947368421052632}, {'accuracy': 0.8939393939393939}]\n",
      "08-17 07:10:25 I hypernets.d.in_process_dispatcher.py 76 - Trial 18 done, reward: 0.9020100502512562, best_trial_no:14, best_reward:0.9673366834170855\n",
      "\n",
      "08-17 07:10:25 I hypergbm.hyper_gbm.py 308 - oof_scores:[{'accuracy': 0.6165413533834586}, {'accuracy': 0.6090225563909775}, {'accuracy': 0.6136363636363636}]\n",
      "08-17 07:10:25 I hypernets.d.in_process_dispatcher.py 76 - Trial 19 done, reward: 0.6130653266331658, best_trial_no:14, best_reward:0.9673366834170855\n",
      "\n",
      "08-17 07:10:25 I hypergbm.hyper_gbm.py 308 - oof_scores:[{'accuracy': 0.9699248120300752}, {'accuracy': 0.924812030075188}, {'accuracy': 0.9621212121212122}]\n",
      "08-17 07:10:25 I hypernets.d.in_process_dispatcher.py 76 - Trial 20 done, reward: 0.9522613065326633, best_trial_no:14, best_reward:0.9673366834170855\n",
      "\n"
     ]
    }
   ],
   "source": [
    "# instantiate related objects\n",
    "searcher = RandomSearcher(search_space_general, optimize_direction='max')\n",
    "hypergbm = HyperGBM(searcher, task='binary', reward_metric='accuracy')\n",
    "# search\n",
    "hypergbm.search(X_train, y_train, X_eval=None, y_eval=None,cv=True, max_trials=20)"
   ]
  },
  {
   "cell_type": "code",
   "execution_count": 5,
   "id": "081f5df8",
   "metadata": {},
   "outputs": [
    {
     "data": {
      "text/html": [
       "<div><h>Trial:</h><table border=\"1\" class=\"dataframe\">\n",
       "<thead>\n",
       "<tr style=\"text-align: right;\">\n",
       "  <th>key</th>\n",
       "  <th>value</th>\n",
       "</tr>\n",
       "</thead>\n",
       "<tbody><tr>\n",
       "  <td>Trial No.</td>\n",
       "  <td>14</td>\n",
       "</tr>\n",
       "<tr>\n",
       "  <td>Reward</td>\n",
       "  <td>0.9673366834170855</td>\n",
       "</tr>\n",
       "<tr>\n",
       "  <td>Elapsed</td>\n",
       "  <td>0.1769425868988037</td>\n",
       "</tr>\n",
       "<tr>\n",
       "  <td>space.signature</td>\n",
       "  <td>f774870a60a8dd4f0a6138b43d5a62e2</td>\n",
       "</tr>\n",
       "<tr>\n",
       "  <td>space.vectors</td>\n",
       "  <td>[0, 0, 0, 0, 390, 2, 2, 2, 0]</td>\n",
       "</tr><tr>\n",
       "  <td>0-estimator_options.hp_or</td>\n",
       "  <td>0</td>\n",
       "</tr>\n",
       "<tr><tr>\n",
       "  <td>1-numeric_imputer_0.strategy</td>\n",
       "  <td>mean</td>\n",
       "</tr>\n",
       "<tr><tr>\n",
       "  <td>2-numeric_scaler_optional_0.hp_opt</td>\n",
       "  <td>False</td>\n",
       "</tr>\n",
       "<tr><tr>\n",
       "  <td>3-Module_LightGBMEstimator_1.boosting_type</td>\n",
       "  <td>gbdt</td>\n",
       "</tr>\n",
       "<tr><tr>\n",
       "  <td>4-Module_LightGBMEstimator_1.num_leaves</td>\n",
       "  <td>390</td>\n",
       "</tr>\n",
       "<tr><tr>\n",
       "  <td>5-Module_LightGBMEstimator_1.max_depth</td>\n",
       "  <td>7</td>\n",
       "</tr>\n",
       "<tr><tr>\n",
       "  <td>6-Module_LightGBMEstimator_1.learning_rate</td>\n",
       "  <td>0.5</td>\n",
       "</tr>\n",
       "<tr><tr>\n",
       "  <td>7-Module_LightGBMEstimator_1.reg_alpha</td>\n",
       "  <td>0.1</td>\n",
       "</tr>\n",
       "<tr><tr>\n",
       "  <td>8-Module_LightGBMEstimator_1.reg_lambda</td>\n",
       "  <td>0.001</td>\n",
       "</tr>\n",
       "<tr>  </tbody>\n",
       "</table>\n",
       "</div>"
      ],
      "text/plain": [
       "Trial(space_sample=DAG_HyperSpace_1, trial_no=14, reward=0.9673366834170855, elapsed=0.1769425868988037, model_file='experiment_20210817070948/models/00014_2e866b50-ff2a-11eb-ba18-0242ac110002.pkl')"
      ]
     },
     "execution_count": 5,
     "metadata": {},
     "output_type": "execute_result"
    }
   ],
   "source": [
    "# load best model\n",
    "best_trial = hypergbm.get_best_trial()\n",
    "estimator = hypergbm.load_estimator(best_trial.model_file)\n",
    "best_trial"
   ]
  },
  {
   "cell_type": "code",
   "execution_count": 6,
   "id": "d8c2677e",
   "metadata": {},
   "outputs": [
    {
     "data": {
      "text/plain": [
       "{'auc': 0.9812328349099787,\n",
       " 'accuracy': 0.9590643274853801,\n",
       " 'f1': 0.9691629955947135,\n",
       " 'recall': 0.9734513274336283,\n",
       " 'precision': 0.9649122807017544}"
      ]
     },
     "execution_count": 6,
     "metadata": {},
     "output_type": "execute_result"
    }
   ],
   "source": [
    "# Scoring\n",
    "from hypernets.tabular.metrics import calc_score\n",
    "preds=estimator.predict(X_test)\n",
    "proba=estimator.predict_proba(X_test)\n",
    "scores = calc_score(y_test,preds,proba,task='binary', metrics=['auc','accuracy','f1','recall','precision'] )\n",
    "scores"
   ]
  },
  {
   "cell_type": "code",
   "execution_count": null,
   "id": "4206f612",
   "metadata": {},
   "outputs": [],
   "source": []
  }
 ],
 "metadata": {
  "kernelspec": {
   "display_name": "Python 3 (ipykernel)",
   "language": "python",
   "name": "python3"
  },
  "language_info": {
   "codemirror_mode": {
    "name": "ipython",
    "version": 3
   },
   "file_extension": ".py",
   "mimetype": "text/x-python",
   "name": "python",
   "nbconvert_exporter": "python",
   "pygments_lexer": "ipython3",
   "version": "3.7.11"
  }
 },
 "nbformat": 4,
 "nbformat_minor": 5
}
