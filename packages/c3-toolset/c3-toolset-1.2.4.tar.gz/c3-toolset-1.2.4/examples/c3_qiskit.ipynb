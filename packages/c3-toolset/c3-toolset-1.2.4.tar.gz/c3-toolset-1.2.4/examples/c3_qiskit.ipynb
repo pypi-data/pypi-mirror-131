{
 "cells": [
  {
   "cell_type": "markdown",
   "metadata": {},
   "source": [
    "# C3 Simulator as a backend for Qiskit Experiments"
   ]
  },
  {
   "cell_type": "markdown",
   "metadata": {},
   "source": [
    "This notebook demonstrates the use of the C3 Simulator with a high-level quantum programming framework [Qiskit](https://www.qiskit.org). You must additionally install qiskit and matplotlib to run this example."
   ]
  },
  {
   "cell_type": "code",
   "execution_count": 1,
   "metadata": {
    "execution": {
     "iopub.execute_input": "2021-01-27T04:59:40.720341Z",
     "iopub.status.busy": "2021-01-27T04:59:40.719475Z",
     "iopub.status.idle": "2021-01-27T04:59:40.723350Z",
     "shell.execute_reply": "2021-01-27T04:59:40.724064Z"
    }
   },
   "outputs": [],
   "source": [
    "#!pip install qiskit matplotlib"
   ]
  },
  {
   "cell_type": "code",
   "execution_count": 2,
   "metadata": {
    "execution": {
     "iopub.execute_input": "2021-01-27T04:59:40.728399Z",
     "iopub.status.busy": "2021-01-27T04:59:40.727650Z",
     "iopub.status.idle": "2021-01-27T04:59:44.773825Z",
     "shell.execute_reply": "2021-01-27T04:59:44.773094Z"
    }
   },
   "outputs": [],
   "source": [
    "from c3.qiskit import C3Provider\n",
    "from qiskit import transpile, execute, QuantumCircuit\n",
    "from qiskit.tools.visualization import plot_histogram, plot_state_city"
   ]
  },
  {
   "cell_type": "markdown",
   "metadata": {},
   "source": [
    "## Define a basic circuit to make a Bell State"
   ]
  },
  {
   "cell_type": "code",
   "execution_count": 3,
   "metadata": {
    "execution": {
     "iopub.execute_input": "2021-01-27T04:59:44.781565Z",
     "iopub.status.busy": "2021-01-27T04:59:44.781042Z",
     "iopub.status.idle": "2021-01-27T04:59:44.786384Z",
     "shell.execute_reply": "2021-01-27T04:59:44.786926Z"
    }
   },
   "outputs": [
    {
     "data": {
      "text/plain": [
       "<qiskit.circuit.instructionset.InstructionSet at 0x7f086f0b3280>"
      ]
     },
     "execution_count": 1,
     "metadata": {},
     "output_type": "execute_result"
    }
   ],
   "source": [
    "qc = QuantumCircuit(6, 6)\n",
    "qc.x(0)\n",
    "qc.cx(0,1)\n",
    "qc.measure([0, 1], [0, 1])"
   ]
  },
  {
   "cell_type": "code",
   "execution_count": 4,
   "metadata": {
    "execution": {
     "iopub.execute_input": "2021-01-27T04:59:44.794845Z",
     "iopub.status.busy": "2021-01-27T04:59:44.794159Z",
     "iopub.status.idle": "2021-01-27T04:59:44.797431Z",
     "shell.execute_reply": "2021-01-27T04:59:44.798024Z"
    }
   },
   "outputs": [
    {
     "data": {
      "text/html": [
       "<pre style=\"word-wrap: normal;white-space: pre;background: #fff0;line-height: 1.1;font-family: &quot;Courier New&quot;,Courier,monospace\">     ┌───┐     ┌─┐   \n",
       "q_0: ┤ X ├──■──┤M├───\n",
       "     └───┘┌─┴─┐└╥┘┌─┐\n",
       "q_1: ─────┤ X ├─╫─┤M├\n",
       "          └───┘ ║ └╥┘\n",
       "q_2: ───────────╫──╫─\n",
       "                ║  ║ \n",
       "q_3: ───────────╫──╫─\n",
       "                ║  ║ \n",
       "q_4: ───────────╫──╫─\n",
       "                ║  ║ \n",
       "q_5: ───────────╫──╫─\n",
       "                ║  ║ \n",
       "c: 6/═══════════╩══╩═\n",
       "                0  1 </pre>"
      ],
      "text/plain": [
       "     ┌───┐     ┌─┐   \n",
       "q_0: ┤ X ├──■──┤M├───\n",
       "     └───┘┌─┴─┐└╥┘┌─┐\n",
       "q_1: ─────┤ X ├─╫─┤M├\n",
       "          └───┘ ║ └╥┘\n",
       "q_2: ───────────╫──╫─\n",
       "                ║  ║ \n",
       "q_3: ───────────╫──╫─\n",
       "                ║  ║ \n",
       "q_4: ───────────╫──╫─\n",
       "                ║  ║ \n",
       "q_5: ───────────╫──╫─\n",
       "                ║  ║ \n",
       "c: 6/═══════════╩══╩═\n",
       "                0  1 "
      ]
     },
     "execution_count": 1,
     "metadata": {},
     "output_type": "execute_result"
    }
   ],
   "source": [
    "qc.draw()"
   ]
  },
  {
   "cell_type": "markdown",
   "metadata": {},
   "source": [
    "## Get the C3 Provider and Backend"
   ]
  },
  {
   "cell_type": "code",
   "execution_count": 5,
   "metadata": {
    "execution": {
     "iopub.execute_input": "2021-01-27T04:59:44.803831Z",
     "iopub.status.busy": "2021-01-27T04:59:44.802078Z",
     "iopub.status.idle": "2021-01-27T04:59:44.805090Z",
     "shell.execute_reply": "2021-01-27T04:59:44.804567Z"
    }
   },
   "outputs": [],
   "source": [
    "c3_provider = C3Provider()\n",
    "c3_backend = c3_provider.get_backend(\"c3_qasm_simulator\")"
   ]
  },
  {
   "cell_type": "code",
   "execution_count": 6,
   "metadata": {
    "execution": {
     "iopub.execute_input": "2021-01-27T04:59:44.812257Z",
     "iopub.status.busy": "2021-01-27T04:59:44.810583Z",
     "iopub.status.idle": "2021-01-27T04:59:44.813743Z",
     "shell.execute_reply": "2021-01-27T04:59:44.814289Z"
    }
   },
   "outputs": [
    {
     "name": "stdout",
     "output_type": "stream",
     "text": [
      "Name: c3_qasm_simulator\n",
      "Version: 1.1\n",
      "Max Qubits: 15\n",
      "OpenPulse Support: False\n",
      "Basis Gates: ['u3', 'cx', 'id', 'x']\n"
     ]
    }
   ],
   "source": [
    "config = c3_backend.configuration()\n",
    "\n",
    "print(\"Name: {0}\".format(config.backend_name))\n",
    "print(\"Version: {0}\".format(config.backend_version))\n",
    "print(\"Max Qubits: {0}\".format(config.n_qubits))\n",
    "print(\"OpenPulse Support: {0}\".format(config.open_pulse))\n",
    "print(\"Basis Gates: {0}\".format(config.basis_gates))"
   ]
  },
  {
   "cell_type": "markdown",
   "metadata": {},
   "source": [
    "### Let's view how the Qiskit Transpiler will convert the circuit"
   ]
  },
  {
   "cell_type": "code",
   "execution_count": 7,
   "metadata": {
    "execution": {
     "iopub.execute_input": "2021-01-27T04:59:44.819589Z",
     "iopub.status.busy": "2021-01-27T04:59:44.818757Z",
     "iopub.status.idle": "2021-01-27T04:59:44.952572Z",
     "shell.execute_reply": "2021-01-27T04:59:44.951896Z"
    }
   },
   "outputs": [],
   "source": [
    "trans_qc = transpile(qc, c3_backend)"
   ]
  },
  {
   "cell_type": "code",
   "execution_count": 8,
   "metadata": {
    "execution": {
     "iopub.execute_input": "2021-01-27T04:59:44.961075Z",
     "iopub.status.busy": "2021-01-27T04:59:44.960455Z",
     "iopub.status.idle": "2021-01-27T04:59:44.965846Z",
     "shell.execute_reply": "2021-01-27T04:59:44.966359Z"
    }
   },
   "outputs": [
    {
     "data": {
      "text/html": [
       "<pre style=\"word-wrap: normal;white-space: pre;background: #fff0;line-height: 1.1;font-family: &quot;Courier New&quot;,Courier,monospace\">     ┌───┐     ┌─┐   \n",
       "q_0: ┤ X ├──■──┤M├───\n",
       "     └───┘┌─┴─┐└╥┘┌─┐\n",
       "q_1: ─────┤ X ├─╫─┤M├\n",
       "          └───┘ ║ └╥┘\n",
       "q_2: ───────────╫──╫─\n",
       "                ║  ║ \n",
       "q_3: ───────────╫──╫─\n",
       "                ║  ║ \n",
       "q_4: ───────────╫──╫─\n",
       "                ║  ║ \n",
       "q_5: ───────────╫──╫─\n",
       "                ║  ║ \n",
       "c: 6/═══════════╩══╩═\n",
       "                0  1 </pre>"
      ],
      "text/plain": [
       "     ┌───┐     ┌─┐   \n",
       "q_0: ┤ X ├──■──┤M├───\n",
       "     └───┘┌─┴─┐└╥┘┌─┐\n",
       "q_1: ─────┤ X ├─╫─┤M├\n",
       "          └───┘ ║ └╥┘\n",
       "q_2: ───────────╫──╫─\n",
       "                ║  ║ \n",
       "q_3: ───────────╫──╫─\n",
       "                ║  ║ \n",
       "q_4: ───────────╫──╫─\n",
       "                ║  ║ \n",
       "q_5: ───────────╫──╫─\n",
       "                ║  ║ \n",
       "c: 6/═══════════╩══╩═\n",
       "                0  1 "
      ]
     },
     "execution_count": 1,
     "metadata": {},
     "output_type": "execute_result"
    }
   ],
   "source": [
    "trans_qc.draw()"
   ]
  },
  {
   "cell_type": "markdown",
   "metadata": {},
   "source": [
    "## Run the simulation job"
   ]
  },
  {
   "cell_type": "code",
   "execution_count": 9,
   "metadata": {
    "execution": {
     "iopub.execute_input": "2021-01-27T04:59:44.975298Z",
     "iopub.status.busy": "2021-01-27T04:59:44.972766Z",
     "iopub.status.idle": "2021-01-27T05:00:47.447681Z",
     "shell.execute_reply": "2021-01-27T05:00:47.448767Z"
    }
   },
   "outputs": [],
   "source": [
    "c3_backend.set_device_config(\"quickstart.hjson\")\n",
    "c3_job = execute(qc, c3_backend, shots=1000)\n",
    "result = c3_job.result()"
   ]
  },
  {
   "cell_type": "code",
   "execution_count": 10,
   "metadata": {
    "execution": {
     "iopub.execute_input": "2021-01-27T05:00:47.453142Z",
     "iopub.status.busy": "2021-01-27T05:00:47.452196Z",
     "iopub.status.idle": "2021-01-27T05:00:47.457321Z",
     "shell.execute_reply": "2021-01-27T05:00:47.457875Z"
    }
   },
   "outputs": [
    {
     "name": "stdout",
     "output_type": "stream",
     "text": [
      "{'000000': 164, '010000': 799, '100000': 14}\n"
     ]
    }
   ],
   "source": [
    "res_counts = result.get_counts(qc)\n",
    "print(res_counts)"
   ]
  },
  {
   "cell_type": "code",
   "execution_count": 11,
   "metadata": {
    "execution": {
     "iopub.execute_input": "2021-01-27T05:00:47.462110Z",
     "iopub.status.busy": "2021-01-27T05:00:47.461072Z",
     "iopub.status.idle": "2021-01-27T05:00:47.652753Z",
     "shell.execute_reply": "2021-01-27T05:00:47.653429Z"
    }
   },
   "outputs": [
    {
     "data": {
      "image/png": "[encoded data removed]",
      "text/plain": [
       "<Figure size 504x360 with 1 Axes>"
      ]
     },
     "execution_count": 1,
     "metadata": {},
     "output_type": "execute_result"
    }
   ],
   "source": [
    "plot_histogram(res_counts, title='6-qubit physics simulation')"
   ]
  }
 ],
 "metadata": {
  "kernelspec": {
   "display_name": "Python 3",
   "language": "python",
   "name": "python3"
  },
  "language_info": {
   "codemirror_mode": {
    "name": "ipython",
    "version": 3
   },
   "file_extension": ".py",
   "mimetype": "text/x-python",
   "name": "python",
   "nbconvert_exporter": "python",
   "pygments_lexer": "ipython3",
   "version": "3.8.5"
  }
 },
 "nbformat": 4,
 "nbformat_minor": 4
}
