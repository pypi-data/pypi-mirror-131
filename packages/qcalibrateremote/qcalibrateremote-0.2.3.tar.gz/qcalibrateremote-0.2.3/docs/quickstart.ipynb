{
 "cells": [
  {
   "cell_type": "code",
   "execution_count": 1,
   "source": [
    "from typing import Dict\n",
    "\n",
    "from qcalibrateremote import (\n",
    "    EvaluateFigureOfMerit,\n",
    "    FigureOfMerit,\n",
    "    create_optimizer_client,\n",
    ")"
   ],
   "outputs": [],
   "metadata": {}
  },
  {
   "cell_type": "code",
   "execution_count": 2,
   "source": [
    "experiment_id=\"0x255b\"\n",
    "token=(\"ey....\")\n",
    "\n",
    "optimizer_client = create_optimizer_client(\n",
    "    host=\"grpc.qcalibrate.staging.optimal-control.net\", port=31603, token=token)\n"
   ],
   "outputs": [],
   "metadata": {}
  },
  {
   "cell_type": "code",
   "execution_count": 3,
   "source": [
    "\n",
    "class DistanceFom(EvaluateFigureOfMerit):\n",
    "\n",
    "    def __init__(self, *args, **kwargs) -> None:\n",
    "        super().__init__()\n",
    "\n",
    "    def infidelity(self, x) -> float:\n",
    "        return (x - 0.33)**2\n",
    "\n",
    "    def evaluate(self, parameters: Dict[str, float], **kwargs) -> FigureOfMerit:\n",
    "        \"\"\"Abstract method for figure of merit evaluation\"\"\"\n",
    "        # print(parameters)\n",
    "        return FigureOfMerit(self.infidelity(**parameters), '')\n"
   ],
   "outputs": [],
   "metadata": {}
  },
  {
   "cell_type": "code",
   "execution_count": 4,
   "source": [
    "optimization_result = optimizer_client.run(experiment_id=experiment_id, evaluate_fom_class=DistanceFom)"
   ],
   "outputs": [],
   "metadata": {}
  },
  {
   "cell_type": "code",
   "execution_count": 5,
   "source": [
    "optimization_result.top[0].parameters\n"
   ],
   "outputs": [
    {
     "output_type": "execute_result",
     "data": {
      "text/plain": [
       "{'a': 0.5500000317352249, 'b': 0.3299999842163962}"
      ]
     },
     "metadata": {},
     "execution_count": 5
    }
   ],
   "metadata": {}
  },
  {
   "cell_type": "code",
   "execution_count": null,
   "source": [],
   "outputs": [],
   "metadata": {}
  }
 ],
 "metadata": {
  "interpreter": {
   "hash": "9dd5e643359d6b4c6b1fe1a37f321e547aa10051a58f351d768717f2efbc2c0d"
  },
  "kernelspec": {
   "display_name": "Python 3 (ipykernel)",
   "language": "python",
   "name": "python3"
  },
  "language_info": {
   "codemirror_mode": {
    "name": "ipython",
    "version": 3
   },
   "file_extension": ".py",
   "mimetype": "text/x-python",
   "name": "python",
   "nbconvert_exporter": "python",
   "pygments_lexer": "ipython3",
   "version": "3.8.5"
  }
 },
 "nbformat": 4,
 "nbformat_minor": 2
}