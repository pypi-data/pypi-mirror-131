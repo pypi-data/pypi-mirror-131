{
 "cells": [
  {
   "cell_type": "code",
   "execution_count": null,
   "metadata": {},
   "outputs": [],
   "source": [
    "from lifelines import CoxPHFitter\n",
    "from matplotlib import pyplot as plt, rcParams\n",
    "from numba import _helperlib\n",
    "from numpy import *\n",
    "import pandas as pd\n",
    "import seaborn as sns\n",
    "\n",
    "from harmoniums import SurvivalHarmonium\n",
    "from harmoniums.datasets import load_blobs\n",
    "from harmoniums.distributions import truncated_gamma_distribution\n",
    "from harmoniums.log_metrics import log_weights_gradients_likelihood_callback, plot_to_tensor\n",
    "from harmoniums.utils import reset_random_state\n",
    "from harmoniums.views import plot"
   ]
  },
  {
   "cell_type": "code",
   "execution_count": null,
   "metadata": {},
   "outputs": [],
   "source": [
    "def to_param(m, v):\n",
    "    beta = sqrt(1/v + m**2/(4 * v **2)) + m/(2 * v)\n",
    "    alpha = beta * m + 1\n",
    "    return alpha, beta"
   ]
  },
  {
   "cell_type": "code",
   "execution_count": null,
   "metadata": {},
   "outputs": [],
   "source": [
    "a = (8.12695264839553, 58.232827555487546)\n",
    "a0, a1 = a\n",
    "b = (28.50781059358212, 76.31043674065006)\n",
    "b0, b1 = b"
   ]
  },
  {
   "cell_type": "code",
   "execution_count": null,
   "metadata": {},
   "outputs": [],
   "source": [
    "# Plot dataset.\n",
    "def compute_mode(a0, b0, a1, b1):\n",
    "    t = linspace(0, 1, 100)\n",
    "    T1, T2 = meshgrid(t, t)\n",
    "    P = truncated_gamma_distribution(T1, a0, b0, 1.0) * truncated_gamma_distribution(T2, a1, b1, 1.0)\n",
    "    return T1, T2, P"
   ]
  },
  {
   "cell_type": "markdown",
   "metadata": {},
   "source": [
    "# Harmonium"
   ]
  },
  {
   "cell_type": "markdown",
   "metadata": {},
   "source": [
    "## Fit data"
   ]
  },
  {
   "cell_type": "code",
   "execution_count": null,
   "metadata": {},
   "outputs": [],
   "source": [
    "def plot_likelihood_contours(model, X_train):\n",
    "    \"\"\"Plot data and likelihood contours of trained model.\"\"\"\n",
    "    f = plt.figure(figsize=(4,3))\n",
    "\n",
    "    contour_kwargs = {\n",
    "        'linewidths': 2,\n",
    "        'levels': array([ 1.,  5., 10., 15., 20., 25., 30., 35.]),\n",
    "    }\n",
    "    # Compute log-likelihood on the unit [0, 1] x [0, 1] square.\n",
    "    t = linspace(0, 1, 100)\n",
    "    T1, T2 = meshgrid(t[1:], t[1:])\n",
    "    X0_testpoints = pd.DataFrame({'y': zeros(T1.size), 't1': T1.flatten(), 't2': T2.flatten(), 'event_1': ones(T1.size), 'event_2': ones(T1.size)})\n",
    "    X1_testpoints = pd.DataFrame({'y': ones(T1.size), 't1': T1.flatten(), 't2': T2.flatten(), 'event_1': ones(T1.size), 'event_2': ones(T1.size)})\n",
    "    P_x0 = exp(model.log_likelihood(X0_testpoints.to_numpy()))\n",
    "    P_x1 = exp(model.log_likelihood(X1_testpoints.to_numpy()))\n",
    "\n",
    "    plt.contour(\n",
    "        T1,\n",
    "        T2,\n",
    "        P_x0.reshape(T1.shape),\n",
    "        colors='tab:red',\n",
    "        linestyles='dashed',\n",
    "        **contour_kwargs\n",
    "    )\n",
    "    plt.contour(\n",
    "        T1,\n",
    "        T2,\n",
    "        P_x1.reshape(T1.shape),\n",
    "        colors='tab:blue',\n",
    "        **contour_kwargs\n",
    "    )\n",
    "\n",
    "    df = pd.DataFrame(X_train, columns=['y', 't1', 't2', 'event_1', 'event_2'])\n",
    "    df['any_censored'] = ~(df['event_1'].astype(bool) &  df['event_2'].astype(bool))\n",
    "    sns.scatterplot(        \n",
    "        data=df.iloc[:500],\n",
    "        x='t1',\n",
    "        y='t2',\n",
    "        hue='y',\n",
    "        style='any_censored',\n",
    "        palette={0: 'tab:red', 1: 'tab:blue'},\n",
    "        legend=False,\n",
    "        zorder=10,\n",
    "        alpha=0.5,\n",
    "    )\n",
    "\n",
    "    plt.xlabel('$t_1$')\n",
    "    plt.ylabel('$t_2$')\n",
    "    plt.tight_layout()\n",
    "    return f"
   ]
  },
  {
   "cell_type": "code",
   "execution_count": null,
   "metadata": {},
   "outputs": [],
   "source": [
    "def log_metrics_tensorboard(\n",
    "    model, X_train, X_validation, step: int, epoch: int, \n",
    "):\n",
    "    \"\"\"Callback to log metrics and likelihood plots to tensorboard.\"\"\"\n",
    "    _, _, metrics = log_weights_gradients_likelihood_callback(model, X_train, X_validation, step, epoch)\n",
    "\n",
    "    # Log in total 10 plots to tensorboard.\n",
    "    if epoch % (model.n_epochs // 10) == 0:\n",
    "        fig = plot_likelihood_contours(model, X_train)\n",
    "        tf_fig = plot_to_tensor(fig)\n",
    "        metrics['Likelihood contour'] = tf_fig\n",
    "\n",
    "    return step, epoch, metrics\n"
   ]
  },
  {
   "cell_type": "code",
   "execution_count": null,
   "metadata": {},
   "outputs": [],
   "source": [
    "reset_random_state(1234)\n",
    "\n",
    "X = load_blobs(a, b, censor=True)\n",
    "X_censor = ascontiguousarray(X.to_numpy(), dtype=float64)"
   ]
  },
  {
   "cell_type": "code",
   "execution_count": null,
   "metadata": {},
   "outputs": [],
   "source": [
    "def print_random_state():\n",
    "    np_state = random.get_state()[1][-1]\n",
    "    print('Numpy random_state', np_state)\n",
    "    state_ptr = _helperlib.rnd_get_np_state_ptr()\n",
    "    index, ints = _helperlib.rnd_get_state(state_ptr)\n",
    "    nb_state = ints[-1]\n",
    "    print('Numba random state', nb_state)\n",
    "    return np_state, nb_state"
   ]
  },
  {
   "cell_type": "code",
   "execution_count": null,
   "metadata": {},
   "outputs": [],
   "source": [
    "learning_rate = 0.375\n",
    "n_epochs = 3e5\n",
    "momentum_fraction = 0.1\n",
    "mini_batch_size = 1000\n",
    "weight_decay = 0.0000\n",
    "persistent = True\n",
    "CD_steps = 3\n",
    "\n",
    "\n",
    "# Model parameters to keep fixed.\n",
    "harm_params = {\n",
    "    \"categorical_columns\": [0],\n",
    "    \"survival_columns\": [1, 2],\n",
    "    \"event_columns\": [3, 4],\n",
    "    \"log_every_n_iterations\": 300,\n",
    "    \"time_horizon\": [1.0, 1.0],\n",
    "    \"metrics\": log_metrics_tensorboard,\n",
    "    \"guess_weights\": False,\n",
    "    \"CD_steps\": CD_steps,\n",
    "    \"learning_rate\": learning_rate,\n",
    "    \"n_epochs\": n_epochs,\n",
    "    \"n_hidden_units\": 4,\n",
    "    \"weight_decay\": weight_decay,\n",
    "    \"persistent\": persistent,\n",
    "    \"momentum_fraction\": momentum_fraction,\n",
    "    \"mini_batch_size\": mini_batch_size,\n",
    "    'dry_run': False,\n",
    "    \"verbose\": False,\n",
    "    'random_state': 4321,\n",
    "}\n",
    "\n",
    "reset_random_state(1234)\n",
    "\n",
    "harmonium = SurvivalHarmonium(**harm_params).fit(X_censor)"
   ]
  },
  {
   "cell_type": "code",
   "execution_count": null,
   "metadata": {},
   "outputs": [],
   "source": [
    "np_state, nb_state = print_random_state()\n",
    "assert np_state == 3239245755\n",
    "assert nb_state == 4088525010"
   ]
  },
  {
   "cell_type": "markdown",
   "metadata": {},
   "source": [
    "## Likelihood of actual solution"
   ]
  },
  {
   "cell_type": "code",
   "execution_count": null,
   "metadata": {},
   "outputs": [],
   "source": [
    "harmonium.log_likelihood(X_censor).mean()"
   ]
  },
  {
   "cell_type": "code",
   "execution_count": null,
   "metadata": {},
   "outputs": [],
   "source": [
    "plot(harmonium, True, True, True)"
   ]
  },
  {
   "cell_type": "code",
   "execution_count": null,
   "metadata": {},
   "outputs": [],
   "source": [
    "rcParams['font.family'] = 'sans-serif'\n",
    "\n",
    "fig = plt.figure(figsize=(4,3))\n",
    "\n",
    "t = linspace(0, 1, 100)\n",
    "p_0 = truncated_gamma_distribution(t, a0, b0, 1.0)\n",
    "p_1 = truncated_gamma_distribution(t, a1, b1, 1.0)\n",
    "\n",
    "\n",
    "grid = plt.GridSpec(4, 4, hspace=0.2, wspace=0.2)\n",
    "main_ax = fig.add_subplot(grid[1:, :-1])\n",
    "t1_projection = fig.add_subplot(grid[0, :-1], xticklabels=[])\n",
    "t2_projection = fig.add_subplot(grid[1:, -1], yticklabels=[])\n",
    "\n",
    "contour_kwargs = {\n",
    "    'linewidths': 2,\n",
    "    'levels': array([ 1.,  5., 10., 15., 20., 25., 30., 35.]),\n",
    "}\n",
    "c000 = main_ax.contour(*compute_mode(a0, b0, a0, b0), colors='tab:red', linestyles='dashed', **contour_kwargs)\n",
    "main_ax.text(0.1, 0.075, '$v^{(1)}$', va='center')\n",
    "\n",
    "t1_projection.plot()\n",
    "\n",
    "c110 = main_ax.contour(*compute_mode(a1, b1, a1, b1), colors='tab:red', linestyles='dashed', **contour_kwargs)\n",
    "main_ax.text(0.8, 0.95, '$v^{(2)}$', va='center')\n",
    "\n",
    "c011 = main_ax.contour(*compute_mode(a0, b0, a1, b1), colors='tab:blue', **contour_kwargs)\n",
    "main_ax.text(0.1, 0.95, '$v^{(4)}$', va='center')\n",
    "\n",
    "c101 = main_ax.contour(*compute_mode(a1, b1, a0, b0), colors='tab:blue', **contour_kwargs)\n",
    "main_ax.text(0.8, 0.075, '$v^{(3)}$', va='center')\n",
    "\n",
    "main_ax.set_xlim([0,1])\n",
    "main_ax.set_ylim([0,1])\n",
    "main_ax.set_xlabel('$t_1$')\n",
    "main_ax.set_ylabel('$t_2$')\n",
    "\n",
    "t1_projection.plot(t, p_0, '-', color='tab:blue', linewidth=2)\n",
    "t1_projection.plot(t, p_0, '--', color='tab:red', linewidth=2)\n",
    "t1_projection.plot(t, p_1, '-', color='tab:blue', linewidth=2)\n",
    "t1_projection.plot(t, p_1, '--', color='tab:red', linewidth=2)\n",
    "t1_projection.set_xlim([0, 1])\n",
    "t1_projection.set_ylim([0, 6])\n",
    "t1_projection.set(xticks=[], yticks=[])\n",
    "t1_projection.set_xlabel('Projection $t_1$')\n",
    "t1_projection.xaxis.set_label_position(\"top\")\n",
    "\n",
    "\n",
    "t2_projection.plot(p_0, t, '-', color='tab:blue', linewidth=2)\n",
    "t2_projection.plot(p_0, t, '--', color='tab:red', linewidth=2)\n",
    "t2_projection.plot(p_1, t, '-', color='tab:blue', linewidth=2)\n",
    "t2_projection.plot(p_1, t, '--', color='tab:red', linewidth=2)\n",
    "t2_projection.set_ylim([0, 1])\n",
    "t2_projection.set_xlim([0, 6])\n",
    "t2_projection.set(xticks=[], yticks=[])\n",
    "t2_projection.set_ylabel('Projection $t_2$')\n",
    "t2_projection.yaxis.set_label_position(\"right\")\n",
    "\n",
    "t2_projection.set(xticks=[], yticks=[])\n",
    "\n",
    "plt.tight_layout()\n",
    "plt.savefig('figs/modes.png')\n",
    "plt.savefig('figs/modes.pdf')\n",
    "plt.savefig('figs/modes.eps')"
   ]
  },
  {
   "cell_type": "code",
   "execution_count": null,
   "metadata": {},
   "outputs": [],
   "source": [
    "f = plot_likelihood_contours(harmonium, X_censor)\n",
    "f.savefig('figs/data_fit.eps')\n",
    "f.savefig('figs/data_fit.pdf')"
   ]
  },
  {
   "cell_type": "code",
   "execution_count": null,
   "metadata": {},
   "outputs": [],
   "source": [
    "cox_t1 = CoxPHFitter()\n",
    "cox_t1.fit(X[['y', 't1', 'event_1']], duration_col='t1', event_col='event_1')\n",
    "cox_t1.print_summary() "
   ]
  },
  {
   "cell_type": "code",
   "execution_count": null,
   "metadata": {},
   "outputs": [],
   "source": [
    "cox_t2 = CoxPHFitter()\n",
    "cox_t2.fit(X[['y', 't2', 'event_2']], duration_col='t2', event_col='event_2')\n",
    "cox_t2.print_summary() "
   ]
  }
 ],
 "metadata": {
  "kernelspec": {
   "display_name": "Python 3",
   "language": "python",
   "name": "python3"
  },
  "language_info": {
   "codemirror_mode": {
    "name": "ipython",
    "version": 3
   },
   "file_extension": ".py",
   "mimetype": "text/x-python",
   "name": "python",
   "nbconvert_exporter": "python",
   "pygments_lexer": "ipython3",
   "version": "3.9.7"
  }
 },
 "nbformat": 4,
 "nbformat_minor": 4
}
