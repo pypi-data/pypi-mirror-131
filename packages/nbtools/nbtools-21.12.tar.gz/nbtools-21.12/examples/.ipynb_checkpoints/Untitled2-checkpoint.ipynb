{
 "cells": [
  {
   "cell_type": "code",
   "execution_count": 2,
   "metadata": {},
   "outputs": [
    {
     "data": {
      "application/vnd.jupyter.widget-view+json": {
       "model_id": "6961d784e9344b149b6da968f8da1085",
       "version_major": 2,
       "version_minor": 0
      },
      "text/plain": [
       "GPAuthWidget(buttons={'Register an Account': \"\\n    const target = event.target;\\n    const widget = target.cl…"
      ]
     },
     "metadata": {},
     "output_type": "display_data"
    },
    {
     "data": {
      "application/vnd.jupyter.widget-view+json": {
       "model_id": "ba189c0d6d0343e2b9eaad011c86ed25",
       "version_major": 2,
       "version_minor": 0
      },
      "text/plain": [
       "Output()"
      ]
     },
     "metadata": {},
     "output_type": "display_data"
    }
   ],
   "source": [
    "import nbtools\n",
    "\n",
    "nbtools.tool(id='authentication', origin='+')"
   ]
  },
  {
   "cell_type": "code",
   "execution_count": 3,
   "metadata": {},
   "outputs": [
    {
     "data": {
      "application/vnd.jupyter.widget-view+json": {
       "model_id": "6558a4e6e4d249b594f8ffd3aeaa9fc1",
       "version_major": 2,
       "version_minor": 0
      },
      "text/plain": [
       "UIBuilder(collapse=True, description='Use igv.js to embed an interactive genome visualization', form=Interacti…"
      ]
     },
     "metadata": {},
     "output_type": "display_data"
    },
    {
     "data": {
      "application/vnd.jupyter.widget-view+json": {
       "model_id": "8fbb7662fd2a4bc3840dc109a6c612ac",
       "version_major": 2,
       "version_minor": 0
      },
      "text/plain": [
       "Output()"
      ]
     },
     "metadata": {},
     "output_type": "display_data"
    }
   ],
   "source": [
    "import nbtools\n",
    "\n",
    "nbtools.tool(id='igv_tool', origin='igv')"
   ]
  }
 ],
 "metadata": {
  "kernelspec": {
   "display_name": "Python 3 (ipykernel)",
   "language": "python",
   "name": "python3"
  },
  "language_info": {
   "codemirror_mode": {
    "name": "ipython",
    "version": 3
   },
   "file_extension": ".py",
   "mimetype": "text/x-python",
   "name": "python",
   "nbconvert_exporter": "python",
   "pygments_lexer": "ipython3",
   "version": "3.8.5"
  },
  "widgets": {
   "application/vnd.jupyter.widget-state+json": {
    "state": {
     "0096ed8b16e845f495066069f43f5aff": {
      "model_module": "@jupyter-widgets/controls",
      "model_module_version": "1.5.0",
      "model_name": "LabelModel",
      "state": {
       "description": "Enter the type of the track datasets",
       "layout": "IPY_MODEL_75c3bb85a87444d987a294e89ec771f8",
       "style": "IPY_MODEL_c2b904086bc34a72be78049ceae19842",
       "value": "Enter the type of the track datasets"
      }
     },
     "040799a94ba741f983ed32370de77ab1": {
      "model_module": "@jupyter-widgets/controls",
      "model_module_version": "1.5.0",
      "model_name": "ButtonStyleModel",
      "state": {}
     },
     "042f2dba3a434deeb968456ecb363f17": {
      "model_module": "@jupyter-widgets/controls",
      "model_module_version": "1.5.0",
      "model_name": "DescriptionStyleModel",
      "state": {
       "description_width": ""
      }
     },
     "05df936e3b454f9f8e4392a655efa177": {
      "model_module": "@jupyter-widgets/controls",
      "model_module_version": "1.5.0",
      "model_name": "TextModel",
      "state": {
       "_dom_classes": [
        "nbtools-menu-attached",
        "nbtools-nosendto"
       ],
       "layout": "IPY_MODEL_9b1d8c08a8ee40d1a4ebb58842d3a552",
       "style": "IPY_MODEL_929c663f263d4365b619255984ea8ee8"
      }
     },
     "06926f1d53964703893d88840d737e98": {
      "model_module": "@jupyter-widgets/controls",
      "model_module_version": "1.5.0",
      "model_name": "TextModel",
      "state": {
       "_dom_classes": [
        "nbtools-menu-attached"
       ],
       "layout": "IPY_MODEL_2254fad6be1142eb934001f51b93727f",
       "style": "IPY_MODEL_66906cd99a744f7485a91880ecf0349d"
      }
     },
     "07b3a7c0d20c4a8294a40c1ce6267c8a": {
      "model_module": "@jupyter-widgets/controls",
      "model_module_version": "1.5.0",
      "model_name": "GridBoxModel",
      "state": {
       "_dom_classes": [
        "nbtools-input",
        "nbtools-textinput"
       ],
       "children": [
        "IPY_MODEL_6d84dc7eb0bf45c6b066f2b4a801f16a",
        "IPY_MODEL_6b061f52abd744ff98365516eee21d8e",
        "IPY_MODEL_6b8423c56e66470a85ad6fdb08ce70e0"
       ],
       "layout": "IPY_MODEL_fa139883fd69493fa3eb4846dbc11b8a"
      }
     },
     "08aeccc3e39f401abe0422bb04ba5d68": {
      "model_module": "@jupyter-widgets/controls",
      "model_module_version": "1.5.0",
      "model_name": "GridBoxModel",
      "state": {
       "_dom_classes": [
        "nbtools-input",
        "nbtools-comboinput",
        "required"
       ],
       "children": [
        "IPY_MODEL_d153b22ebe26482595dd8e8323be0cb5",
        "IPY_MODEL_fe370688049c443e900526d6c33fb9ec",
        "IPY_MODEL_5db1c3e392ae4730ae8682a7e6197388"
       ],
       "layout": "IPY_MODEL_6fb99d0660eb424a86c190e830665403"
      }
     },
     "092a33870ea8415589f21984fb6042e1": {
      "model_module": "@jupyter-widgets/controls",
      "model_module_version": "1.5.0",
      "model_name": "DescriptionStyleModel",
      "state": {
       "description_width": ""
      }
     },
     "09daa2163f5e431ca38edf30de1c41c4": {
      "model_module": "@jupyter-widgets/base",
      "model_module_version": "1.2.0",
      "model_name": "LayoutModel",
      "state": {
       "grid_template_areas": "\n                    \"label input\"\n                    \". description\"\n                ",
       "grid_template_columns": "25% 75%",
       "grid_template_rows": "auto auto",
       "width": "100%"
      }
     },
     "0d41a0adac93467e97088a1369a7a5cc": {
      "model_module": "@jupyter-widgets/base",
      "model_module_version": "1.2.0",
      "model_name": "LayoutModel",
      "state": {}
     },
     "0e0efa913c6740b6a340f7cd0f06724a": {
      "model_module": "@jupyter-widgets/controls",
      "model_module_version": "1.5.0",
      "model_name": "DescriptionStyleModel",
      "state": {
       "description_width": ""
      }
     },
     "10a47dc3f76d449abb5e85c370ebe233": {
      "model_module": "@jupyter-widgets/controls",
      "model_module_version": "1.5.0",
      "model_name": "LabelModel",
      "state": {
       "description": "track format",
       "layout": "IPY_MODEL_a992bde6d0a94b07b022ae1467b44103",
       "style": "IPY_MODEL_2468f0e503fb467c9fdc89070aeb8e7c",
       "value": "track format"
      }
     },
     "1192ac6240ed4282812daebabeb2989b": {
      "model_module": "@jupyter-widgets/base",
      "model_module_version": "1.2.0",
      "model_name": "LayoutModel",
      "state": {}
     },
     "122e76dbd8304b6c9ad45acf0b3b7a41": {
      "model_module": "@jupyter-widgets/controls",
      "model_module_version": "1.5.0",
      "model_name": "DescriptionStyleModel",
      "state": {
       "description_width": ""
      }
     },
     "1584abe45d114a36990583162b5ece60": {
      "model_module": "@jupyter-widgets/base",
      "model_module_version": "1.2.0",
      "model_name": "LayoutModel",
      "state": {
       "grid_area": "description",
       "width": "auto"
      }
     },
     "182d40fd772c4db5a4fd9e63aaa3b1ee": {
      "model_module": "@jupyter-widgets/base",
      "model_module_version": "1.2.0",
      "model_name": "LayoutModel",
      "state": {}
     },
     "18b8dedccc0a45d9bd131505c968e8c4": {
      "model_module": "@jupyter-widgets/controls",
      "model_module_version": "1.5.0",
      "model_name": "DescriptionStyleModel",
      "state": {
       "description_width": ""
      }
     },
     "18bd0178bc394d48800a517cf2a7e04b": {
      "model_module": "@jupyter-widgets/output",
      "model_module_version": "1.0.0",
      "model_name": "OutputModel",
      "state": {
       "layout": "IPY_MODEL_3aa7fbd6b10f451b9b85a75c3265beaf"
      }
     },
     "1a6dd08e6141453fa0c848e07fbb072e": {
      "model_module": "@jupyter-widgets/controls",
      "model_module_version": "1.5.0",
      "model_name": "ComboboxModel",
      "state": {
       "_dom_classes": [
        "nbtools-menu-attached"
       ],
       "choices": {},
       "ensure_option": false,
       "kinds": [],
       "layout": "IPY_MODEL_97a949d020054c4f875f0c98dd1d3f39",
       "style": "IPY_MODEL_5918d7b5717c47ffac6c1a84098110fd"
      }
     },
     "1b4f4d9ca5d84b25a5823b5363af8e96": {
      "model_module": "@jupyter-widgets/controls",
      "model_module_version": "1.5.0",
      "model_name": "HBoxModel",
      "state": {
       "children": [
        "IPY_MODEL_9751c96f41ef439bb347ff7b278b7fb0",
        "IPY_MODEL_9c3fe9351c3c4b57b0358020a2380d7f"
       ],
       "layout": "IPY_MODEL_6f3afbf7ff6f4adaa8f54fb939e382ca"
      }
     },
     "1b87c16e26d84bf3bbb1853a815e5ff3": {
      "model_module": "@jupyter-widgets/base",
      "model_module_version": "1.2.0",
      "model_name": "LayoutModel",
      "state": {
       "grid_area": "label",
       "width": "auto"
      }
     },
     "1bd9ff78a04347ab82b8d879698c2f6a": {
      "model_module": "@jupyter-widgets/controls",
      "model_module_version": "1.5.0",
      "model_name": "ComboboxModel",
      "state": {
       "_dom_classes": [
        "nbtools-menu-attached"
       ],
       "choices": {},
       "ensure_option": false,
       "kinds": [],
       "layout": "IPY_MODEL_182d40fd772c4db5a4fd9e63aaa3b1ee",
       "style": "IPY_MODEL_042f2dba3a434deeb968456ecb363f17"
      }
     },
     "1e445ad4c8484ecbbf0b44ac27e17814": {
      "model_module": "@jupyter-widgets/controls",
      "model_module_version": "1.5.0",
      "model_name": "DescriptionStyleModel",
      "state": {
       "description_width": ""
      }
     },
     "1febb599a77c4f02b5c8c053352b7b0c": {
      "model_module": "@jupyter-widgets/controls",
      "model_module_version": "1.5.0",
      "model_name": "LabelModel",
      "state": {
       "layout": "IPY_MODEL_834062fe0d644f41b647b0696cc8bf93",
       "style": "IPY_MODEL_d1b176e50607458da7cdee90dd9c2b41"
      }
     },
     "213e7b8e33d2439490eb87df2f1e9e07": {
      "model_module": "@jupyter-widgets/base",
      "model_module_version": "1.2.0",
      "model_name": "LayoutModel",
      "state": {
       "grid_area": "label",
       "width": "auto"
      }
     },
     "223b4dd3c0fd49caadcc2ffc2b7b7f4f": {
      "model_module": "@jupyter-widgets/controls",
      "model_module_version": "1.5.0",
      "model_name": "LabelModel",
      "state": {
       "description": "tracks",
       "layout": "IPY_MODEL_b9df3abcd6e84553b8ea45219f883f39",
       "style": "IPY_MODEL_286e82f805a040c9acd527ec6f1c311d",
       "value": "tracks"
      }
     },
     "2254fad6be1142eb934001f51b93727f": {
      "model_module": "@jupyter-widgets/base",
      "model_module_version": "1.2.0",
      "model_name": "LayoutModel",
      "state": {
       "grid_area": "input",
       "width": "auto"
      }
     },
     "2468f0e503fb467c9fdc89070aeb8e7c": {
      "model_module": "@jupyter-widgets/controls",
      "model_module_version": "1.5.0",
      "model_name": "DescriptionStyleModel",
      "state": {
       "description_width": ""
      }
     },
     "2575ce42f7d44e959c07d8548dd1da82": {
      "model_module": "@jupyter-widgets/controls",
      "model_module_version": "1.5.0",
      "model_name": "LabelModel",
      "state": {
       "description": "Username",
       "layout": "IPY_MODEL_d150281404bd47da8c71f75ba14ed83d",
       "style": "IPY_MODEL_d3664d4f1bbd40b0a2abcdf8f199506f",
       "value": "Username*"
      }
     },
     "27f81943451f4ccd8cb02cff7a5e0bc8": {
      "model_module": "@jupyter-widgets/base",
      "model_module_version": "1.2.0",
      "model_name": "LayoutModel",
      "state": {
       "grid_template_areas": "\n                    \"label input\"\n                    \". description\"\n                ",
       "grid_template_columns": "25% 75%",
       "grid_template_rows": "auto auto",
       "width": "100%"
      }
     },
     "286e82f805a040c9acd527ec6f1c311d": {
      "model_module": "@jupyter-widgets/controls",
      "model_module_version": "1.5.0",
      "model_name": "DescriptionStyleModel",
      "state": {
       "description_width": ""
      }
     },
     "287fb91cb0804cebb00788af9a283bbf": {
      "model_module": "@jupyter-widgets/controls",
      "model_module_version": "1.5.0",
      "model_name": "DescriptionStyleModel",
      "state": {
       "description_width": ""
      }
     },
     "291a46a113834bdd8ba54d4f24e4be2f": {
      "model_module": "@jupyter-widgets/controls",
      "model_module_version": "1.5.0",
      "model_name": "FileUploadModel",
      "state": {
       "description_tooltip": null,
       "layout": "IPY_MODEL_8e1c88e7f1ff499abeb91b267b3cee4b",
       "style": "IPY_MODEL_974886bcab9e451b84cb04ff7ec1fa63"
      }
     },
     "2a1143e6ec7b4f5da54cd0db83d752e6": {
      "model_module": "@jupyter-widgets/controls",
      "model_module_version": "1.5.0",
      "model_name": "DescriptionStyleModel",
      "state": {
       "description_width": ""
      }
     },
     "2b0317780b6146b2a7cb7257985e7cef": {
      "model_module": "@jupyter-widgets/controls",
      "model_module_version": "1.5.0",
      "model_name": "GridBoxModel",
      "state": {
       "_dom_classes": [
        "nbtools-input",
        "nbtools-fileinput"
       ],
       "children": [
        "IPY_MODEL_fa843f1357d74f368cdcf9cbfb9ce4ea",
        "IPY_MODEL_b835cd89e84549acb7fd984af95dd913",
        "IPY_MODEL_8e62b9da48f8470692245f0472123867"
       ],
       "layout": "IPY_MODEL_fcfb2b160a6645d3a5ce6a2c15b0c844"
      }
     },
     "2c69774c92b64cdf9484622162595232": {
      "model_module": "@jupyter-widgets/controls",
      "model_module_version": "1.5.0",
      "model_name": "LabelModel",
      "state": {
       "description": "Password",
       "layout": "IPY_MODEL_213e7b8e33d2439490eb87df2f1e9e07",
       "style": "IPY_MODEL_858c761f486a4e4088fbf6f381066a2b",
       "value": "Password*"
      }
     },
     "2e4295754daf4dc58fdb5149c30398df": {
      "model_module": "@jupyter-widgets/controls",
      "model_module_version": "1.5.0",
      "model_name": "DescriptionStyleModel",
      "state": {
       "description_width": ""
      }
     },
     "3009e0e340e84b448eec3689d29f9497": {
      "model_module": "@jupyter-widgets/controls",
      "model_module_version": "1.5.0",
      "model_name": "DescriptionStyleModel",
      "state": {
       "description_width": ""
      }
     },
     "328c6a2e47a940d59e6bef1a41a222ff": {
      "model_module": "@jupyter-widgets/controls",
      "model_module_version": "1.5.0",
      "model_name": "LabelModel",
      "state": {
       "description": "output variable",
       "layout": "IPY_MODEL_6aa77d80c5c34bf3be7d43ca489ab372",
       "style": "IPY_MODEL_afcf8b25fbfb44159c3474962fc79c53",
       "value": "output variable"
      }
     },
     "32cbdbf4435748708efec8821762d0db": {
      "model_module": "@jupyter-widgets/controls",
      "model_module_version": "1.5.0",
      "model_name": "ButtonModel",
      "state": {
       "_dom_classes": [
        "hidden"
       ],
       "description": "Run",
       "layout": "IPY_MODEL_7533d45415fa48af94f2168d52f098e9",
       "style": "IPY_MODEL_65a6d35b43f948508f006af695e1b693"
      }
     },
     "32f6c9cfe7cd437d9d04925d381b5770": {
      "model_module": "@jupyter-widgets/controls",
      "model_module_version": "1.5.0",
      "model_name": "GridBoxModel",
      "state": {
       "_dom_classes": [
        "nbtools-input",
        "nbtools-textinput"
       ],
       "children": [
        "IPY_MODEL_328c6a2e47a940d59e6bef1a41a222ff",
        "IPY_MODEL_777b28b5ded546debb6653291459752e",
        "IPY_MODEL_fdb44b4f0854494fa91e53cecdfebaa6"
       ],
       "layout": "IPY_MODEL_c344a736d7ce49b8a6660abdc8258ec3"
      }
     },
     "3346b0f5326d42c68c966b3913c88292": {
      "model_module": "@jupyter-widgets/controls",
      "model_module_version": "1.5.0",
      "model_name": "LabelModel",
      "state": {
       "description": "Choose the genome for your data.",
       "layout": "IPY_MODEL_e1b99d780e2547cd8b98f51351eb62c8",
       "style": "IPY_MODEL_778d7e7888eb44fe88c1d2832c9869eb",
       "value": "Choose the genome for your data."
      }
     },
     "3537ed62d72743f6a63830635553bf77": {
      "model_module": "@jupyter-widgets/controls",
      "model_module_version": "1.5.0",
      "model_name": "VBoxModel",
      "state": {
       "_dom_classes": [
        "widget-interact"
       ],
       "children": [
        "IPY_MODEL_e82644472abc48f28d4f9fd410f89185",
        "IPY_MODEL_6f4b4ee6d39b4e5fa61d062077947bc6",
        "IPY_MODEL_2b0317780b6146b2a7cb7257985e7cef",
        "IPY_MODEL_3caa95a3b075450d836737131aedaa32",
        "IPY_MODEL_8917f4c485f548ab9a8d122799a22739",
        "IPY_MODEL_07b3a7c0d20c4a8294a40c1ce6267c8a",
        "IPY_MODEL_e8d1c34afa884d71a6f7f5a53aeff47c",
        "IPY_MODEL_c173b3c6c09144a6916745208ec1b1b3"
       ],
       "layout": "IPY_MODEL_50cc43e35dbd430fa76c1bdfac82b5a2"
      }
     },
     "35ce0c6e24e449ecafa5abb228ee22e5": {
      "model_module": "@jupyter-widgets/base",
      "model_module_version": "1.2.0",
      "model_name": "LayoutModel",
      "state": {
       "grid_area": "description",
       "width": "auto"
      }
     },
     "38621aea1a2b42edb29bbde13491f32a": {
      "model_module": "@jupyter-widgets/controls",
      "model_module_version": "1.5.0",
      "model_name": "GridBoxModel",
      "state": {
       "_dom_classes": [
        "nbtools-input",
        "nbtools-textinput"
       ],
       "children": [
        "IPY_MODEL_582ae05c326b4681b43a5a09389ea32a",
        "IPY_MODEL_06926f1d53964703893d88840d737e98",
        "IPY_MODEL_82562250d28044c9b3fcfba42ba53251"
       ],
       "layout": "IPY_MODEL_f0e9d319d2154f71a07ae050581d4a6f"
      }
     },
     "39a1d810c6804986b6bce103eeda5b3f": {
      "model_module": "@jupyter-widgets/base",
      "model_module_version": "1.2.0",
      "model_name": "LayoutModel",
      "state": {}
     },
     "3aa7fbd6b10f451b9b85a75c3265beaf": {
      "model_module": "@jupyter-widgets/base",
      "model_module_version": "1.2.0",
      "model_name": "LayoutModel",
      "state": {}
     },
     "3b0161ca70a7484f91544c83cc60aff1": {
      "model_module": "@jupyter-widgets/base",
      "model_module_version": "1.2.0",
      "model_name": "LayoutModel",
      "state": {
       "grid_area": "input",
       "width": "auto"
      }
     },
     "3c0e46b1748d454ca5a123465fc926e9": {
      "model_module": "@jupyter-widgets/controls",
      "model_module_version": "1.5.0",
      "model_name": "DescriptionStyleModel",
      "state": {
       "description_width": ""
      }
     },
     "3c81f0b37ac1495e9dc09ac0c66cc246": {
      "model_module": "@jupyter-widgets/base",
      "model_module_version": "1.2.0",
      "model_name": "LayoutModel",
      "state": {
       "grid_area": "input",
       "width": "auto"
      }
     },
     "3caa95a3b075450d836737131aedaa32": {
      "model_module": "@jupyter-widgets/controls",
      "model_module_version": "1.5.0",
      "model_name": "GridBoxModel",
      "state": {
       "_dom_classes": [
        "nbtools-input",
        "nbtools-comboinput"
       ],
       "children": [
        "IPY_MODEL_10a47dc3f76d449abb5e85c370ebe233",
        "IPY_MODEL_cead95acf6cd4baab382258ebc5e3f50",
        "IPY_MODEL_faebf4da444d4cedb251d06efbf547f2"
       ],
       "layout": "IPY_MODEL_a46b4dcfefbc40dcaaec716b433a6e9a"
      }
     },
     "41537b1bb14a45fa8096ffd2991aa9db": {
      "model_module": "@jupyter-widgets/controls",
      "model_module_version": "1.5.0",
      "model_name": "DescriptionStyleModel",
      "state": {
       "description_width": ""
      }
     },
     "434ef656d9b949979caf3c0faf891aab": {
      "model_module": "@jupyter-widgets/output",
      "model_module_version": "1.0.0",
      "model_name": "OutputModel",
      "state": {
       "layout": "IPY_MODEL_f3754b9fd33c47e286207966d21d2b30"
      }
     },
     "47bf2ca997a14b23a46bbd9c84a257d2": {
      "model_module": "@jupyter-widgets/base",
      "model_module_version": "1.2.0",
      "model_name": "LayoutModel",
      "state": {}
     },
     "4aecf12a2aa0417ca2b3b5b4d0a7cd29": {
      "model_module": "@jupyter-widgets/controls",
      "model_module_version": "1.5.0",
      "model_name": "DescriptionStyleModel",
      "state": {
       "description_width": ""
      }
     },
     "4c409eb82d7649a996d5ea7439285633": {
      "model_module": "@jupyter-widgets/base",
      "model_module_version": "1.2.0",
      "model_name": "LayoutModel",
      "state": {
       "grid_area": "description",
       "width": "auto"
      }
     },
     "4df3c9859a78449f9bcdfdb1d716b70e": {
      "model_module": "@jupyter-widgets/controls",
      "model_module_version": "1.5.0",
      "model_name": "DescriptionStyleModel",
      "state": {
       "description_width": ""
      }
     },
     "50b023560aed486b9344e91685dcb1c1": {
      "model_module": "@jupyter-widgets/controls",
      "model_module_version": "1.5.0",
      "model_name": "DescriptionStyleModel",
      "state": {
       "description_width": ""
      }
     },
     "50cc43e35dbd430fa76c1bdfac82b5a2": {
      "model_module": "@jupyter-widgets/base",
      "model_module_version": "1.2.0",
      "model_name": "LayoutModel",
      "state": {}
     },
     "51599109baaa493e8d27dc3880bdd900": {
      "model_module": "@jupyter-widgets/controls",
      "model_module_version": "1.5.0",
      "model_name": "GridBoxModel",
      "state": {
       "_dom_classes": [
        "nbtools-input",
        "nbtools-textinput"
       ],
       "children": [
        "IPY_MODEL_bd8593b403964af98e62693b6546f924",
        "IPY_MODEL_d77908e9b58b43d0b23fab68bbf89512",
        "IPY_MODEL_9efd3cbce73a44df8f39feda6986a783"
       ],
       "layout": "IPY_MODEL_ec26ca7cc1474c878513248780606fae"
      }
     },
     "52a6c0b1a66f4f4da83fcb3927b9e905": {
      "model_module": "@jupyter-widgets/base",
      "model_module_version": "1.2.0",
      "model_name": "LayoutModel",
      "state": {
       "grid_area": "label",
       "width": "auto"
      }
     },
     "56171478e7c64506aa6b6f0b1d4f0ce0": {
      "model_module": "@jupyter-widgets/controls",
      "model_module_version": "1.5.0",
      "model_name": "TextModel",
      "state": {
       "_dom_classes": [
        "nbtools-menu-attached"
       ],
       "layout": "IPY_MODEL_95310c9e02a94dedb653a2b19e9f6c8b",
       "style": "IPY_MODEL_0e0efa913c6740b6a340f7cd0f06724a"
      }
     },
     "5641053f3f3a4fef9ff5580b2ac3811a": {
      "model_module": "@jupyter-widgets/controls",
      "model_module_version": "1.5.0",
      "model_name": "LabelModel",
      "state": {
       "description": "output variable",
       "layout": "IPY_MODEL_c061e41b21bd4e46b677b28fc491b634",
       "style": "IPY_MODEL_cba12c3adb7047ffb98b8b08fce1b8bc",
       "value": "output variable"
      }
     },
     "582ae05c326b4681b43a5a09389ea32a": {
      "model_module": "@jupyter-widgets/controls",
      "model_module_version": "1.5.0",
      "model_name": "LabelModel",
      "state": {
       "description": "output variable",
       "layout": "IPY_MODEL_e03a278e74454b00b4d8762827d4da42",
       "style": "IPY_MODEL_4aecf12a2aa0417ca2b3b5b4d0a7cd29",
       "value": "output variable"
      }
     },
     "5918d7b5717c47ffac6c1a84098110fd": {
      "model_module": "@jupyter-widgets/controls",
      "model_module_version": "1.5.0",
      "model_name": "DescriptionStyleModel",
      "state": {
       "description_width": ""
      }
     },
     "5ae5bed86f6d453abbd95f473ed7571d": {
      "model_module": "@jupyter-widgets/controls",
      "model_module_version": "1.5.0",
      "model_name": "VBoxModel",
      "state": {
       "children": [
        "IPY_MODEL_1a6dd08e6141453fa0c848e07fbb072e",
        "IPY_MODEL_a6650f711cb94acf9930bf1ff9eab29d"
       ],
       "layout": "IPY_MODEL_47bf2ca997a14b23a46bbd9c84a257d2"
      }
     },
     "5db1c3e392ae4730ae8682a7e6197388": {
      "model_module": "@jupyter-widgets/controls",
      "model_module_version": "1.5.0",
      "model_name": "LabelModel",
      "state": {
       "layout": "IPY_MODEL_4c409eb82d7649a996d5ea7439285633",
       "style": "IPY_MODEL_6f273d6b91e547b0a8092a9ee2eb11ca"
      }
     },
     "5f3107397c0d40eb80153c1801546114": {
      "model_module": "@jupyter-widgets/controls",
      "model_module_version": "1.5.0",
      "model_name": "ComboboxModel",
      "state": {
       "_dom_classes": [
        "nbtools-menu-attached"
       ],
       "choices": {
        "": "",
        "alignment": "alignment",
        "annotation": "annotation",
        "arc": "arc",
        "bedtype": "bedtype",
        "gwas": "gwas",
        "interaction": "interaction",
        "mut": "mut",
        "seg": "seg",
        "variant": "variant",
        "wig": "wig"
       },
       "ensure_option": false,
       "kinds": [],
       "layout": "IPY_MODEL_752dca1ae1c7472793d6b8683b020e08",
       "style": "IPY_MODEL_9d666f9e5c6e456f9665d4c5f59046ae"
      }
     },
     "5ff649b3576546ccafe725079017a882": {
      "model_module": "@jupyter-widgets/base",
      "model_module_version": "1.2.0",
      "model_name": "LayoutModel",
      "state": {
       "grid_area": "input",
       "width": "auto"
      }
     },
     "603cca28a5fb4c5d90b85e6bffa1ed1e": {
      "model_module": "@jupyter-widgets/controls",
      "model_module_version": "1.5.0",
      "model_name": "ButtonModel",
      "state": {
       "_dom_classes": [
        "hidden"
       ],
       "description": "Run",
       "layout": "IPY_MODEL_6d3f842d37774305bcd2740f465c77c7",
       "style": "IPY_MODEL_040799a94ba741f983ed32370de77ab1"
      }
     },
     "640879b6dd4e4b3f837f2e93af9797a8": {
      "model_module": "@jupyter-widgets/controls",
      "model_module_version": "1.5.0",
      "model_name": "LabelModel",
      "state": {
       "description": "track type",
       "layout": "IPY_MODEL_52a6c0b1a66f4f4da83fcb3927b9e905",
       "style": "IPY_MODEL_f013ffd6034c4b999b0f06fb5230dd0f",
       "value": "track type"
      }
     },
     "6558a4e6e4d249b594f8ffd3aeaa9fc1": {
      "model_module": "@genepattern/nbtools",
      "model_module_version": "^21.9.0-beta.1",
      "model_name": "UIBuilderModel",
      "state": {
       "_model_module_version": "^21.9.0-beta.1",
       "_parameters": [
        {
         "choices": {
          "Bonobo (MPI-EVA panpan1.1/panPan2)": "panPan2",
          "C. elegans (ce11)": "ce11",
          "Chimp (SAC 2.1.4/panTro4)": "panTro4",
          "Cow (UMD_3.1.1/bosTau8)": "bosTau8",
          "D. melanogaster (dm6)": "dm6",
          "Dog (Broad CanFam3.1/canFam3)": "canFam3",
          "Gorilla (gorGor4.1/gorGor4)": "gorGor4",
          "Human (CRCh37/hg19)": "hg19",
          "Human (GRCh38/hg38)": "hg38",
          "Human (hg18)": "hg18",
          "Mouse (GRCm38/mm10)": "mm10",
          "Pig (SGSC Sscrofa11.1/susScr11)": "susScr11",
          "Rat (RGCS 6.0/rn6)": "rn6",
          "S. cerevisiae (sacCer3)": "sacCer3",
          "Zebrafish (GRCZ10/danRer10)": "danRer10",
          "Zebrafish (GRCZ11/danRer11)": "danRer11"
         },
         "combo": true,
         "default": "hg38",
         "description": "Choose the genome for your data.",
         "events": null,
         "hide": false,
         "id": null,
         "kinds": null,
         "label": "genome",
         "name": "genome",
         "optional": false,
         "sendto": false,
         "type": "choice",
         "value": ""
        },
        {
         "choices": {},
         "default": "",
         "description": "Enter the URL to the track dataset(s)",
         "events": null,
         "hide": false,
         "id": null,
         "kinds": null,
         "label": "tracks",
         "maximum": 100,
         "name": "tracks",
         "optional": true,
         "type": "file",
         "value": "None"
        },
        {
         "choices": {},
         "default": "",
         "description": "Enter the URL to the index files that correspond to each track",
         "events": null,
         "hide": false,
         "id": null,
         "kinds": null,
         "label": "indices",
         "maximum": 100,
         "name": "indices",
         "optional": true,
         "type": "file",
         "value": "None"
        },
        {
         "choices": {
          "": "",
          "bam": "bam",
          "bb": "bb",
          "bed": "bed",
          "bedgraph": "bedgraph",
          "bedpe": "bedpe",
          "bedpe-loop": "bedpe-loop",
          "bigbed": "bigbed",
          "bigwig": "bigwig",
          "bp": "bp",
          "bw": "bw",
          "cram": "cram",
          "gwas": "gwas",
          "mut": "mut",
          "seg": "seg",
          "tdf": "tdf",
          "vcf": "vcf",
          "wig": "wig"
         },
         "combo": true,
         "default": "",
         "description": "Enter the format of the track datasets",
         "events": null,
         "hide": false,
         "id": null,
         "kinds": null,
         "label": "track format",
         "name": "track_format",
         "optional": true,
         "type": "choice",
         "value": "None"
        },
        {
         "choices": {
          "": "",
          "alignment": "alignment",
          "annotation": "annotation",
          "arc": "arc",
          "bedtype": "bedtype",
          "gwas": "gwas",
          "interaction": "interaction",
          "mut": "mut",
          "seg": "seg",
          "variant": "variant",
          "wig": "wig"
         },
         "combo": true,
         "default": "",
         "description": "Enter the type of the track datasets",
         "events": null,
         "hide": false,
         "id": null,
         "kinds": null,
         "label": "track type",
         "name": "track_type",
         "optional": true,
         "type": "choice",
         "value": "None"
        },
        {
         "choices": {},
         "default": "",
         "description": "Provide a locus or gene of interest for your data",
         "events": null,
         "hide": false,
         "id": null,
         "kinds": null,
         "label": "locus",
         "name": "locus",
         "optional": true,
         "type": "text",
         "value": "None"
        },
        {
         "choices": {},
         "default": "",
         "description": "",
         "events": null,
         "hide": true,
         "id": null,
         "kinds": null,
         "label": "output variable",
         "name": "output_var",
         "optional": true,
         "type": "text",
         "value": ""
        }
       ],
       "_view_module_version": "^21.9.0-beta.1",
       "description": "Use igv.js to embed an interactive genome visualization",
       "form": "IPY_MODEL_3537ed62d72743f6a63830635553bf77",
       "layout": "IPY_MODEL_1192ac6240ed4282812daebabeb2989b",
       "logo": "http://igv.org/web/img/favicon.ico",
       "name": "igv.js: Integrative Genomics Viewer",
       "origin": "igv",
       "output": "IPY_MODEL_8fbb7662fd2a4bc3840dc109a6c612ac",
       "output_var": "",
       "run_label": "Visualize"
      }
     },
     "65a6d35b43f948508f006af695e1b693": {
      "model_module": "@jupyter-widgets/controls",
      "model_module_version": "1.5.0",
      "model_name": "ButtonStyleModel",
      "state": {}
     },
     "66906cd99a744f7485a91880ecf0349d": {
      "model_module": "@jupyter-widgets/controls",
      "model_module_version": "1.5.0",
      "model_name": "DescriptionStyleModel",
      "state": {
       "description_width": ""
      }
     },
     "678f209e747c4db9ab6f026e7dcc635a": {
      "model_module": "@jupyter-widgets/controls",
      "model_module_version": "1.5.0",
      "model_name": "ButtonStyleModel",
      "state": {}
     },
     "6961d784e9344b149b6da968f8da1085": {
      "model_module": "@genepattern/nbtools",
      "model_module_version": "^21.9.0-beta.1",
      "model_name": "UIBuilderModel",
      "state": {
       "_model_module_version": "^21.9.0-beta.1",
       "_parameters": [
        {
         "choices": {
          "GenePattern Cloud": "https://cloud.genepattern.org/gp"
         },
         "combo": true,
         "default": "https://cloud.genepattern.org/gp",
         "description": "",
         "events": null,
         "hide": false,
         "id": null,
         "kinds": null,
         "label": "GenePattern Server",
         "name": "server",
         "optional": false,
         "sendto": false,
         "type": "choice",
         "value": ""
        },
        {
         "choices": {},
         "default": "",
         "description": "",
         "events": null,
         "hide": false,
         "id": null,
         "kinds": null,
         "label": "Username",
         "name": "username",
         "optional": false,
         "sendto": false,
         "type": "text",
         "value": ""
        },
        {
         "choices": {},
         "default": "",
         "description": "",
         "events": null,
         "hide": false,
         "id": null,
         "kinds": null,
         "label": "Password",
         "name": "password",
         "optional": false,
         "sendto": false,
         "type": "password",
         "value": ""
        },
        {
         "choices": {},
         "default": "",
         "description": "",
         "events": null,
         "hide": true,
         "id": null,
         "kinds": null,
         "label": "output variable",
         "name": "output_var",
         "optional": true,
         "type": "text",
         "value": ""
        }
       ],
       "_view_module_version": "^21.9.0-beta.1",
       "buttons": {
        "Register an Account": "\n    const target = event.target;\n    const widget = target.closest('.nbtools') || target;\n    const server_input = widget.querySelector('input[type=text]');\n    if (server_input) window.open(server_input.value + '/pages/registerUser.jsf');\n    else console.warn('Cannot obtain GenePattern Server URL');"
       },
       "collapse": false,
       "color": "rgba(10, 45, 105, 0.8)",
       "description": "Login to the GenePattern server",
       "display_header": false,
       "events": {
        "load": "\n    const nameEQ = \"GenePattern=\";\n    const ca = document.cookie.split(';');\n    let cmatch = null;\n    for (let i = 0; i < ca.length; i++) {\n        let c = ca[i];\n        while (c.charAt(0) === ' ') c = c.substring(1, c.length);\n        if (c.indexOf(nameEQ) === 0) cmatch = c.substring(nameEQ.length, c.length)\n    }\n    if (cmatch === null) return;\n    const parts = cmatch.split(\"|\");\n    if (parts.length <= 1) return;\n    let [u, p] = [parts[0], atob(decodeURIComponent(parts[1]))];\n    this.widget_dialog({\n        'title': 'Log into GenePattern Server',\n        'body': 'You have already authenticated with GenePattern Cloud. Would you like to automatically sign in now?',\n        'button_label': 'Login',\n        'callback': () => {\n            this.model.get('form').get('children')[1].get('children')[1].set('value', u);\n            this.model.get('form').get('children')[1].get('children')[1].save();\n            this.model.get('form').get('children')[2].get('children')[1].set('value', p);\n            this.model.get('form').get('children')[2].get('children')[1].save();\n            this.element.querySelector(\"button.nbtools-run\").click();\n        }\n    });"
       },
       "form": "IPY_MODEL_d44d99e5876646c695baf0729cde3018",
       "layout": "IPY_MODEL_e8b64047bcc6434bae27640e2040f7be",
       "name": "Login",
       "origin": "genepattern.authwidget",
       "output": "IPY_MODEL_ba189c0d6d0343e2b9eaad011c86ed25",
       "output_var": "",
       "run_label": "Log into GenePattern"
      }
     },
     "6aa77d80c5c34bf3be7d43ca489ab372": {
      "model_module": "@jupyter-widgets/base",
      "model_module_version": "1.2.0",
      "model_name": "LayoutModel",
      "state": {
       "grid_area": "label",
       "width": "auto"
      }
     },
     "6b061f52abd744ff98365516eee21d8e": {
      "model_module": "@jupyter-widgets/controls",
      "model_module_version": "1.5.0",
      "model_name": "TextModel",
      "state": {
       "_dom_classes": [
        "nbtools-menu-attached"
       ],
       "layout": "IPY_MODEL_ff11e5f398d046acab46b815749466fd",
       "style": "IPY_MODEL_b3b29d2e529a4f7b947d1f934b10bce8"
      }
     },
     "6b1b43b153164334a3407a758cf4cbfb": {
      "model_module": "@jupyter-widgets/base",
      "model_module_version": "1.2.0",
      "model_name": "LayoutModel",
      "state": {
       "grid_area": "input",
       "width": "auto"
      }
     },
     "6b8423c56e66470a85ad6fdb08ce70e0": {
      "model_module": "@jupyter-widgets/controls",
      "model_module_version": "1.5.0",
      "model_name": "LabelModel",
      "state": {
       "description": "Provide a locus or gene of interest for your data",
       "layout": "IPY_MODEL_35ce0c6e24e449ecafa5abb228ee22e5",
       "style": "IPY_MODEL_2e4295754daf4dc58fdb5149c30398df",
       "value": "Provide a locus or gene of interest for your data"
      }
     },
     "6d3f842d37774305bcd2740f465c77c7": {
      "model_module": "@jupyter-widgets/base",
      "model_module_version": "1.2.0",
      "model_name": "LayoutModel",
      "state": {}
     },
     "6d7ebabd47d5408db84d8cdd23a9c692": {
      "model_module": "@jupyter-widgets/base",
      "model_module_version": "1.2.0",
      "model_name": "LayoutModel",
      "state": {}
     },
     "6d84dc7eb0bf45c6b066f2b4a801f16a": {
      "model_module": "@jupyter-widgets/controls",
      "model_module_version": "1.5.0",
      "model_name": "LabelModel",
      "state": {
       "description": "locus",
       "layout": "IPY_MODEL_1b87c16e26d84bf3bbb1853a815e5ff3",
       "style": "IPY_MODEL_287fb91cb0804cebb00788af9a283bbf",
       "value": "locus"
      }
     },
     "6e91ac8359784750a7d0786de79d67cd": {
      "model_module": "@jupyter-widgets/base",
      "model_module_version": "1.2.0",
      "model_name": "LayoutModel",
      "state": {
       "grid_template_areas": "\n                    \"label input\"\n                    \". description\"\n                ",
       "grid_template_columns": "25% 75%",
       "grid_template_rows": "auto auto",
       "width": "100%"
      }
     },
     "6f273d6b91e547b0a8092a9ee2eb11ca": {
      "model_module": "@jupyter-widgets/controls",
      "model_module_version": "1.5.0",
      "model_name": "DescriptionStyleModel",
      "state": {
       "description_width": ""
      }
     },
     "6f3afbf7ff6f4adaa8f54fb939e382ca": {
      "model_module": "@jupyter-widgets/base",
      "model_module_version": "1.2.0",
      "model_name": "LayoutModel",
      "state": {
       "grid_area": "input",
       "width": "auto"
      }
     },
     "6f4b4ee6d39b4e5fa61d062077947bc6": {
      "model_module": "@jupyter-widgets/controls",
      "model_module_version": "1.5.0",
      "model_name": "GridBoxModel",
      "state": {
       "_dom_classes": [
        "nbtools-input",
        "nbtools-fileinput"
       ],
       "children": [
        "IPY_MODEL_223b4dd3c0fd49caadcc2ffc2b7b7f4f",
        "IPY_MODEL_1b4f4d9ca5d84b25a5823b5363af8e96",
        "IPY_MODEL_9c3228c6d6f84135be9a40d7a42fe63a"
       ],
       "layout": "IPY_MODEL_6e91ac8359784750a7d0786de79d67cd"
      }
     },
     "6fb99d0660eb424a86c190e830665403": {
      "model_module": "@jupyter-widgets/base",
      "model_module_version": "1.2.0",
      "model_name": "LayoutModel",
      "state": {
       "grid_template_areas": "\n                    \"label input\"\n                    \". description\"\n                ",
       "grid_template_columns": "25% 75%",
       "grid_template_rows": "auto auto",
       "width": "100%"
      }
     },
     "71ac9ef7546c4899a91a2dfa6c76a9b5": {
      "model_module": "@jupyter-widgets/controls",
      "model_module_version": "1.5.0",
      "model_name": "ComboboxModel",
      "state": {
       "_dom_classes": [
        "nbtools-menu-attached",
        "nbtools-nosendto"
       ],
       "choices": {
        "Bonobo (MPI-EVA panpan1.1/panPan2)": "panPan2",
        "C. elegans (ce11)": "ce11",
        "Chimp (SAC 2.1.4/panTro4)": "panTro4",
        "Cow (UMD_3.1.1/bosTau8)": "bosTau8",
        "D. melanogaster (dm6)": "dm6",
        "Dog (Broad CanFam3.1/canFam3)": "canFam3",
        "Gorilla (gorGor4.1/gorGor4)": "gorGor4",
        "Human (CRCh37/hg19)": "hg19",
        "Human (GRCh38/hg38)": "hg38",
        "Human (hg18)": "hg18",
        "Mouse (GRCm38/mm10)": "mm10",
        "Pig (SGSC Sscrofa11.1/susScr11)": "susScr11",
        "Rat (RGCS 6.0/rn6)": "rn6",
        "S. cerevisiae (sacCer3)": "sacCer3",
        "Zebrafish (GRCZ10/danRer10)": "danRer10",
        "Zebrafish (GRCZ11/danRer11)": "danRer11"
       },
       "ensure_option": false,
       "kinds": [],
       "layout": "IPY_MODEL_3c81f0b37ac1495e9dc09ac0c66cc246",
       "style": "IPY_MODEL_122e76dbd8304b6c9ad45acf0b3b7a41",
       "value": "hg38"
      }
     },
     "7479c57c20bf415795355ff91572d335": {
      "model_module": "@jupyter-widgets/controls",
      "model_module_version": "1.5.0",
      "model_name": "DescriptionStyleModel",
      "state": {
       "description_width": ""
      }
     },
     "752dca1ae1c7472793d6b8683b020e08": {
      "model_module": "@jupyter-widgets/base",
      "model_module_version": "1.2.0",
      "model_name": "LayoutModel",
      "state": {
       "grid_area": "input",
       "width": "auto"
      }
     },
     "7533d45415fa48af94f2168d52f098e9": {
      "model_module": "@jupyter-widgets/base",
      "model_module_version": "1.2.0",
      "model_name": "LayoutModel",
      "state": {}
     },
     "75c3bb85a87444d987a294e89ec771f8": {
      "model_module": "@jupyter-widgets/base",
      "model_module_version": "1.2.0",
      "model_name": "LayoutModel",
      "state": {
       "grid_area": "description",
       "width": "auto"
      }
     },
     "777b28b5ded546debb6653291459752e": {
      "model_module": "@jupyter-widgets/controls",
      "model_module_version": "1.5.0",
      "model_name": "TextModel",
      "state": {
       "_dom_classes": [
        "nbtools-menu-attached"
       ],
       "layout": "IPY_MODEL_6b1b43b153164334a3407a758cf4cbfb",
       "style": "IPY_MODEL_50b023560aed486b9344e91685dcb1c1"
      }
     },
     "778d7e7888eb44fe88c1d2832c9869eb": {
      "model_module": "@jupyter-widgets/controls",
      "model_module_version": "1.5.0",
      "model_name": "DescriptionStyleModel",
      "state": {
       "description_width": ""
      }
     },
     "77eea7f25ade46bdb4b4e32283dc1631": {
      "model_module": "@jupyter-widgets/controls",
      "model_module_version": "1.5.0",
      "model_name": "GridBoxModel",
      "state": {
       "_dom_classes": [
        "nbtools-input",
        "nbtools-passwordinput",
        "required"
       ],
       "children": [
        "IPY_MODEL_2c69774c92b64cdf9484622162595232",
        "IPY_MODEL_9472cbfb57f34972b292250965266686",
        "IPY_MODEL_9a8ce7647379464ebb2b27049416c23b"
       ],
       "layout": "IPY_MODEL_27f81943451f4ccd8cb02cff7a5e0bc8"
      }
     },
     "7adf2fe144614f898e697a3ab10f94b8": {
      "model_module": "@jupyter-widgets/base",
      "model_module_version": "1.2.0",
      "model_name": "LayoutModel",
      "state": {}
     },
     "7b988eea7d4b4d8095035180453d5946": {
      "model_module": "@jupyter-widgets/controls",
      "model_module_version": "1.5.0",
      "model_name": "ButtonStyleModel",
      "state": {}
     },
     "7c919f4d986e42a0909747bf77c83b39": {
      "model_module": "@jupyter-widgets/base",
      "model_module_version": "1.2.0",
      "model_name": "LayoutModel",
      "state": {
       "grid_area": "input",
       "width": "auto"
      }
     },
     "7d415ddefcb545dd8283d5f38cc6c2ea": {
      "model_module": "@jupyter-widgets/controls",
      "model_module_version": "1.5.0",
      "model_name": "ButtonModel",
      "state": {
       "_dom_classes": [
        "hidden"
       ],
       "description": "Run",
       "layout": "IPY_MODEL_9fe11d8e02114ab6a15e949ed303920b",
       "style": "IPY_MODEL_7b988eea7d4b4d8095035180453d5946"
      }
     },
     "7f72a864e8ec49bc99b086688c36a18e": {
      "model_module": "@jupyter-widgets/controls",
      "model_module_version": "1.5.0",
      "model_name": "DescriptionStyleModel",
      "state": {
       "description_width": ""
      }
     },
     "82562250d28044c9b3fcfba42ba53251": {
      "model_module": "@jupyter-widgets/controls",
      "model_module_version": "1.5.0",
      "model_name": "LabelModel",
      "state": {
       "layout": "IPY_MODEL_ba9cf9d53a52438da5b64a850eeb258a",
       "style": "IPY_MODEL_4df3c9859a78449f9bcdfdb1d716b70e"
      }
     },
     "828483f14811426ab2a9cc7382baf574": {
      "model_module": "@jupyter-widgets/base",
      "model_module_version": "1.2.0",
      "model_name": "LayoutModel",
      "state": {}
     },
     "834062fe0d644f41b647b0696cc8bf93": {
      "model_module": "@jupyter-widgets/base",
      "model_module_version": "1.2.0",
      "model_name": "LayoutModel",
      "state": {
       "grid_area": "description",
       "width": "auto"
      }
     },
     "858c761f486a4e4088fbf6f381066a2b": {
      "model_module": "@jupyter-widgets/controls",
      "model_module_version": "1.5.0",
      "model_name": "DescriptionStyleModel",
      "state": {
       "description_width": ""
      }
     },
     "85934cfea70e4cc4874946bca5829a82": {
      "model_module": "@jupyter-widgets/base",
      "model_module_version": "1.2.0",
      "model_name": "LayoutModel",
      "state": {}
     },
     "8917f4c485f548ab9a8d122799a22739": {
      "model_module": "@jupyter-widgets/controls",
      "model_module_version": "1.5.0",
      "model_name": "GridBoxModel",
      "state": {
       "_dom_classes": [
        "nbtools-input",
        "nbtools-comboinput"
       ],
       "children": [
        "IPY_MODEL_640879b6dd4e4b3f837f2e93af9797a8",
        "IPY_MODEL_5f3107397c0d40eb80153c1801546114",
        "IPY_MODEL_0096ed8b16e845f495066069f43f5aff"
       ],
       "layout": "IPY_MODEL_e8fd4b04b8534104bf8def5bedcdef24"
      }
     },
     "8e1c88e7f1ff499abeb91b267b3cee4b": {
      "model_module": "@jupyter-widgets/base",
      "model_module_version": "1.2.0",
      "model_name": "LayoutModel",
      "state": {}
     },
     "8e62b9da48f8470692245f0472123867": {
      "model_module": "@jupyter-widgets/controls",
      "model_module_version": "1.5.0",
      "model_name": "LabelModel",
      "state": {
       "description": "Enter the URL to the index files that correspond to each track",
       "layout": "IPY_MODEL_d361c813f0964ee2a638573bad3b6a76",
       "style": "IPY_MODEL_18b8dedccc0a45d9bd131505c968e8c4",
       "value": "Enter the URL to the index files that correspond to each track"
      }
     },
     "8f3b9311400d48b5873310d278dd543f": {
      "model_module": "@jupyter-widgets/base",
      "model_module_version": "1.2.0",
      "model_name": "LayoutModel",
      "state": {}
     },
     "8fbb7662fd2a4bc3840dc109a6c612ac": {
      "model_module": "@jupyter-widgets/output",
      "model_module_version": "1.0.0",
      "model_name": "OutputModel",
      "state": {
       "layout": "IPY_MODEL_85934cfea70e4cc4874946bca5829a82"
      }
     },
     "919016b2befa4f6eaed3263623c18ed0": {
      "model_module": "@jupyter-widgets/base",
      "model_module_version": "1.2.0",
      "model_name": "LayoutModel",
      "state": {
       "grid_template_areas": "\n                    \"label input\"\n                    \". description\"\n                ",
       "grid_template_columns": "25% 75%",
       "grid_template_rows": "auto auto",
       "width": "100%"
      }
     },
     "929c663f263d4365b619255984ea8ee8": {
      "model_module": "@jupyter-widgets/controls",
      "model_module_version": "1.5.0",
      "model_name": "DescriptionStyleModel",
      "state": {
       "description_width": ""
      }
     },
     "9472cbfb57f34972b292250965266686": {
      "model_module": "@jupyter-widgets/controls",
      "model_module_version": "1.5.0",
      "model_name": "PasswordModel",
      "state": {
       "layout": "IPY_MODEL_5ff649b3576546ccafe725079017a882",
       "style": "IPY_MODEL_3c0e46b1748d454ca5a123465fc926e9"
      }
     },
     "94b4870e002448b7950b3ea964c03f57": {
      "model_module": "@jupyter-widgets/base",
      "model_module_version": "1.2.0",
      "model_name": "LayoutModel",
      "state": {
       "grid_area": "input",
       "width": "auto"
      }
     },
     "94bd3d5175594e13b29d36c966dead9f": {
      "model_module": "@jupyter-widgets/controls",
      "model_module_version": "1.5.0",
      "model_name": "DescriptionStyleModel",
      "state": {
       "description_width": ""
      }
     },
     "95310c9e02a94dedb653a2b19e9f6c8b": {
      "model_module": "@jupyter-widgets/base",
      "model_module_version": "1.2.0",
      "model_name": "LayoutModel",
      "state": {
       "grid_area": "input",
       "width": "auto"
      }
     },
     "974886bcab9e451b84cb04ff7ec1fa63": {
      "model_module": "@jupyter-widgets/controls",
      "model_module_version": "1.5.0",
      "model_name": "ButtonStyleModel",
      "state": {}
     },
     "9751c96f41ef439bb347ff7b278b7fb0": {
      "model_module": "@jupyter-widgets/controls",
      "model_module_version": "1.5.0",
      "model_name": "FileUploadModel",
      "state": {
       "description_tooltip": null,
       "layout": "IPY_MODEL_f9635c4a2af04595963e5f5de64c1400",
       "style": "IPY_MODEL_de0868803e6845478ad628916bd6a433"
      }
     },
     "97a949d020054c4f875f0c98dd1d3f39": {
      "model_module": "@jupyter-widgets/base",
      "model_module_version": "1.2.0",
      "model_name": "LayoutModel",
      "state": {}
     },
     "988b946596f24127ad10ef6c2a6ac53b": {
      "model_module": "@jupyter-widgets/controls",
      "model_module_version": "1.5.0",
      "model_name": "DescriptionStyleModel",
      "state": {
       "description_width": ""
      }
     },
     "9a8ce7647379464ebb2b27049416c23b": {
      "model_module": "@jupyter-widgets/controls",
      "model_module_version": "1.5.0",
      "model_name": "LabelModel",
      "state": {
       "layout": "IPY_MODEL_9fa7f883d2cd42808f4226229a36dcee",
       "style": "IPY_MODEL_afc26c50a5b64468bf0eecfd10cc5d9c"
      }
     },
     "9b1d8c08a8ee40d1a4ebb58842d3a552": {
      "model_module": "@jupyter-widgets/base",
      "model_module_version": "1.2.0",
      "model_name": "LayoutModel",
      "state": {
       "grid_area": "input",
       "width": "auto"
      }
     },
     "9c3228c6d6f84135be9a40d7a42fe63a": {
      "model_module": "@jupyter-widgets/controls",
      "model_module_version": "1.5.0",
      "model_name": "LabelModel",
      "state": {
       "description": "Enter the URL to the track dataset(s)",
       "layout": "IPY_MODEL_9dcc6e4dda9149c8b9c9c3d245efee20",
       "style": "IPY_MODEL_1e445ad4c8484ecbbf0b44ac27e17814",
       "value": "Enter the URL to the track dataset(s)"
      }
     },
     "9c3fe9351c3c4b57b0358020a2380d7f": {
      "model_module": "@jupyter-widgets/controls",
      "model_module_version": "1.5.0",
      "model_name": "VBoxModel",
      "state": {
       "children": [
        "IPY_MODEL_aa61994038d24862a158f345b5b14dad",
        "IPY_MODEL_1bd9ff78a04347ab82b8d879698c2f6a"
       ],
       "layout": "IPY_MODEL_aeec7d45b5a34868867818cbb7e43f18"
      }
     },
     "9d666f9e5c6e456f9665d4c5f59046ae": {
      "model_module": "@jupyter-widgets/controls",
      "model_module_version": "1.5.0",
      "model_name": "DescriptionStyleModel",
      "state": {
       "description_width": ""
      }
     },
     "9dcc6e4dda9149c8b9c9c3d245efee20": {
      "model_module": "@jupyter-widgets/base",
      "model_module_version": "1.2.0",
      "model_name": "LayoutModel",
      "state": {
       "grid_area": "description",
       "width": "auto"
      }
     },
     "9efd3cbce73a44df8f39feda6986a783": {
      "model_module": "@jupyter-widgets/controls",
      "model_module_version": "1.5.0",
      "model_name": "LabelModel",
      "state": {
       "layout": "IPY_MODEL_ef7323691bb94219b323db666d828055",
       "style": "IPY_MODEL_ef5609f54a024370a77bcf60888f3044"
      }
     },
     "9fa7f883d2cd42808f4226229a36dcee": {
      "model_module": "@jupyter-widgets/base",
      "model_module_version": "1.2.0",
      "model_name": "LayoutModel",
      "state": {
       "grid_area": "description",
       "width": "auto"
      }
     },
     "9fe11d8e02114ab6a15e949ed303920b": {
      "model_module": "@jupyter-widgets/base",
      "model_module_version": "1.2.0",
      "model_name": "LayoutModel",
      "state": {}
     },
     "a46b4dcfefbc40dcaaec716b433a6e9a": {
      "model_module": "@jupyter-widgets/base",
      "model_module_version": "1.2.0",
      "model_name": "LayoutModel",
      "state": {
       "grid_template_areas": "\n                    \"label input\"\n                    \". description\"\n                ",
       "grid_template_columns": "25% 75%",
       "grid_template_rows": "auto auto",
       "width": "100%"
      }
     },
     "a6650f711cb94acf9930bf1ff9eab29d": {
      "model_module": "@jupyter-widgets/controls",
      "model_module_version": "1.5.0",
      "model_name": "ComboboxModel",
      "state": {
       "_dom_classes": [
        "nbtools-menu-attached"
       ],
       "choices": {},
       "ensure_option": false,
       "kinds": [],
       "layout": "IPY_MODEL_e3d4ab7fa47d47c49b12d377c655e6e9",
       "style": "IPY_MODEL_7f72a864e8ec49bc99b086688c36a18e"
      }
     },
     "a992bde6d0a94b07b022ae1467b44103": {
      "model_module": "@jupyter-widgets/base",
      "model_module_version": "1.2.0",
      "model_name": "LayoutModel",
      "state": {
       "grid_area": "label",
       "width": "auto"
      }
     },
     "a9bcd665dbbe40ccbeaf661b0ecae333": {
      "model_module": "@jupyter-widgets/controls",
      "model_module_version": "1.5.0",
      "model_name": "DescriptionStyleModel",
      "state": {
       "description_width": ""
      }
     },
     "aa61994038d24862a158f345b5b14dad": {
      "model_module": "@jupyter-widgets/controls",
      "model_module_version": "1.5.0",
      "model_name": "ComboboxModel",
      "state": {
       "_dom_classes": [
        "nbtools-menu-attached"
       ],
       "choices": {},
       "ensure_option": false,
       "kinds": [],
       "layout": "IPY_MODEL_828483f14811426ab2a9cc7382baf574",
       "style": "IPY_MODEL_988b946596f24127ad10ef6c2a6ac53b"
      }
     },
     "aabb536c2d9f4ca9a3290b4411950022": {
      "model_module": "@jupyter-widgets/controls",
      "model_module_version": "1.5.0",
      "model_name": "GridBoxModel",
      "state": {
       "_dom_classes": [
        "nbtools-input",
        "nbtools-textinput",
        "required"
       ],
       "children": [
        "IPY_MODEL_2575ce42f7d44e959c07d8548dd1da82",
        "IPY_MODEL_05df936e3b454f9f8e4392a655efa177",
        "IPY_MODEL_f7d330ee56634750881f652c2d0b9c0e"
       ],
       "layout": "IPY_MODEL_919016b2befa4f6eaed3263623c18ed0"
      }
     },
     "aeec7d45b5a34868867818cbb7e43f18": {
      "model_module": "@jupyter-widgets/base",
      "model_module_version": "1.2.0",
      "model_name": "LayoutModel",
      "state": {}
     },
     "af6cc01778074cee9e1b9dab62811b4d": {
      "model_module": "@jupyter-widgets/base",
      "model_module_version": "1.2.0",
      "model_name": "LayoutModel",
      "state": {
       "grid_area": "label",
       "width": "auto"
      }
     },
     "afc26c50a5b64468bf0eecfd10cc5d9c": {
      "model_module": "@jupyter-widgets/controls",
      "model_module_version": "1.5.0",
      "model_name": "DescriptionStyleModel",
      "state": {
       "description_width": ""
      }
     },
     "afcf8b25fbfb44159c3474962fc79c53": {
      "model_module": "@jupyter-widgets/controls",
      "model_module_version": "1.5.0",
      "model_name": "DescriptionStyleModel",
      "state": {
       "description_width": ""
      }
     },
     "b3b29d2e529a4f7b947d1f934b10bce8": {
      "model_module": "@jupyter-widgets/controls",
      "model_module_version": "1.5.0",
      "model_name": "DescriptionStyleModel",
      "state": {
       "description_width": ""
      }
     },
     "b7cfab15a99f4605b639e8eb721953f1": {
      "model_module": "@jupyter-widgets/controls",
      "model_module_version": "1.5.0",
      "model_name": "DescriptionStyleModel",
      "state": {
       "description_width": ""
      }
     },
     "b835cd89e84549acb7fd984af95dd913": {
      "model_module": "@jupyter-widgets/controls",
      "model_module_version": "1.5.0",
      "model_name": "HBoxModel",
      "state": {
       "children": [
        "IPY_MODEL_291a46a113834bdd8ba54d4f24e4be2f",
        "IPY_MODEL_5ae5bed86f6d453abbd95f473ed7571d"
       ],
       "layout": "IPY_MODEL_dff3fb679fac4a62bc5f2c319b07398f"
      }
     },
     "b9df3abcd6e84553b8ea45219f883f39": {
      "model_module": "@jupyter-widgets/base",
      "model_module_version": "1.2.0",
      "model_name": "LayoutModel",
      "state": {
       "grid_area": "label",
       "width": "auto"
      }
     },
     "ba189c0d6d0343e2b9eaad011c86ed25": {
      "model_module": "@jupyter-widgets/output",
      "model_module_version": "1.0.0",
      "model_name": "OutputModel",
      "state": {
       "layout": "IPY_MODEL_8f3b9311400d48b5873310d278dd543f"
      }
     },
     "ba9cf9d53a52438da5b64a850eeb258a": {
      "model_module": "@jupyter-widgets/base",
      "model_module_version": "1.2.0",
      "model_name": "LayoutModel",
      "state": {
       "grid_area": "description",
       "width": "auto"
      }
     },
     "bd8593b403964af98e62693b6546f924": {
      "model_module": "@jupyter-widgets/controls",
      "model_module_version": "1.5.0",
      "model_name": "LabelModel",
      "state": {
       "description": "output variable",
       "layout": "IPY_MODEL_af6cc01778074cee9e1b9dab62811b4d",
       "style": "IPY_MODEL_41537b1bb14a45fa8096ffd2991aa9db",
       "value": "output variable"
      }
     },
     "bdd35c7eb87a497e80a8750f9d71b01a": {
      "model_module": "@jupyter-widgets/controls",
      "model_module_version": "1.5.0",
      "model_name": "LabelModel",
      "state": {
       "description": "genome",
       "layout": "IPY_MODEL_db032841680a44048cd801a07d9b63d9",
       "style": "IPY_MODEL_2a1143e6ec7b4f5da54cd0db83d752e6",
       "value": "genome*"
      }
     },
     "bdf415d76b6041e281a8a543993cbed4": {
      "model_module": "@jupyter-widgets/controls",
      "model_module_version": "1.5.0",
      "model_name": "VBoxModel",
      "state": {
       "_dom_classes": [
        "widget-interact"
       ],
       "children": [
        "IPY_MODEL_603cca28a5fb4c5d90b85e6bffa1ed1e",
        "IPY_MODEL_f4dd48251a734d02a0b52323b9e5c811"
       ],
       "layout": "IPY_MODEL_ed4ffe14934e42fba15b4755d4e13cbc"
      }
     },
     "bfcb2225f6a046658ddbda1c64d68919": {
      "model_module": "@jupyter-widgets/base",
      "model_module_version": "1.2.0",
      "model_name": "LayoutModel",
      "state": {
       "grid_area": "label",
       "width": "auto"
      }
     },
     "c061e41b21bd4e46b677b28fc491b634": {
      "model_module": "@jupyter-widgets/base",
      "model_module_version": "1.2.0",
      "model_name": "LayoutModel",
      "state": {
       "grid_area": "label",
       "width": "auto"
      }
     },
     "c173b3c6c09144a6916745208ec1b1b3": {
      "model_module": "@jupyter-widgets/controls",
      "model_module_version": "1.5.0",
      "model_name": "GridBoxModel",
      "state": {
       "_dom_classes": [
        "nbtools-input",
        "nbtools-textinput"
       ],
       "children": [
        "IPY_MODEL_5641053f3f3a4fef9ff5580b2ac3811a",
        "IPY_MODEL_56171478e7c64506aa6b6f0b1d4f0ce0",
        "IPY_MODEL_1febb599a77c4f02b5c8c053352b7b0c"
       ],
       "layout": "IPY_MODEL_d05fe5ad855c48c28b41e720f19b1197"
      }
     },
     "c2b904086bc34a72be78049ceae19842": {
      "model_module": "@jupyter-widgets/controls",
      "model_module_version": "1.5.0",
      "model_name": "DescriptionStyleModel",
      "state": {
       "description_width": ""
      }
     },
     "c344a736d7ce49b8a6660abdc8258ec3": {
      "model_module": "@jupyter-widgets/base",
      "model_module_version": "1.2.0",
      "model_name": "LayoutModel",
      "state": {
       "display": "none",
       "grid_template_areas": "\n                    \"label input\"\n                    \". description\"\n                ",
       "grid_template_columns": "25% 75%",
       "grid_template_rows": "auto auto",
       "width": "100%"
      }
     },
     "c436fa54fdda44d4a2756c0959ae2bb6": {
      "model_module": "@jupyter-widgets/controls",
      "model_module_version": "1.5.0",
      "model_name": "DescriptionStyleModel",
      "state": {
       "description_width": ""
      }
     },
     "c976c11c56c94e01b76a6e8aaafaa40d": {
      "model_module": "@jupyter-widgets/base",
      "model_module_version": "1.2.0",
      "model_name": "LayoutModel",
      "state": {}
     },
     "cba12c3adb7047ffb98b8b08fce1b8bc": {
      "model_module": "@jupyter-widgets/controls",
      "model_module_version": "1.5.0",
      "model_name": "DescriptionStyleModel",
      "state": {
       "description_width": ""
      }
     },
     "cead95acf6cd4baab382258ebc5e3f50": {
      "model_module": "@jupyter-widgets/controls",
      "model_module_version": "1.5.0",
      "model_name": "ComboboxModel",
      "state": {
       "_dom_classes": [
        "nbtools-menu-attached"
       ],
       "choices": {
        "": "",
        "bam": "bam",
        "bb": "bb",
        "bed": "bed",
        "bedgraph": "bedgraph",
        "bedpe": "bedpe",
        "bedpe-loop": "bedpe-loop",
        "bigbed": "bigbed",
        "bigwig": "bigwig",
        "bp": "bp",
        "bw": "bw",
        "cram": "cram",
        "gwas": "gwas",
        "mut": "mut",
        "seg": "seg",
        "tdf": "tdf",
        "vcf": "vcf",
        "wig": "wig"
       },
       "ensure_option": false,
       "kinds": [],
       "layout": "IPY_MODEL_3b0161ca70a7484f91544c83cc60aff1",
       "style": "IPY_MODEL_3009e0e340e84b448eec3689d29f9497"
      }
     },
     "d05fe5ad855c48c28b41e720f19b1197": {
      "model_module": "@jupyter-widgets/base",
      "model_module_version": "1.2.0",
      "model_name": "LayoutModel",
      "state": {
       "display": "none",
       "grid_template_areas": "\n                    \"label input\"\n                    \". description\"\n                ",
       "grid_template_columns": "25% 75%",
       "grid_template_rows": "auto auto",
       "width": "100%"
      }
     },
     "d150281404bd47da8c71f75ba14ed83d": {
      "model_module": "@jupyter-widgets/base",
      "model_module_version": "1.2.0",
      "model_name": "LayoutModel",
      "state": {
       "grid_area": "label",
       "width": "auto"
      }
     },
     "d153b22ebe26482595dd8e8323be0cb5": {
      "model_module": "@jupyter-widgets/controls",
      "model_module_version": "1.5.0",
      "model_name": "LabelModel",
      "state": {
       "description": "GenePattern Server",
       "layout": "IPY_MODEL_bfcb2225f6a046658ddbda1c64d68919",
       "style": "IPY_MODEL_94bd3d5175594e13b29d36c966dead9f",
       "value": "GenePattern Server*"
      }
     },
     "d1b176e50607458da7cdee90dd9c2b41": {
      "model_module": "@jupyter-widgets/controls",
      "model_module_version": "1.5.0",
      "model_name": "DescriptionStyleModel",
      "state": {
       "description_width": ""
      }
     },
     "d29addb5dd154bbf8ab08096a52e5be8": {
      "model_module": "@jupyter-widgets/base",
      "model_module_version": "1.2.0",
      "model_name": "LayoutModel",
      "state": {
       "grid_area": "description",
       "width": "auto"
      }
     },
     "d361c813f0964ee2a638573bad3b6a76": {
      "model_module": "@jupyter-widgets/base",
      "model_module_version": "1.2.0",
      "model_name": "LayoutModel",
      "state": {
       "grid_area": "description",
       "width": "auto"
      }
     },
     "d3664d4f1bbd40b0a2abcdf8f199506f": {
      "model_module": "@jupyter-widgets/controls",
      "model_module_version": "1.5.0",
      "model_name": "DescriptionStyleModel",
      "state": {
       "description_width": ""
      }
     },
     "d44d99e5876646c695baf0729cde3018": {
      "model_module": "@jupyter-widgets/controls",
      "model_module_version": "1.5.0",
      "model_name": "VBoxModel",
      "state": {
       "_dom_classes": [
        "widget-interact"
       ],
       "children": [
        "IPY_MODEL_08aeccc3e39f401abe0422bb04ba5d68",
        "IPY_MODEL_aabb536c2d9f4ca9a3290b4411950022",
        "IPY_MODEL_77eea7f25ade46bdb4b4e32283dc1631",
        "IPY_MODEL_32cbdbf4435748708efec8821762d0db",
        "IPY_MODEL_38621aea1a2b42edb29bbde13491f32a"
       ],
       "layout": "IPY_MODEL_39a1d810c6804986b6bce103eeda5b3f"
      }
     },
     "d46ba332b3654dfca87849c9844530bb": {
      "model_module": "@jupyter-widgets/output",
      "model_module_version": "1.0.0",
      "model_name": "OutputModel",
      "state": {
       "layout": "IPY_MODEL_7adf2fe144614f898e697a3ab10f94b8"
      }
     },
     "d77908e9b58b43d0b23fab68bbf89512": {
      "model_module": "@jupyter-widgets/controls",
      "model_module_version": "1.5.0",
      "model_name": "TextModel",
      "state": {
       "_dom_classes": [
        "nbtools-menu-attached"
       ],
       "layout": "IPY_MODEL_94b4870e002448b7950b3ea964c03f57",
       "style": "IPY_MODEL_d9049e6f7c7a4f4684a68918df03a2b1"
      }
     },
     "d9049e6f7c7a4f4684a68918df03a2b1": {
      "model_module": "@jupyter-widgets/controls",
      "model_module_version": "1.5.0",
      "model_name": "DescriptionStyleModel",
      "state": {
       "description_width": ""
      }
     },
     "db032841680a44048cd801a07d9b63d9": {
      "model_module": "@jupyter-widgets/base",
      "model_module_version": "1.2.0",
      "model_name": "LayoutModel",
      "state": {
       "grid_area": "label",
       "width": "auto"
      }
     },
     "de0868803e6845478ad628916bd6a433": {
      "model_module": "@jupyter-widgets/controls",
      "model_module_version": "1.5.0",
      "model_name": "ButtonStyleModel",
      "state": {}
     },
     "dff3fb679fac4a62bc5f2c319b07398f": {
      "model_module": "@jupyter-widgets/base",
      "model_module_version": "1.2.0",
      "model_name": "LayoutModel",
      "state": {
       "grid_area": "input",
       "width": "auto"
      }
     },
     "e03a278e74454b00b4d8762827d4da42": {
      "model_module": "@jupyter-widgets/base",
      "model_module_version": "1.2.0",
      "model_name": "LayoutModel",
      "state": {
       "grid_area": "label",
       "width": "auto"
      }
     },
     "e1b99d780e2547cd8b98f51351eb62c8": {
      "model_module": "@jupyter-widgets/base",
      "model_module_version": "1.2.0",
      "model_name": "LayoutModel",
      "state": {
       "grid_area": "description",
       "width": "auto"
      }
     },
     "e3d4ab7fa47d47c49b12d377c655e6e9": {
      "model_module": "@jupyter-widgets/base",
      "model_module_version": "1.2.0",
      "model_name": "LayoutModel",
      "state": {}
     },
     "e82644472abc48f28d4f9fd410f89185": {
      "model_module": "@jupyter-widgets/controls",
      "model_module_version": "1.5.0",
      "model_name": "GridBoxModel",
      "state": {
       "_dom_classes": [
        "nbtools-input",
        "nbtools-comboinput",
        "required"
       ],
       "children": [
        "IPY_MODEL_bdd35c7eb87a497e80a8750f9d71b01a",
        "IPY_MODEL_71ac9ef7546c4899a91a2dfa6c76a9b5",
        "IPY_MODEL_3346b0f5326d42c68c966b3913c88292"
       ],
       "layout": "IPY_MODEL_09daa2163f5e431ca38edf30de1c41c4"
      }
     },
     "e8b64047bcc6434bae27640e2040f7be": {
      "model_module": "@jupyter-widgets/base",
      "model_module_version": "1.2.0",
      "model_name": "LayoutModel",
      "state": {}
     },
     "e8d1c34afa884d71a6f7f5a53aeff47c": {
      "model_module": "@jupyter-widgets/controls",
      "model_module_version": "1.5.0",
      "model_name": "ButtonModel",
      "state": {
       "_dom_classes": [
        "hidden"
       ],
       "description": "Run",
       "layout": "IPY_MODEL_6d7ebabd47d5408db84d8cdd23a9c692",
       "style": "IPY_MODEL_678f209e747c4db9ab6f026e7dcc635a"
      }
     },
     "e8fd4b04b8534104bf8def5bedcdef24": {
      "model_module": "@jupyter-widgets/base",
      "model_module_version": "1.2.0",
      "model_name": "LayoutModel",
      "state": {
       "grid_template_areas": "\n                    \"label input\"\n                    \". description\"\n                ",
       "grid_template_columns": "25% 75%",
       "grid_template_rows": "auto auto",
       "width": "100%"
      }
     },
     "ec26ca7cc1474c878513248780606fae": {
      "model_module": "@jupyter-widgets/base",
      "model_module_version": "1.2.0",
      "model_name": "LayoutModel",
      "state": {
       "display": "none",
       "grid_template_areas": "\n                    \"label input\"\n                    \". description\"\n                ",
       "grid_template_columns": "25% 75%",
       "grid_template_rows": "auto auto",
       "width": "100%"
      }
     },
     "ed4ffe14934e42fba15b4755d4e13cbc": {
      "model_module": "@jupyter-widgets/base",
      "model_module_version": "1.2.0",
      "model_name": "LayoutModel",
      "state": {}
     },
     "ef5609f54a024370a77bcf60888f3044": {
      "model_module": "@jupyter-widgets/controls",
      "model_module_version": "1.5.0",
      "model_name": "DescriptionStyleModel",
      "state": {
       "description_width": ""
      }
     },
     "ef7323691bb94219b323db666d828055": {
      "model_module": "@jupyter-widgets/base",
      "model_module_version": "1.2.0",
      "model_name": "LayoutModel",
      "state": {
       "grid_area": "description",
       "width": "auto"
      }
     },
     "f013ffd6034c4b999b0f06fb5230dd0f": {
      "model_module": "@jupyter-widgets/controls",
      "model_module_version": "1.5.0",
      "model_name": "DescriptionStyleModel",
      "state": {
       "description_width": ""
      }
     },
     "f0e9d319d2154f71a07ae050581d4a6f": {
      "model_module": "@jupyter-widgets/base",
      "model_module_version": "1.2.0",
      "model_name": "LayoutModel",
      "state": {
       "display": "none",
       "grid_template_areas": "\n                    \"label input\"\n                    \". description\"\n                ",
       "grid_template_columns": "25% 75%",
       "grid_template_rows": "auto auto",
       "width": "100%"
      }
     },
     "f2154837eef94a4f8ddb0686a704b445": {
      "model_module": "@jupyter-widgets/base",
      "model_module_version": "1.2.0",
      "model_name": "LayoutModel",
      "state": {
       "grid_area": "label",
       "width": "auto"
      }
     },
     "f3754b9fd33c47e286207966d21d2b30": {
      "model_module": "@jupyter-widgets/base",
      "model_module_version": "1.2.0",
      "model_name": "LayoutModel",
      "state": {}
     },
     "f43070d5730d4f459f2da4fea597d742": {
      "model_module": "@jupyter-widgets/base",
      "model_module_version": "1.2.0",
      "model_name": "LayoutModel",
      "state": {
       "grid_area": "description",
       "width": "auto"
      }
     },
     "f4dd48251a734d02a0b52323b9e5c811": {
      "model_module": "@jupyter-widgets/output",
      "model_module_version": "1.0.0",
      "model_name": "OutputModel",
      "state": {
       "layout": "IPY_MODEL_c976c11c56c94e01b76a6e8aaafaa40d"
      }
     },
     "f7d330ee56634750881f652c2d0b9c0e": {
      "model_module": "@jupyter-widgets/controls",
      "model_module_version": "1.5.0",
      "model_name": "LabelModel",
      "state": {
       "layout": "IPY_MODEL_1584abe45d114a36990583162b5ece60",
       "style": "IPY_MODEL_c436fa54fdda44d4a2756c0959ae2bb6"
      }
     },
     "f9635c4a2af04595963e5f5de64c1400": {
      "model_module": "@jupyter-widgets/base",
      "model_module_version": "1.2.0",
      "model_name": "LayoutModel",
      "state": {}
     },
     "f9c80f2b510b4621afbc53cf15942d42": {
      "model_module": "@jupyter-widgets/controls",
      "model_module_version": "1.5.0",
      "model_name": "VBoxModel",
      "state": {
       "_dom_classes": [
        "widget-interact"
       ],
       "children": [
        "IPY_MODEL_7d415ddefcb545dd8283d5f38cc6c2ea",
        "IPY_MODEL_18bd0178bc394d48800a517cf2a7e04b"
       ],
       "layout": "IPY_MODEL_0d41a0adac93467e97088a1369a7a5cc"
      }
     },
     "fa139883fd69493fa3eb4846dbc11b8a": {
      "model_module": "@jupyter-widgets/base",
      "model_module_version": "1.2.0",
      "model_name": "LayoutModel",
      "state": {
       "grid_template_areas": "\n                    \"label input\"\n                    \". description\"\n                ",
       "grid_template_columns": "25% 75%",
       "grid_template_rows": "auto auto",
       "width": "100%"
      }
     },
     "fa843f1357d74f368cdcf9cbfb9ce4ea": {
      "model_module": "@jupyter-widgets/controls",
      "model_module_version": "1.5.0",
      "model_name": "LabelModel",
      "state": {
       "description": "indices",
       "layout": "IPY_MODEL_f2154837eef94a4f8ddb0686a704b445",
       "style": "IPY_MODEL_7479c57c20bf415795355ff91572d335",
       "value": "indices"
      }
     },
     "faebf4da444d4cedb251d06efbf547f2": {
      "model_module": "@jupyter-widgets/controls",
      "model_module_version": "1.5.0",
      "model_name": "LabelModel",
      "state": {
       "description": "Enter the format of the track datasets",
       "layout": "IPY_MODEL_d29addb5dd154bbf8ab08096a52e5be8",
       "style": "IPY_MODEL_a9bcd665dbbe40ccbeaf661b0ecae333",
       "value": "Enter the format of the track datasets"
      }
     },
     "fcfb2b160a6645d3a5ce6a2c15b0c844": {
      "model_module": "@jupyter-widgets/base",
      "model_module_version": "1.2.0",
      "model_name": "LayoutModel",
      "state": {
       "grid_template_areas": "\n                    \"label input\"\n                    \". description\"\n                ",
       "grid_template_columns": "25% 75%",
       "grid_template_rows": "auto auto",
       "width": "100%"
      }
     },
     "fdb44b4f0854494fa91e53cecdfebaa6": {
      "model_module": "@jupyter-widgets/controls",
      "model_module_version": "1.5.0",
      "model_name": "LabelModel",
      "state": {
       "layout": "IPY_MODEL_f43070d5730d4f459f2da4fea597d742",
       "style": "IPY_MODEL_092a33870ea8415589f21984fb6042e1"
      }
     },
     "fe370688049c443e900526d6c33fb9ec": {
      "model_module": "@jupyter-widgets/controls",
      "model_module_version": "1.5.0",
      "model_name": "ComboboxModel",
      "state": {
       "_dom_classes": [
        "nbtools-menu-attached",
        "nbtools-nosendto"
       ],
       "choices": {
        "GenePattern Cloud": "https://cloud.genepattern.org/gp"
       },
       "ensure_option": false,
       "kinds": [],
       "layout": "IPY_MODEL_7c919f4d986e42a0909747bf77c83b39",
       "style": "IPY_MODEL_b7cfab15a99f4605b639e8eb721953f1",
       "value": "https://cloud.genepattern.org/gp"
      }
     },
     "ff11e5f398d046acab46b815749466fd": {
      "model_module": "@jupyter-widgets/base",
      "model_module_version": "1.2.0",
      "model_name": "LayoutModel",
      "state": {
       "grid_area": "input",
       "width": "auto"
      }
     }
    },
    "version_major": 2,
    "version_minor": 0
   }
  }
 },
 "nbformat": 4,
 "nbformat_minor": 4
}
