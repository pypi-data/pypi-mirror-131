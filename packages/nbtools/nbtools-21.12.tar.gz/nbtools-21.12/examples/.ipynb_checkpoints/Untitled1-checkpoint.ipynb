{
 "cells": [
  {
   "cell_type": "code",
   "execution_count": 7,
   "metadata": {},
   "outputs": [
    {
     "data": {
      "application/vnd.jupyter.widget-view+json": {
       "model_id": "646e616900db4a1c95e57e852c047bae",
       "version_major": 2,
       "version_minor": 0
      },
      "text/plain": [
       "GPAuthWidget(buttons={'Register an Account': \"\\n    const target = event.target;\\n    const widget = target.cl…"
      ]
     },
     "metadata": {},
     "output_type": "display_data"
    },
    {
     "data": {
      "application/vnd.jupyter.widget-view+json": {
       "model_id": "430c0969aab248d5811e4adb8a1a7cf2",
       "version_major": 2,
       "version_minor": 0
      },
      "text/plain": [
       "Output()"
      ]
     },
     "metadata": {},
     "output_type": "display_data"
    }
   ],
   "source": [
    "import nbtools\n",
    "import genepattern\n",
    "\n",
    "auth = nbtools.tool(id='authentication', origin='+')\n",
    "auth"
   ]
  },
  {
   "cell_type": "code",
   "execution_count": 3,
   "metadata": {},
   "outputs": [
    {
     "data": {
      "application/vnd.jupyter.widget-view+json": {
       "model_id": "ca5372b0ab9e499ebba921edf4cec95e",
       "version_major": 2,
       "version_minor": 0
      },
      "text/plain": [
       "UIOutput(appendix=VBox(), error='Cannot find tool: GenePattern Cloud | urn:lsid:broad.mit.edu:cancer.software.…"
      ]
     },
     "metadata": {},
     "output_type": "display_data"
    },
    {
     "data": {
      "application/vnd.jupyter.widget-view+json": {
       "model_id": "08e91102465d4f5d94a997696d68759d",
       "version_major": 2,
       "version_minor": 0
      },
      "text/plain": [
       "Output(outputs=({'output_type': 'display_data', 'data': {}, 'metadata': {}},))"
      ]
     },
     "metadata": {},
     "output_type": "display_data"
    }
   ],
   "source": [
    "nbtools.tool(id='urn:lsid:broad.mit.edu:cancer.software.genepattern.module.analysis:00002:2', origin='GenePattern Cloud')"
   ]
  },
  {
   "cell_type": "code",
   "execution_count": 4,
   "metadata": {},
   "outputs": [
    {
     "data": {
      "application/vnd.jupyter.widget-view+json": {
       "model_id": "f52da388bb3c40688d845210cb7b138f",
       "version_major": 2,
       "version_minor": 0
      },
      "text/plain": [
       "UIOutput(appendix=VBox(), error='Cannot find tool: GenePattern Cloud | urn:lsid:broad.mit.edu:cancer.software.…"
      ]
     },
     "metadata": {},
     "output_type": "display_data"
    },
    {
     "data": {
      "application/vnd.jupyter.widget-view+json": {
       "model_id": "08001870a0f541a48375c95e91a10a50",
       "version_major": 2,
       "version_minor": 0
      },
      "text/plain": [
       "Output(outputs=({'output_type': 'display_data', 'data': {}, 'metadata': {}},))"
      ]
     },
     "metadata": {},
     "output_type": "display_data"
    }
   ],
   "source": [
    "nbtools.tool(id='urn:lsid:broad.mit.edu:cancer.software.genepattern.module.analysis:00017:4.2', origin='GenePattern Cloud')"
   ]
  },
  {
   "cell_type": "code",
   "execution_count": 5,
   "metadata": {},
   "outputs": [
    {
     "data": {
      "application/vnd.jupyter.widget-view+json": {
       "model_id": "8edb9322d9c047edb795240cb60685db",
       "version_major": 2,
       "version_minor": 0
      },
      "text/plain": [
       "UIBuilder(collapse=True, form=InteractiveForm(children=(FileFormInput(value='', children=(Label(value='bar*', …"
      ]
     },
     "metadata": {},
     "output_type": "display_data"
    },
    {
     "data": {
      "application/vnd.jupyter.widget-view+json": {
       "model_id": "40a0eae7ff1d47e59943a55bfcd8eb82",
       "version_major": 2,
       "version_minor": 0
      },
      "text/plain": [
       "Output()"
      ]
     },
     "metadata": {},
     "output_type": "display_data"
    }
   ],
   "source": [
    "import nbtools\n",
    "import genepattern\n",
    "\n",
    "@nbtools.build_ui(\n",
    "    # logo='None',\n",
    "    parameters={\n",
    "        'bar': {\n",
    "            'type': 'file',\n",
    "            'kinds': ['_s.odf']\n",
    "    }\n",
    "})\n",
    "def foo(bar):\n",
    "    uio = nbtools.UIOutput(files=['https://www.drivethrurpg.com/product/103096/Escape-from-Castle-Island?filters=0_2110_100_0_0'])\n",
    "    genepattern.display(uio)"
   ]
  },
  {
   "cell_type": "code",
   "execution_count": 6,
   "metadata": {},
   "outputs": [
    {
     "data": {
      "application/vnd.jupyter.widget-view+json": {
       "model_id": "ef068ffd11f640f097bc149f2a5a7085",
       "version_major": 2,
       "version_minor": 0
      },
      "text/plain": [
       "UIBuilder(collapse=True, form=InteractiveForm(children=(FileFormInput(value='', children=(Label(value='bar*', …"
      ]
     },
     "metadata": {},
     "output_type": "display_data"
    },
    {
     "data": {
      "application/vnd.jupyter.widget-view+json": {
       "model_id": "f767108c4a3a495da53b115979756c50",
       "version_major": 2,
       "version_minor": 0
      },
      "text/plain": [
       "Output()"
      ]
     },
     "metadata": {},
     "output_type": "display_data"
    }
   ],
   "source": [
    "import nbtools\n",
    "import genepattern\n",
    "\n",
    "@nbtools.build_ui(parameters={\n",
    "    'bar': {\n",
    "        'type': 'file',\n",
    "        'kinds': ['_s.odf']\n",
    "    }\n",
    "})\n",
    "def moose(bar):\n",
    "    uio = nbtools.UIOutput(files=['https://www.drivethrurpg.com/product/103096/Escape-from-Castle-Island?filters=0_2110_100_0_0'])\n",
    "    genepattern.display(uio)"
   ]
  }
 ],
 "metadata": {
  "kernelspec": {
   "display_name": "Python 3 (ipykernel)",
   "language": "python",
   "name": "python3"
  },
  "language_info": {
   "codemirror_mode": {
    "name": "ipython",
    "version": 3
   },
   "file_extension": ".py",
   "mimetype": "text/x-python",
   "name": "python",
   "nbconvert_exporter": "python",
   "pygments_lexer": "ipython3",
   "version": "3.8.5"
  },
  "widgets": {
   "application/vnd.jupyter.widget-state+json": {
    "state": {
     "002d7c67a6384ad98e2930fea2dfd29c": {
      "model_module": "@jupyter-widgets/controls",
      "model_module_version": "1.5.0",
      "model_name": "ButtonStyleModel",
      "state": {}
     },
     "00c9de3743744d4d9cb70fc6ec9d3ae6": {
      "model_module": "@jupyter-widgets/controls",
      "model_module_version": "1.5.0",
      "model_name": "LabelModel",
      "state": {
       "layout": "IPY_MODEL_54d82cf82744435c87383603ee8da5fb",
       "style": "IPY_MODEL_2f41aadf83594ef6b1eff309575e114a"
      }
     },
     "00e4efa2eeec447bac9d0de9218e3993": {
      "model_module": "@jupyter-widgets/base",
      "model_module_version": "1.2.0",
      "model_name": "LayoutModel",
      "state": {}
     },
     "00e7d3ced01146e185655bbcc53d4560": {
      "model_module": "@jupyter-widgets/base",
      "model_module_version": "1.2.0",
      "model_name": "LayoutModel",
      "state": {
       "grid_area": "label",
       "width": "auto"
      }
     },
     "0227196fa87d400bac2644e405846f83": {
      "model_module": "@jupyter-widgets/controls",
      "model_module_version": "1.5.0",
      "model_name": "ButtonModel",
      "state": {
       "_dom_classes": [
        "hidden"
       ],
       "description": "Run",
       "layout": "IPY_MODEL_71fa81dbe0cd4f5f879860764daa2626",
       "style": "IPY_MODEL_c580af3e604f43f39870a62ed3263293"
      }
     },
     "028bb3e474d64e8198d1a2f26e59ee5f": {
      "model_module": "@jupyter-widgets/controls",
      "model_module_version": "1.5.0",
      "model_name": "GridBoxModel",
      "state": {
       "_dom_classes": [
        "nbtools-input",
        "nbtools-textinput"
       ],
       "children": [
        "IPY_MODEL_a14ce5944822435b998e9bb21a817509",
        "IPY_MODEL_709422e42d1541148d2192ceaa5370dd",
        "IPY_MODEL_ae0c604abfc34a4fa19c18a75c11dfac"
       ],
       "layout": "IPY_MODEL_39ca8219eec6450192658d35d993bffe"
      }
     },
     "03897155414442b2b59f8198f2bf970a": {
      "model_module": "@jupyter-widgets/controls",
      "model_module_version": "1.5.0",
      "model_name": "ComboboxModel",
      "state": {
       "_dom_classes": [
        "nbtools-menu-attached"
       ],
       "choices": {},
       "ensure_option": false,
       "kinds": [],
       "layout": "IPY_MODEL_547c97d40ceb4ccab90eade4e575debe",
       "style": "IPY_MODEL_d7fe3a14727a4310baa45a145bade33c"
      }
     },
     "03b6567a80c2454d8219e2f7ae752175": {
      "model_module": "@jupyter-widgets/output",
      "model_module_version": "1.0.0",
      "model_name": "OutputModel",
      "state": {
       "layout": "IPY_MODEL_3bf9b54cc82946f896f91f6b942451cd"
      }
     },
     "0521452400dc43b18b036c507e6eac5a": {
      "model_module": "@jupyter-widgets/controls",
      "model_module_version": "1.5.0",
      "model_name": "DescriptionStyleModel",
      "state": {
       "description_width": ""
      }
     },
     "05a7202b6254453ca362760b4917dad4": {
      "model_module": "@jupyter-widgets/base",
      "model_module_version": "1.2.0",
      "model_name": "LayoutModel",
      "state": {
       "grid_area": "description",
       "width": "auto"
      }
     },
     "05f4f0465a9e43609e58d1602cf6914d": {
      "model_module": "@jupyter-widgets/controls",
      "model_module_version": "1.5.0",
      "model_name": "GridBoxModel",
      "state": {
       "_dom_classes": [
        "nbtools-input",
        "nbtools-textinput",
        "required"
       ],
       "children": [
        "IPY_MODEL_3d01d141c9614e6a89d7e04378ea342f",
        "IPY_MODEL_f10aad0e420f4972bd6b921dfb66dcee",
        "IPY_MODEL_8b22252bf220406bbc12fcdd5823b0fe"
       ],
       "layout": "IPY_MODEL_aef771891da343b89cede33a49afefef"
      }
     },
     "060f8a3751fb44f3a5fba555c5ef4891": {
      "model_module": "@jupyter-widgets/controls",
      "model_module_version": "1.5.0",
      "model_name": "GridBoxModel",
      "state": {
       "_dom_classes": [
        "nbtools-input",
        "nbtools-comboinput",
        "required"
       ],
       "children": [
        "IPY_MODEL_fe0b62c446ba4332b811a35bffc5a248",
        "IPY_MODEL_a4ca1465f25449f6a05382a2c6763921",
        "IPY_MODEL_2746edeeb41346788b610a0308eed576"
       ],
       "layout": "IPY_MODEL_63c3efafa3144614bca654bc495dacf7"
      }
     },
     "06e5053731a44af0839eb380e59899ec": {
      "model_module": "@jupyter-widgets/controls",
      "model_module_version": "1.5.0",
      "model_name": "GridBoxModel",
      "state": {
       "_dom_classes": [
        "nbtools-input",
        "nbtools-textinput"
       ],
       "children": [
        "IPY_MODEL_9f08c5bf338c4f06b6e563709e81f49e",
        "IPY_MODEL_a2849aae861a4cecb0e4df25bb5bfa83",
        "IPY_MODEL_750e584ab480443f827060f1a18bfb95"
       ],
       "layout": "IPY_MODEL_8b4f4cbe7ded4958bd3404dee89cb557"
      }
     },
     "07cfcee580ff42ddb13cb2d83571b28b": {
      "model_module": "@jupyter-widgets/base",
      "model_module_version": "1.2.0",
      "model_name": "LayoutModel",
      "state": {
       "grid_area": "label",
       "width": "auto"
      }
     },
     "08001870a0f541a48375c95e91a10a50": {
      "model_module": "@jupyter-widgets/output",
      "model_module_version": "1.0.0",
      "model_name": "OutputModel",
      "state": {
       "layout": "IPY_MODEL_51abd5e1dc774e5c8000cb5997f36d26",
       "outputs": [
        {
         "data": {},
         "metadata": {},
         "output_type": "display_data"
        }
       ]
      }
     },
     "085f9b156c164405a4ce55634e8bd283": {
      "model_module": "@jupyter-widgets/base",
      "model_module_version": "1.2.0",
      "model_name": "LayoutModel",
      "state": {
       "grid_area": "description",
       "width": "auto"
      }
     },
     "086892e57cc44d7b8467699e3bd4aea2": {
      "model_module": "@jupyter-widgets/controls",
      "model_module_version": "1.5.0",
      "model_name": "VBoxModel",
      "state": {
       "_dom_classes": [
        "widget-interact"
       ],
       "children": [
        "IPY_MODEL_f8a4fe0d6cc34c8ca024df1a7d541fc9",
        "IPY_MODEL_05f4f0465a9e43609e58d1602cf6914d",
        "IPY_MODEL_2eac6c24f064428ea6628d528f37ec41",
        "IPY_MODEL_727271cbc985421ab95614c4b20b8a20",
        "IPY_MODEL_f268af851f4a4309967efde103f43f44"
       ],
       "layout": "IPY_MODEL_d8666b33939e4f709af82a0c4183eee6"
      }
     },
     "08d5ced989c141b2b054be84933a44bb": {
      "model_module": "@jupyter-widgets/base",
      "model_module_version": "1.2.0",
      "model_name": "LayoutModel",
      "state": {
       "grid_area": "description",
       "width": "auto"
      }
     },
     "08e91102465d4f5d94a997696d68759d": {
      "model_module": "@jupyter-widgets/output",
      "model_module_version": "1.0.0",
      "model_name": "OutputModel",
      "state": {
       "layout": "IPY_MODEL_ed73009b17ff4fbb9328b1254c8b8cb7",
       "outputs": [
        {
         "data": {},
         "metadata": {},
         "output_type": "display_data"
        }
       ]
      }
     },
     "0a25ff24553b4820938c33d774db21f5": {
      "model_module": "@jupyter-widgets/controls",
      "model_module_version": "1.5.0",
      "model_name": "TextModel",
      "state": {
       "_dom_classes": [
        "nbtools-menu-attached"
       ],
       "layout": "IPY_MODEL_8d5349ee5b4940f9bba503bed57007ab",
       "style": "IPY_MODEL_b8e1297bbf514a9f9a429b1dfee87a5b"
      }
     },
     "0b545c2193214bfba1995e7ad459e9f8": {
      "model_module": "@jupyter-widgets/base",
      "model_module_version": "1.2.0",
      "model_name": "LayoutModel",
      "state": {}
     },
     "0c508d242d794ba7831191213dfe9e2e": {
      "model_module": "@jupyter-widgets/controls",
      "model_module_version": "1.5.0",
      "model_name": "TextModel",
      "state": {
       "_dom_classes": [
        "nbtools-menu-attached",
        "nbtools-nosendto"
       ],
       "layout": "IPY_MODEL_3b48293dacb7438a9b1120d61f4e2b8b",
       "style": "IPY_MODEL_e08527d1332f457d947e319af6238f58"
      }
     },
     "0de7ec7c49454a32b6ade14840e76678": {
      "model_module": "@jupyter-widgets/controls",
      "model_module_version": "1.5.0",
      "model_name": "VBoxModel",
      "state": {
       "_dom_classes": [
        "widget-interact"
       ],
       "children": [
        "IPY_MODEL_5ebe828a703c41c6bfcd1cd90101cb8b",
        "IPY_MODEL_48ec075701584db6a7c4b599168b4eb9",
        "IPY_MODEL_5f363429d86f4825b1e1f1cd808c7952"
       ],
       "layout": "IPY_MODEL_27845435e18d4398b799db14c444960b"
      }
     },
     "0e962b5f896944f98e7320847d0ac84c": {
      "model_module": "@jupyter-widgets/controls",
      "model_module_version": "1.5.0",
      "model_name": "FileUploadModel",
      "state": {
       "accept": "._s.odf",
       "description_tooltip": null,
       "layout": "IPY_MODEL_3c701bea821a4c68828a976f977030a9",
       "style": "IPY_MODEL_fa6da36e97b040e3b7cbb80f45e4b2e3"
      }
     },
     "0e9ad95d23374d8bb798a248c94100fa": {
      "model_module": "@jupyter-widgets/controls",
      "model_module_version": "1.5.0",
      "model_name": "LabelModel",
      "state": {
       "description": "Password",
       "layout": "IPY_MODEL_84f89887a2ae454cb25f7a84e0f0b74a",
       "style": "IPY_MODEL_a811322f119f480aa908560df841f4c4",
       "value": "Password*"
      }
     },
     "0eb4ac3515584f4ca1d55844a342b8d0": {
      "model_module": "@jupyter-widgets/controls",
      "model_module_version": "1.5.0",
      "model_name": "HBoxModel",
      "state": {
       "children": [
        "IPY_MODEL_7fcbe22e47e34408bb701e9e2db29edc",
        "IPY_MODEL_a59bc66852cc4e9cb01ee1a2590de913"
       ],
       "layout": "IPY_MODEL_121b9c3d1ba44144bc0be7967812cdf9"
      }
     },
     "0fb4214a724b4532bffc13ee706cb284": {
      "model_module": "@jupyter-widgets/controls",
      "model_module_version": "1.5.0",
      "model_name": "ButtonModel",
      "state": {
       "_dom_classes": [
        "hidden"
       ],
       "description": "Run",
       "layout": "IPY_MODEL_b17d45a8a7cf43f285dc65bbecf83132",
       "style": "IPY_MODEL_fd12c4b10c8d4eb8b66ddb7650e98dab"
      }
     },
     "121b9c3d1ba44144bc0be7967812cdf9": {
      "model_module": "@jupyter-widgets/base",
      "model_module_version": "1.2.0",
      "model_name": "LayoutModel",
      "state": {
       "grid_area": "input",
       "width": "auto"
      }
     },
     "1234970f59e7402b8c51f21c0472b3c2": {
      "model_module": "@jupyter-widgets/controls",
      "model_module_version": "1.5.0",
      "model_name": "ButtonStyleModel",
      "state": {}
     },
     "128b51c91ff844faba353174ebddabb0": {
      "model_module": "@jupyter-widgets/controls",
      "model_module_version": "1.5.0",
      "model_name": "LabelModel",
      "state": {
       "description": "output variable",
       "layout": "IPY_MODEL_e1dce13304fc4d3fb4b00aa37752eb37",
       "style": "IPY_MODEL_42b05ff6a6f74fc6b1246e49468a8d62",
       "value": "output variable"
      }
     },
     "13ab9848a44248d0ba844a054eea92ad": {
      "model_module": "@jupyter-widgets/controls",
      "model_module_version": "1.5.0",
      "model_name": "DescriptionStyleModel",
      "state": {
       "description_width": ""
      }
     },
     "150f5f3e062948f3b4097fccf5eae5e0": {
      "model_module": "@jupyter-widgets/controls",
      "model_module_version": "1.5.0",
      "model_name": "ButtonModel",
      "state": {
       "_dom_classes": [
        "hidden"
       ],
       "description": "Run",
       "layout": "IPY_MODEL_f37049d22a8146f9a14a4c2ff0a18160",
       "style": "IPY_MODEL_de82a0b7f1054ca3b17ca50e43e9b386"
      }
     },
     "15248f47cf6b454aa05cd5477dd913b0": {
      "model_module": "@jupyter-widgets/base",
      "model_module_version": "1.2.0",
      "model_name": "LayoutModel",
      "state": {}
     },
     "15abfdcf232e4190a866f2b83afa84d7": {
      "model_module": "@jupyter-widgets/base",
      "model_module_version": "1.2.0",
      "model_name": "LayoutModel",
      "state": {}
     },
     "166039ec0c89463ab6b418be95678b63": {
      "model_module": "@jupyter-widgets/controls",
      "model_module_version": "1.5.0",
      "model_name": "LabelModel",
      "state": {
       "description": "output variable",
       "layout": "IPY_MODEL_07cfcee580ff42ddb13cb2d83571b28b",
       "style": "IPY_MODEL_2212465f86ce48cea85359bbf69e4bad",
       "value": "output variable"
      }
     },
     "166cf4f9af1d419e8aad6832da7a24a7": {
      "model_module": "@jupyter-widgets/controls",
      "model_module_version": "1.5.0",
      "model_name": "LabelModel",
      "state": {
       "description": "indices",
       "layout": "IPY_MODEL_b1c7013b51e7458590396efac2a29f8a",
       "style": "IPY_MODEL_c953fea9749b47c39bbdeef9611ca0a7",
       "value": "indices"
      }
     },
     "18395986e00e42ff96188fd4dc510ce2": {
      "model_module": "@jupyter-widgets/controls",
      "model_module_version": "1.5.0",
      "model_name": "DescriptionStyleModel",
      "state": {
       "description_width": ""
      }
     },
     "1947cf002e0d4f70a8ac56c4c707c6dc": {
      "model_module": "@jupyter-widgets/output",
      "model_module_version": "1.0.0",
      "model_name": "OutputModel",
      "state": {
       "layout": "IPY_MODEL_a7048903d79141fd8203efbf47694685"
      }
     },
     "1c18c4683f47425c809fc8635603ebf8": {
      "model_module": "@jupyter-widgets/controls",
      "model_module_version": "1.5.0",
      "model_name": "GridBoxModel",
      "state": {
       "_dom_classes": [
        "nbtools-input",
        "nbtools-textinput"
       ],
       "children": [
        "IPY_MODEL_166039ec0c89463ab6b418be95678b63",
        "IPY_MODEL_f472b82bb4924abdbdfd7d1aa532343e",
        "IPY_MODEL_b492be8c54bd4a01a157457ce029941f"
       ],
       "layout": "IPY_MODEL_928275d5bc3d438fa4dc058604ab1519"
      }
     },
     "1dc3c0dbe8334744b9ec2dbb731818fa": {
      "model_module": "@jupyter-widgets/controls",
      "model_module_version": "1.5.0",
      "model_name": "FileUploadModel",
      "state": {
       "description_tooltip": null,
       "layout": "IPY_MODEL_231f8fda5bf14a25841c9c67756e7efe",
       "style": "IPY_MODEL_ab1fcea8123144be835c933387993d74"
      }
     },
     "1ea5b480f39c4883a24da784350f468a": {
      "model_module": "@jupyter-widgets/base",
      "model_module_version": "1.2.0",
      "model_name": "LayoutModel",
      "state": {
       "grid_area": "description",
       "width": "auto"
      }
     },
     "1f38894b0d8941688116a0ad1e567e39": {
      "model_module": "@jupyter-widgets/controls",
      "model_module_version": "1.5.0",
      "model_name": "ButtonStyleModel",
      "state": {}
     },
     "1fb25017792644989c53066e3ba28ec0": {
      "model_module": "@jupyter-widgets/controls",
      "model_module_version": "1.5.0",
      "model_name": "DescriptionStyleModel",
      "state": {
       "description_width": ""
      }
     },
     "200a1fe7706f4cb28c8be8f706e389fd": {
      "model_module": "@jupyter-widgets/base",
      "model_module_version": "1.2.0",
      "model_name": "LayoutModel",
      "state": {
       "grid_area": "input",
       "width": "auto"
      }
     },
     "2115d0c5a2f2437991a1138cf2fe7b0a": {
      "model_module": "@jupyter-widgets/controls",
      "model_module_version": "1.5.0",
      "model_name": "GridBoxModel",
      "state": {
       "_dom_classes": [
        "nbtools-input",
        "nbtools-passwordinput",
        "required"
       ],
       "children": [
        "IPY_MODEL_0e9ad95d23374d8bb798a248c94100fa",
        "IPY_MODEL_aafba32e01044690a89d6bd3b5cd01a6",
        "IPY_MODEL_00c9de3743744d4d9cb70fc6ec9d3ae6"
       ],
       "layout": "IPY_MODEL_ba42cb0bb4464ec495606006bf1f3c6d"
      }
     },
     "21a1f39111c240f9908f3690ec8a7798": {
      "model_module": "@jupyter-widgets/controls",
      "model_module_version": "1.5.0",
      "model_name": "DescriptionStyleModel",
      "state": {
       "description_width": ""
      }
     },
     "2212465f86ce48cea85359bbf69e4bad": {
      "model_module": "@jupyter-widgets/controls",
      "model_module_version": "1.5.0",
      "model_name": "DescriptionStyleModel",
      "state": {
       "description_width": ""
      }
     },
     "231f8fda5bf14a25841c9c67756e7efe": {
      "model_module": "@jupyter-widgets/base",
      "model_module_version": "1.2.0",
      "model_name": "LayoutModel",
      "state": {}
     },
     "2321621e1efb4842996ae9e462cf2a2f": {
      "model_module": "@jupyter-widgets/base",
      "model_module_version": "1.2.0",
      "model_name": "LayoutModel",
      "state": {}
     },
     "2398b82abe21429b9a9198c47ca2bc4c": {
      "model_module": "@jupyter-widgets/controls",
      "model_module_version": "1.5.0",
      "model_name": "DescriptionStyleModel",
      "state": {
       "description_width": ""
      }
     },
     "23f9f55aa0d449d5a18581952997ea83": {
      "model_module": "@jupyter-widgets/controls",
      "model_module_version": "1.5.0",
      "model_name": "TextModel",
      "state": {
       "_dom_classes": [
        "nbtools-menu-attached"
       ],
       "layout": "IPY_MODEL_9b3c30b3486b4f02a4f53d623f1216e2",
       "style": "IPY_MODEL_b779fe6039ca4ce694f83b33ebd4c486"
      }
     },
     "24a870ed52294db997f366fc1bdd6de2": {
      "model_module": "@jupyter-widgets/controls",
      "model_module_version": "1.5.0",
      "model_name": "DescriptionStyleModel",
      "state": {
       "description_width": ""
      }
     },
     "24af94a0ef7d46a6b4b3fda9cc905075": {
      "model_module": "@jupyter-widgets/base",
      "model_module_version": "1.2.0",
      "model_name": "LayoutModel",
      "state": {
       "grid_area": "description",
       "width": "auto"
      }
     },
     "24b236f046c944e5b1f8c96a5ee5f81a": {
      "model_module": "@jupyter-widgets/controls",
      "model_module_version": "1.5.0",
      "model_name": "GridBoxModel",
      "state": {
       "_dom_classes": [
        "nbtools-input",
        "nbtools-fileinput",
        "required"
       ],
       "children": [
        "IPY_MODEL_43b81dea70b54ac4a2e0f9da9e86537e",
        "IPY_MODEL_0eb4ac3515584f4ca1d55844a342b8d0",
        "IPY_MODEL_c080fc69313547ccb948c9c4b50318af"
       ],
       "layout": "IPY_MODEL_53750b717f524b3ea8c7e5a19e8abe02"
      }
     },
     "2596449668ba4f77804886219534058e": {
      "model_module": "@jupyter-widgets/controls",
      "model_module_version": "1.5.0",
      "model_name": "DescriptionStyleModel",
      "state": {
       "description_width": ""
      }
     },
     "2746edeeb41346788b610a0308eed576": {
      "model_module": "@jupyter-widgets/controls",
      "model_module_version": "1.5.0",
      "model_name": "LabelModel",
      "state": {
       "layout": "IPY_MODEL_1ea5b480f39c4883a24da784350f468a",
       "style": "IPY_MODEL_464f966c3ccf4f119e2116a757560c8c"
      }
     },
     "27845435e18d4398b799db14c444960b": {
      "model_module": "@jupyter-widgets/base",
      "model_module_version": "1.2.0",
      "model_name": "LayoutModel",
      "state": {}
     },
     "2830e9f9e4224793af1c8738ca11b1b2": {
      "model_module": "@jupyter-widgets/controls",
      "model_module_version": "1.5.0",
      "model_name": "ComboboxModel",
      "state": {
       "_dom_classes": [
        "nbtools-menu-attached"
       ],
       "choices": {},
       "ensure_option": false,
       "kinds": [
        "_s.odf"
       ],
       "layout": "IPY_MODEL_3ee40c2c22764603a19f33bef6ffede4",
       "style": "IPY_MODEL_c0fd2b85727f4cd69467918483986387"
      }
     },
     "283b93f2645c4e3eb477702c62531e32": {
      "model_module": "@jupyter-widgets/controls",
      "model_module_version": "1.5.0",
      "model_name": "LabelModel",
      "state": {
       "layout": "IPY_MODEL_950eee823c914ce5a969ec914ae5b8d1",
       "style": "IPY_MODEL_d8870748dd7647cfa752e0a0d918425c"
      }
     },
     "29d7b155367f4b6a87b293c80d578258": {
      "model_module": "@jupyter-widgets/base",
      "model_module_version": "1.2.0",
      "model_name": "LayoutModel",
      "state": {}
     },
     "2ae6f350111342bebd5b2977e3d501de": {
      "model_module": "@jupyter-widgets/controls",
      "model_module_version": "1.5.0",
      "model_name": "LabelModel",
      "state": {
       "description": "Password",
       "layout": "IPY_MODEL_40577cc3d1fb42808a2bd17a750bce96",
       "style": "IPY_MODEL_db10b282abd743fb819b531573416164",
       "value": "Password*"
      }
     },
     "2e545f482bc24d2ead5ee58ec71531b8": {
      "model_module": "@jupyter-widgets/controls",
      "model_module_version": "1.5.0",
      "model_name": "ButtonStyleModel",
      "state": {}
     },
     "2eac6c24f064428ea6628d528f37ec41": {
      "model_module": "@jupyter-widgets/controls",
      "model_module_version": "1.5.0",
      "model_name": "GridBoxModel",
      "state": {
       "_dom_classes": [
        "nbtools-input",
        "nbtools-passwordinput",
        "required"
       ],
       "children": [
        "IPY_MODEL_2ae6f350111342bebd5b2977e3d501de",
        "IPY_MODEL_923aa2c6409a4832a6ce5d7852e59829",
        "IPY_MODEL_283b93f2645c4e3eb477702c62531e32"
       ],
       "layout": "IPY_MODEL_bc069d413677489cb3fae10aafb15426"
      }
     },
     "2f41aadf83594ef6b1eff309575e114a": {
      "model_module": "@jupyter-widgets/controls",
      "model_module_version": "1.5.0",
      "model_name": "DescriptionStyleModel",
      "state": {
       "description_width": ""
      }
     },
     "2fefc3972fb44991ae8d415e669d9bee": {
      "model_module": "@jupyter-widgets/controls",
      "model_module_version": "1.5.0",
      "model_name": "DescriptionStyleModel",
      "state": {
       "description_width": ""
      }
     },
     "3000820839204bad87d4ff37c1b5f217": {
      "model_module": "@jupyter-widgets/controls",
      "model_module_version": "1.5.0",
      "model_name": "GridBoxModel",
      "state": {
       "_dom_classes": [
        "nbtools-input",
        "nbtools-fileinput"
       ],
       "children": [
        "IPY_MODEL_166cf4f9af1d419e8aad6832da7a24a7",
        "IPY_MODEL_339e7b9ddc0547dca9169553084cfaa3",
        "IPY_MODEL_a273015f1d1d48289c108472fc4bcab2"
       ],
       "layout": "IPY_MODEL_454db3857cfd42a5bea8d8636dba7487"
      }
     },
     "31400bccac574b2d937d8192a789d10b": {
      "model_module": "@jupyter-widgets/controls",
      "model_module_version": "1.5.0",
      "model_name": "HBoxModel",
      "state": {
       "children": [
        "IPY_MODEL_0e962b5f896944f98e7320847d0ac84c",
        "IPY_MODEL_b07279988ea643bfb5eae517115c4736"
       ],
       "layout": "IPY_MODEL_91565310f2c94d718d108c96d6945c27"
      }
     },
     "3173e748c86f4b158378cf0d1fc298c6": {
      "model_module": "@jupyter-widgets/base",
      "model_module_version": "1.2.0",
      "model_name": "LayoutModel",
      "state": {
       "grid_area": "description",
       "width": "auto"
      }
     },
     "329ae33e94c74050ab1dd4c5b530464c": {
      "model_module": "@jupyter-widgets/controls",
      "model_module_version": "1.5.0",
      "model_name": "LabelModel",
      "state": {
       "description": "tracks",
       "layout": "IPY_MODEL_58a9184980b2495f9a58fb6daee5f40f",
       "style": "IPY_MODEL_97936f745c464157a203a095eb4d8fc2",
       "value": "tracks"
      }
     },
     "3356c2cddb5c4e46b7df29895c8312d8": {
      "model_module": "@jupyter-widgets/base",
      "model_module_version": "1.2.0",
      "model_name": "LayoutModel",
      "state": {
       "display": "none",
       "grid_template_areas": "\n                    \"label input\"\n                    \". description\"\n                ",
       "grid_template_columns": "25% 75%",
       "grid_template_rows": "auto auto",
       "width": "100%"
      }
     },
     "339e7b9ddc0547dca9169553084cfaa3": {
      "model_module": "@jupyter-widgets/controls",
      "model_module_version": "1.5.0",
      "model_name": "HBoxModel",
      "state": {
       "children": [
        "IPY_MODEL_93dec95ea52c45ba85de1ed27993dc60",
        "IPY_MODEL_446af6abc0bf44a98bc68a81e7403043"
       ],
       "layout": "IPY_MODEL_f8303608c8954948a167aa854ea288e9"
      }
     },
     "34470d0fa3414c4aa15639fe158e8dfa": {
      "model_module": "@jupyter-widgets/base",
      "model_module_version": "1.2.0",
      "model_name": "LayoutModel",
      "state": {
       "grid_area": "label",
       "width": "auto"
      }
     },
     "34a53949fb564428969bab52eaa95260": {
      "model_module": "@jupyter-widgets/controls",
      "model_module_version": "1.5.0",
      "model_name": "LabelModel",
      "state": {
       "description": "Enter the URL to the track dataset(s)",
       "layout": "IPY_MODEL_3173e748c86f4b158378cf0d1fc298c6",
       "style": "IPY_MODEL_ee51d0a904f740139c286f5073e8e64c",
       "value": "Enter the URL to the track dataset(s)"
      }
     },
     "3596e4567ad04a1bab4b0e16cf63ce2b": {
      "model_module": "@jupyter-widgets/controls",
      "model_module_version": "1.5.0",
      "model_name": "VBoxModel",
      "state": {
       "layout": "IPY_MODEL_f181ddf439e04a85ac9f55bed73d8dc1"
      }
     },
     "3651ce60bb274c088329d59b0b788c19": {
      "model_module": "@jupyter-widgets/controls",
      "model_module_version": "1.5.0",
      "model_name": "LabelModel",
      "state": {
       "description": "output variable",
       "layout": "IPY_MODEL_af8a9c914b8b41bb915012386ee94fb2",
       "style": "IPY_MODEL_a62eb8e226914cd3956dd9b79ca8fd05",
       "value": "output variable"
      }
     },
     "373e67d7a6fc41678b35228304abe6b3": {
      "model_module": "@jupyter-widgets/controls",
      "model_module_version": "1.5.0",
      "model_name": "DescriptionStyleModel",
      "state": {
       "description_width": ""
      }
     },
     "37856480043c4b73946059f904236a35": {
      "model_module": "@jupyter-widgets/controls",
      "model_module_version": "1.5.0",
      "model_name": "LabelModel",
      "state": {
       "description": "genome",
       "layout": "IPY_MODEL_8e224d320b1a44fba0aa0cf6837bc82c",
       "style": "IPY_MODEL_2fefc3972fb44991ae8d415e669d9bee",
       "value": "genome*"
      }
     },
     "39ca8219eec6450192658d35d993bffe": {
      "model_module": "@jupyter-widgets/base",
      "model_module_version": "1.2.0",
      "model_name": "LayoutModel",
      "state": {
       "display": "none",
       "grid_template_areas": "\n                    \"label input\"\n                    \". description\"\n                ",
       "grid_template_columns": "25% 75%",
       "grid_template_rows": "auto auto",
       "width": "100%"
      }
     },
     "3a35f12a7ab142dfbcda28c75aef5633": {
      "model_module": "@jupyter-widgets/controls",
      "model_module_version": "1.5.0",
      "model_name": "VBoxModel",
      "state": {
       "_dom_classes": [
        "widget-interact"
       ],
       "children": [
        "IPY_MODEL_ef6eaac00cf24e57b45f9e318b0c3495",
        "IPY_MODEL_3b1bb2323269496fafbfb3ff3a022ae3"
       ],
       "layout": "IPY_MODEL_3cb1b02652654b48ac7bf7ab42c094aa"
      }
     },
     "3a8bdf4973f44f78aa509cb97f557910": {
      "model_module": "@jupyter-widgets/controls",
      "model_module_version": "1.5.0",
      "model_name": "TextModel",
      "state": {
       "_dom_classes": [
        "nbtools-menu-attached"
       ],
       "layout": "IPY_MODEL_e408fd9e887c4487bb0afa6d68b43a4c",
       "style": "IPY_MODEL_e136682109da4fa48f77d93f265fd5e2"
      }
     },
     "3b1bb2323269496fafbfb3ff3a022ae3": {
      "model_module": "@jupyter-widgets/output",
      "model_module_version": "1.0.0",
      "model_name": "OutputModel",
      "state": {
       "layout": "IPY_MODEL_a3874e81c5c744cb971f32728e68d8cc"
      }
     },
     "3b48293dacb7438a9b1120d61f4e2b8b": {
      "model_module": "@jupyter-widgets/base",
      "model_module_version": "1.2.0",
      "model_name": "LayoutModel",
      "state": {
       "grid_area": "input",
       "width": "auto"
      }
     },
     "3bf9b54cc82946f896f91f6b942451cd": {
      "model_module": "@jupyter-widgets/base",
      "model_module_version": "1.2.0",
      "model_name": "LayoutModel",
      "state": {}
     },
     "3c701bea821a4c68828a976f977030a9": {
      "model_module": "@jupyter-widgets/base",
      "model_module_version": "1.2.0",
      "model_name": "LayoutModel",
      "state": {}
     },
     "3ca1af4222e94b95b51a781c87012e4c": {
      "model_module": "@jupyter-widgets/controls",
      "model_module_version": "1.5.0",
      "model_name": "DescriptionStyleModel",
      "state": {
       "description_width": ""
      }
     },
     "3cb1b02652654b48ac7bf7ab42c094aa": {
      "model_module": "@jupyter-widgets/base",
      "model_module_version": "1.2.0",
      "model_name": "LayoutModel",
      "state": {}
     },
     "3d01d141c9614e6a89d7e04378ea342f": {
      "model_module": "@jupyter-widgets/controls",
      "model_module_version": "1.5.0",
      "model_name": "LabelModel",
      "state": {
       "description": "Username",
       "layout": "IPY_MODEL_99a86d0d511944bb8f4617f47c23bd77",
       "style": "IPY_MODEL_650592912f604c5384ef0a59559da7c5",
       "value": "Username*"
      }
     },
     "3ee40c2c22764603a19f33bef6ffede4": {
      "model_module": "@jupyter-widgets/base",
      "model_module_version": "1.2.0",
      "model_name": "LayoutModel",
      "state": {}
     },
     "3fc3182444124a24ba3d401423280ef4": {
      "model_module": "@jupyter-widgets/controls",
      "model_module_version": "1.5.0",
      "model_name": "DescriptionStyleModel",
      "state": {
       "description_width": ""
      }
     },
     "40350de2b0c34e4e9ba841d616cc2a21": {
      "model_module": "@jupyter-widgets/controls",
      "model_module_version": "1.5.0",
      "model_name": "DescriptionStyleModel",
      "state": {
       "description_width": ""
      }
     },
     "40577cc3d1fb42808a2bd17a750bce96": {
      "model_module": "@jupyter-widgets/base",
      "model_module_version": "1.2.0",
      "model_name": "LayoutModel",
      "state": {
       "grid_area": "label",
       "width": "auto"
      }
     },
     "40a0eae7ff1d47e59943a55bfcd8eb82": {
      "model_module": "@jupyter-widgets/output",
      "model_module_version": "1.0.0",
      "model_name": "OutputModel",
      "state": {
       "layout": "IPY_MODEL_cd04e327158d46ddab7cf6d2d491a76b"
      }
     },
     "413d7081f8a149e6ae93a9698c59a1da": {
      "model_module": "@jupyter-widgets/controls",
      "model_module_version": "1.5.0",
      "model_name": "DescriptionStyleModel",
      "state": {
       "description_width": ""
      }
     },
     "41788842eaff4bb6a687246e873fa460": {
      "model_module": "@jupyter-widgets/base",
      "model_module_version": "1.2.0",
      "model_name": "LayoutModel",
      "state": {
       "grid_area": "label",
       "width": "auto"
      }
     },
     "426c36f8770044ef96bd81963cb53ed6": {
      "model_module": "@jupyter-widgets/base",
      "model_module_version": "1.2.0",
      "model_name": "LayoutModel",
      "state": {}
     },
     "42b05ff6a6f74fc6b1246e49468a8d62": {
      "model_module": "@jupyter-widgets/controls",
      "model_module_version": "1.5.0",
      "model_name": "DescriptionStyleModel",
      "state": {
       "description_width": ""
      }
     },
     "430c0969aab248d5811e4adb8a1a7cf2": {
      "model_module": "@jupyter-widgets/output",
      "model_module_version": "1.0.0",
      "model_name": "OutputModel",
      "state": {
       "layout": "IPY_MODEL_713627cc17a34f88aaeef650ea8adaef"
      }
     },
     "43a02a6ba55841549f9133b2d7382bd4": {
      "model_module": "@jupyter-widgets/output",
      "model_module_version": "1.0.0",
      "model_name": "OutputModel",
      "state": {
       "layout": "IPY_MODEL_9684cbed69284ecabb698ebf7223ab1c"
      }
     },
     "43ae99c42e8f4a7da4009cb811f069f3": {
      "model_module": "@jupyter-widgets/base",
      "model_module_version": "1.2.0",
      "model_name": "LayoutModel",
      "state": {
       "grid_area": "input",
       "width": "auto"
      }
     },
     "43b81dea70b54ac4a2e0f9da9e86537e": {
      "model_module": "@jupyter-widgets/controls",
      "model_module_version": "1.5.0",
      "model_name": "LabelModel",
      "state": {
       "description": "bar",
       "layout": "IPY_MODEL_b0d77710deef4fd7a5057f2074403d64",
       "style": "IPY_MODEL_21a1f39111c240f9908f3690ec8a7798",
       "value": "bar*"
      }
     },
     "43c0ca149c4d45329018c2f333156332": {
      "model_module": "@jupyter-widgets/controls",
      "model_module_version": "1.5.0",
      "model_name": "DescriptionStyleModel",
      "state": {
       "description_width": ""
      }
     },
     "446af6abc0bf44a98bc68a81e7403043": {
      "model_module": "@jupyter-widgets/controls",
      "model_module_version": "1.5.0",
      "model_name": "VBoxModel",
      "state": {
       "children": [
        "IPY_MODEL_c46515bd971b4f34b6f3da1b9930676e",
        "IPY_MODEL_f9e58995e3b640cab8cb2331e2fd910d"
       ],
       "layout": "IPY_MODEL_890f20f1afde45049497e081a17349e5"
      }
     },
     "4476af46b39c41659f67caab30fc720e": {
      "model_module": "@jupyter-widgets/base",
      "model_module_version": "1.2.0",
      "model_name": "LayoutModel",
      "state": {}
     },
     "454db3857cfd42a5bea8d8636dba7487": {
      "model_module": "@jupyter-widgets/base",
      "model_module_version": "1.2.0",
      "model_name": "LayoutModel",
      "state": {
       "grid_template_areas": "\n                    \"label input\"\n                    \". description\"\n                ",
       "grid_template_columns": "25% 75%",
       "grid_template_rows": "auto auto",
       "width": "100%"
      }
     },
     "4575e0b75abd48a88796ad6f2a0cfdc9": {
      "model_module": "@jupyter-widgets/base",
      "model_module_version": "1.2.0",
      "model_name": "LayoutModel",
      "state": {
       "grid_area": "description",
       "width": "auto"
      }
     },
     "464f966c3ccf4f119e2116a757560c8c": {
      "model_module": "@jupyter-widgets/controls",
      "model_module_version": "1.5.0",
      "model_name": "DescriptionStyleModel",
      "state": {
       "description_width": ""
      }
     },
     "477f45321c6a499d9206ec6e30c9a0c2": {
      "model_module": "@jupyter-widgets/controls",
      "model_module_version": "1.5.0",
      "model_name": "LabelModel",
      "state": {
       "layout": "IPY_MODEL_05a7202b6254453ca362760b4917dad4",
       "style": "IPY_MODEL_552800c03d6047f79876238d099fc730"
      }
     },
     "48ec075701584db6a7c4b599168b4eb9": {
      "model_module": "@jupyter-widgets/controls",
      "model_module_version": "1.5.0",
      "model_name": "ButtonModel",
      "state": {
       "_dom_classes": [
        "hidden"
       ],
       "description": "Run",
       "layout": "IPY_MODEL_4d87f04e84a143289354c23694cea9ad",
       "style": "IPY_MODEL_1234970f59e7402b8c51f21c0472b3c2"
      }
     },
     "49280b5ec0ba4b5d95aec7dae8d96c18": {
      "model_module": "@jupyter-widgets/controls",
      "model_module_version": "1.5.0",
      "model_name": "DescriptionStyleModel",
      "state": {
       "description_width": ""
      }
     },
     "4aff37a79b1b450b998d80e8c5c64de2": {
      "model_module": "@jupyter-widgets/base",
      "model_module_version": "1.2.0",
      "model_name": "LayoutModel",
      "state": {
       "grid_area": "input",
       "width": "auto"
      }
     },
     "4d87f04e84a143289354c23694cea9ad": {
      "model_module": "@jupyter-widgets/base",
      "model_module_version": "1.2.0",
      "model_name": "LayoutModel",
      "state": {}
     },
     "4ed0739846134a9ba3b0558dc23b96ea": {
      "model_module": "@jupyter-widgets/base",
      "model_module_version": "1.2.0",
      "model_name": "LayoutModel",
      "state": {
       "grid_template_areas": "\n                    \"label input\"\n                    \". description\"\n                ",
       "grid_template_columns": "25% 75%",
       "grid_template_rows": "auto auto",
       "width": "100%"
      }
     },
     "4edfa412389348bf87859f0470aa4792": {
      "model_module": "@jupyter-widgets/base",
      "model_module_version": "1.2.0",
      "model_name": "LayoutModel",
      "state": {
       "grid_area": "label",
       "width": "auto"
      }
     },
     "4f53b58353c742f58989a2d10955ef60": {
      "model_module": "@jupyter-widgets/controls",
      "model_module_version": "1.5.0",
      "model_name": "ComboboxModel",
      "state": {
       "_dom_classes": [
        "nbtools-menu-attached"
       ],
       "choices": {
        "": "",
        "alignment": "alignment",
        "annotation": "annotation",
        "arc": "arc",
        "bedtype": "bedtype",
        "gwas": "gwas",
        "interaction": "interaction",
        "mut": "mut",
        "seg": "seg",
        "variant": "variant",
        "wig": "wig"
       },
       "ensure_option": false,
       "kinds": [],
       "layout": "IPY_MODEL_5a77715ea4dd4f0596f8951ab7aa491f",
       "style": "IPY_MODEL_60b629ad310e44a8b52060913fd1a3b2"
      }
     },
     "50374f8feeb243e2b7360ab774d6a8ca": {
      "model_module": "@jupyter-widgets/controls",
      "model_module_version": "1.5.0",
      "model_name": "DescriptionStyleModel",
      "state": {
       "description_width": ""
      }
     },
     "50d5c5cb58504a31b41fd8054ec562c0": {
      "model_module": "@jupyter-widgets/base",
      "model_module_version": "1.2.0",
      "model_name": "LayoutModel",
      "state": {}
     },
     "51abd5e1dc774e5c8000cb5997f36d26": {
      "model_module": "@jupyter-widgets/base",
      "model_module_version": "1.2.0",
      "model_name": "LayoutModel",
      "state": {}
     },
     "51c3600d69bc4481adbaa9a12cd049ce": {
      "model_module": "@jupyter-widgets/controls",
      "model_module_version": "1.5.0",
      "model_name": "LabelModel",
      "state": {
       "layout": "IPY_MODEL_7a725e7740a34cd9b9cc35aaf8d1bc03",
       "style": "IPY_MODEL_373e67d7a6fc41678b35228304abe6b3"
      }
     },
     "5201f9f6be3049a0876b8e543fc1cd33": {
      "model_module": "@jupyter-widgets/controls",
      "model_module_version": "1.5.0",
      "model_name": "ButtonModel",
      "state": {
       "_dom_classes": [
        "hidden"
       ],
       "description": "Run",
       "layout": "IPY_MODEL_d185e8aa640946b181f7b28715c7eb5f",
       "style": "IPY_MODEL_002d7c67a6384ad98e2930fea2dfd29c"
      }
     },
     "5204fbad8eda4747bc83751d229a3bbb": {
      "model_module": "@jupyter-widgets/controls",
      "model_module_version": "1.5.0",
      "model_name": "LabelModel",
      "state": {
       "description": "output variable",
       "layout": "IPY_MODEL_f7cd3daa619d47d89b3a5bef86fb52bc",
       "style": "IPY_MODEL_dccb8d35d14943a2bde570fced641a51",
       "value": "output variable"
      }
     },
     "5274220b59fc4d8ea61c8fdf4d9f1e6d": {
      "model_module": "@jupyter-widgets/controls",
      "model_module_version": "1.5.0",
      "model_name": "DescriptionStyleModel",
      "state": {
       "description_width": ""
      }
     },
     "53750b717f524b3ea8c7e5a19e8abe02": {
      "model_module": "@jupyter-widgets/base",
      "model_module_version": "1.2.0",
      "model_name": "LayoutModel",
      "state": {
       "grid_template_areas": "\n                    \"label input\"\n                    \". description\"\n                ",
       "grid_template_columns": "25% 75%",
       "grid_template_rows": "auto auto",
       "width": "100%"
      }
     },
     "53d3544d68e845cca81d6aca709dcedd": {
      "model_module": "@jupyter-widgets/controls",
      "model_module_version": "1.5.0",
      "model_name": "ButtonStyleModel",
      "state": {}
     },
     "547c97d40ceb4ccab90eade4e575debe": {
      "model_module": "@jupyter-widgets/base",
      "model_module_version": "1.2.0",
      "model_name": "LayoutModel",
      "state": {}
     },
     "54d82cf82744435c87383603ee8da5fb": {
      "model_module": "@jupyter-widgets/base",
      "model_module_version": "1.2.0",
      "model_name": "LayoutModel",
      "state": {
       "grid_area": "description",
       "width": "auto"
      }
     },
     "552800c03d6047f79876238d099fc730": {
      "model_module": "@jupyter-widgets/controls",
      "model_module_version": "1.5.0",
      "model_name": "DescriptionStyleModel",
      "state": {
       "description_width": ""
      }
     },
     "55cb4bdb39444160b461cc85b2d13be4": {
      "model_module": "@jupyter-widgets/base",
      "model_module_version": "1.2.0",
      "model_name": "LayoutModel",
      "state": {
       "grid_area": "description",
       "width": "auto"
      }
     },
     "56bfbbe22cb04fb1a6c402aa3fcceb07": {
      "model_module": "@genepattern/nbtools",
      "model_module_version": "^21.9.0-beta.1",
      "model_name": "UIBuilderModel",
      "state": {
       "_model_module_version": "^21.9.0-beta.1",
       "_parameters": [
        {
         "choices": {
          "GenePattern Cloud": "https://cloud.genepattern.org/gp"
         },
         "combo": true,
         "default": "https://cloud.genepattern.org/gp",
         "description": "",
         "events": null,
         "hide": false,
         "id": null,
         "kinds": null,
         "label": "GenePattern Server",
         "name": "server",
         "optional": false,
         "sendto": false,
         "type": "choice",
         "value": ""
        },
        {
         "choices": {},
         "default": "",
         "description": "",
         "events": null,
         "hide": false,
         "id": null,
         "kinds": null,
         "label": "Username",
         "name": "username",
         "optional": false,
         "sendto": false,
         "type": "text",
         "value": ""
        },
        {
         "choices": {},
         "default": "",
         "description": "",
         "events": null,
         "hide": false,
         "id": null,
         "kinds": null,
         "label": "Password",
         "name": "password",
         "optional": false,
         "sendto": false,
         "type": "password",
         "value": ""
        },
        {
         "choices": {},
         "default": "",
         "description": "",
         "events": null,
         "hide": true,
         "id": null,
         "kinds": null,
         "label": "output variable",
         "name": "output_var",
         "optional": true,
         "type": "text",
         "value": ""
        }
       ],
       "_view_module_version": "^21.9.0-beta.1",
       "buttons": {
        "Register an Account": "\n    const target = event.target;\n    const widget = target.closest('.nbtools') || target;\n    const server_input = widget.querySelector('input[type=text]');\n    if (server_input) window.open(server_input.value + '/pages/registerUser.jsf');\n    else console.warn('Cannot obtain GenePattern Server URL');"
       },
       "collapse": false,
       "color": "rgba(10, 45, 105, 0.8)",
       "description": "Login to the GenePattern server",
       "display_header": false,
       "events": {
        "load": "\n    const nameEQ = \"GenePattern=\";\n    const ca = document.cookie.split(';');\n    let cmatch = null;\n    for (let i = 0; i < ca.length; i++) {\n        let c = ca[i];\n        while (c.charAt(0) === ' ') c = c.substring(1, c.length);\n        if (c.indexOf(nameEQ) === 0) cmatch = c.substring(nameEQ.length, c.length)\n    }\n    if (cmatch === null) return;\n    const parts = cmatch.split(\"|\");\n    if (parts.length <= 1) return;\n    let [u, p] = [parts[0], atob(decodeURIComponent(parts[1]))];\n    this.widget_dialog({\n        'title': 'Log into GenePattern Server',\n        'body': 'You have already authenticated with GenePattern Cloud. Would you like to automatically sign in now?',\n        'button_label': 'Login',\n        'callback': () => {\n            this.model.get('form').get('children')[1].get('children')[1].set('value', u);\n            this.model.get('form').get('children')[1].get('children')[1].save();\n            this.model.get('form').get('children')[2].get('children')[1].set('value', p);\n            this.model.get('form').get('children')[2].get('children')[1].save();\n            this.element.querySelector(\"button.nbtools-run\").click();\n        }\n    });"
       },
       "form": "IPY_MODEL_9411cbd288224c3f8060635b0a2318dc",
       "layout": "IPY_MODEL_c0efa11d9a2f44dd8c497970b27cee93",
       "name": "Login",
       "origin": "genepattern.authwidget",
       "output": "IPY_MODEL_03b6567a80c2454d8219e2f7ae752175",
       "output_var": "",
       "run_label": "Log into GenePattern"
      }
     },
     "5796d79a371642c184e5d2c0deb8a135": {
      "model_module": "@jupyter-widgets/base",
      "model_module_version": "1.2.0",
      "model_name": "LayoutModel",
      "state": {
       "display": "none",
       "grid_template_areas": "\n                    \"label input\"\n                    \". description\"\n                ",
       "grid_template_columns": "25% 75%",
       "grid_template_rows": "auto auto",
       "width": "100%"
      }
     },
     "57fd8573b42a4207ad17b688047d8cfe": {
      "model_module": "@jupyter-widgets/controls",
      "model_module_version": "1.5.0",
      "model_name": "LabelModel",
      "state": {
       "description": "output variable",
       "layout": "IPY_MODEL_7d0a4b6eadd041b7a69984bcb4ef7809",
       "style": "IPY_MODEL_ded92a7e95804e9a8a0112810ffe53be",
       "value": "output variable"
      }
     },
     "58a9184980b2495f9a58fb6daee5f40f": {
      "model_module": "@jupyter-widgets/base",
      "model_module_version": "1.2.0",
      "model_name": "LayoutModel",
      "state": {
       "grid_area": "label",
       "width": "auto"
      }
     },
     "59acdfe09f8b4b6697df4016bd5c0720": {
      "model_module": "@jupyter-widgets/controls",
      "model_module_version": "1.5.0",
      "model_name": "DescriptionStyleModel",
      "state": {
       "description_width": ""
      }
     },
     "5a77715ea4dd4f0596f8951ab7aa491f": {
      "model_module": "@jupyter-widgets/base",
      "model_module_version": "1.2.0",
      "model_name": "LayoutModel",
      "state": {
       "grid_area": "input",
       "width": "auto"
      }
     },
     "5a84961e1adb49d4865459764a9aa8e2": {
      "model_module": "@jupyter-widgets/controls",
      "model_module_version": "1.5.0",
      "model_name": "DescriptionStyleModel",
      "state": {
       "description_width": ""
      }
     },
     "5b092652d4e946e8b9f976a092178284": {
      "model_module": "@jupyter-widgets/base",
      "model_module_version": "1.2.0",
      "model_name": "LayoutModel",
      "state": {
       "grid_area": "input",
       "width": "auto"
      }
     },
     "5c0ec75133b346e99f66d56e7f96e667": {
      "model_module": "@jupyter-widgets/controls",
      "model_module_version": "1.5.0",
      "model_name": "DescriptionStyleModel",
      "state": {
       "description_width": ""
      }
     },
     "5ebe828a703c41c6bfcd1cd90101cb8b": {
      "model_module": "@jupyter-widgets/controls",
      "model_module_version": "1.5.0",
      "model_name": "GridBoxModel",
      "state": {
       "_dom_classes": [
        "nbtools-input",
        "nbtools-fileinput",
        "required"
       ],
       "children": [
        "IPY_MODEL_a7b3ad58012f4def9ef4213997b64671",
        "IPY_MODEL_31400bccac574b2d937d8192a789d10b",
        "IPY_MODEL_696c93374bdf4ef49aa5e4a9c234a446"
       ],
       "layout": "IPY_MODEL_d11f89b29b7643178a41f6df25549ccb"
      }
     },
     "5f363429d86f4825b1e1f1cd808c7952": {
      "model_module": "@jupyter-widgets/controls",
      "model_module_version": "1.5.0",
      "model_name": "GridBoxModel",
      "state": {
       "_dom_classes": [
        "nbtools-input",
        "nbtools-textinput"
       ],
       "children": [
        "IPY_MODEL_5204fbad8eda4747bc83751d229a3bbb",
        "IPY_MODEL_0a25ff24553b4820938c33d774db21f5",
        "IPY_MODEL_51c3600d69bc4481adbaa9a12cd049ce"
       ],
       "layout": "IPY_MODEL_bb5bde2b836543578295b841243963ff"
      }
     },
     "5f8eab27bde14729b49fca65fae25196": {
      "model_module": "@jupyter-widgets/controls",
      "model_module_version": "1.5.0",
      "model_name": "LabelModel",
      "state": {
       "description": "Enter the type of the track datasets",
       "layout": "IPY_MODEL_df0fc9b3bc1a43c1933dae5f67eb4c10",
       "style": "IPY_MODEL_d4317a85f31a476c903bd190fb20ed69",
       "value": "Enter the type of the track datasets"
      }
     },
     "6075cfac06074424a511a2cf651e86ee": {
      "model_module": "@jupyter-widgets/base",
      "model_module_version": "1.2.0",
      "model_name": "LayoutModel",
      "state": {
       "grid_area": "input",
       "width": "auto"
      }
     },
     "6090aa2bfd694551837bfda8d6070647": {
      "model_module": "@jupyter-widgets/base",
      "model_module_version": "1.2.0",
      "model_name": "LayoutModel",
      "state": {}
     },
     "60b629ad310e44a8b52060913fd1a3b2": {
      "model_module": "@jupyter-widgets/controls",
      "model_module_version": "1.5.0",
      "model_name": "DescriptionStyleModel",
      "state": {
       "description_width": ""
      }
     },
     "6170316c0b96485aabce477ff840b65c": {
      "model_module": "@jupyter-widgets/controls",
      "model_module_version": "1.5.0",
      "model_name": "ButtonStyleModel",
      "state": {}
     },
     "625c0236202a4183b257e02c0cc9ff7b": {
      "model_module": "@jupyter-widgets/base",
      "model_module_version": "1.2.0",
      "model_name": "LayoutModel",
      "state": {
       "grid_template_areas": "\n                    \"label input\"\n                    \". description\"\n                ",
       "grid_template_columns": "25% 75%",
       "grid_template_rows": "auto auto",
       "width": "100%"
      }
     },
     "62bf96f9a95e49198bad8c6650034929": {
      "model_module": "@jupyter-widgets/controls",
      "model_module_version": "1.5.0",
      "model_name": "DescriptionStyleModel",
      "state": {
       "description_width": ""
      }
     },
     "63c3efafa3144614bca654bc495dacf7": {
      "model_module": "@jupyter-widgets/base",
      "model_module_version": "1.2.0",
      "model_name": "LayoutModel",
      "state": {
       "grid_template_areas": "\n                    \"label input\"\n                    \". description\"\n                ",
       "grid_template_columns": "25% 75%",
       "grid_template_rows": "auto auto",
       "width": "100%"
      }
     },
     "63d06779683140b28a41f92396c171ec": {
      "model_module": "@jupyter-widgets/controls",
      "model_module_version": "1.5.0",
      "model_name": "VBoxModel",
      "state": {
       "children": [
        "IPY_MODEL_03897155414442b2b59f8198f2bf970a",
        "IPY_MODEL_b112aeb919314005af3d74efe0aa8347"
       ],
       "layout": "IPY_MODEL_eb16354cece346efb17896a0f4fd8d00"
      }
     },
     "63f57a54a0864f3faf11f8131e2e5c0f": {
      "model_module": "@jupyter-widgets/controls",
      "model_module_version": "1.5.0",
      "model_name": "DescriptionStyleModel",
      "state": {
       "description_width": ""
      }
     },
     "646e616900db4a1c95e57e852c047bae": {
      "model_module": "@genepattern/nbtools",
      "model_module_version": "^21.9.0-beta.1",
      "model_name": "UIBuilderModel",
      "state": {
       "_model_module_version": "^21.9.0-beta.1",
       "_parameters": [
        {
         "choices": {
          "GenePattern Cloud": "https://cloud.genepattern.org/gp"
         },
         "combo": true,
         "default": "https://cloud.genepattern.org/gp",
         "description": "",
         "events": null,
         "hide": false,
         "id": null,
         "kinds": null,
         "label": "GenePattern Server",
         "name": "server",
         "optional": false,
         "sendto": false,
         "type": "choice",
         "value": ""
        },
        {
         "choices": {},
         "default": "",
         "description": "",
         "events": null,
         "hide": false,
         "id": null,
         "kinds": null,
         "label": "Username",
         "name": "username",
         "optional": false,
         "sendto": false,
         "type": "text",
         "value": ""
        },
        {
         "choices": {},
         "default": "",
         "description": "",
         "events": null,
         "hide": false,
         "id": null,
         "kinds": null,
         "label": "Password",
         "name": "password",
         "optional": false,
         "sendto": false,
         "type": "password",
         "value": ""
        },
        {
         "choices": {},
         "default": "",
         "description": "",
         "events": null,
         "hide": true,
         "id": null,
         "kinds": null,
         "label": "output variable",
         "name": "output_var",
         "optional": true,
         "type": "text",
         "value": ""
        }
       ],
       "_view_module_version": "^21.9.0-beta.1",
       "buttons": {
        "Register an Account": "\n    const target = event.target;\n    const widget = target.closest('.nbtools') || target;\n    const server_input = widget.querySelector('input[type=text]');\n    if (server_input) window.open(server_input.value + '/pages/registerUser.jsf');\n    else console.warn('Cannot obtain GenePattern Server URL');"
       },
       "collapse": false,
       "color": "rgba(10, 45, 105, 0.8)",
       "description": "Login to the GenePattern server",
       "display_header": false,
       "events": {
        "load": "\n    const nameEQ = \"GenePattern=\";\n    const ca = document.cookie.split(';');\n    let cmatch = null;\n    for (let i = 0; i < ca.length; i++) {\n        let c = ca[i];\n        while (c.charAt(0) === ' ') c = c.substring(1, c.length);\n        if (c.indexOf(nameEQ) === 0) cmatch = c.substring(nameEQ.length, c.length)\n    }\n    if (cmatch === null) return;\n    const parts = cmatch.split(\"|\");\n    if (parts.length <= 1) return;\n    let [u, p] = [parts[0], atob(decodeURIComponent(parts[1]))];\n    this.widget_dialog({\n        'title': 'Log into GenePattern Server',\n        'body': 'You have already authenticated with GenePattern Cloud. Would you like to automatically sign in now?',\n        'button_label': 'Login',\n        'callback': () => {\n            this.model.get('form').get('children')[1].get('children')[1].set('value', u);\n            this.model.get('form').get('children')[1].get('children')[1].save();\n            this.model.get('form').get('children')[2].get('children')[1].set('value', p);\n            this.model.get('form').get('children')[2].get('children')[1].save();\n            this.element.querySelector(\"button.nbtools-run\").click();\n        }\n    });"
       },
       "form": "IPY_MODEL_086892e57cc44d7b8467699e3bd4aea2",
       "layout": "IPY_MODEL_d1cfc4f55a6245b3950bfe67f68861b4",
       "name": "Login",
       "origin": "genepattern.authwidget",
       "output": "IPY_MODEL_430c0969aab248d5811e4adb8a1a7cf2",
       "output_var": "",
       "run_label": "Log into GenePattern"
      }
     },
     "64a1cc026d9545169e1cc0ed84cd0dc7": {
      "model_module": "@jupyter-widgets/controls",
      "model_module_version": "1.5.0",
      "model_name": "DescriptionStyleModel",
      "state": {
       "description_width": ""
      }
     },
     "650592912f604c5384ef0a59559da7c5": {
      "model_module": "@jupyter-widgets/controls",
      "model_module_version": "1.5.0",
      "model_name": "DescriptionStyleModel",
      "state": {
       "description_width": ""
      }
     },
     "696c93374bdf4ef49aa5e4a9c234a446": {
      "model_module": "@jupyter-widgets/controls",
      "model_module_version": "1.5.0",
      "model_name": "LabelModel",
      "state": {
       "layout": "IPY_MODEL_4575e0b75abd48a88796ad6f2a0cfdc9",
       "style": "IPY_MODEL_40350de2b0c34e4e9ba841d616cc2a21"
      }
     },
     "69ec31d083a348d9808ad42a01aa3fdd": {
      "model_module": "@jupyter-widgets/base",
      "model_module_version": "1.2.0",
      "model_name": "LayoutModel",
      "state": {
       "grid_area": "description",
       "width": "auto"
      }
     },
     "6a9353b8f753471fa32905290a28076c": {
      "model_module": "@jupyter-widgets/base",
      "model_module_version": "1.2.0",
      "model_name": "LayoutModel",
      "state": {
       "display": "none",
       "grid_template_areas": "\n                    \"label input\"\n                    \". description\"\n                ",
       "grid_template_columns": "25% 75%",
       "grid_template_rows": "auto auto",
       "width": "100%"
      }
     },
     "6b84b922e7f54da5ab2ad35ffa649233": {
      "model_module": "@jupyter-widgets/base",
      "model_module_version": "1.2.0",
      "model_name": "LayoutModel",
      "state": {}
     },
     "6be428d1fccd453e93cf35d8ac95144b": {
      "model_module": "@jupyter-widgets/base",
      "model_module_version": "1.2.0",
      "model_name": "LayoutModel",
      "state": {
       "grid_area": "label",
       "width": "auto"
      }
     },
     "6cb04e77f41243f8bd7a2bec24141214": {
      "model_module": "@jupyter-widgets/controls",
      "model_module_version": "1.5.0",
      "model_name": "DescriptionStyleModel",
      "state": {
       "description_width": ""
      }
     },
     "6d624ca6ac494d4bb049200eaef856d7": {
      "model_module": "@jupyter-widgets/controls",
      "model_module_version": "1.5.0",
      "model_name": "DescriptionStyleModel",
      "state": {
       "description_width": ""
      }
     },
     "6e3de23cfa7c44a2a980a54288f40650": {
      "model_module": "@jupyter-widgets/controls",
      "model_module_version": "1.5.0",
      "model_name": "VBoxModel",
      "state": {
       "_dom_classes": [
        "widget-interact"
       ],
       "children": [
        "IPY_MODEL_86012dceb628455f88782ea59fc6e22c",
        "IPY_MODEL_e6fa0d31ef4f479188f6f5c71d62b637",
        "IPY_MODEL_3000820839204bad87d4ff37c1b5f217",
        "IPY_MODEL_eaeba277da7541798f2ebfe1785a1c7a",
        "IPY_MODEL_d5617a3a6c364e208f70aa15fc26a9b4",
        "IPY_MODEL_888b4becdb9c4d0f932a290267e2d5c5",
        "IPY_MODEL_a226706664254e9980623279a27d7dcf",
        "IPY_MODEL_1c18c4683f47425c809fc8635603ebf8"
       ],
       "layout": "IPY_MODEL_0b545c2193214bfba1995e7ad459e9f8"
      }
     },
     "709422e42d1541148d2192ceaa5370dd": {
      "model_module": "@jupyter-widgets/controls",
      "model_module_version": "1.5.0",
      "model_name": "TextModel",
      "state": {
       "_dom_classes": [
        "nbtools-menu-attached"
       ],
       "layout": "IPY_MODEL_c5be80210d6c4f7f9ce14ffb9a8a188f",
       "style": "IPY_MODEL_2596449668ba4f77804886219534058e"
      }
     },
     "713627cc17a34f88aaeef650ea8adaef": {
      "model_module": "@jupyter-widgets/base",
      "model_module_version": "1.2.0",
      "model_name": "LayoutModel",
      "state": {}
     },
     "71bf3b79527544cc9c835fa65c4ff8bc": {
      "model_module": "@jupyter-widgets/output",
      "model_module_version": "1.0.0",
      "model_name": "OutputModel",
      "state": {
       "layout": "IPY_MODEL_00e4efa2eeec447bac9d0de9218e3993"
      }
     },
     "71fa81dbe0cd4f5f879860764daa2626": {
      "model_module": "@jupyter-widgets/base",
      "model_module_version": "1.2.0",
      "model_name": "LayoutModel",
      "state": {}
     },
     "726ba151ed55435a8df40f2854419e89": {
      "model_module": "@jupyter-widgets/base",
      "model_module_version": "1.2.0",
      "model_name": "LayoutModel",
      "state": {}
     },
     "727271cbc985421ab95614c4b20b8a20": {
      "model_module": "@jupyter-widgets/controls",
      "model_module_version": "1.5.0",
      "model_name": "ButtonModel",
      "state": {
       "_dom_classes": [
        "hidden"
       ],
       "description": "Run",
       "layout": "IPY_MODEL_c83c4f40504a49508f12db42d6324218",
       "style": "IPY_MODEL_53d3544d68e845cca81d6aca709dcedd"
      }
     },
     "743e3f64115b4aa285a2aeb443d3d8a1": {
      "model_module": "@jupyter-widgets/controls",
      "model_module_version": "1.5.0",
      "model_name": "GridBoxModel",
      "state": {
       "_dom_classes": [
        "nbtools-input",
        "nbtools-textinput"
       ],
       "children": [
        "IPY_MODEL_3651ce60bb274c088329d59b0b788c19",
        "IPY_MODEL_c49556f5a3be4810b1aa6d48057184c8",
        "IPY_MODEL_b0f1dbe633f14faa9969575625b0407e"
       ],
       "layout": "IPY_MODEL_da0bd30d044e4b3dbc6372e2c4fda828"
      }
     },
     "750e584ab480443f827060f1a18bfb95": {
      "model_module": "@jupyter-widgets/controls",
      "model_module_version": "1.5.0",
      "model_name": "LabelModel",
      "state": {
       "layout": "IPY_MODEL_7c15a14b69dc40acbb6b9475ec6d7d6b",
       "style": "IPY_MODEL_a47a8ac08a404003a1282c6e5a007873"
      }
     },
     "754ec487d764400a9500567030669eee": {
      "model_module": "@jupyter-widgets/base",
      "model_module_version": "1.2.0",
      "model_name": "LayoutModel",
      "state": {}
     },
     "77e4f2e63cf74917abe86f4f35e6807d": {
      "model_module": "@jupyter-widgets/output",
      "model_module_version": "1.0.0",
      "model_name": "OutputModel",
      "state": {
       "layout": "IPY_MODEL_99361bfe5a494052bcee686967da19cf"
      }
     },
     "7939a0b8f0784e33a7ecefacfc795e3a": {
      "model_module": "@jupyter-widgets/controls",
      "model_module_version": "1.5.0",
      "model_name": "LabelModel",
      "state": {
       "description": "Enter the format of the track datasets",
       "layout": "IPY_MODEL_69ec31d083a348d9808ad42a01aa3fdd",
       "style": "IPY_MODEL_13ab9848a44248d0ba844a054eea92ad",
       "value": "Enter the format of the track datasets"
      }
     },
     "7a725e7740a34cd9b9cc35aaf8d1bc03": {
      "model_module": "@jupyter-widgets/base",
      "model_module_version": "1.2.0",
      "model_name": "LayoutModel",
      "state": {
       "grid_area": "description",
       "width": "auto"
      }
     },
     "7be7334f49464308a58688002795f9f1": {
      "model_module": "@jupyter-widgets/controls",
      "model_module_version": "1.5.0",
      "model_name": "LabelModel",
      "state": {
       "layout": "IPY_MODEL_a0ba710281884152beeec4d28c68158b",
       "style": "IPY_MODEL_9be48feb338b49b09afca592d2e1ca21"
      }
     },
     "7c15a14b69dc40acbb6b9475ec6d7d6b": {
      "model_module": "@jupyter-widgets/base",
      "model_module_version": "1.2.0",
      "model_name": "LayoutModel",
      "state": {
       "grid_area": "description",
       "width": "auto"
      }
     },
     "7d0a4b6eadd041b7a69984bcb4ef7809": {
      "model_module": "@jupyter-widgets/base",
      "model_module_version": "1.2.0",
      "model_name": "LayoutModel",
      "state": {
       "grid_area": "label",
       "width": "auto"
      }
     },
     "7e08f5f8c82f4c1f812568fe530446d5": {
      "model_module": "@jupyter-widgets/base",
      "model_module_version": "1.2.0",
      "model_name": "LayoutModel",
      "state": {
       "grid_area": "label",
       "width": "auto"
      }
     },
     "7e11f185eb3b4eea8c1d290f1b57db76": {
      "model_module": "@jupyter-widgets/base",
      "model_module_version": "1.2.0",
      "model_name": "LayoutModel",
      "state": {
       "grid_area": "input",
       "width": "auto"
      }
     },
     "7ec9fda0ea104a80964c0bf89bd9ab43": {
      "model_module": "@jupyter-widgets/controls",
      "model_module_version": "1.5.0",
      "model_name": "DescriptionStyleModel",
      "state": {
       "description_width": ""
      }
     },
     "7f7529f4510b405f8d4c57abe8b2293e": {
      "model_module": "@jupyter-widgets/base",
      "model_module_version": "1.2.0",
      "model_name": "LayoutModel",
      "state": {}
     },
     "7fcbe22e47e34408bb701e9e2db29edc": {
      "model_module": "@jupyter-widgets/controls",
      "model_module_version": "1.5.0",
      "model_name": "FileUploadModel",
      "state": {
       "accept": "._s.odf",
       "description_tooltip": null,
       "layout": "IPY_MODEL_29d7b155367f4b6a87b293c80d578258",
       "style": "IPY_MODEL_1f38894b0d8941688116a0ad1e567e39"
      }
     },
     "80a8701338354e5ab96830e72bc66be8": {
      "model_module": "@jupyter-widgets/base",
      "model_module_version": "1.2.0",
      "model_name": "LayoutModel",
      "state": {
       "grid_area": "input",
       "width": "auto"
      }
     },
     "81518852b487411a9d938b49851d6e55": {
      "model_module": "@jupyter-widgets/controls",
      "model_module_version": "1.5.0",
      "model_name": "DescriptionStyleModel",
      "state": {
       "description_width": ""
      }
     },
     "819e198dd9354c7c9d32d653326e0e9d": {
      "model_module": "@jupyter-widgets/controls",
      "model_module_version": "1.5.0",
      "model_name": "DescriptionStyleModel",
      "state": {
       "description_width": ""
      }
     },
     "81eb66b49ce84da8b48ab4b5ac71b38d": {
      "model_module": "@jupyter-widgets/controls",
      "model_module_version": "1.5.0",
      "model_name": "HBoxModel",
      "state": {
       "children": [
        "IPY_MODEL_1dc3c0dbe8334744b9ec2dbb731818fa",
        "IPY_MODEL_63d06779683140b28a41f92396c171ec"
       ],
       "layout": "IPY_MODEL_80a8701338354e5ab96830e72bc66be8"
      }
     },
     "821b2e229dba49ee833d1d591ad1c8d7": {
      "model_module": "@jupyter-widgets/base",
      "model_module_version": "1.2.0",
      "model_name": "LayoutModel",
      "state": {}
     },
     "82577b2d514d4e86972411ec00e03258": {
      "model_module": "@jupyter-widgets/controls",
      "model_module_version": "1.5.0",
      "model_name": "DescriptionStyleModel",
      "state": {
       "description_width": ""
      }
     },
     "82ff5098eb8f446d9cadb1b3c6f769f2": {
      "model_module": "@jupyter-widgets/base",
      "model_module_version": "1.2.0",
      "model_name": "LayoutModel",
      "state": {
       "grid_template_areas": "\n                    \"label input\"\n                    \". description\"\n                ",
       "grid_template_columns": "25% 75%",
       "grid_template_rows": "auto auto",
       "width": "100%"
      }
     },
     "84f89887a2ae454cb25f7a84e0f0b74a": {
      "model_module": "@jupyter-widgets/base",
      "model_module_version": "1.2.0",
      "model_name": "LayoutModel",
      "state": {
       "grid_area": "label",
       "width": "auto"
      }
     },
     "859d44fa9048402f806d3978b9119b8f": {
      "model_module": "@jupyter-widgets/base",
      "model_module_version": "1.2.0",
      "model_name": "LayoutModel",
      "state": {
       "grid_area": "label",
       "width": "auto"
      }
     },
     "86012dceb628455f88782ea59fc6e22c": {
      "model_module": "@jupyter-widgets/controls",
      "model_module_version": "1.5.0",
      "model_name": "GridBoxModel",
      "state": {
       "_dom_classes": [
        "nbtools-input",
        "nbtools-comboinput",
        "required"
       ],
       "children": [
        "IPY_MODEL_37856480043c4b73946059f904236a35",
        "IPY_MODEL_8f8b699760ab4b60804d8a425bcc1a20",
        "IPY_MODEL_bdf09b85c56f4dd58b8257835559ccdd"
       ],
       "layout": "IPY_MODEL_fbe9c470d19a4c998b2a143f1b683936"
      }
     },
     "871cf5da9f94471c817bdf5ab6259116": {
      "model_module": "@jupyter-widgets/controls",
      "model_module_version": "1.5.0",
      "model_name": "DescriptionStyleModel",
      "state": {
       "description_width": ""
      }
     },
     "888b4becdb9c4d0f932a290267e2d5c5": {
      "model_module": "@jupyter-widgets/controls",
      "model_module_version": "1.5.0",
      "model_name": "GridBoxModel",
      "state": {
       "_dom_classes": [
        "nbtools-input",
        "nbtools-textinput"
       ],
       "children": [
        "IPY_MODEL_de3d498eef434076942b008ad72cceab",
        "IPY_MODEL_23f9f55aa0d449d5a18581952997ea83",
        "IPY_MODEL_a475779659ee4029815e8b4aae387367"
       ],
       "layout": "IPY_MODEL_4ed0739846134a9ba3b0558dc23b96ea"
      }
     },
     "890f20f1afde45049497e081a17349e5": {
      "model_module": "@jupyter-widgets/base",
      "model_module_version": "1.2.0",
      "model_name": "LayoutModel",
      "state": {}
     },
     "8a2349e56d9b445a8d27e849572fb81b": {
      "model_module": "@jupyter-widgets/base",
      "model_module_version": "1.2.0",
      "model_name": "LayoutModel",
      "state": {
       "grid_area": "description",
       "width": "auto"
      }
     },
     "8a31a095e8774b48a313c5ea229cbcf1": {
      "model_module": "@jupyter-widgets/base",
      "model_module_version": "1.2.0",
      "model_name": "LayoutModel",
      "state": {}
     },
     "8a322dda8f4f4528b462997ff13841dd": {
      "model_module": "@jupyter-widgets/base",
      "model_module_version": "1.2.0",
      "model_name": "LayoutModel",
      "state": {}
     },
     "8a501447861743489aee9db8fcaa643d": {
      "model_module": "@jupyter-widgets/base",
      "model_module_version": "1.2.0",
      "model_name": "LayoutModel",
      "state": {}
     },
     "8b1017ffb2f64d859d01539f3d7e0984": {
      "model_module": "@jupyter-widgets/controls",
      "model_module_version": "1.5.0",
      "model_name": "DescriptionStyleModel",
      "state": {
       "description_width": ""
      }
     },
     "8b22252bf220406bbc12fcdd5823b0fe": {
      "model_module": "@jupyter-widgets/controls",
      "model_module_version": "1.5.0",
      "model_name": "LabelModel",
      "state": {
       "layout": "IPY_MODEL_a63ef379cb1949b9bed9a24703507eb5",
       "style": "IPY_MODEL_24a870ed52294db997f366fc1bdd6de2"
      }
     },
     "8b4f4cbe7ded4958bd3404dee89cb557": {
      "model_module": "@jupyter-widgets/base",
      "model_module_version": "1.2.0",
      "model_name": "LayoutModel",
      "state": {
       "display": "none",
       "grid_template_areas": "\n                    \"label input\"\n                    \". description\"\n                ",
       "grid_template_columns": "25% 75%",
       "grid_template_rows": "auto auto",
       "width": "100%"
      }
     },
     "8c08dab2033f4583b1a8450c6da08dc7": {
      "model_module": "@jupyter-widgets/controls",
      "model_module_version": "1.5.0",
      "model_name": "VBoxModel",
      "state": {
       "_dom_classes": [
        "widget-interact"
       ],
       "children": [
        "IPY_MODEL_5201f9f6be3049a0876b8e543fc1cd33",
        "IPY_MODEL_b7d1f292e39b4af2ae18135d85a65c0f"
       ],
       "layout": "IPY_MODEL_8e0a245ac2714002a3e54475a61af052"
      }
     },
     "8d5349ee5b4940f9bba503bed57007ab": {
      "model_module": "@jupyter-widgets/base",
      "model_module_version": "1.2.0",
      "model_name": "LayoutModel",
      "state": {
       "grid_area": "input",
       "width": "auto"
      }
     },
     "8dcb63d7d3224c1ca3c11610c038b982": {
      "model_module": "@jupyter-widgets/base",
      "model_module_version": "1.2.0",
      "model_name": "LayoutModel",
      "state": {}
     },
     "8e0a245ac2714002a3e54475a61af052": {
      "model_module": "@jupyter-widgets/base",
      "model_module_version": "1.2.0",
      "model_name": "LayoutModel",
      "state": {}
     },
     "8e224d320b1a44fba0aa0cf6837bc82c": {
      "model_module": "@jupyter-widgets/base",
      "model_module_version": "1.2.0",
      "model_name": "LayoutModel",
      "state": {
       "grid_area": "label",
       "width": "auto"
      }
     },
     "8e4d996fe326419191e904f59715886f": {
      "model_module": "@jupyter-widgets/controls",
      "model_module_version": "1.5.0",
      "model_name": "DescriptionStyleModel",
      "state": {
       "description_width": ""
      }
     },
     "8edb9322d9c047edb795240cb60685db": {
      "model_module": "@genepattern/nbtools",
      "model_module_version": "^21.9.0-beta.1",
      "model_name": "UIBuilderModel",
      "state": {
       "_model_module_version": "^21.9.0-beta.1",
       "_parameters": [
        {
         "choices": {},
         "default": "",
         "description": "",
         "events": null,
         "hide": false,
         "id": null,
         "kinds": [
          "_s.odf"
         ],
         "label": "bar",
         "name": "bar",
         "optional": false,
         "type": "file",
         "value": ""
        },
        {
         "choices": {},
         "default": "",
         "description": "",
         "events": null,
         "hide": true,
         "id": null,
         "kinds": null,
         "label": "output variable",
         "name": "output_var",
         "optional": true,
         "type": "text",
         "value": ""
        }
       ],
       "_view_module_version": "^21.9.0-beta.1",
       "form": "IPY_MODEL_ad583bd03d5144cc96a37a6e05d4d24c",
       "layout": "IPY_MODEL_bc68bf54282548e88ef291035eb11e36",
       "name": "foo",
       "origin": "Notebook",
       "output": "IPY_MODEL_40a0eae7ff1d47e59943a55bfcd8eb82",
       "output_var": ""
      }
     },
     "8f8b699760ab4b60804d8a425bcc1a20": {
      "model_module": "@jupyter-widgets/controls",
      "model_module_version": "1.5.0",
      "model_name": "ComboboxModel",
      "state": {
       "_dom_classes": [
        "nbtools-menu-attached",
        "nbtools-nosendto"
       ],
       "choices": {
        "Bonobo (MPI-EVA panpan1.1/panPan2)": "panPan2",
        "C. elegans (ce11)": "ce11",
        "Chimp (SAC 2.1.4/panTro4)": "panTro4",
        "Cow (UMD_3.1.1/bosTau8)": "bosTau8",
        "D. melanogaster (dm6)": "dm6",
        "Dog (Broad CanFam3.1/canFam3)": "canFam3",
        "Gorilla (gorGor4.1/gorGor4)": "gorGor4",
        "Human (CRCh37/hg19)": "hg19",
        "Human (GRCh38/hg38)": "hg38",
        "Human (hg18)": "hg18",
        "Mouse (GRCm38/mm10)": "mm10",
        "Pig (SGSC Sscrofa11.1/susScr11)": "susScr11",
        "Rat (RGCS 6.0/rn6)": "rn6",
        "S. cerevisiae (sacCer3)": "sacCer3",
        "Zebrafish (GRCZ10/danRer10)": "danRer10",
        "Zebrafish (GRCZ11/danRer11)": "danRer11"
       },
       "ensure_option": false,
       "kinds": [],
       "layout": "IPY_MODEL_5b092652d4e946e8b9f976a092178284",
       "style": "IPY_MODEL_871cf5da9f94471c817bdf5ab6259116",
       "value": "hg38"
      }
     },
     "8fd5395524bb4a2790ad88d7ef97f3ee": {
      "model_module": "@jupyter-widgets/controls",
      "model_module_version": "1.5.0",
      "model_name": "DescriptionStyleModel",
      "state": {
       "description_width": ""
      }
     },
     "9067d8711e694d03930b89604ab44264": {
      "model_module": "@jupyter-widgets/controls",
      "model_module_version": "1.5.0",
      "model_name": "DescriptionStyleModel",
      "state": {
       "description_width": ""
      }
     },
     "91565310f2c94d718d108c96d6945c27": {
      "model_module": "@jupyter-widgets/base",
      "model_module_version": "1.2.0",
      "model_name": "LayoutModel",
      "state": {
       "grid_area": "input",
       "width": "auto"
      }
     },
     "9185166b82a44d70b3d721c938346a6e": {
      "model_module": "@jupyter-widgets/controls",
      "model_module_version": "1.5.0",
      "model_name": "LabelModel",
      "state": {
       "description": "output variable",
       "layout": "IPY_MODEL_41788842eaff4bb6a687246e873fa460",
       "style": "IPY_MODEL_82577b2d514d4e86972411ec00e03258",
       "value": "output variable"
      }
     },
     "921913dc85de4db3964d9fe3f98a0f25": {
      "model_module": "@jupyter-widgets/controls",
      "model_module_version": "1.5.0",
      "model_name": "VBoxModel",
      "state": {
       "_dom_classes": [
        "widget-interact"
       ],
       "children": [
        "IPY_MODEL_150f5f3e062948f3b4097fccf5eae5e0",
        "IPY_MODEL_98f66fbba8904a86a3d6e6d208c902a0"
       ],
       "layout": "IPY_MODEL_9bdddaaf8a604e2b8b29e11f72b9fbb7"
      }
     },
     "923aa2c6409a4832a6ce5d7852e59829": {
      "model_module": "@jupyter-widgets/controls",
      "model_module_version": "1.5.0",
      "model_name": "PasswordModel",
      "state": {
       "layout": "IPY_MODEL_b33026b97d59441a8a1bf86cb7d8f2ff",
       "style": "IPY_MODEL_9067d8711e694d03930b89604ab44264"
      }
     },
     "928275d5bc3d438fa4dc058604ab1519": {
      "model_module": "@jupyter-widgets/base",
      "model_module_version": "1.2.0",
      "model_name": "LayoutModel",
      "state": {
       "display": "none",
       "grid_template_areas": "\n                    \"label input\"\n                    \". description\"\n                ",
       "grid_template_columns": "25% 75%",
       "grid_template_rows": "auto auto",
       "width": "100%"
      }
     },
     "92911510aa4c4aad9bb2574421c1465e": {
      "model_module": "@jupyter-widgets/base",
      "model_module_version": "1.2.0",
      "model_name": "LayoutModel",
      "state": {
       "grid_area": "description",
       "width": "auto"
      }
     },
     "92cdca91b8c64680a32a8107478f6955": {
      "model_module": "@jupyter-widgets/controls",
      "model_module_version": "1.5.0",
      "model_name": "ComboboxModel",
      "state": {
       "_dom_classes": [
        "nbtools-menu-attached",
        "nbtools-nosendto"
       ],
       "choices": {
        "GenePattern Cloud": "https://cloud.genepattern.org/gp"
       },
       "ensure_option": false,
       "kinds": [],
       "layout": "IPY_MODEL_d39c867f4b1a4223acbbe232c0df9820",
       "style": "IPY_MODEL_d18223d3932e4575a863dcc25dc9b016",
       "value": "https://cloud.genepattern.org/gp"
      }
     },
     "930f327da97c4541b8064b1895f14ec2": {
      "model_module": "@jupyter-widgets/controls",
      "model_module_version": "1.5.0",
      "model_name": "ButtonModel",
      "state": {
       "_dom_classes": [
        "hidden"
       ],
       "description": "Run",
       "layout": "IPY_MODEL_726ba151ed55435a8df40f2854419e89",
       "style": "IPY_MODEL_b848e46263f143e4aa7ae11ede4b3842"
      }
     },
     "93dec95ea52c45ba85de1ed27993dc60": {
      "model_module": "@jupyter-widgets/controls",
      "model_module_version": "1.5.0",
      "model_name": "FileUploadModel",
      "state": {
       "description_tooltip": null,
       "layout": "IPY_MODEL_4476af46b39c41659f67caab30fc720e",
       "style": "IPY_MODEL_9d387db6376a4f569e7efdf8ec9df883"
      }
     },
     "9411cbd288224c3f8060635b0a2318dc": {
      "model_module": "@jupyter-widgets/controls",
      "model_module_version": "1.5.0",
      "model_name": "VBoxModel",
      "state": {
       "_dom_classes": [
        "widget-interact"
       ],
       "children": [
        "IPY_MODEL_060f8a3751fb44f3a5fba555c5ef4891",
        "IPY_MODEL_ae7ed71bb7254777b2a785bd25c1db53",
        "IPY_MODEL_2115d0c5a2f2437991a1138cf2fe7b0a",
        "IPY_MODEL_0fb4214a724b4532bffc13ee706cb284",
        "IPY_MODEL_06e5053731a44af0839eb380e59899ec"
       ],
       "layout": "IPY_MODEL_15248f47cf6b454aa05cd5477dd913b0"
      }
     },
     "950eee823c914ce5a969ec914ae5b8d1": {
      "model_module": "@jupyter-widgets/base",
      "model_module_version": "1.2.0",
      "model_name": "LayoutModel",
      "state": {
       "grid_area": "description",
       "width": "auto"
      }
     },
     "95f4403737c2477d90ac6e86a1235625": {
      "model_module": "@jupyter-widgets/controls",
      "model_module_version": "1.5.0",
      "model_name": "DescriptionStyleModel",
      "state": {
       "description_width": ""
      }
     },
     "9642ea9eac2540329468390de0deaccc": {
      "model_module": "@jupyter-widgets/controls",
      "model_module_version": "1.5.0",
      "model_name": "DescriptionStyleModel",
      "state": {
       "description_width": ""
      }
     },
     "9684cbed69284ecabb698ebf7223ab1c": {
      "model_module": "@jupyter-widgets/base",
      "model_module_version": "1.2.0",
      "model_name": "LayoutModel",
      "state": {}
     },
     "97936f745c464157a203a095eb4d8fc2": {
      "model_module": "@jupyter-widgets/controls",
      "model_module_version": "1.5.0",
      "model_name": "DescriptionStyleModel",
      "state": {
       "description_width": ""
      }
     },
     "98f66fbba8904a86a3d6e6d208c902a0": {
      "model_module": "@jupyter-widgets/output",
      "model_module_version": "1.0.0",
      "model_name": "OutputModel",
      "state": {
       "layout": "IPY_MODEL_bcf3acaf27344ea68c2b449e225fbda4"
      }
     },
     "99361bfe5a494052bcee686967da19cf": {
      "model_module": "@jupyter-widgets/base",
      "model_module_version": "1.2.0",
      "model_name": "LayoutModel",
      "state": {}
     },
     "99926a8b04054f56a141762f675169db": {
      "model_module": "@jupyter-widgets/base",
      "model_module_version": "1.2.0",
      "model_name": "LayoutModel",
      "state": {
       "grid_area": "label",
       "width": "auto"
      }
     },
     "99a86d0d511944bb8f4617f47c23bd77": {
      "model_module": "@jupyter-widgets/base",
      "model_module_version": "1.2.0",
      "model_name": "LayoutModel",
      "state": {
       "grid_area": "label",
       "width": "auto"
      }
     },
     "9afd1c47f1d84d898321bec6a48af246": {
      "model_module": "@jupyter-widgets/controls",
      "model_module_version": "1.5.0",
      "model_name": "VBoxModel",
      "state": {
       "_dom_classes": [
        "widget-interact"
       ],
       "children": [
        "IPY_MODEL_ccb3225bb96c4f108bd7dce565d68f4d",
        "IPY_MODEL_1947cf002e0d4f70a8ac56c4c707c6dc"
       ],
       "layout": "IPY_MODEL_426c36f8770044ef96bd81963cb53ed6"
      }
     },
     "9b3c30b3486b4f02a4f53d623f1216e2": {
      "model_module": "@jupyter-widgets/base",
      "model_module_version": "1.2.0",
      "model_name": "LayoutModel",
      "state": {
       "grid_area": "input",
       "width": "auto"
      }
     },
     "9bdddaaf8a604e2b8b29e11f72b9fbb7": {
      "model_module": "@jupyter-widgets/base",
      "model_module_version": "1.2.0",
      "model_name": "LayoutModel",
      "state": {}
     },
     "9be48feb338b49b09afca592d2e1ca21": {
      "model_module": "@jupyter-widgets/controls",
      "model_module_version": "1.5.0",
      "model_name": "DescriptionStyleModel",
      "state": {
       "description_width": ""
      }
     },
     "9c63f7c66ad54dbfacedca1cae13de12": {
      "model_module": "@jupyter-widgets/base",
      "model_module_version": "1.2.0",
      "model_name": "LayoutModel",
      "state": {
       "display": "none",
       "grid_template_areas": "\n                    \"label input\"\n                    \". description\"\n                ",
       "grid_template_columns": "25% 75%",
       "grid_template_rows": "auto auto",
       "width": "100%"
      }
     },
     "9d387db6376a4f569e7efdf8ec9df883": {
      "model_module": "@jupyter-widgets/controls",
      "model_module_version": "1.5.0",
      "model_name": "ButtonStyleModel",
      "state": {}
     },
     "9f08c5bf338c4f06b6e563709e81f49e": {
      "model_module": "@jupyter-widgets/controls",
      "model_module_version": "1.5.0",
      "model_name": "LabelModel",
      "state": {
       "description": "output variable",
       "layout": "IPY_MODEL_00e7d3ced01146e185655bbcc53d4560",
       "style": "IPY_MODEL_8e4d996fe326419191e904f59715886f",
       "value": "output variable"
      }
     },
     "a0ba710281884152beeec4d28c68158b": {
      "model_module": "@jupyter-widgets/base",
      "model_module_version": "1.2.0",
      "model_name": "LayoutModel",
      "state": {
       "grid_area": "description",
       "width": "auto"
      }
     },
     "a14ce5944822435b998e9bb21a817509": {
      "model_module": "@jupyter-widgets/controls",
      "model_module_version": "1.5.0",
      "model_name": "LabelModel",
      "state": {
       "description": "output variable",
       "layout": "IPY_MODEL_99926a8b04054f56a141762f675169db",
       "style": "IPY_MODEL_64a1cc026d9545169e1cc0ed84cd0dc7",
       "value": "output variable"
      }
     },
     "a226706664254e9980623279a27d7dcf": {
      "model_module": "@jupyter-widgets/controls",
      "model_module_version": "1.5.0",
      "model_name": "ButtonModel",
      "state": {
       "_dom_classes": [
        "hidden"
       ],
       "description": "Run",
       "layout": "IPY_MODEL_dce436bec394485faaa8e9857c13c69e",
       "style": "IPY_MODEL_6170316c0b96485aabce477ff840b65c"
      }
     },
     "a273015f1d1d48289c108472fc4bcab2": {
      "model_module": "@jupyter-widgets/controls",
      "model_module_version": "1.5.0",
      "model_name": "LabelModel",
      "state": {
       "description": "Enter the URL to the index files that correspond to each track",
       "layout": "IPY_MODEL_92911510aa4c4aad9bb2574421c1465e",
       "style": "IPY_MODEL_9642ea9eac2540329468390de0deaccc",
       "value": "Enter the URL to the index files that correspond to each track"
      }
     },
     "a2849aae861a4cecb0e4df25bb5bfa83": {
      "model_module": "@jupyter-widgets/controls",
      "model_module_version": "1.5.0",
      "model_name": "TextModel",
      "state": {
       "_dom_classes": [
        "nbtools-menu-attached"
       ],
       "layout": "IPY_MODEL_abc384a5c9ca4671a1227ad8b576c830",
       "style": "IPY_MODEL_5c0ec75133b346e99f66d56e7f96e667"
      }
     },
     "a2e8a1f8aa4b473f9992999213d2afe7": {
      "model_module": "@jupyter-widgets/controls",
      "model_module_version": "1.5.0",
      "model_name": "LabelModel",
      "state": {
       "layout": "IPY_MODEL_a6f8e4f764c24630bd257b89b5942354",
       "style": "IPY_MODEL_8fd5395524bb4a2790ad88d7ef97f3ee"
      }
     },
     "a32a95effe47400caea6d670a161cd9e": {
      "model_module": "@jupyter-widgets/base",
      "model_module_version": "1.2.0",
      "model_name": "LayoutModel",
      "state": {
       "grid_area": "label",
       "width": "auto"
      }
     },
     "a3874e81c5c744cb971f32728e68d8cc": {
      "model_module": "@jupyter-widgets/base",
      "model_module_version": "1.2.0",
      "model_name": "LayoutModel",
      "state": {}
     },
     "a475779659ee4029815e8b4aae387367": {
      "model_module": "@jupyter-widgets/controls",
      "model_module_version": "1.5.0",
      "model_name": "LabelModel",
      "state": {
       "description": "Provide a locus or gene of interest for your data",
       "layout": "IPY_MODEL_c89b4d4942f94b65bf75f5289864d54c",
       "style": "IPY_MODEL_50374f8feeb243e2b7360ab774d6a8ca",
       "value": "Provide a locus or gene of interest for your data"
      }
     },
     "a47a8ac08a404003a1282c6e5a007873": {
      "model_module": "@jupyter-widgets/controls",
      "model_module_version": "1.5.0",
      "model_name": "DescriptionStyleModel",
      "state": {
       "description_width": ""
      }
     },
     "a4ca1465f25449f6a05382a2c6763921": {
      "model_module": "@jupyter-widgets/controls",
      "model_module_version": "1.5.0",
      "model_name": "ComboboxModel",
      "state": {
       "_dom_classes": [
        "nbtools-menu-attached",
        "nbtools-nosendto"
       ],
       "choices": {
        "GenePattern Cloud": "https://cloud.genepattern.org/gp"
       },
       "ensure_option": false,
       "kinds": [],
       "layout": "IPY_MODEL_b22659a7ebfa447098d85f90108ae2a2",
       "style": "IPY_MODEL_62bf96f9a95e49198bad8c6650034929",
       "value": "https://cloud.genepattern.org/gp"
      }
     },
     "a59bc66852cc4e9cb01ee1a2590de913": {
      "model_module": "@jupyter-widgets/controls",
      "model_module_version": "1.5.0",
      "model_name": "VBoxModel",
      "state": {
       "children": [
        "IPY_MODEL_2830e9f9e4224793af1c8738ca11b1b2"
       ],
       "layout": "IPY_MODEL_c01e4cd2f1ab4dde80b06bdc72c749cf"
      }
     },
     "a62eb8e226914cd3956dd9b79ca8fd05": {
      "model_module": "@jupyter-widgets/controls",
      "model_module_version": "1.5.0",
      "model_name": "DescriptionStyleModel",
      "state": {
       "description_width": ""
      }
     },
     "a63ef379cb1949b9bed9a24703507eb5": {
      "model_module": "@jupyter-widgets/base",
      "model_module_version": "1.2.0",
      "model_name": "LayoutModel",
      "state": {
       "grid_area": "description",
       "width": "auto"
      }
     },
     "a6960f43d09d41a396225d81f6334ae8": {
      "model_module": "@jupyter-widgets/base",
      "model_module_version": "1.2.0",
      "model_name": "LayoutModel",
      "state": {
       "grid_area": "description",
       "width": "auto"
      }
     },
     "a6f8e4f764c24630bd257b89b5942354": {
      "model_module": "@jupyter-widgets/base",
      "model_module_version": "1.2.0",
      "model_name": "LayoutModel",
      "state": {
       "grid_area": "description",
       "width": "auto"
      }
     },
     "a7048903d79141fd8203efbf47694685": {
      "model_module": "@jupyter-widgets/base",
      "model_module_version": "1.2.0",
      "model_name": "LayoutModel",
      "state": {}
     },
     "a7b3ad58012f4def9ef4213997b64671": {
      "model_module": "@jupyter-widgets/controls",
      "model_module_version": "1.5.0",
      "model_name": "LabelModel",
      "state": {
       "description": "bar",
       "layout": "IPY_MODEL_e405a30cd469460ba8b35bf04d6c4769",
       "style": "IPY_MODEL_18395986e00e42ff96188fd4dc510ce2",
       "value": "bar*"
      }
     },
     "a811322f119f480aa908560df841f4c4": {
      "model_module": "@jupyter-widgets/controls",
      "model_module_version": "1.5.0",
      "model_name": "DescriptionStyleModel",
      "state": {
       "description_width": ""
      }
     },
     "a9e3e6dda51640b48474456cf8d33b3c": {
      "model_module": "@jupyter-widgets/output",
      "model_module_version": "1.0.0",
      "model_name": "OutputModel",
      "state": {
       "layout": "IPY_MODEL_cc6428a4caf640a1b2892237a10eb9a7"
      }
     },
     "aafba32e01044690a89d6bd3b5cd01a6": {
      "model_module": "@jupyter-widgets/controls",
      "model_module_version": "1.5.0",
      "model_name": "PasswordModel",
      "state": {
       "layout": "IPY_MODEL_f10254953bb34b738921d4ed6708ace6",
       "style": "IPY_MODEL_7ec9fda0ea104a80964c0bf89bd9ab43"
      }
     },
     "ab1fcea8123144be835c933387993d74": {
      "model_module": "@jupyter-widgets/controls",
      "model_module_version": "1.5.0",
      "model_name": "ButtonStyleModel",
      "state": {}
     },
     "abc384a5c9ca4671a1227ad8b576c830": {
      "model_module": "@jupyter-widgets/base",
      "model_module_version": "1.2.0",
      "model_name": "LayoutModel",
      "state": {
       "grid_area": "input",
       "width": "auto"
      }
     },
     "ac110229f3ac4417a90313b11046ac84": {
      "model_module": "@genepattern/nbtools",
      "model_module_version": "^21.9.0-beta.1",
      "model_name": "UIBuilderModel",
      "state": {
       "_model_module_version": "^21.9.0-beta.1",
       "_parameters": [
        {
         "choices": {
          "Bonobo (MPI-EVA panpan1.1/panPan2)": "panPan2",
          "C. elegans (ce11)": "ce11",
          "Chimp (SAC 2.1.4/panTro4)": "panTro4",
          "Cow (UMD_3.1.1/bosTau8)": "bosTau8",
          "D. melanogaster (dm6)": "dm6",
          "Dog (Broad CanFam3.1/canFam3)": "canFam3",
          "Gorilla (gorGor4.1/gorGor4)": "gorGor4",
          "Human (CRCh37/hg19)": "hg19",
          "Human (GRCh38/hg38)": "hg38",
          "Human (hg18)": "hg18",
          "Mouse (GRCm38/mm10)": "mm10",
          "Pig (SGSC Sscrofa11.1/susScr11)": "susScr11",
          "Rat (RGCS 6.0/rn6)": "rn6",
          "S. cerevisiae (sacCer3)": "sacCer3",
          "Zebrafish (GRCZ10/danRer10)": "danRer10",
          "Zebrafish (GRCZ11/danRer11)": "danRer11"
         },
         "combo": true,
         "default": "hg38",
         "description": "Choose the genome for your data.",
         "events": null,
         "hide": false,
         "id": null,
         "kinds": null,
         "label": "genome",
         "name": "genome",
         "optional": false,
         "sendto": false,
         "type": "choice",
         "value": ""
        },
        {
         "choices": {},
         "default": "",
         "description": "Enter the URL to the track dataset(s)",
         "events": null,
         "hide": false,
         "id": null,
         "kinds": null,
         "label": "tracks",
         "maximum": 100,
         "name": "tracks",
         "optional": true,
         "type": "file",
         "value": "None"
        },
        {
         "choices": {},
         "default": "",
         "description": "Enter the URL to the index files that correspond to each track",
         "events": null,
         "hide": false,
         "id": null,
         "kinds": null,
         "label": "indices",
         "maximum": 100,
         "name": "indices",
         "optional": true,
         "type": "file",
         "value": "None"
        },
        {
         "choices": {
          "": "",
          "bam": "bam",
          "bb": "bb",
          "bed": "bed",
          "bedgraph": "bedgraph",
          "bedpe": "bedpe",
          "bedpe-loop": "bedpe-loop",
          "bigbed": "bigbed",
          "bigwig": "bigwig",
          "bp": "bp",
          "bw": "bw",
          "cram": "cram",
          "gwas": "gwas",
          "mut": "mut",
          "seg": "seg",
          "tdf": "tdf",
          "vcf": "vcf",
          "wig": "wig"
         },
         "combo": true,
         "default": "",
         "description": "Enter the format of the track datasets",
         "events": null,
         "hide": false,
         "id": null,
         "kinds": null,
         "label": "track format",
         "name": "track_format",
         "optional": true,
         "type": "choice",
         "value": "None"
        },
        {
         "choices": {
          "": "",
          "alignment": "alignment",
          "annotation": "annotation",
          "arc": "arc",
          "bedtype": "bedtype",
          "gwas": "gwas",
          "interaction": "interaction",
          "mut": "mut",
          "seg": "seg",
          "variant": "variant",
          "wig": "wig"
         },
         "combo": true,
         "default": "",
         "description": "Enter the type of the track datasets",
         "events": null,
         "hide": false,
         "id": null,
         "kinds": null,
         "label": "track type",
         "name": "track_type",
         "optional": true,
         "type": "choice",
         "value": "None"
        },
        {
         "choices": {},
         "default": "",
         "description": "Provide a locus or gene of interest for your data",
         "events": null,
         "hide": false,
         "id": null,
         "kinds": null,
         "label": "locus",
         "name": "locus",
         "optional": true,
         "type": "text",
         "value": "None"
        },
        {
         "choices": {},
         "default": "",
         "description": "",
         "events": null,
         "hide": true,
         "id": null,
         "kinds": null,
         "label": "output variable",
         "name": "output_var",
         "optional": true,
         "type": "text",
         "value": ""
        }
       ],
       "_view_module_version": "^21.9.0-beta.1",
       "description": "Use igv.js to embed an interactive genome visualization",
       "form": "IPY_MODEL_6e3de23cfa7c44a2a980a54288f40650",
       "layout": "IPY_MODEL_c0bf2a8e73a44ed5b9579be73dad6175",
       "logo": "http://igv.org/web/img/favicon.ico",
       "name": "igv.js: Integrative Genomics Viewer",
       "origin": "igv",
       "output": "IPY_MODEL_b8062c8b3099497f9345742a3b8cd00f",
       "output_var": "",
       "run_label": "Visualize"
      }
     },
     "acca64afb56249a2b31f2814c1185355": {
      "model_module": "@jupyter-widgets/base",
      "model_module_version": "1.2.0",
      "model_name": "LayoutModel",
      "state": {
       "grid_area": "label",
       "width": "auto"
      }
     },
     "acdb7802305544c2b7b7a188d3f9f3a6": {
      "model_module": "@jupyter-widgets/controls",
      "model_module_version": "1.5.0",
      "model_name": "LabelModel",
      "state": {
       "layout": "IPY_MODEL_cc05b0f64f5a4215912aedce5b6b7993",
       "style": "IPY_MODEL_81518852b487411a9d938b49851d6e55"
      }
     },
     "acf9df17c1234434bdfe092bc2dcc560": {
      "model_module": "@jupyter-widgets/base",
      "model_module_version": "1.2.0",
      "model_name": "LayoutModel",
      "state": {
       "grid_area": "label",
       "width": "auto"
      }
     },
     "ad583bd03d5144cc96a37a6e05d4d24c": {
      "model_module": "@jupyter-widgets/controls",
      "model_module_version": "1.5.0",
      "model_name": "VBoxModel",
      "state": {
       "_dom_classes": [
        "widget-interact"
       ],
       "children": [
        "IPY_MODEL_24b236f046c944e5b1f8c96a5ee5f81a",
        "IPY_MODEL_930f327da97c4541b8064b1895f14ec2",
        "IPY_MODEL_cb787013647440399f18c1607fd26562"
       ],
       "layout": "IPY_MODEL_6b84b922e7f54da5ab2ad35ffa649233"
      }
     },
     "adcd45822731414eb422e2605e99fcad": {
      "model_module": "@jupyter-widgets/base",
      "model_module_version": "1.2.0",
      "model_name": "LayoutModel",
      "state": {}
     },
     "ae0c604abfc34a4fa19c18a75c11dfac": {
      "model_module": "@jupyter-widgets/controls",
      "model_module_version": "1.5.0",
      "model_name": "LabelModel",
      "state": {
       "layout": "IPY_MODEL_8a2349e56d9b445a8d27e849572fb81b",
       "style": "IPY_MODEL_5a84961e1adb49d4865459764a9aa8e2"
      }
     },
     "ae7ed71bb7254777b2a785bd25c1db53": {
      "model_module": "@jupyter-widgets/controls",
      "model_module_version": "1.5.0",
      "model_name": "GridBoxModel",
      "state": {
       "_dom_classes": [
        "nbtools-input",
        "nbtools-textinput",
        "required"
       ],
       "children": [
        "IPY_MODEL_dce9aebe02894153a827a77887e98fb5",
        "IPY_MODEL_0c508d242d794ba7831191213dfe9e2e",
        "IPY_MODEL_f1d3b109ddcc4affa9ecc5fef45f2657"
       ],
       "layout": "IPY_MODEL_625c0236202a4183b257e02c0cc9ff7b"
      }
     },
     "ae9fe23f262a41e084f4ce528d2b53d5": {
      "model_module": "@jupyter-widgets/base",
      "model_module_version": "1.2.0",
      "model_name": "LayoutModel",
      "state": {
       "grid_area": "input",
       "width": "auto"
      }
     },
     "aef771891da343b89cede33a49afefef": {
      "model_module": "@jupyter-widgets/base",
      "model_module_version": "1.2.0",
      "model_name": "LayoutModel",
      "state": {
       "grid_template_areas": "\n                    \"label input\"\n                    \". description\"\n                ",
       "grid_template_columns": "25% 75%",
       "grid_template_rows": "auto auto",
       "width": "100%"
      }
     },
     "af8a9c914b8b41bb915012386ee94fb2": {
      "model_module": "@jupyter-widgets/base",
      "model_module_version": "1.2.0",
      "model_name": "LayoutModel",
      "state": {
       "grid_area": "label",
       "width": "auto"
      }
     },
     "afae5cd85c6e4086ab4ae601332d9593": {
      "model_module": "@jupyter-widgets/base",
      "model_module_version": "1.2.0",
      "model_name": "LayoutModel",
      "state": {
       "grid_area": "description",
       "width": "auto"
      }
     },
     "b041403f17094dde98085e1855ade4ac": {
      "model_module": "@jupyter-widgets/base",
      "model_module_version": "1.2.0",
      "model_name": "LayoutModel",
      "state": {
       "grid_area": "input",
       "width": "auto"
      }
     },
     "b07279988ea643bfb5eae517115c4736": {
      "model_module": "@jupyter-widgets/controls",
      "model_module_version": "1.5.0",
      "model_name": "VBoxModel",
      "state": {
       "children": [
        "IPY_MODEL_d8dfb1682a364c808e56530f889d4294"
       ],
       "layout": "IPY_MODEL_8a322dda8f4f4528b462997ff13841dd"
      }
     },
     "b0d77710deef4fd7a5057f2074403d64": {
      "model_module": "@jupyter-widgets/base",
      "model_module_version": "1.2.0",
      "model_name": "LayoutModel",
      "state": {
       "grid_area": "label",
       "width": "auto"
      }
     },
     "b0f1dbe633f14faa9969575625b0407e": {
      "model_module": "@jupyter-widgets/controls",
      "model_module_version": "1.5.0",
      "model_name": "LabelModel",
      "state": {
       "layout": "IPY_MODEL_a6960f43d09d41a396225d81f6334ae8",
       "style": "IPY_MODEL_1fb25017792644989c53066e3ba28ec0"
      }
     },
     "b112aeb919314005af3d74efe0aa8347": {
      "model_module": "@jupyter-widgets/controls",
      "model_module_version": "1.5.0",
      "model_name": "ComboboxModel",
      "state": {
       "_dom_classes": [
        "nbtools-menu-attached"
       ],
       "choices": {},
       "ensure_option": false,
       "kinds": [],
       "layout": "IPY_MODEL_b89f119acc124081bcfea54b85634600",
       "style": "IPY_MODEL_c46f79df281b49e7b55c3fcd9b667c44"
      }
     },
     "b17d45a8a7cf43f285dc65bbecf83132": {
      "model_module": "@jupyter-widgets/base",
      "model_module_version": "1.2.0",
      "model_name": "LayoutModel",
      "state": {}
     },
     "b1c7013b51e7458590396efac2a29f8a": {
      "model_module": "@jupyter-widgets/base",
      "model_module_version": "1.2.0",
      "model_name": "LayoutModel",
      "state": {
       "grid_area": "label",
       "width": "auto"
      }
     },
     "b1e7082412df488db2e6bfcf7db57593": {
      "model_module": "@jupyter-widgets/controls",
      "model_module_version": "1.5.0",
      "model_name": "LabelModel",
      "state": {
       "layout": "IPY_MODEL_08d5ced989c141b2b054be84933a44bb",
       "style": "IPY_MODEL_d75860ebd66a4833be6e8fc7053027b8"
      }
     },
     "b22659a7ebfa447098d85f90108ae2a2": {
      "model_module": "@jupyter-widgets/base",
      "model_module_version": "1.2.0",
      "model_name": "LayoutModel",
      "state": {
       "grid_area": "input",
       "width": "auto"
      }
     },
     "b33026b97d59441a8a1bf86cb7d8f2ff": {
      "model_module": "@jupyter-widgets/base",
      "model_module_version": "1.2.0",
      "model_name": "LayoutModel",
      "state": {
       "grid_area": "input",
       "width": "auto"
      }
     },
     "b3ef6b8c400e43f9afe8538033fba970": {
      "model_module": "@jupyter-widgets/controls",
      "model_module_version": "1.5.0",
      "model_name": "DescriptionStyleModel",
      "state": {
       "description_width": ""
      }
     },
     "b492be8c54bd4a01a157457ce029941f": {
      "model_module": "@jupyter-widgets/controls",
      "model_module_version": "1.5.0",
      "model_name": "LabelModel",
      "state": {
       "layout": "IPY_MODEL_24af94a0ef7d46a6b4b3fda9cc905075",
       "style": "IPY_MODEL_0521452400dc43b18b036c507e6eac5a"
      }
     },
     "b7001122c9fd4811be0fca737b4501fd": {
      "model_module": "@jupyter-widgets/base",
      "model_module_version": "1.2.0",
      "model_name": "LayoutModel",
      "state": {
       "grid_area": "input",
       "width": "auto"
      }
     },
     "b779fe6039ca4ce694f83b33ebd4c486": {
      "model_module": "@jupyter-widgets/controls",
      "model_module_version": "1.5.0",
      "model_name": "DescriptionStyleModel",
      "state": {
       "description_width": ""
      }
     },
     "b7d1f292e39b4af2ae18135d85a65c0f": {
      "model_module": "@jupyter-widgets/output",
      "model_module_version": "1.0.0",
      "model_name": "OutputModel",
      "state": {
       "layout": "IPY_MODEL_d4ffa3a1a2194d3c873841231b18abb5"
      }
     },
     "b8062c8b3099497f9345742a3b8cd00f": {
      "model_module": "@jupyter-widgets/output",
      "model_module_version": "1.0.0",
      "model_name": "OutputModel",
      "state": {
       "layout": "IPY_MODEL_8a501447861743489aee9db8fcaa643d"
      }
     },
     "b848e46263f143e4aa7ae11ede4b3842": {
      "model_module": "@jupyter-widgets/controls",
      "model_module_version": "1.5.0",
      "model_name": "ButtonStyleModel",
      "state": {}
     },
     "b89f119acc124081bcfea54b85634600": {
      "model_module": "@jupyter-widgets/base",
      "model_module_version": "1.2.0",
      "model_name": "LayoutModel",
      "state": {}
     },
     "b8e1297bbf514a9f9a429b1dfee87a5b": {
      "model_module": "@jupyter-widgets/controls",
      "model_module_version": "1.5.0",
      "model_name": "DescriptionStyleModel",
      "state": {
       "description_width": ""
      }
     },
     "b8fdc8e2a2fa412e9ef295a227155bdb": {
      "model_module": "@jupyter-widgets/controls",
      "model_module_version": "1.5.0",
      "model_name": "DescriptionStyleModel",
      "state": {
       "description_width": ""
      }
     },
     "ba42cb0bb4464ec495606006bf1f3c6d": {
      "model_module": "@jupyter-widgets/base",
      "model_module_version": "1.2.0",
      "model_name": "LayoutModel",
      "state": {
       "grid_template_areas": "\n                    \"label input\"\n                    \". description\"\n                ",
       "grid_template_columns": "25% 75%",
       "grid_template_rows": "auto auto",
       "width": "100%"
      }
     },
     "bb5bde2b836543578295b841243963ff": {
      "model_module": "@jupyter-widgets/base",
      "model_module_version": "1.2.0",
      "model_name": "LayoutModel",
      "state": {
       "display": "none",
       "grid_template_areas": "\n                    \"label input\"\n                    \". description\"\n                ",
       "grid_template_columns": "25% 75%",
       "grid_template_rows": "auto auto",
       "width": "100%"
      }
     },
     "bc069d413677489cb3fae10aafb15426": {
      "model_module": "@jupyter-widgets/base",
      "model_module_version": "1.2.0",
      "model_name": "LayoutModel",
      "state": {
       "grid_template_areas": "\n                    \"label input\"\n                    \". description\"\n                ",
       "grid_template_columns": "25% 75%",
       "grid_template_rows": "auto auto",
       "width": "100%"
      }
     },
     "bc68bf54282548e88ef291035eb11e36": {
      "model_module": "@jupyter-widgets/base",
      "model_module_version": "1.2.0",
      "model_name": "LayoutModel",
      "state": {}
     },
     "bc75d59c7e8140bfb5eab980964047ea": {
      "model_module": "@jupyter-widgets/controls",
      "model_module_version": "1.5.0",
      "model_name": "DescriptionStyleModel",
      "state": {
       "description_width": ""
      }
     },
     "bcf3acaf27344ea68c2b449e225fbda4": {
      "model_module": "@jupyter-widgets/base",
      "model_module_version": "1.2.0",
      "model_name": "LayoutModel",
      "state": {}
     },
     "bdf09b85c56f4dd58b8257835559ccdd": {
      "model_module": "@jupyter-widgets/controls",
      "model_module_version": "1.5.0",
      "model_name": "LabelModel",
      "state": {
       "description": "Choose the genome for your data.",
       "layout": "IPY_MODEL_d91271eabc15464a96c06b7e963d14b9",
       "style": "IPY_MODEL_63f57a54a0864f3faf11f8131e2e5c0f",
       "value": "Choose the genome for your data."
      }
     },
     "c01e4cd2f1ab4dde80b06bdc72c749cf": {
      "model_module": "@jupyter-widgets/base",
      "model_module_version": "1.2.0",
      "model_name": "LayoutModel",
      "state": {}
     },
     "c080fc69313547ccb948c9c4b50318af": {
      "model_module": "@jupyter-widgets/controls",
      "model_module_version": "1.5.0",
      "model_name": "LabelModel",
      "state": {
       "layout": "IPY_MODEL_085f9b156c164405a4ce55634e8bd283",
       "style": "IPY_MODEL_bc75d59c7e8140bfb5eab980964047ea"
      }
     },
     "c09a684bdc8847d18312f21fab30003e": {
      "model_module": "@jupyter-widgets/controls",
      "model_module_version": "1.5.0",
      "model_name": "LabelModel",
      "state": {
       "description": "track format",
       "layout": "IPY_MODEL_4edfa412389348bf87859f0470aa4792",
       "style": "IPY_MODEL_2398b82abe21429b9a9198c47ca2bc4c",
       "value": "track format"
      }
     },
     "c0bf2a8e73a44ed5b9579be73dad6175": {
      "model_module": "@jupyter-widgets/base",
      "model_module_version": "1.2.0",
      "model_name": "LayoutModel",
      "state": {}
     },
     "c0efa11d9a2f44dd8c497970b27cee93": {
      "model_module": "@jupyter-widgets/base",
      "model_module_version": "1.2.0",
      "model_name": "LayoutModel",
      "state": {}
     },
     "c0fd2b85727f4cd69467918483986387": {
      "model_module": "@jupyter-widgets/controls",
      "model_module_version": "1.5.0",
      "model_name": "DescriptionStyleModel",
      "state": {
       "description_width": ""
      }
     },
     "c184a341ebb94027a3e34acf4b2fa8de": {
      "model_module": "@jupyter-widgets/controls",
      "model_module_version": "1.5.0",
      "model_name": "DescriptionStyleModel",
      "state": {
       "description_width": ""
      }
     },
     "c46515bd971b4f34b6f3da1b9930676e": {
      "model_module": "@jupyter-widgets/controls",
      "model_module_version": "1.5.0",
      "model_name": "ComboboxModel",
      "state": {
       "_dom_classes": [
        "nbtools-menu-attached"
       ],
       "choices": {},
       "ensure_option": false,
       "kinds": [],
       "layout": "IPY_MODEL_754ec487d764400a9500567030669eee",
       "style": "IPY_MODEL_c184a341ebb94027a3e34acf4b2fa8de"
      }
     },
     "c46f79df281b49e7b55c3fcd9b667c44": {
      "model_module": "@jupyter-widgets/controls",
      "model_module_version": "1.5.0",
      "model_name": "DescriptionStyleModel",
      "state": {
       "description_width": ""
      }
     },
     "c49556f5a3be4810b1aa6d48057184c8": {
      "model_module": "@jupyter-widgets/controls",
      "model_module_version": "1.5.0",
      "model_name": "TextModel",
      "state": {
       "_dom_classes": [
        "nbtools-menu-attached"
       ],
       "layout": "IPY_MODEL_43ae99c42e8f4a7da4009cb811f069f3",
       "style": "IPY_MODEL_c6e16dd6ca0d41e393c949d8f65d8481"
      }
     },
     "c580af3e604f43f39870a62ed3263293": {
      "model_module": "@jupyter-widgets/controls",
      "model_module_version": "1.5.0",
      "model_name": "ButtonStyleModel",
      "state": {}
     },
     "c5be80210d6c4f7f9ce14ffb9a8a188f": {
      "model_module": "@jupyter-widgets/base",
      "model_module_version": "1.2.0",
      "model_name": "LayoutModel",
      "state": {
       "grid_area": "input",
       "width": "auto"
      }
     },
     "c6e16dd6ca0d41e393c949d8f65d8481": {
      "model_module": "@jupyter-widgets/controls",
      "model_module_version": "1.5.0",
      "model_name": "DescriptionStyleModel",
      "state": {
       "description_width": ""
      }
     },
     "c7284673463b4a8fb2aebfc43e5adfe4": {
      "model_module": "@jupyter-widgets/base",
      "model_module_version": "1.2.0",
      "model_name": "LayoutModel",
      "state": {
       "grid_template_areas": "\n                    \"label input\"\n                    \". description\"\n                ",
       "grid_template_columns": "25% 75%",
       "grid_template_rows": "auto auto",
       "width": "100%"
      }
     },
     "c83c4f40504a49508f12db42d6324218": {
      "model_module": "@jupyter-widgets/base",
      "model_module_version": "1.2.0",
      "model_name": "LayoutModel",
      "state": {}
     },
     "c89b4d4942f94b65bf75f5289864d54c": {
      "model_module": "@jupyter-widgets/base",
      "model_module_version": "1.2.0",
      "model_name": "LayoutModel",
      "state": {
       "grid_area": "description",
       "width": "auto"
      }
     },
     "c953fea9749b47c39bbdeef9611ca0a7": {
      "model_module": "@jupyter-widgets/controls",
      "model_module_version": "1.5.0",
      "model_name": "DescriptionStyleModel",
      "state": {
       "description_width": ""
      }
     },
     "ca5372b0ab9e499ebba921edf4cec95e": {
      "model_module": "@genepattern/nbtools",
      "model_module_version": "^21.9.0-beta.1",
      "model_name": "UIOutputModel",
      "state": {
       "_model_module_version": "^21.9.0-beta.1",
       "_view_module_version": "^21.9.0-beta.1",
       "appendix": "IPY_MODEL_3596e4567ad04a1bab4b0e16cf63ce2b",
       "error": "Cannot find tool: GenePattern Cloud | urn:lsid:broad.mit.edu:cancer.software.genepattern.module.analysis:00002:2",
       "layout": "IPY_MODEL_821b2e229dba49ee833d1d591ad1c8d7",
       "name": "Cannot find tool"
      }
     },
     "cb71937342fe4e48aa0fb16a632bced5": {
      "model_module": "@jupyter-widgets/controls",
      "model_module_version": "1.5.0",
      "model_name": "LabelModel",
      "state": {
       "description": "track type",
       "layout": "IPY_MODEL_34470d0fa3414c4aa15639fe158e8dfa",
       "style": "IPY_MODEL_cf93b437f3974f89b48aa680e152df2e",
       "value": "track type"
      }
     },
     "cb787013647440399f18c1607fd26562": {
      "model_module": "@jupyter-widgets/controls",
      "model_module_version": "1.5.0",
      "model_name": "GridBoxModel",
      "state": {
       "_dom_classes": [
        "nbtools-input",
        "nbtools-textinput"
       ],
       "children": [
        "IPY_MODEL_d1c93908af704efeb999c9d510b1f43b",
        "IPY_MODEL_3a8bdf4973f44f78aa509cb97f557910",
        "IPY_MODEL_acdb7802305544c2b7b7a188d3f9f3a6"
       ],
       "layout": "IPY_MODEL_dcd8f237ecca4e59a6772eb29ec2813d"
      }
     },
     "cc05b0f64f5a4215912aedce5b6b7993": {
      "model_module": "@jupyter-widgets/base",
      "model_module_version": "1.2.0",
      "model_name": "LayoutModel",
      "state": {
       "grid_area": "description",
       "width": "auto"
      }
     },
     "cc6428a4caf640a1b2892237a10eb9a7": {
      "model_module": "@jupyter-widgets/base",
      "model_module_version": "1.2.0",
      "model_name": "LayoutModel",
      "state": {}
     },
     "ccb3225bb96c4f108bd7dce565d68f4d": {
      "model_module": "@jupyter-widgets/controls",
      "model_module_version": "1.5.0",
      "model_name": "ButtonModel",
      "state": {
       "_dom_classes": [
        "hidden"
       ],
       "description": "Run",
       "layout": "IPY_MODEL_7f7529f4510b405f8d4c57abe8b2293e",
       "style": "IPY_MODEL_ec0f34e683ee45dda4dec3bc5a54ea50"
      }
     },
     "cd04e327158d46ddab7cf6d2d491a76b": {
      "model_module": "@jupyter-widgets/base",
      "model_module_version": "1.2.0",
      "model_name": "LayoutModel",
      "state": {}
     },
     "ce6e0e38d7a5418d904090b8af06a7c1": {
      "model_module": "@jupyter-widgets/controls",
      "model_module_version": "1.5.0",
      "model_name": "TextModel",
      "state": {
       "_dom_classes": [
        "nbtools-menu-attached"
       ],
       "layout": "IPY_MODEL_200a1fe7706f4cb28c8be8f706e389fd",
       "style": "IPY_MODEL_6cb04e77f41243f8bd7a2bec24141214"
      }
     },
     "ceb15deb9c804225b026e947f5cf2d61": {
      "model_module": "@jupyter-widgets/controls",
      "model_module_version": "1.5.0",
      "model_name": "GridBoxModel",
      "state": {
       "_dom_classes": [
        "nbtools-input",
        "nbtools-textinput"
       ],
       "children": [
        "IPY_MODEL_d3091a1197374efbbf9d0ec4046c8a78",
        "IPY_MODEL_ff088a8b5fe844e7b73b41017cd1e582",
        "IPY_MODEL_a2e8a1f8aa4b473f9992999213d2afe7"
       ],
       "layout": "IPY_MODEL_5796d79a371642c184e5d2c0deb8a135"
      }
     },
     "cf0c9c656e0945558ef78bc0e9b0ec5c": {
      "model_module": "@jupyter-widgets/base",
      "model_module_version": "1.2.0",
      "model_name": "LayoutModel",
      "state": {
       "grid_template_areas": "\n                    \"label input\"\n                    \". description\"\n                ",
       "grid_template_columns": "25% 75%",
       "grid_template_rows": "auto auto",
       "width": "100%"
      }
     },
     "cf93b437f3974f89b48aa680e152df2e": {
      "model_module": "@jupyter-widgets/controls",
      "model_module_version": "1.5.0",
      "model_name": "DescriptionStyleModel",
      "state": {
       "description_width": ""
      }
     },
     "d11f89b29b7643178a41f6df25549ccb": {
      "model_module": "@jupyter-widgets/base",
      "model_module_version": "1.2.0",
      "model_name": "LayoutModel",
      "state": {
       "grid_template_areas": "\n                    \"label input\"\n                    \". description\"\n                ",
       "grid_template_columns": "25% 75%",
       "grid_template_rows": "auto auto",
       "width": "100%"
      }
     },
     "d18223d3932e4575a863dcc25dc9b016": {
      "model_module": "@jupyter-widgets/controls",
      "model_module_version": "1.5.0",
      "model_name": "DescriptionStyleModel",
      "state": {
       "description_width": ""
      }
     },
     "d185e8aa640946b181f7b28715c7eb5f": {
      "model_module": "@jupyter-widgets/base",
      "model_module_version": "1.2.0",
      "model_name": "LayoutModel",
      "state": {}
     },
     "d1c93908af704efeb999c9d510b1f43b": {
      "model_module": "@jupyter-widgets/controls",
      "model_module_version": "1.5.0",
      "model_name": "LabelModel",
      "state": {
       "description": "output variable",
       "layout": "IPY_MODEL_a32a95effe47400caea6d670a161cd9e",
       "style": "IPY_MODEL_5274220b59fc4d8ea61c8fdf4d9f1e6d",
       "value": "output variable"
      }
     },
     "d1cfc4f55a6245b3950bfe67f68861b4": {
      "model_module": "@jupyter-widgets/base",
      "model_module_version": "1.2.0",
      "model_name": "LayoutModel",
      "state": {}
     },
     "d1eeccd250ff46939651a86fb8267672": {
      "model_module": "@jupyter-widgets/controls",
      "model_module_version": "1.5.0",
      "model_name": "DescriptionStyleModel",
      "state": {
       "description_width": ""
      }
     },
     "d1fc1bddf0a94cc29bdd3ad40a645c76": {
      "model_module": "@jupyter-widgets/controls",
      "model_module_version": "1.5.0",
      "model_name": "TextModel",
      "state": {
       "_dom_classes": [
        "nbtools-menu-attached"
       ],
       "layout": "IPY_MODEL_4aff37a79b1b450b998d80e8c5c64de2",
       "style": "IPY_MODEL_3fc3182444124a24ba3d401423280ef4"
      }
     },
     "d3091a1197374efbbf9d0ec4046c8a78": {
      "model_module": "@jupyter-widgets/controls",
      "model_module_version": "1.5.0",
      "model_name": "LabelModel",
      "state": {
       "description": "output variable",
       "layout": "IPY_MODEL_859d44fa9048402f806d3978b9119b8f",
       "style": "IPY_MODEL_819e198dd9354c7c9d32d653326e0e9d",
       "value": "output variable"
      }
     },
     "d39c867f4b1a4223acbbe232c0df9820": {
      "model_module": "@jupyter-widgets/base",
      "model_module_version": "1.2.0",
      "model_name": "LayoutModel",
      "state": {
       "grid_area": "input",
       "width": "auto"
      }
     },
     "d4317a85f31a476c903bd190fb20ed69": {
      "model_module": "@jupyter-widgets/controls",
      "model_module_version": "1.5.0",
      "model_name": "DescriptionStyleModel",
      "state": {
       "description_width": ""
      }
     },
     "d4ffa3a1a2194d3c873841231b18abb5": {
      "model_module": "@jupyter-widgets/base",
      "model_module_version": "1.2.0",
      "model_name": "LayoutModel",
      "state": {}
     },
     "d5008ca6cdf646a38b53a0fb4a7affa2": {
      "model_module": "@jupyter-widgets/base",
      "model_module_version": "1.2.0",
      "model_name": "LayoutModel",
      "state": {}
     },
     "d5617a3a6c364e208f70aa15fc26a9b4": {
      "model_module": "@jupyter-widgets/controls",
      "model_module_version": "1.5.0",
      "model_name": "GridBoxModel",
      "state": {
       "_dom_classes": [
        "nbtools-input",
        "nbtools-comboinput"
       ],
       "children": [
        "IPY_MODEL_cb71937342fe4e48aa0fb16a632bced5",
        "IPY_MODEL_4f53b58353c742f58989a2d10955ef60",
        "IPY_MODEL_5f8eab27bde14729b49fca65fae25196"
       ],
       "layout": "IPY_MODEL_dca58215634c4ba4b969ecb164c2037a"
      }
     },
     "d75860ebd66a4833be6e8fc7053027b8": {
      "model_module": "@jupyter-widgets/controls",
      "model_module_version": "1.5.0",
      "model_name": "DescriptionStyleModel",
      "state": {
       "description_width": ""
      }
     },
     "d7fe3a14727a4310baa45a145bade33c": {
      "model_module": "@jupyter-widgets/controls",
      "model_module_version": "1.5.0",
      "model_name": "DescriptionStyleModel",
      "state": {
       "description_width": ""
      }
     },
     "d8666b33939e4f709af82a0c4183eee6": {
      "model_module": "@jupyter-widgets/base",
      "model_module_version": "1.2.0",
      "model_name": "LayoutModel",
      "state": {}
     },
     "d8870748dd7647cfa752e0a0d918425c": {
      "model_module": "@jupyter-widgets/controls",
      "model_module_version": "1.5.0",
      "model_name": "DescriptionStyleModel",
      "state": {
       "description_width": ""
      }
     },
     "d8dfb1682a364c808e56530f889d4294": {
      "model_module": "@jupyter-widgets/controls",
      "model_module_version": "1.5.0",
      "model_name": "ComboboxModel",
      "state": {
       "_dom_classes": [
        "nbtools-menu-attached"
       ],
       "choices": {},
       "ensure_option": false,
       "kinds": [
        "_s.odf"
       ],
       "layout": "IPY_MODEL_f2e84f1c88584910a206f28c0b7f3908",
       "style": "IPY_MODEL_8b1017ffb2f64d859d01539f3d7e0984"
      }
     },
     "d91271eabc15464a96c06b7e963d14b9": {
      "model_module": "@jupyter-widgets/base",
      "model_module_version": "1.2.0",
      "model_name": "LayoutModel",
      "state": {
       "grid_area": "description",
       "width": "auto"
      }
     },
     "da0bd30d044e4b3dbc6372e2c4fda828": {
      "model_module": "@jupyter-widgets/base",
      "model_module_version": "1.2.0",
      "model_name": "LayoutModel",
      "state": {
       "display": "none",
       "grid_template_areas": "\n                    \"label input\"\n                    \". description\"\n                ",
       "grid_template_columns": "25% 75%",
       "grid_template_rows": "auto auto",
       "width": "100%"
      }
     },
     "db10b282abd743fb819b531573416164": {
      "model_module": "@jupyter-widgets/controls",
      "model_module_version": "1.5.0",
      "model_name": "DescriptionStyleModel",
      "state": {
       "description_width": ""
      }
     },
     "dc422019a880496d8bd9311c000b92f7": {
      "model_module": "@jupyter-widgets/controls",
      "model_module_version": "1.5.0",
      "model_name": "VBoxModel",
      "state": {
       "layout": "IPY_MODEL_50d5c5cb58504a31b41fd8054ec562c0"
      }
     },
     "dca58215634c4ba4b969ecb164c2037a": {
      "model_module": "@jupyter-widgets/base",
      "model_module_version": "1.2.0",
      "model_name": "LayoutModel",
      "state": {
       "grid_template_areas": "\n                    \"label input\"\n                    \". description\"\n                ",
       "grid_template_columns": "25% 75%",
       "grid_template_rows": "auto auto",
       "width": "100%"
      }
     },
     "dccb8d35d14943a2bde570fced641a51": {
      "model_module": "@jupyter-widgets/controls",
      "model_module_version": "1.5.0",
      "model_name": "DescriptionStyleModel",
      "state": {
       "description_width": ""
      }
     },
     "dcd8f237ecca4e59a6772eb29ec2813d": {
      "model_module": "@jupyter-widgets/base",
      "model_module_version": "1.2.0",
      "model_name": "LayoutModel",
      "state": {
       "display": "none",
       "grid_template_areas": "\n                    \"label input\"\n                    \". description\"\n                ",
       "grid_template_columns": "25% 75%",
       "grid_template_rows": "auto auto",
       "width": "100%"
      }
     },
     "dce436bec394485faaa8e9857c13c69e": {
      "model_module": "@jupyter-widgets/base",
      "model_module_version": "1.2.0",
      "model_name": "LayoutModel",
      "state": {}
     },
     "dce9aebe02894153a827a77887e98fb5": {
      "model_module": "@jupyter-widgets/controls",
      "model_module_version": "1.5.0",
      "model_name": "LabelModel",
      "state": {
       "description": "Username",
       "layout": "IPY_MODEL_acca64afb56249a2b31f2814c1185355",
       "style": "IPY_MODEL_d1eeccd250ff46939651a86fb8267672",
       "value": "Username*"
      }
     },
     "dded4e174fe642e68d2c3c30c01b14cb": {
      "model_module": "@jupyter-widgets/controls",
      "model_module_version": "1.5.0",
      "model_name": "LabelModel",
      "state": {
       "layout": "IPY_MODEL_55cb4bdb39444160b461cc85b2d13be4",
       "style": "IPY_MODEL_95f4403737c2477d90ac6e86a1235625"
      }
     },
     "de3d498eef434076942b008ad72cceab": {
      "model_module": "@jupyter-widgets/controls",
      "model_module_version": "1.5.0",
      "model_name": "LabelModel",
      "state": {
       "description": "locus",
       "layout": "IPY_MODEL_7e08f5f8c82f4c1f812568fe530446d5",
       "style": "IPY_MODEL_59acdfe09f8b4b6697df4016bd5c0720",
       "value": "locus"
      }
     },
     "de82a0b7f1054ca3b17ca50e43e9b386": {
      "model_module": "@jupyter-widgets/controls",
      "model_module_version": "1.5.0",
      "model_name": "ButtonStyleModel",
      "state": {}
     },
     "ded92a7e95804e9a8a0112810ffe53be": {
      "model_module": "@jupyter-widgets/controls",
      "model_module_version": "1.5.0",
      "model_name": "DescriptionStyleModel",
      "state": {
       "description_width": ""
      }
     },
     "df0fc9b3bc1a43c1933dae5f67eb4c10": {
      "model_module": "@jupyter-widgets/base",
      "model_module_version": "1.2.0",
      "model_name": "LayoutModel",
      "state": {
       "grid_area": "description",
       "width": "auto"
      }
     },
     "df390f64e8474df5a552a43af02d1d9d": {
      "model_module": "@jupyter-widgets/output",
      "model_module_version": "1.0.0",
      "model_name": "OutputModel",
      "state": {
       "layout": "IPY_MODEL_6090aa2bfd694551837bfda8d6070647"
      }
     },
     "e08527d1332f457d947e319af6238f58": {
      "model_module": "@jupyter-widgets/controls",
      "model_module_version": "1.5.0",
      "model_name": "DescriptionStyleModel",
      "state": {
       "description_width": ""
      }
     },
     "e136682109da4fa48f77d93f265fd5e2": {
      "model_module": "@jupyter-widgets/controls",
      "model_module_version": "1.5.0",
      "model_name": "DescriptionStyleModel",
      "state": {
       "description_width": ""
      }
     },
     "e1dce13304fc4d3fb4b00aa37752eb37": {
      "model_module": "@jupyter-widgets/base",
      "model_module_version": "1.2.0",
      "model_name": "LayoutModel",
      "state": {
       "grid_area": "label",
       "width": "auto"
      }
     },
     "e405a30cd469460ba8b35bf04d6c4769": {
      "model_module": "@jupyter-widgets/base",
      "model_module_version": "1.2.0",
      "model_name": "LayoutModel",
      "state": {
       "grid_area": "label",
       "width": "auto"
      }
     },
     "e405ae166b7d4b1ca33583fa6d62e54b": {
      "model_module": "@jupyter-widgets/controls",
      "model_module_version": "1.5.0",
      "model_name": "TextModel",
      "state": {
       "_dom_classes": [
        "nbtools-menu-attached"
       ],
       "layout": "IPY_MODEL_ae9fe23f262a41e084f4ce528d2b53d5",
       "style": "IPY_MODEL_6d624ca6ac494d4bb049200eaef856d7"
      }
     },
     "e408fd9e887c4487bb0afa6d68b43a4c": {
      "model_module": "@jupyter-widgets/base",
      "model_module_version": "1.2.0",
      "model_name": "LayoutModel",
      "state": {
       "grid_area": "input",
       "width": "auto"
      }
     },
     "e672f7f8985745cda1a99b790225899a": {
      "model_module": "@jupyter-widgets/controls",
      "model_module_version": "1.5.0",
      "model_name": "ComboboxModel",
      "state": {
       "_dom_classes": [
        "nbtools-menu-attached"
       ],
       "choices": {
        "": "",
        "bam": "bam",
        "bb": "bb",
        "bed": "bed",
        "bedgraph": "bedgraph",
        "bedpe": "bedpe",
        "bedpe-loop": "bedpe-loop",
        "bigbed": "bigbed",
        "bigwig": "bigwig",
        "bp": "bp",
        "bw": "bw",
        "cram": "cram",
        "gwas": "gwas",
        "mut": "mut",
        "seg": "seg",
        "tdf": "tdf",
        "vcf": "vcf",
        "wig": "wig"
       },
       "ensure_option": false,
       "kinds": [],
       "layout": "IPY_MODEL_6075cfac06074424a511a2cf651e86ee",
       "style": "IPY_MODEL_b3ef6b8c400e43f9afe8538033fba970"
      }
     },
     "e6fa0d31ef4f479188f6f5c71d62b637": {
      "model_module": "@jupyter-widgets/controls",
      "model_module_version": "1.5.0",
      "model_name": "GridBoxModel",
      "state": {
       "_dom_classes": [
        "nbtools-input",
        "nbtools-fileinput"
       ],
       "children": [
        "IPY_MODEL_329ae33e94c74050ab1dd4c5b530464c",
        "IPY_MODEL_81eb66b49ce84da8b48ab4b5ac71b38d",
        "IPY_MODEL_34a53949fb564428969bab52eaa95260"
       ],
       "layout": "IPY_MODEL_82ff5098eb8f446d9cadb1b3c6f769f2"
      }
     },
     "eaeba277da7541798f2ebfe1785a1c7a": {
      "model_module": "@jupyter-widgets/controls",
      "model_module_version": "1.5.0",
      "model_name": "GridBoxModel",
      "state": {
       "_dom_classes": [
        "nbtools-input",
        "nbtools-comboinput"
       ],
       "children": [
        "IPY_MODEL_c09a684bdc8847d18312f21fab30003e",
        "IPY_MODEL_e672f7f8985745cda1a99b790225899a",
        "IPY_MODEL_7939a0b8f0784e33a7ecefacfc795e3a"
       ],
       "layout": "IPY_MODEL_c7284673463b4a8fb2aebfc43e5adfe4"
      }
     },
     "eb16354cece346efb17896a0f4fd8d00": {
      "model_module": "@jupyter-widgets/base",
      "model_module_version": "1.2.0",
      "model_name": "LayoutModel",
      "state": {}
     },
     "eb3c7778400943dfbe338dede0bde623": {
      "model_module": "@jupyter-widgets/controls",
      "model_module_version": "1.5.0",
      "model_name": "GridBoxModel",
      "state": {
       "_dom_classes": [
        "nbtools-input",
        "nbtools-textinput"
       ],
       "children": [
        "IPY_MODEL_9185166b82a44d70b3d721c938346a6e",
        "IPY_MODEL_ce6e0e38d7a5418d904090b8af06a7c1",
        "IPY_MODEL_477f45321c6a499d9206ec6e30c9a0c2"
       ],
       "layout": "IPY_MODEL_9c63f7c66ad54dbfacedca1cae13de12"
      }
     },
     "ec0f34e683ee45dda4dec3bc5a54ea50": {
      "model_module": "@jupyter-widgets/controls",
      "model_module_version": "1.5.0",
      "model_name": "ButtonStyleModel",
      "state": {}
     },
     "ec906260f00747b49906df7e6890323e": {
      "model_module": "@jupyter-widgets/base",
      "model_module_version": "1.2.0",
      "model_name": "LayoutModel",
      "state": {}
     },
     "ed73009b17ff4fbb9328b1254c8b8cb7": {
      "model_module": "@jupyter-widgets/base",
      "model_module_version": "1.2.0",
      "model_name": "LayoutModel",
      "state": {}
     },
     "ee51d0a904f740139c286f5073e8e64c": {
      "model_module": "@jupyter-widgets/controls",
      "model_module_version": "1.5.0",
      "model_name": "DescriptionStyleModel",
      "state": {
       "description_width": ""
      }
     },
     "ef068ffd11f640f097bc149f2a5a7085": {
      "model_module": "@genepattern/nbtools",
      "model_module_version": "^21.9.0-beta.1",
      "model_name": "UIBuilderModel",
      "state": {
       "_model_module_version": "^21.9.0-beta.1",
       "_parameters": [
        {
         "choices": {},
         "default": "",
         "description": "",
         "events": null,
         "hide": false,
         "id": null,
         "kinds": [
          "_s.odf"
         ],
         "label": "bar",
         "name": "bar",
         "optional": false,
         "type": "file",
         "value": ""
        },
        {
         "choices": {},
         "default": "",
         "description": "",
         "events": null,
         "hide": true,
         "id": null,
         "kinds": null,
         "label": "output variable",
         "name": "output_var",
         "optional": true,
         "type": "text",
         "value": ""
        }
       ],
       "_view_module_version": "^21.9.0-beta.1",
       "form": "IPY_MODEL_0de7ec7c49454a32b6ade14840e76678",
       "layout": "IPY_MODEL_8a31a095e8774b48a313c5ea229cbcf1",
       "name": "moose",
       "origin": "Notebook",
       "output": "IPY_MODEL_f767108c4a3a495da53b115979756c50",
       "output_var": ""
      }
     },
     "ef6eaac00cf24e57b45f9e318b0c3495": {
      "model_module": "@jupyter-widgets/controls",
      "model_module_version": "1.5.0",
      "model_name": "ButtonModel",
      "state": {
       "_dom_classes": [
        "hidden"
       ],
       "description": "Run",
       "layout": "IPY_MODEL_15abfdcf232e4190a866f2b83afa84d7",
       "style": "IPY_MODEL_2e545f482bc24d2ead5ee58ec71531b8"
      }
     },
     "ef96f9de35564743923c4e2bef901ae2": {
      "model_module": "@jupyter-widgets/output",
      "model_module_version": "1.0.0",
      "model_name": "OutputModel",
      "state": {
       "layout": "IPY_MODEL_ec906260f00747b49906df7e6890323e"
      }
     },
     "f10254953bb34b738921d4ed6708ace6": {
      "model_module": "@jupyter-widgets/base",
      "model_module_version": "1.2.0",
      "model_name": "LayoutModel",
      "state": {
       "grid_area": "input",
       "width": "auto"
      }
     },
     "f10aad0e420f4972bd6b921dfb66dcee": {
      "model_module": "@jupyter-widgets/controls",
      "model_module_version": "1.5.0",
      "model_name": "TextModel",
      "state": {
       "_dom_classes": [
        "nbtools-menu-attached",
        "nbtools-nosendto"
       ],
       "layout": "IPY_MODEL_7e11f185eb3b4eea8c1d290f1b57db76",
       "style": "IPY_MODEL_3ca1af4222e94b95b51a781c87012e4c"
      }
     },
     "f181ddf439e04a85ac9f55bed73d8dc1": {
      "model_module": "@jupyter-widgets/base",
      "model_module_version": "1.2.0",
      "model_name": "LayoutModel",
      "state": {}
     },
     "f1d3b109ddcc4affa9ecc5fef45f2657": {
      "model_module": "@jupyter-widgets/controls",
      "model_module_version": "1.5.0",
      "model_name": "LabelModel",
      "state": {
       "layout": "IPY_MODEL_afae5cd85c6e4086ab4ae601332d9593",
       "style": "IPY_MODEL_f92093579cad4a9a8656049be31c035f"
      }
     },
     "f268af851f4a4309967efde103f43f44": {
      "model_module": "@jupyter-widgets/controls",
      "model_module_version": "1.5.0",
      "model_name": "GridBoxModel",
      "state": {
       "_dom_classes": [
        "nbtools-input",
        "nbtools-textinput"
       ],
       "children": [
        "IPY_MODEL_57fd8573b42a4207ad17b688047d8cfe",
        "IPY_MODEL_e405ae166b7d4b1ca33583fa6d62e54b",
        "IPY_MODEL_7be7334f49464308a58688002795f9f1"
       ],
       "layout": "IPY_MODEL_6a9353b8f753471fa32905290a28076c"
      }
     },
     "f2e84f1c88584910a206f28c0b7f3908": {
      "model_module": "@jupyter-widgets/base",
      "model_module_version": "1.2.0",
      "model_name": "LayoutModel",
      "state": {}
     },
     "f37049d22a8146f9a14a4c2ff0a18160": {
      "model_module": "@jupyter-widgets/base",
      "model_module_version": "1.2.0",
      "model_name": "LayoutModel",
      "state": {}
     },
     "f38c3c5f5f4348409faa5f0380667ed6": {
      "model_module": "@jupyter-widgets/controls",
      "model_module_version": "1.5.0",
      "model_name": "DescriptionStyleModel",
      "state": {
       "description_width": ""
      }
     },
     "f472b82bb4924abdbdfd7d1aa532343e": {
      "model_module": "@jupyter-widgets/controls",
      "model_module_version": "1.5.0",
      "model_name": "TextModel",
      "state": {
       "_dom_classes": [
        "nbtools-menu-attached"
       ],
       "layout": "IPY_MODEL_b041403f17094dde98085e1855ade4ac",
       "style": "IPY_MODEL_43c0ca149c4d45329018c2f333156332"
      }
     },
     "f52da388bb3c40688d845210cb7b138f": {
      "model_module": "@genepattern/nbtools",
      "model_module_version": "^21.9.0-beta.1",
      "model_name": "UIOutputModel",
      "state": {
       "_model_module_version": "^21.9.0-beta.1",
       "_view_module_version": "^21.9.0-beta.1",
       "appendix": "IPY_MODEL_dc422019a880496d8bd9311c000b92f7",
       "error": "Cannot find tool: GenePattern Cloud | urn:lsid:broad.mit.edu:cancer.software.genepattern.module.analysis:00017:4.2",
       "layout": "IPY_MODEL_d5008ca6cdf646a38b53a0fb4a7affa2",
       "name": "Cannot find tool"
      }
     },
     "f6c81ac19bef4e8c9b51037a1f1e693d": {
      "model_module": "@jupyter-widgets/controls",
      "model_module_version": "1.5.0",
      "model_name": "GridBoxModel",
      "state": {
       "_dom_classes": [
        "nbtools-input",
        "nbtools-textinput"
       ],
       "children": [
        "IPY_MODEL_128b51c91ff844faba353174ebddabb0",
        "IPY_MODEL_d1fc1bddf0a94cc29bdd3ad40a645c76",
        "IPY_MODEL_dded4e174fe642e68d2c3c30c01b14cb"
       ],
       "layout": "IPY_MODEL_3356c2cddb5c4e46b7df29895c8312d8"
      }
     },
     "f767108c4a3a495da53b115979756c50": {
      "model_module": "@jupyter-widgets/output",
      "model_module_version": "1.0.0",
      "model_name": "OutputModel",
      "state": {
       "layout": "IPY_MODEL_8dcb63d7d3224c1ca3c11610c038b982"
      }
     },
     "f7cd3daa619d47d89b3a5bef86fb52bc": {
      "model_module": "@jupyter-widgets/base",
      "model_module_version": "1.2.0",
      "model_name": "LayoutModel",
      "state": {
       "grid_area": "label",
       "width": "auto"
      }
     },
     "f8303608c8954948a167aa854ea288e9": {
      "model_module": "@jupyter-widgets/base",
      "model_module_version": "1.2.0",
      "model_name": "LayoutModel",
      "state": {
       "grid_area": "input",
       "width": "auto"
      }
     },
     "f8a4fe0d6cc34c8ca024df1a7d541fc9": {
      "model_module": "@jupyter-widgets/controls",
      "model_module_version": "1.5.0",
      "model_name": "GridBoxModel",
      "state": {
       "_dom_classes": [
        "nbtools-input",
        "nbtools-comboinput",
        "required"
       ],
       "children": [
        "IPY_MODEL_feddac3ff9954a4981d2aba21b038aa0",
        "IPY_MODEL_92cdca91b8c64680a32a8107478f6955",
        "IPY_MODEL_b1e7082412df488db2e6bfcf7db57593"
       ],
       "layout": "IPY_MODEL_cf0c9c656e0945558ef78bc0e9b0ec5c"
      }
     },
     "f92093579cad4a9a8656049be31c035f": {
      "model_module": "@jupyter-widgets/controls",
      "model_module_version": "1.5.0",
      "model_name": "DescriptionStyleModel",
      "state": {
       "description_width": ""
      }
     },
     "f9e58995e3b640cab8cb2331e2fd910d": {
      "model_module": "@jupyter-widgets/controls",
      "model_module_version": "1.5.0",
      "model_name": "ComboboxModel",
      "state": {
       "_dom_classes": [
        "nbtools-menu-attached"
       ],
       "choices": {},
       "ensure_option": false,
       "kinds": [],
       "layout": "IPY_MODEL_2321621e1efb4842996ae9e462cf2a2f",
       "style": "IPY_MODEL_413d7081f8a149e6ae93a9698c59a1da"
      }
     },
     "fa6da36e97b040e3b7cbb80f45e4b2e3": {
      "model_module": "@jupyter-widgets/controls",
      "model_module_version": "1.5.0",
      "model_name": "ButtonStyleModel",
      "state": {}
     },
     "fab9f3dbfc3c4f9aa33beb9ff834f994": {
      "model_module": "@jupyter-widgets/controls",
      "model_module_version": "1.5.0",
      "model_name": "VBoxModel",
      "state": {
       "_dom_classes": [
        "widget-interact"
       ],
       "children": [
        "IPY_MODEL_0227196fa87d400bac2644e405846f83",
        "IPY_MODEL_a9e3e6dda51640b48474456cf8d33b3c"
       ],
       "layout": "IPY_MODEL_adcd45822731414eb422e2605e99fcad"
      }
     },
     "fbe9c470d19a4c998b2a143f1b683936": {
      "model_module": "@jupyter-widgets/base",
      "model_module_version": "1.2.0",
      "model_name": "LayoutModel",
      "state": {
       "grid_template_areas": "\n                    \"label input\"\n                    \". description\"\n                ",
       "grid_template_columns": "25% 75%",
       "grid_template_rows": "auto auto",
       "width": "100%"
      }
     },
     "fd12c4b10c8d4eb8b66ddb7650e98dab": {
      "model_module": "@jupyter-widgets/controls",
      "model_module_version": "1.5.0",
      "model_name": "ButtonStyleModel",
      "state": {}
     },
     "fe0b62c446ba4332b811a35bffc5a248": {
      "model_module": "@jupyter-widgets/controls",
      "model_module_version": "1.5.0",
      "model_name": "LabelModel",
      "state": {
       "description": "GenePattern Server",
       "layout": "IPY_MODEL_6be428d1fccd453e93cf35d8ac95144b",
       "style": "IPY_MODEL_b8fdc8e2a2fa412e9ef295a227155bdb",
       "value": "GenePattern Server*"
      }
     },
     "feddac3ff9954a4981d2aba21b038aa0": {
      "model_module": "@jupyter-widgets/controls",
      "model_module_version": "1.5.0",
      "model_name": "LabelModel",
      "state": {
       "description": "GenePattern Server",
       "layout": "IPY_MODEL_acf9df17c1234434bdfe092bc2dcc560",
       "style": "IPY_MODEL_49280b5ec0ba4b5d95aec7dae8d96c18",
       "value": "GenePattern Server*"
      }
     },
     "ff088a8b5fe844e7b73b41017cd1e582": {
      "model_module": "@jupyter-widgets/controls",
      "model_module_version": "1.5.0",
      "model_name": "TextModel",
      "state": {
       "_dom_classes": [
        "nbtools-menu-attached"
       ],
       "layout": "IPY_MODEL_b7001122c9fd4811be0fca737b4501fd",
       "style": "IPY_MODEL_f38c3c5f5f4348409faa5f0380667ed6"
      }
     }
    },
    "version_major": 2,
    "version_minor": 0
   }
  }
 },
 "nbformat": 4,
 "nbformat_minor": 4
}
