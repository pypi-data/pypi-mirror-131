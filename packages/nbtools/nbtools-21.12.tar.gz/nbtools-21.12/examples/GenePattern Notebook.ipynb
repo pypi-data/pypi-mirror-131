{
 "cells": [
  {
   "cell_type": "markdown",
   "metadata": {},
   "source": [
    "# Login"
   ]
  },
  {
   "cell_type": "code",
   "execution_count": 2,
   "metadata": {},
   "outputs": [
    {
     "data": {
      "application/vnd.jupyter.widget-view+json": {
       "model_id": "",
       "version_major": 2,
       "version_minor": 0
      },
      "text/plain": [
       "GPAuthWidget(buttons={'Register an Account': \"\\n    const target = event.target;\\n    const widget = target.cl…"
      ]
     },
     "metadata": {},
     "output_type": "display_data"
    },
    {
     "data": {
      "application/vnd.jupyter.widget-view+json": {
       "model_id": "31ea5546ac1c437890cb278035f10116",
       "version_major": 2,
       "version_minor": 0
      },
      "text/plain": [
       "Output()"
      ]
     },
     "metadata": {},
     "output_type": "display_data"
    }
   ],
   "source": [
    "import nbtools\n",
    "\n",
    "login = nbtools.tool(id='authentication', origin='+')\n",
    "login"
   ]
  },
  {
   "cell_type": "markdown",
   "metadata": {},
   "source": [
    "# Run Modules"
   ]
  },
  {
   "cell_type": "code",
   "execution_count": 3,
   "metadata": {},
   "outputs": [
    {
     "data": {
      "application/vnd.jupyter.widget-view+json": {
       "model_id": "",
       "version_major": 2,
       "version_minor": 0
      },
      "text/plain": [
       "UIOutput(appendix=VBox(), error='Cannot find tool: GenePattern Cloud | urn:lsid:broad.mit.edu:cancer.software.…"
      ]
     },
     "metadata": {},
     "output_type": "display_data"
    },
    {
     "data": {
      "application/vnd.jupyter.widget-view+json": {
       "model_id": "c994b59ab3424ddeb0cea4b90d930339",
       "version_major": 2,
       "version_minor": 0
      },
      "text/plain": [
       "Output(outputs=({'output_type': 'display_data', 'data': {}, 'metadata': {}},))"
      ]
     },
     "metadata": {},
     "output_type": "display_data"
    }
   ],
   "source": [
    "nbtools.tool(id='urn:lsid:broad.mit.edu:cancer.software.genepattern.module.analysis:00002:2', origin='GenePattern Cloud')"
   ]
  },
  {
   "cell_type": "code",
   "execution_count": 4,
   "metadata": {},
   "outputs": [
    {
     "data": {
      "application/vnd.jupyter.widget-view+json": {
       "model_id": "",
       "version_major": 2,
       "version_minor": 0
      },
      "text/plain": [
       "UIOutput(appendix=VBox(), error='Cannot find tool: GenePattern Cloud | urn:lsid:broad.mit.edu:cancer.software.…"
      ]
     },
     "metadata": {},
     "output_type": "display_data"
    },
    {
     "data": {
      "application/vnd.jupyter.widget-view+json": {
       "model_id": "b6c000137edf4dd78a33904445fbd1de",
       "version_major": 2,
       "version_minor": 0
      },
      "text/plain": [
       "Output(outputs=({'output_type': 'display_data', 'data': {}, 'metadata': {}},))"
      ]
     },
     "metadata": {},
     "output_type": "display_data"
    }
   ],
   "source": [
    "nbtools.tool(id='urn:lsid:broad.mit.edu:cancer.software.genepattern.module.visualizer:00010:13.9', origin='GenePattern Cloud')"
   ]
  },
  {
   "cell_type": "code",
   "execution_count": 5,
   "metadata": {},
   "outputs": [
    {
     "data": {
      "application/vnd.jupyter.widget-view+json": {
       "model_id": "e238fedceab34e6eabe85a4701aa8fb3",
       "version_major": 2,
       "version_minor": 0
      },
      "text/plain": [
       "UIBuilder(collapse=True, form=InteractiveForm(children=(TextFormInput(value='', children=(Label(value='bar*', …"
      ]
     },
     "metadata": {},
     "output_type": "display_data"
    },
    {
     "data": {
      "application/vnd.jupyter.widget-view+json": {
       "model_id": "b9dd894ca4d34f9899ca9a696b61b702",
       "version_major": 2,
       "version_minor": 0
      },
      "text/plain": [
       "Output()"
      ]
     },
     "metadata": {},
     "output_type": "display_data"
    }
   ],
   "source": [
    "import nbtools\n",
    "\n",
    "@nbtools.build_ui(logo='/static/lab/50451a840dc10fd5be789eafad011deb.png')\n",
    "def foo(bar):\n",
    "    pass"
   ]
  },
  {
   "cell_type": "code",
   "execution_count": null,
   "metadata": {},
   "outputs": [],
   "source": []
  }
 ],
 "metadata": {
  "kernelspec": {
   "display_name": "Python 3 (ipykernel)",
   "language": "python",
   "name": "python3"
  },
  "language_info": {
   "codemirror_mode": {
    "name": "ipython",
    "version": 3
   },
   "file_extension": ".py",
   "mimetype": "text/x-python",
   "name": "python",
   "nbconvert_exporter": "python",
   "pygments_lexer": "ipython3",
   "version": "3.8.5"
  },
  "widgets": {
   "application/vnd.jupyter.widget-state+json": {
    "state": {
     "0105e4343d314a0e8709e2b502088ad4": {
      "model_module": "@jupyter-widgets/controls",
      "model_module_version": "1.5.0",
      "model_name": "DescriptionStyleModel",
      "state": {
       "description_width": ""
      }
     },
     "018e40309f9747559e68cbeb66d7ead3": {
      "model_module": "@jupyter-widgets/controls",
      "model_module_version": "1.5.0",
      "model_name": "DescriptionStyleModel",
      "state": {
       "description_width": ""
      }
     },
     "0485b4f26f4b49a4b01ae0b338230d9b": {
      "model_module": "@jupyter-widgets/controls",
      "model_module_version": "1.5.0",
      "model_name": "ComboboxModel",
      "state": {
       "_dom_classes": [
        "nbtools-menu-attached"
       ],
       "choices": {},
       "ensure_option": false,
       "kinds": [],
       "layout": "IPY_MODEL_2edc440dabf74c47b1956b25b47593e2",
       "style": "IPY_MODEL_8c874f574aa7420abc67b40e51f532f3"
      }
     },
     "049217105e854a80bd87d243fb1742af": {
      "model_module": "@jupyter-widgets/base",
      "model_module_version": "1.2.0",
      "model_name": "LayoutModel",
      "state": {
       "grid_area": "input",
       "width": "auto"
      }
     },
     "05f87c3f680f426b8f77c46aadbd636f": {
      "model_module": "@jupyter-widgets/base",
      "model_module_version": "1.2.0",
      "model_name": "LayoutModel",
      "state": {}
     },
     "09015541372a43718ba12abf35b39efc": {
      "model_module": "@jupyter-widgets/base",
      "model_module_version": "1.2.0",
      "model_name": "LayoutModel",
      "state": {
       "grid_area": "input",
       "width": "auto"
      }
     },
     "0b7b80fb03494f6f875d88f6f9e702b4": {
      "model_module": "@jupyter-widgets/controls",
      "model_module_version": "1.5.0",
      "model_name": "LabelModel",
      "state": {
       "layout": "IPY_MODEL_1d1425bf81ac4593b8f3fade895d4159",
       "style": "IPY_MODEL_ab1d5ab27399414182d607202b29e16c"
      }
     },
     "1096e883e87b408f82add6ae3ee99c2e": {
      "model_module": "@jupyter-widgets/base",
      "model_module_version": "1.2.0",
      "model_name": "LayoutModel",
      "state": {
       "grid_area": "description",
       "width": "auto"
      }
     },
     "11a75cf3a9b2451bb139b9b8b9ab7b03": {
      "model_module": "@jupyter-widgets/controls",
      "model_module_version": "1.5.0",
      "model_name": "DescriptionStyleModel",
      "state": {
       "description_width": ""
      }
     },
     "14d66c0dc963442a8637d21521d8311e": {
      "model_module": "@jupyter-widgets/controls",
      "model_module_version": "1.5.0",
      "model_name": "LabelModel",
      "state": {
       "layout": "IPY_MODEL_87282a66c56b4bc499b33b343a173926",
       "style": "IPY_MODEL_b080250dc77c4efab19da7c22abb132b"
      }
     },
     "16854dbd3f2b40c4a99d7f0d145d524c": {
      "model_module": "@jupyter-widgets/controls",
      "model_module_version": "1.5.0",
      "model_name": "LabelModel",
      "state": {
       "description": "Enter the URL to the track dataset(s)",
       "layout": "IPY_MODEL_b895cec5b91e4ed782c3fd83806e32cc",
       "style": "IPY_MODEL_54cf215f877548a89eeaf4b513c0cf09",
       "value": "Enter the URL to the track dataset(s)"
      }
     },
     "176ba08f17fb4ab7878db2fc5f212101": {
      "model_module": "@jupyter-widgets/controls",
      "model_module_version": "1.5.0",
      "model_name": "LabelModel",
      "state": {
       "description": "Provide a locus or gene of interest for your data",
       "layout": "IPY_MODEL_bf8aa9687b08435484cb1622d698dd40",
       "style": "IPY_MODEL_560323c68b3047c28c3fe62979465f28",
       "value": "Provide a locus or gene of interest for your data"
      }
     },
     "18e021fc0ff5411ebce7eaf7234ae41c": {
      "model_module": "@jupyter-widgets/controls",
      "model_module_version": "1.5.0",
      "model_name": "LabelModel",
      "state": {
       "description": "locus",
       "layout": "IPY_MODEL_a3c81b5e63cc43e7b97c25bc88c9f8a0",
       "style": "IPY_MODEL_d54bb01c38f046d2b64c867c10eb7e7e",
       "value": "locus"
      }
     },
     "1b0a6aed94414f11a01f804e8aa390a0": {
      "model_module": "@jupyter-widgets/base",
      "model_module_version": "1.2.0",
      "model_name": "LayoutModel",
      "state": {
       "grid_template_areas": "\n                    \"label input\"\n                    \". description\"\n                ",
       "grid_template_columns": "25% 75%",
       "grid_template_rows": "auto auto",
       "width": "100%"
      }
     },
     "1c95f676327542428e1caf936e2e8ea9": {
      "model_module": "@jupyter-widgets/controls",
      "model_module_version": "1.5.0",
      "model_name": "GridBoxModel",
      "state": {
       "_dom_classes": [
        "nbtools-input",
        "nbtools-textinput"
       ],
       "children": [
        "IPY_MODEL_18e021fc0ff5411ebce7eaf7234ae41c",
        "IPY_MODEL_44d194349da9431e8a3db9fa5d023b3c",
        "IPY_MODEL_176ba08f17fb4ab7878db2fc5f212101"
       ],
       "layout": "IPY_MODEL_36a6718593254e259cf5903f8ec4646e"
      }
     },
     "1d1425bf81ac4593b8f3fade895d4159": {
      "model_module": "@jupyter-widgets/base",
      "model_module_version": "1.2.0",
      "model_name": "LayoutModel",
      "state": {
       "grid_area": "description",
       "width": "auto"
      }
     },
     "1de1b7d2d859407fbeac8a4c093f9992": {
      "model_module": "@jupyter-widgets/controls",
      "model_module_version": "1.5.0",
      "model_name": "DescriptionStyleModel",
      "state": {
       "description_width": ""
      }
     },
     "20d171817d6d4699b297e2bc91b3628f": {
      "model_module": "@jupyter-widgets/base",
      "model_module_version": "1.2.0",
      "model_name": "LayoutModel",
      "state": {
       "grid_area": "input",
       "width": "auto"
      }
     },
     "225081a129e94eaaa6897772f480c0b3": {
      "model_module": "@jupyter-widgets/controls",
      "model_module_version": "1.5.0",
      "model_name": "GridBoxModel",
      "state": {
       "_dom_classes": [
        "nbtools-input",
        "nbtools-fileinput"
       ],
       "children": [
        "IPY_MODEL_8e5eb31ceb7e46df9f20a552a771cdde",
        "IPY_MODEL_e5c1cf4d6d814d9da5ccd89376874146",
        "IPY_MODEL_870f4c8f70f14ef88e4790241b68e6e0"
       ],
       "layout": "IPY_MODEL_7312a99c7aba4d81a4c6293c2eaa0269"
      }
     },
     "27675440232a4c8e8327a0156c2b5c21": {
      "model_module": "@jupyter-widgets/controls",
      "model_module_version": "1.5.0",
      "model_name": "GridBoxModel",
      "state": {
       "_dom_classes": [
        "nbtools-input",
        "nbtools-comboinput"
       ],
       "children": [
        "IPY_MODEL_71551ecf14e840e689ead3ad3c640a93",
        "IPY_MODEL_789afe2bdb6f4d489f50d3b1be2f9005",
        "IPY_MODEL_c442500e56344f64b4b48a9b51afcb77"
       ],
       "layout": "IPY_MODEL_63ef500aba1b4c289b58c18bc68c0d63"
      }
     },
     "2edc440dabf74c47b1956b25b47593e2": {
      "model_module": "@jupyter-widgets/base",
      "model_module_version": "1.2.0",
      "model_name": "LayoutModel",
      "state": {}
     },
     "32346d3bedd04e12946ae31f4a488590": {
      "model_module": "@jupyter-widgets/controls",
      "model_module_version": "1.5.0",
      "model_name": "DescriptionStyleModel",
      "state": {
       "description_width": ""
      }
     },
     "36a6718593254e259cf5903f8ec4646e": {
      "model_module": "@jupyter-widgets/base",
      "model_module_version": "1.2.0",
      "model_name": "LayoutModel",
      "state": {
       "grid_template_areas": "\n                    \"label input\"\n                    \". description\"\n                ",
       "grid_template_columns": "25% 75%",
       "grid_template_rows": "auto auto",
       "width": "100%"
      }
     },
     "36d63afe9cf8421aa7849b417eba98c2": {
      "model_module": "@jupyter-widgets/controls",
      "model_module_version": "1.5.0",
      "model_name": "FileUploadModel",
      "state": {
       "description_tooltip": null,
       "layout": "IPY_MODEL_6852618928704dd4a4466a5898d32993",
       "style": "IPY_MODEL_f46585eaf020456dbb284f55132a8f36"
      }
     },
     "378988aec3784422acf639ef9cb0e5e6": {
      "model_module": "@jupyter-widgets/base",
      "model_module_version": "1.2.0",
      "model_name": "LayoutModel",
      "state": {}
     },
     "3796bb77250848b19ecd56f638cd79fb": {
      "model_module": "@jupyter-widgets/base",
      "model_module_version": "1.2.0",
      "model_name": "LayoutModel",
      "state": {
       "grid_template_areas": "\n                    \"label input\"\n                    \". description\"\n                ",
       "grid_template_columns": "25% 75%",
       "grid_template_rows": "auto auto",
       "width": "100%"
      }
     },
     "37d158a64c53489a8969f9efefe7b708": {
      "model_module": "@jupyter-widgets/controls",
      "model_module_version": "1.5.0",
      "model_name": "ButtonStyleModel",
      "state": {}
     },
     "4006d1192f3b4e6eb16767193b5a0bd4": {
      "model_module": "@jupyter-widgets/controls",
      "model_module_version": "1.5.0",
      "model_name": "DescriptionStyleModel",
      "state": {
       "description_width": ""
      }
     },
     "4263d61abe8f4a2d9c7ea62d8b15871a": {
      "model_module": "@jupyter-widgets/controls",
      "model_module_version": "1.5.0",
      "model_name": "LabelModel",
      "state": {
       "description": "Choose the genome for your data.",
       "layout": "IPY_MODEL_fb3735b443c54acd908f01df54788989",
       "style": "IPY_MODEL_1de1b7d2d859407fbeac8a4c093f9992",
       "value": "Choose the genome for your data."
      }
     },
     "4447260b99c645e6bc6ce45437439f43": {
      "model_module": "@jupyter-widgets/base",
      "model_module_version": "1.2.0",
      "model_name": "LayoutModel",
      "state": {
       "grid_area": "input",
       "width": "auto"
      }
     },
     "44d194349da9431e8a3db9fa5d023b3c": {
      "model_module": "@jupyter-widgets/controls",
      "model_module_version": "1.5.0",
      "model_name": "TextModel",
      "state": {
       "_dom_classes": [
        "nbtools-menu-attached"
       ],
       "layout": "IPY_MODEL_4447260b99c645e6bc6ce45437439f43",
       "style": "IPY_MODEL_ad4484e3988b43f0a7de05a792164c48"
      }
     },
     "4550a0377851476ab8c93678eea59a9c": {
      "model_module": "@jupyter-widgets/controls",
      "model_module_version": "1.5.0",
      "model_name": "ComboboxModel",
      "state": {
       "_dom_classes": [
        "nbtools-menu-attached"
       ],
       "choices": {},
       "ensure_option": false,
       "kinds": [],
       "layout": "IPY_MODEL_378988aec3784422acf639ef9cb0e5e6",
       "style": "IPY_MODEL_9e1fb35698bc4f5a94d2bdccef0df192"
      }
     },
     "4a5bd38a89ce4fb58ecc74ec4f4313d8": {
      "model_module": "@jupyter-widgets/controls",
      "model_module_version": "1.5.0",
      "model_name": "TextModel",
      "state": {
       "_dom_classes": [
        "nbtools-menu-attached"
       ],
       "layout": "IPY_MODEL_bcf0cf507c864719bb99487846d00e82",
       "style": "IPY_MODEL_d3f836e9ee0246ec8ea1190916111d1c"
      }
     },
     "512e8e9006f04e96bc6c9e9d06a35e55": {
      "model_module": "@jupyter-widgets/output",
      "model_module_version": "1.0.0",
      "model_name": "OutputModel",
      "state": {
       "layout": "IPY_MODEL_5f83ce5895214b7e967486805a50fe95"
      }
     },
     "535e035afdb74daaac1ee10dc703d0db": {
      "model_module": "@jupyter-widgets/controls",
      "model_module_version": "1.5.0",
      "model_name": "DescriptionStyleModel",
      "state": {
       "description_width": ""
      }
     },
     "54cf215f877548a89eeaf4b513c0cf09": {
      "model_module": "@jupyter-widgets/controls",
      "model_module_version": "1.5.0",
      "model_name": "DescriptionStyleModel",
      "state": {
       "description_width": ""
      }
     },
     "55281fcca68e4f3aa4609a9f5a3a8785": {
      "model_module": "@jupyter-widgets/controls",
      "model_module_version": "1.5.0",
      "model_name": "LabelModel",
      "state": {
       "description": "output variable",
       "layout": "IPY_MODEL_732e62869e47480fb553474a6378ca8b",
       "style": "IPY_MODEL_d698ed37be3346e9aa0eae095a1fe712",
       "value": "output variable"
      }
     },
     "560323c68b3047c28c3fe62979465f28": {
      "model_module": "@jupyter-widgets/controls",
      "model_module_version": "1.5.0",
      "model_name": "DescriptionStyleModel",
      "state": {
       "description_width": ""
      }
     },
     "59bd69c35bcc40b88e4125f04e847cba": {
      "model_module": "@jupyter-widgets/controls",
      "model_module_version": "1.5.0",
      "model_name": "ComboboxModel",
      "state": {
       "_dom_classes": [
        "nbtools-menu-attached"
       ],
       "choices": {},
       "ensure_option": false,
       "kinds": [],
       "layout": "IPY_MODEL_7ef4c272f1834c6e85cdb286e60279e8",
       "style": "IPY_MODEL_4006d1192f3b4e6eb16767193b5a0bd4"
      }
     },
     "5bd5172c6a9a4c59a5a75ebc253f73c7": {
      "model_module": "@jupyter-widgets/base",
      "model_module_version": "1.2.0",
      "model_name": "LayoutModel",
      "state": {
       "display": "none",
       "grid_template_areas": "\n                    \"label input\"\n                    \". description\"\n                ",
       "grid_template_columns": "25% 75%",
       "grid_template_rows": "auto auto",
       "width": "100%"
      }
     },
     "5c80f6082fe0465abff7f02fc3b00c4a": {
      "model_module": "@jupyter-widgets/base",
      "model_module_version": "1.2.0",
      "model_name": "LayoutModel",
      "state": {
       "grid_area": "label",
       "width": "auto"
      }
     },
     "5e239a463f15415888fceca79753c44a": {
      "model_module": "@jupyter-widgets/controls",
      "model_module_version": "1.5.0",
      "model_name": "ButtonStyleModel",
      "state": {}
     },
     "5e2be768feb64394994b4631abdefe1b": {
      "model_module": "@jupyter-widgets/controls",
      "model_module_version": "1.5.0",
      "model_name": "LabelModel",
      "state": {
       "description": "output variable",
       "layout": "IPY_MODEL_cf33865250ad4bbc83ee9d40768c27e3",
       "style": "IPY_MODEL_32346d3bedd04e12946ae31f4a488590",
       "value": "output variable"
      }
     },
     "5f83ce5895214b7e967486805a50fe95": {
      "model_module": "@jupyter-widgets/base",
      "model_module_version": "1.2.0",
      "model_name": "LayoutModel",
      "state": {}
     },
     "63ef500aba1b4c289b58c18bc68c0d63": {
      "model_module": "@jupyter-widgets/base",
      "model_module_version": "1.2.0",
      "model_name": "LayoutModel",
      "state": {
       "grid_template_areas": "\n                    \"label input\"\n                    \". description\"\n                ",
       "grid_template_columns": "25% 75%",
       "grid_template_rows": "auto auto",
       "width": "100%"
      }
     },
     "6852618928704dd4a4466a5898d32993": {
      "model_module": "@jupyter-widgets/base",
      "model_module_version": "1.2.0",
      "model_name": "LayoutModel",
      "state": {}
     },
     "6a904a957b2447fc8567877b13e8de92": {
      "model_module": "@jupyter-widgets/controls",
      "model_module_version": "1.5.0",
      "model_name": "VBoxModel",
      "state": {
       "children": [
        "IPY_MODEL_59bd69c35bcc40b88e4125f04e847cba",
        "IPY_MODEL_0485b4f26f4b49a4b01ae0b338230d9b"
       ],
       "layout": "IPY_MODEL_d9667a428b864d3e9599cb701810e55e"
      }
     },
     "6f201902cc6349e3acc743fd5017a5ee": {
      "model_module": "@jupyter-widgets/controls",
      "model_module_version": "1.5.0",
      "model_name": "GridBoxModel",
      "state": {
       "_dom_classes": [
        "nbtools-input",
        "nbtools-fileinput"
       ],
       "children": [
        "IPY_MODEL_7bc23b6406cc42e6bcdcb5b33450c142",
        "IPY_MODEL_c3ff5a0c385243ce809d0befaec0f216",
        "IPY_MODEL_16854dbd3f2b40c4a99d7f0d145d524c"
       ],
       "layout": "IPY_MODEL_1b0a6aed94414f11a01f804e8aa390a0"
      }
     },
     "6f5062c19ab14b8988ce737a3c6f0973": {
      "model_module": "@jupyter-widgets/base",
      "model_module_version": "1.2.0",
      "model_name": "LayoutModel",
      "state": {
       "grid_area": "description",
       "width": "auto"
      }
     },
     "6f6a3d161fce4959a2eee19b62eabe55": {
      "model_module": "@jupyter-widgets/controls",
      "model_module_version": "1.5.0",
      "model_name": "FileUploadModel",
      "state": {
       "description_tooltip": null,
       "layout": "IPY_MODEL_9dfd626bdefb40469e5209391caafe9a",
       "style": "IPY_MODEL_37d158a64c53489a8969f9efefe7b708"
      }
     },
     "71551ecf14e840e689ead3ad3c640a93": {
      "model_module": "@jupyter-widgets/controls",
      "model_module_version": "1.5.0",
      "model_name": "LabelModel",
      "state": {
       "description": "track format",
       "layout": "IPY_MODEL_5c80f6082fe0465abff7f02fc3b00c4a",
       "style": "IPY_MODEL_7bc5f4682dbb4eb7bfe3ae10fab1dd68",
       "value": "track format"
      }
     },
     "716f05f5f28842bda9243d8adf5b3edd": {
      "model_module": "@jupyter-widgets/controls",
      "model_module_version": "1.5.0",
      "model_name": "LabelModel",
      "state": {
       "description": "genome",
       "layout": "IPY_MODEL_cf922df2410b42eb8accddc9cd5e1f08",
       "style": "IPY_MODEL_0105e4343d314a0e8709e2b502088ad4",
       "value": "genome*"
      }
     },
     "7312a99c7aba4d81a4c6293c2eaa0269": {
      "model_module": "@jupyter-widgets/base",
      "model_module_version": "1.2.0",
      "model_name": "LayoutModel",
      "state": {
       "grid_template_areas": "\n                    \"label input\"\n                    \". description\"\n                ",
       "grid_template_columns": "25% 75%",
       "grid_template_rows": "auto auto",
       "width": "100%"
      }
     },
     "732e62869e47480fb553474a6378ca8b": {
      "model_module": "@jupyter-widgets/base",
      "model_module_version": "1.2.0",
      "model_name": "LayoutModel",
      "state": {
       "grid_area": "label",
       "width": "auto"
      }
     },
     "73c7f3bcb1764de3bd6291ebb88a042f": {
      "model_module": "@jupyter-widgets/controls",
      "model_module_version": "1.5.0",
      "model_name": "GridBoxModel",
      "state": {
       "_dom_classes": [
        "nbtools-input",
        "nbtools-textinput"
       ],
       "children": [
        "IPY_MODEL_5e2be768feb64394994b4631abdefe1b",
        "IPY_MODEL_d08d9ceaffbc42aa995550cf7bea8124",
        "IPY_MODEL_0b7b80fb03494f6f875d88f6f9e702b4"
       ],
       "layout": "IPY_MODEL_5bd5172c6a9a4c59a5a75ebc253f73c7"
      }
     },
     "789afe2bdb6f4d489f50d3b1be2f9005": {
      "model_module": "@jupyter-widgets/controls",
      "model_module_version": "1.5.0",
      "model_name": "ComboboxModel",
      "state": {
       "_dom_classes": [
        "nbtools-menu-attached"
       ],
       "choices": {
        "": "",
        "bam": "bam",
        "bb": "bb",
        "bed": "bed",
        "bedgraph": "bedgraph",
        "bedpe": "bedpe",
        "bedpe-loop": "bedpe-loop",
        "bigbed": "bigbed",
        "bigwig": "bigwig",
        "bp": "bp",
        "bw": "bw",
        "cram": "cram",
        "gwas": "gwas",
        "mut": "mut",
        "seg": "seg",
        "tdf": "tdf",
        "vcf": "vcf",
        "wig": "wig"
       },
       "ensure_option": false,
       "kinds": [],
       "layout": "IPY_MODEL_fe2a5a1bca8740839b5dfbcb40ee9ede",
       "style": "IPY_MODEL_e36dd7a6b9b9444aa0cd71363619990d"
      }
     },
     "7bc23b6406cc42e6bcdcb5b33450c142": {
      "model_module": "@jupyter-widgets/controls",
      "model_module_version": "1.5.0",
      "model_name": "LabelModel",
      "state": {
       "description": "tracks",
       "layout": "IPY_MODEL_d8ecaa81da6b4e9ba806276cb1e33454",
       "style": "IPY_MODEL_b6d892ad059b4cb39d1c94cb6e9992be",
       "value": "tracks"
      }
     },
     "7bc5f4682dbb4eb7bfe3ae10fab1dd68": {
      "model_module": "@jupyter-widgets/controls",
      "model_module_version": "1.5.0",
      "model_name": "DescriptionStyleModel",
      "state": {
       "description_width": ""
      }
     },
     "7ef4c272f1834c6e85cdb286e60279e8": {
      "model_module": "@jupyter-widgets/base",
      "model_module_version": "1.2.0",
      "model_name": "LayoutModel",
      "state": {}
     },
     "7f3f460c01ae4345854d70cba254bd78": {
      "model_module": "@jupyter-widgets/output",
      "model_module_version": "1.0.0",
      "model_name": "OutputModel",
      "state": {
       "layout": "IPY_MODEL_ce2142656a8644e9b46cca8f80db2b0c"
      }
     },
     "870f4c8f70f14ef88e4790241b68e6e0": {
      "model_module": "@jupyter-widgets/controls",
      "model_module_version": "1.5.0",
      "model_name": "LabelModel",
      "state": {
       "description": "Enter the URL to the index files that correspond to each track",
       "layout": "IPY_MODEL_1096e883e87b408f82add6ae3ee99c2e",
       "style": "IPY_MODEL_93e12ab94fcb49ef84f81da49e4df741",
       "value": "Enter the URL to the index files that correspond to each track"
      }
     },
     "87282a66c56b4bc499b33b343a173926": {
      "model_module": "@jupyter-widgets/base",
      "model_module_version": "1.2.0",
      "model_name": "LayoutModel",
      "state": {
       "grid_area": "description",
       "width": "auto"
      }
     },
     "89c58ca7ca904081b547574d04d403b1": {
      "model_module": "@jupyter-widgets/controls",
      "model_module_version": "1.5.0",
      "model_name": "DescriptionStyleModel",
      "state": {
       "description_width": ""
      }
     },
     "8b0aae04de584fb39bf564609f16fe63": {
      "model_module": "@jupyter-widgets/base",
      "model_module_version": "1.2.0",
      "model_name": "LayoutModel",
      "state": {
       "grid_area": "label",
       "width": "auto"
      }
     },
     "8c874f574aa7420abc67b40e51f532f3": {
      "model_module": "@jupyter-widgets/controls",
      "model_module_version": "1.5.0",
      "model_name": "DescriptionStyleModel",
      "state": {
       "description_width": ""
      }
     },
     "8d9dc7dae3594d6c88f4a5689385413a": {
      "model_module": "@jupyter-widgets/controls",
      "model_module_version": "1.5.0",
      "model_name": "DescriptionStyleModel",
      "state": {
       "description_width": ""
      }
     },
     "8e5eb31ceb7e46df9f20a552a771cdde": {
      "model_module": "@jupyter-widgets/controls",
      "model_module_version": "1.5.0",
      "model_name": "LabelModel",
      "state": {
       "description": "indices",
       "layout": "IPY_MODEL_d6de92f183ab44d78629d2bce10b1604",
       "style": "IPY_MODEL_018e40309f9747559e68cbeb66d7ead3",
       "value": "indices"
      }
     },
     "8ffe85be4bba46988f586fb6ff5da2a8": {
      "model_module": "@jupyter-widgets/controls",
      "model_module_version": "1.5.0",
      "model_name": "ComboboxModel",
      "state": {
       "_dom_classes": [
        "nbtools-menu-attached"
       ],
       "choices": {},
       "ensure_option": false,
       "kinds": [],
       "layout": "IPY_MODEL_9cc2aa32fa5744a79842604a7fd09374",
       "style": "IPY_MODEL_cf28dc1a3f124adfad7f1c620151ead2"
      }
     },
     "900fe0e089db47529ad8253851bf5cf1": {
      "model_module": "@jupyter-widgets/controls",
      "model_module_version": "1.5.0",
      "model_name": "VBoxModel",
      "state": {
       "_dom_classes": [
        "widget-interact"
       ],
       "children": [
        "IPY_MODEL_f857aca6bb704648adeddde9344d7e21",
        "IPY_MODEL_6f201902cc6349e3acc743fd5017a5ee",
        "IPY_MODEL_225081a129e94eaaa6897772f480c0b3",
        "IPY_MODEL_27675440232a4c8e8327a0156c2b5c21",
        "IPY_MODEL_ce2cbaa76bf74c48afa19cfc704c782b",
        "IPY_MODEL_1c95f676327542428e1caf936e2e8ea9",
        "IPY_MODEL_ba159a6f80694e9c9f43ab30508809eb",
        "IPY_MODEL_abb0bb2aed6344b59250d1ef4d99da01"
       ],
       "layout": "IPY_MODEL_cd015f1409024b1e94976006a05ee6c7"
      }
     },
     "90a5316bff0440ee87ef529d198e36bc": {
      "model_module": "@jupyter-widgets/base",
      "model_module_version": "1.2.0",
      "model_name": "LayoutModel",
      "state": {
       "display": "none",
       "grid_template_areas": "\n                    \"label input\"\n                    \". description\"\n                ",
       "grid_template_columns": "25% 75%",
       "grid_template_rows": "auto auto",
       "width": "100%"
      }
     },
     "937fb8c2434d49aaa958cbc711a7405d": {
      "model_module": "@jupyter-widgets/controls",
      "model_module_version": "1.5.0",
      "model_name": "VBoxModel",
      "state": {
       "_dom_classes": [
        "widget-interact"
       ],
       "children": [
        "IPY_MODEL_ab3b8eab329646a6ad95dcd58e8a9eb3",
        "IPY_MODEL_d763c8544eca40bd8e112bd9b070c84a"
       ],
       "layout": "IPY_MODEL_bd47f67a1393481981541b13c8074520"
      }
     },
     "93e12ab94fcb49ef84f81da49e4df741": {
      "model_module": "@jupyter-widgets/controls",
      "model_module_version": "1.5.0",
      "model_name": "DescriptionStyleModel",
      "state": {
       "description_width": ""
      }
     },
     "9cc2aa32fa5744a79842604a7fd09374": {
      "model_module": "@jupyter-widgets/base",
      "model_module_version": "1.2.0",
      "model_name": "LayoutModel",
      "state": {}
     },
     "9dadcfea4d654e0aa12bd0ee92b5658d": {
      "model_module": "@genepattern/nbtools",
      "model_module_version": "^21.9.0-beta.1",
      "model_name": "UIBuilderModel",
      "state": {
       "_model_module_version": "^21.9.0-beta.1",
       "_parameters": [
        {
         "choices": {
          "Bonobo (MPI-EVA panpan1.1/panPan2)": "panPan2",
          "C. elegans (ce11)": "ce11",
          "Chimp (SAC 2.1.4/panTro4)": "panTro4",
          "Cow (UMD_3.1.1/bosTau8)": "bosTau8",
          "D. melanogaster (dm6)": "dm6",
          "Dog (Broad CanFam3.1/canFam3)": "canFam3",
          "Gorilla (gorGor4.1/gorGor4)": "gorGor4",
          "Human (CRCh37/hg19)": "hg19",
          "Human (GRCh38/hg38)": "hg38",
          "Human (hg18)": "hg18",
          "Mouse (GRCm38/mm10)": "mm10",
          "Pig (SGSC Sscrofa11.1/susScr11)": "susScr11",
          "Rat (RGCS 6.0/rn6)": "rn6",
          "S. cerevisiae (sacCer3)": "sacCer3",
          "Zebrafish (GRCZ10/danRer10)": "danRer10",
          "Zebrafish (GRCZ11/danRer11)": "danRer11"
         },
         "combo": true,
         "default": "hg38",
         "description": "Choose the genome for your data.",
         "events": null,
         "hide": false,
         "id": null,
         "kinds": null,
         "label": "genome",
         "name": "genome",
         "optional": false,
         "sendto": false,
         "type": "choice",
         "value": ""
        },
        {
         "choices": {},
         "default": "",
         "description": "Enter the URL to the track dataset(s)",
         "events": null,
         "hide": false,
         "id": null,
         "kinds": null,
         "label": "tracks",
         "maximum": 100,
         "name": "tracks",
         "optional": true,
         "type": "file",
         "value": "None"
        },
        {
         "choices": {},
         "default": "",
         "description": "Enter the URL to the index files that correspond to each track",
         "events": null,
         "hide": false,
         "id": null,
         "kinds": null,
         "label": "indices",
         "maximum": 100,
         "name": "indices",
         "optional": true,
         "type": "file",
         "value": "None"
        },
        {
         "choices": {
          "": "",
          "bam": "bam",
          "bb": "bb",
          "bed": "bed",
          "bedgraph": "bedgraph",
          "bedpe": "bedpe",
          "bedpe-loop": "bedpe-loop",
          "bigbed": "bigbed",
          "bigwig": "bigwig",
          "bp": "bp",
          "bw": "bw",
          "cram": "cram",
          "gwas": "gwas",
          "mut": "mut",
          "seg": "seg",
          "tdf": "tdf",
          "vcf": "vcf",
          "wig": "wig"
         },
         "combo": true,
         "default": "",
         "description": "Enter the format of the track datasets",
         "events": null,
         "hide": false,
         "id": null,
         "kinds": null,
         "label": "track format",
         "name": "track_format",
         "optional": true,
         "type": "choice",
         "value": "None"
        },
        {
         "choices": {
          "": "",
          "alignment": "alignment",
          "annotation": "annotation",
          "arc": "arc",
          "bedtype": "bedtype",
          "gwas": "gwas",
          "interaction": "interaction",
          "mut": "mut",
          "seg": "seg",
          "variant": "variant",
          "wig": "wig"
         },
         "combo": true,
         "default": "",
         "description": "Enter the type of the track datasets",
         "events": null,
         "hide": false,
         "id": null,
         "kinds": null,
         "label": "track type",
         "name": "track_type",
         "optional": true,
         "type": "choice",
         "value": "None"
        },
        {
         "choices": {},
         "default": "",
         "description": "Provide a locus or gene of interest for your data",
         "events": null,
         "hide": false,
         "id": null,
         "kinds": null,
         "label": "locus",
         "name": "locus",
         "optional": true,
         "type": "text",
         "value": "None"
        },
        {
         "choices": {},
         "default": "",
         "description": "",
         "events": null,
         "hide": true,
         "id": null,
         "kinds": null,
         "label": "output variable",
         "name": "output_var",
         "optional": true,
         "type": "text",
         "value": ""
        }
       ],
       "_view_module_version": "^21.9.0-beta.1",
       "description": "Use igv.js to embed an interactive genome visualization",
       "form": "IPY_MODEL_900fe0e089db47529ad8253851bf5cf1",
       "layout": "IPY_MODEL_d2d2be51bc65472fb32e1894c6c0885a",
       "logo": "http://igv.org/web/img/favicon.ico",
       "name": "igv.js: Integrative Genomics Viewer",
       "origin": "igv",
       "output": "IPY_MODEL_7f3f460c01ae4345854d70cba254bd78",
       "output_var": "",
       "run_label": "Visualize"
      }
     },
     "9dfd626bdefb40469e5209391caafe9a": {
      "model_module": "@jupyter-widgets/base",
      "model_module_version": "1.2.0",
      "model_name": "LayoutModel",
      "state": {}
     },
     "9e1fb35698bc4f5a94d2bdccef0df192": {
      "model_module": "@jupyter-widgets/controls",
      "model_module_version": "1.5.0",
      "model_name": "DescriptionStyleModel",
      "state": {
       "description_width": ""
      }
     },
     "a3c81b5e63cc43e7b97c25bc88c9f8a0": {
      "model_module": "@jupyter-widgets/base",
      "model_module_version": "1.2.0",
      "model_name": "LayoutModel",
      "state": {
       "grid_area": "label",
       "width": "auto"
      }
     },
     "a674e54e608f46709ee5534b26bf6cc9": {
      "model_module": "@jupyter-widgets/base",
      "model_module_version": "1.2.0",
      "model_name": "LayoutModel",
      "state": {
       "grid_area": "input",
       "width": "auto"
      }
     },
     "a6b4c42a6d1a4608af70de6cc946e67b": {
      "model_module": "@jupyter-widgets/controls",
      "model_module_version": "1.5.0",
      "model_name": "LabelModel",
      "state": {
       "description": "track type",
       "layout": "IPY_MODEL_8b0aae04de584fb39bf564609f16fe63",
       "style": "IPY_MODEL_8d9dc7dae3594d6c88f4a5689385413a",
       "value": "track type"
      }
     },
     "a8971260bc554feea50042874828ce12": {
      "model_module": "@jupyter-widgets/controls",
      "model_module_version": "1.5.0",
      "model_name": "DescriptionStyleModel",
      "state": {
       "description_width": ""
      }
     },
     "ab1d5ab27399414182d607202b29e16c": {
      "model_module": "@jupyter-widgets/controls",
      "model_module_version": "1.5.0",
      "model_name": "DescriptionStyleModel",
      "state": {
       "description_width": ""
      }
     },
     "ab3b8eab329646a6ad95dcd58e8a9eb3": {
      "model_module": "@jupyter-widgets/controls",
      "model_module_version": "1.5.0",
      "model_name": "ButtonModel",
      "state": {
       "_dom_classes": [
        "hidden"
       ],
       "description": "Run",
       "layout": "IPY_MODEL_d4ecea9c532248d4a6c74b61239cbd09",
       "style": "IPY_MODEL_5e239a463f15415888fceca79753c44a"
      }
     },
     "abb0bb2aed6344b59250d1ef4d99da01": {
      "model_module": "@jupyter-widgets/controls",
      "model_module_version": "1.5.0",
      "model_name": "GridBoxModel",
      "state": {
       "_dom_classes": [
        "nbtools-input",
        "nbtools-textinput"
       ],
       "children": [
        "IPY_MODEL_55281fcca68e4f3aa4609a9f5a3a8785",
        "IPY_MODEL_4a5bd38a89ce4fb58ecc74ec4f4313d8",
        "IPY_MODEL_14d66c0dc963442a8637d21521d8311e"
       ],
       "layout": "IPY_MODEL_90a5316bff0440ee87ef529d198e36bc"
      }
     },
     "ad4484e3988b43f0a7de05a792164c48": {
      "model_module": "@jupyter-widgets/controls",
      "model_module_version": "1.5.0",
      "model_name": "DescriptionStyleModel",
      "state": {
       "description_width": ""
      }
     },
     "b080250dc77c4efab19da7c22abb132b": {
      "model_module": "@jupyter-widgets/controls",
      "model_module_version": "1.5.0",
      "model_name": "DescriptionStyleModel",
      "state": {
       "description_width": ""
      }
     },
     "b18f434896314515862d3e5dca825b4e": {
      "model_module": "@jupyter-widgets/controls",
      "model_module_version": "1.5.0",
      "model_name": "LabelModel",
      "state": {
       "description": "Enter the type of the track datasets",
       "layout": "IPY_MODEL_c1a627a9882d496781715bfd301ac46f",
       "style": "IPY_MODEL_a8971260bc554feea50042874828ce12",
       "value": "Enter the type of the track datasets"
      }
     },
     "b6c4002eecaa4c6ca9e2783e7048e338": {
      "model_module": "@jupyter-widgets/base",
      "model_module_version": "1.2.0",
      "model_name": "LayoutModel",
      "state": {
       "grid_template_areas": "\n                    \"label input\"\n                    \". description\"\n                ",
       "grid_template_columns": "25% 75%",
       "grid_template_rows": "auto auto",
       "width": "100%"
      }
     },
     "b6d892ad059b4cb39d1c94cb6e9992be": {
      "model_module": "@jupyter-widgets/controls",
      "model_module_version": "1.5.0",
      "model_name": "DescriptionStyleModel",
      "state": {
       "description_width": ""
      }
     },
     "b76e1a62c1c744a18425f7bf4413bb1b": {
      "model_module": "@jupyter-widgets/base",
      "model_module_version": "1.2.0",
      "model_name": "LayoutModel",
      "state": {}
     },
     "b895cec5b91e4ed782c3fd83806e32cc": {
      "model_module": "@jupyter-widgets/base",
      "model_module_version": "1.2.0",
      "model_name": "LayoutModel",
      "state": {
       "grid_area": "description",
       "width": "auto"
      }
     },
     "ba159a6f80694e9c9f43ab30508809eb": {
      "model_module": "@jupyter-widgets/controls",
      "model_module_version": "1.5.0",
      "model_name": "ButtonModel",
      "state": {
       "_dom_classes": [
        "hidden"
       ],
       "description": "Run",
       "layout": "IPY_MODEL_cb31cbb242214b20af5ca040bfa10440",
       "style": "IPY_MODEL_bc7fbbac57ed403ab1bdaf06fb8cf8e0"
      }
     },
     "bc7fbbac57ed403ab1bdaf06fb8cf8e0": {
      "model_module": "@jupyter-widgets/controls",
      "model_module_version": "1.5.0",
      "model_name": "ButtonStyleModel",
      "state": {}
     },
     "bcf0cf507c864719bb99487846d00e82": {
      "model_module": "@jupyter-widgets/base",
      "model_module_version": "1.2.0",
      "model_name": "LayoutModel",
      "state": {
       "grid_area": "input",
       "width": "auto"
      }
     },
     "bd47f67a1393481981541b13c8074520": {
      "model_module": "@jupyter-widgets/base",
      "model_module_version": "1.2.0",
      "model_name": "LayoutModel",
      "state": {}
     },
     "bf8aa9687b08435484cb1622d698dd40": {
      "model_module": "@jupyter-widgets/base",
      "model_module_version": "1.2.0",
      "model_name": "LayoutModel",
      "state": {
       "grid_area": "description",
       "width": "auto"
      }
     },
     "c16d43c68f5f456e9eaf2809f48e0dfd": {
      "model_module": "@jupyter-widgets/controls",
      "model_module_version": "1.5.0",
      "model_name": "VBoxModel",
      "state": {
       "children": [
        "IPY_MODEL_4550a0377851476ab8c93678eea59a9c",
        "IPY_MODEL_8ffe85be4bba46988f586fb6ff5da2a8"
       ],
       "layout": "IPY_MODEL_b76e1a62c1c744a18425f7bf4413bb1b"
      }
     },
     "c1a627a9882d496781715bfd301ac46f": {
      "model_module": "@jupyter-widgets/base",
      "model_module_version": "1.2.0",
      "model_name": "LayoutModel",
      "state": {
       "grid_area": "description",
       "width": "auto"
      }
     },
     "c3ff5a0c385243ce809d0befaec0f216": {
      "model_module": "@jupyter-widgets/controls",
      "model_module_version": "1.5.0",
      "model_name": "HBoxModel",
      "state": {
       "children": [
        "IPY_MODEL_6f6a3d161fce4959a2eee19b62eabe55",
        "IPY_MODEL_6a904a957b2447fc8567877b13e8de92"
       ],
       "layout": "IPY_MODEL_09015541372a43718ba12abf35b39efc"
      }
     },
     "c442500e56344f64b4b48a9b51afcb77": {
      "model_module": "@jupyter-widgets/controls",
      "model_module_version": "1.5.0",
      "model_name": "LabelModel",
      "state": {
       "description": "Enter the format of the track datasets",
       "layout": "IPY_MODEL_6f5062c19ab14b8988ce737a3c6f0973",
       "style": "IPY_MODEL_535e035afdb74daaac1ee10dc703d0db",
       "value": "Enter the format of the track datasets"
      }
     },
     "cb31cbb242214b20af5ca040bfa10440": {
      "model_module": "@jupyter-widgets/base",
      "model_module_version": "1.2.0",
      "model_name": "LayoutModel",
      "state": {}
     },
     "cd015f1409024b1e94976006a05ee6c7": {
      "model_module": "@jupyter-widgets/base",
      "model_module_version": "1.2.0",
      "model_name": "LayoutModel",
      "state": {}
     },
     "ce2142656a8644e9b46cca8f80db2b0c": {
      "model_module": "@jupyter-widgets/base",
      "model_module_version": "1.2.0",
      "model_name": "LayoutModel",
      "state": {}
     },
     "ce2cbaa76bf74c48afa19cfc704c782b": {
      "model_module": "@jupyter-widgets/controls",
      "model_module_version": "1.5.0",
      "model_name": "GridBoxModel",
      "state": {
       "_dom_classes": [
        "nbtools-input",
        "nbtools-comboinput"
       ],
       "children": [
        "IPY_MODEL_a6b4c42a6d1a4608af70de6cc946e67b",
        "IPY_MODEL_d45d49db46f2475299aec4ef65520ec4",
        "IPY_MODEL_b18f434896314515862d3e5dca825b4e"
       ],
       "layout": "IPY_MODEL_3796bb77250848b19ecd56f638cd79fb"
      }
     },
     "cf28dc1a3f124adfad7f1c620151ead2": {
      "model_module": "@jupyter-widgets/controls",
      "model_module_version": "1.5.0",
      "model_name": "DescriptionStyleModel",
      "state": {
       "description_width": ""
      }
     },
     "cf33865250ad4bbc83ee9d40768c27e3": {
      "model_module": "@jupyter-widgets/base",
      "model_module_version": "1.2.0",
      "model_name": "LayoutModel",
      "state": {
       "grid_area": "label",
       "width": "auto"
      }
     },
     "cf922df2410b42eb8accddc9cd5e1f08": {
      "model_module": "@jupyter-widgets/base",
      "model_module_version": "1.2.0",
      "model_name": "LayoutModel",
      "state": {
       "grid_area": "label",
       "width": "auto"
      }
     },
     "d08d9ceaffbc42aa995550cf7bea8124": {
      "model_module": "@jupyter-widgets/controls",
      "model_module_version": "1.5.0",
      "model_name": "TextModel",
      "state": {
       "_dom_classes": [
        "nbtools-menu-attached"
       ],
       "layout": "IPY_MODEL_049217105e854a80bd87d243fb1742af",
       "style": "IPY_MODEL_f54f59af7d024d8ead9acf352a344e9e"
      }
     },
     "d2d2be51bc65472fb32e1894c6c0885a": {
      "model_module": "@jupyter-widgets/base",
      "model_module_version": "1.2.0",
      "model_name": "LayoutModel",
      "state": {}
     },
     "d3f836e9ee0246ec8ea1190916111d1c": {
      "model_module": "@jupyter-widgets/controls",
      "model_module_version": "1.5.0",
      "model_name": "DescriptionStyleModel",
      "state": {
       "description_width": ""
      }
     },
     "d45d49db46f2475299aec4ef65520ec4": {
      "model_module": "@jupyter-widgets/controls",
      "model_module_version": "1.5.0",
      "model_name": "ComboboxModel",
      "state": {
       "_dom_classes": [
        "nbtools-menu-attached"
       ],
       "choices": {
        "": "",
        "alignment": "alignment",
        "annotation": "annotation",
        "arc": "arc",
        "bedtype": "bedtype",
        "gwas": "gwas",
        "interaction": "interaction",
        "mut": "mut",
        "seg": "seg",
        "variant": "variant",
        "wig": "wig"
       },
       "ensure_option": false,
       "kinds": [],
       "layout": "IPY_MODEL_f2360e69edf1435eb61fd299d49b7e78",
       "style": "IPY_MODEL_89c58ca7ca904081b547574d04d403b1"
      }
     },
     "d4ecea9c532248d4a6c74b61239cbd09": {
      "model_module": "@jupyter-widgets/base",
      "model_module_version": "1.2.0",
      "model_name": "LayoutModel",
      "state": {}
     },
     "d54bb01c38f046d2b64c867c10eb7e7e": {
      "model_module": "@jupyter-widgets/controls",
      "model_module_version": "1.5.0",
      "model_name": "DescriptionStyleModel",
      "state": {
       "description_width": ""
      }
     },
     "d698ed37be3346e9aa0eae095a1fe712": {
      "model_module": "@jupyter-widgets/controls",
      "model_module_version": "1.5.0",
      "model_name": "DescriptionStyleModel",
      "state": {
       "description_width": ""
      }
     },
     "d6de92f183ab44d78629d2bce10b1604": {
      "model_module": "@jupyter-widgets/base",
      "model_module_version": "1.2.0",
      "model_name": "LayoutModel",
      "state": {
       "grid_area": "label",
       "width": "auto"
      }
     },
     "d763c8544eca40bd8e112bd9b070c84a": {
      "model_module": "@jupyter-widgets/output",
      "model_module_version": "1.0.0",
      "model_name": "OutputModel",
      "state": {
       "layout": "IPY_MODEL_05f87c3f680f426b8f77c46aadbd636f"
      }
     },
     "d8ecaa81da6b4e9ba806276cb1e33454": {
      "model_module": "@jupyter-widgets/base",
      "model_module_version": "1.2.0",
      "model_name": "LayoutModel",
      "state": {
       "grid_area": "label",
       "width": "auto"
      }
     },
     "d9667a428b864d3e9599cb701810e55e": {
      "model_module": "@jupyter-widgets/base",
      "model_module_version": "1.2.0",
      "model_name": "LayoutModel",
      "state": {}
     },
     "de7660c9e6034ae4aa78f40b29e9326b": {
      "model_module": "@jupyter-widgets/controls",
      "model_module_version": "1.5.0",
      "model_name": "ComboboxModel",
      "state": {
       "_dom_classes": [
        "nbtools-menu-attached",
        "nbtools-nosendto"
       ],
       "choices": {
        "Bonobo (MPI-EVA panpan1.1/panPan2)": "panPan2",
        "C. elegans (ce11)": "ce11",
        "Chimp (SAC 2.1.4/panTro4)": "panTro4",
        "Cow (UMD_3.1.1/bosTau8)": "bosTau8",
        "D. melanogaster (dm6)": "dm6",
        "Dog (Broad CanFam3.1/canFam3)": "canFam3",
        "Gorilla (gorGor4.1/gorGor4)": "gorGor4",
        "Human (CRCh37/hg19)": "hg19",
        "Human (GRCh38/hg38)": "hg38",
        "Human (hg18)": "hg18",
        "Mouse (GRCm38/mm10)": "mm10",
        "Pig (SGSC Sscrofa11.1/susScr11)": "susScr11",
        "Rat (RGCS 6.0/rn6)": "rn6",
        "S. cerevisiae (sacCer3)": "sacCer3",
        "Zebrafish (GRCZ10/danRer10)": "danRer10",
        "Zebrafish (GRCZ11/danRer11)": "danRer11"
       },
       "ensure_option": false,
       "kinds": [],
       "layout": "IPY_MODEL_20d171817d6d4699b297e2bc91b3628f",
       "style": "IPY_MODEL_11a75cf3a9b2451bb139b9b8b9ab7b03",
       "value": "hg38"
      }
     },
     "e36dd7a6b9b9444aa0cd71363619990d": {
      "model_module": "@jupyter-widgets/controls",
      "model_module_version": "1.5.0",
      "model_name": "DescriptionStyleModel",
      "state": {
       "description_width": ""
      }
     },
     "e5c1cf4d6d814d9da5ccd89376874146": {
      "model_module": "@jupyter-widgets/controls",
      "model_module_version": "1.5.0",
      "model_name": "HBoxModel",
      "state": {
       "children": [
        "IPY_MODEL_36d63afe9cf8421aa7849b417eba98c2",
        "IPY_MODEL_c16d43c68f5f456e9eaf2809f48e0dfd"
       ],
       "layout": "IPY_MODEL_a674e54e608f46709ee5534b26bf6cc9"
      }
     },
     "f2360e69edf1435eb61fd299d49b7e78": {
      "model_module": "@jupyter-widgets/base",
      "model_module_version": "1.2.0",
      "model_name": "LayoutModel",
      "state": {
       "grid_area": "input",
       "width": "auto"
      }
     },
     "f46585eaf020456dbb284f55132a8f36": {
      "model_module": "@jupyter-widgets/controls",
      "model_module_version": "1.5.0",
      "model_name": "ButtonStyleModel",
      "state": {}
     },
     "f54f59af7d024d8ead9acf352a344e9e": {
      "model_module": "@jupyter-widgets/controls",
      "model_module_version": "1.5.0",
      "model_name": "DescriptionStyleModel",
      "state": {
       "description_width": ""
      }
     },
     "f857aca6bb704648adeddde9344d7e21": {
      "model_module": "@jupyter-widgets/controls",
      "model_module_version": "1.5.0",
      "model_name": "GridBoxModel",
      "state": {
       "_dom_classes": [
        "nbtools-input",
        "nbtools-comboinput",
        "required"
       ],
       "children": [
        "IPY_MODEL_716f05f5f28842bda9243d8adf5b3edd",
        "IPY_MODEL_de7660c9e6034ae4aa78f40b29e9326b",
        "IPY_MODEL_4263d61abe8f4a2d9c7ea62d8b15871a"
       ],
       "layout": "IPY_MODEL_b6c4002eecaa4c6ca9e2783e7048e338"
      }
     },
     "fb3735b443c54acd908f01df54788989": {
      "model_module": "@jupyter-widgets/base",
      "model_module_version": "1.2.0",
      "model_name": "LayoutModel",
      "state": {
       "grid_area": "description",
       "width": "auto"
      }
     },
     "fe2a5a1bca8740839b5dfbcb40ee9ede": {
      "model_module": "@jupyter-widgets/base",
      "model_module_version": "1.2.0",
      "model_name": "LayoutModel",
      "state": {
       "grid_area": "input",
       "width": "auto"
      }
     }
    },
    "version_major": 2,
    "version_minor": 0
   }
  }
 },
 "nbformat": 4,
 "nbformat_minor": 4
}
