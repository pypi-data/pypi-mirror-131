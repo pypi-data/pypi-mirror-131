{
 "cells": [
  {
   "cell_type": "code",
   "execution_count": 2,
   "metadata": {},
   "outputs": [
    {
     "data": {
      "application/vnd.jupyter.widget-view+json": {
       "model_id": "809c91f1d87f4de0a1a04e70eba688a2",
       "version_major": 2,
       "version_minor": 0
      },
      "text/plain": [
       "GPAuthWidget(buttons={'Register an Account': \"\\n    const target = event.target;\\n    const widget = target.cl…"
      ]
     },
     "metadata": {},
     "output_type": "display_data"
    },
    {
     "data": {
      "application/vnd.jupyter.widget-view+json": {
       "model_id": "ece98ea5adc04188af2595108754ff53",
       "version_major": 2,
       "version_minor": 0
      },
      "text/plain": [
       "Output()"
      ]
     },
     "metadata": {},
     "output_type": "display_data"
    }
   ],
   "source": [
    "import nbtools\n",
    "import genepattern\n",
    "\n",
    "auth = nbtools.tool(id='authentication', origin='+')\n",
    "auth"
   ]
  },
  {
   "cell_type": "code",
   "execution_count": 3,
   "metadata": {},
   "outputs": [
    {
     "data": {
      "application/vnd.jupyter.widget-view+json": {
       "model_id": "b95e433698684ec18bd8b6f53fa61a6c",
       "version_major": 2,
       "version_minor": 0
      },
      "text/plain": [
       "UIOutput(appendix=VBox(), error='Cannot find tool: GenePattern Cloud | urn:lsid:broad.mit.edu:cancer.software.…"
      ]
     },
     "metadata": {},
     "output_type": "display_data"
    },
    {
     "data": {
      "application/vnd.jupyter.widget-view+json": {
       "model_id": "aab60f171da3467caf01dfa309a85485",
       "version_major": 2,
       "version_minor": 0
      },
      "text/plain": [
       "Output(outputs=({'output_type': 'display_data', 'data': {}, 'metadata': {}},))"
      ]
     },
     "metadata": {},
     "output_type": "display_data"
    }
   ],
   "source": [
    "nbtools.tool(id='urn:lsid:broad.mit.edu:cancer.software.genepattern.module.analysis:00002:2', origin='GenePattern Cloud')"
   ]
  },
  {
   "cell_type": "code",
   "execution_count": 4,
   "metadata": {},
   "outputs": [
    {
     "data": {
      "application/vnd.jupyter.widget-view+json": {
       "model_id": "1c1611381bba4f7a9805b37680bd0a72",
       "version_major": 2,
       "version_minor": 0
      },
      "text/plain": [
       "UIOutput(appendix=VBox(), error='Cannot find tool: GenePattern Cloud | urn:lsid:broad.mit.edu:cancer.software.…"
      ]
     },
     "metadata": {},
     "output_type": "display_data"
    },
    {
     "data": {
      "application/vnd.jupyter.widget-view+json": {
       "model_id": "0e7f0f41f6404120831d0469e046c00e",
       "version_major": 2,
       "version_minor": 0
      },
      "text/plain": [
       "Output(outputs=({'output_type': 'display_data', 'data': {}, 'metadata': {}},))"
      ]
     },
     "metadata": {},
     "output_type": "display_data"
    }
   ],
   "source": [
    "nbtools.tool(id='urn:lsid:broad.mit.edu:cancer.software.genepattern.module.analysis:00017:4.2', origin='GenePattern Cloud')"
   ]
  },
  {
   "cell_type": "code",
   "execution_count": 5,
   "metadata": {},
   "outputs": [
    {
     "data": {
      "application/vnd.jupyter.widget-view+json": {
       "model_id": "4235005c8b9a4c258911703913b95562",
       "version_major": 2,
       "version_minor": 0
      },
      "text/plain": [
       "UIBuilder(collapse=True, form=InteractiveForm(children=(FileFormInput(value='', children=(Label(value='bar*', …"
      ]
     },
     "metadata": {},
     "output_type": "display_data"
    },
    {
     "data": {
      "application/vnd.jupyter.widget-view+json": {
       "model_id": "1ff9c384cd8a4bb7b5ac92d036de0e2b",
       "version_major": 2,
       "version_minor": 0
      },
      "text/plain": [
       "Output()"
      ]
     },
     "metadata": {},
     "output_type": "display_data"
    }
   ],
   "source": [
    "import nbtools\n",
    "import genepattern\n",
    "\n",
    "@nbtools.build_ui(\n",
    "    # logo='None',\n",
    "    parameters={\n",
    "        'bar': {\n",
    "            'type': 'file',\n",
    "            'kinds': ['_s.odf']\n",
    "    }\n",
    "})\n",
    "def foo(bar):\n",
    "    uio = nbtools.UIOutput(files=['https://www.drivethrurpg.com/product/103096/Escape-from-Castle-Island?filters=0_2110_100_0_0'])\n",
    "    genepattern.display(uio)"
   ]
  },
  {
   "cell_type": "code",
   "execution_count": 6,
   "metadata": {},
   "outputs": [
    {
     "data": {
      "application/vnd.jupyter.widget-view+json": {
       "model_id": "563c1ac300ee4578a2935fb6d3c0e8bd",
       "version_major": 2,
       "version_minor": 0
      },
      "text/plain": [
       "UIBuilder(collapse=True, form=InteractiveForm(children=(FileFormInput(value='', children=(Label(value='bar*', …"
      ]
     },
     "metadata": {},
     "output_type": "display_data"
    },
    {
     "data": {
      "application/vnd.jupyter.widget-view+json": {
       "model_id": "35e6b8f9f0b54d44bc99e1b23eb1d76b",
       "version_major": 2,
       "version_minor": 0
      },
      "text/plain": [
       "Output()"
      ]
     },
     "metadata": {},
     "output_type": "display_data"
    }
   ],
   "source": [
    "import nbtools\n",
    "import genepattern\n",
    "\n",
    "@nbtools.build_ui(parameters={\n",
    "    'bar': {\n",
    "        'type': 'file',\n",
    "        'kinds': ['_s.odf']\n",
    "    }\n",
    "})\n",
    "def moose(bar):\n",
    "    uio = nbtools.UIOutput(files=['https://www.drivethrurpg.com/product/103096/Escape-from-Castle-Island?filters=0_2110_100_0_0'])\n",
    "    genepattern.display(uio)"
   ]
  }
 ],
 "metadata": {
  "kernelspec": {
   "display_name": "Python 3 (ipykernel)",
   "language": "python",
   "name": "python3"
  },
  "language_info": {
   "codemirror_mode": {
    "name": "ipython",
    "version": 3
   },
   "file_extension": ".py",
   "mimetype": "text/x-python",
   "name": "python",
   "nbconvert_exporter": "python",
   "pygments_lexer": "ipython3",
   "version": "3.8.5"
  },
  "widgets": {
   "application/vnd.jupyter.widget-state+json": {
    "state": {
     "00715d374a4147d29f64a2a8e80d7911": {
      "model_module": "@jupyter-widgets/controls",
      "model_module_version": "1.5.0",
      "model_name": "TextModel",
      "state": {
       "_dom_classes": [
        "nbtools-menu-attached"
       ],
       "layout": "IPY_MODEL_5218a37c18474e16ba619ee7317523d2",
       "style": "IPY_MODEL_ba19e6fd61ed4ff19828decf2f194170"
      }
     },
     "010ba83bfda04803a04bdc61b5c2d096": {
      "model_module": "@jupyter-widgets/base",
      "model_module_version": "1.2.0",
      "model_name": "LayoutModel",
      "state": {
       "display": "none",
       "grid_template_areas": "\n                    \"label input\"\n                    \". description\"\n                ",
       "grid_template_columns": "25% 75%",
       "grid_template_rows": "auto auto",
       "width": "100%"
      }
     },
     "03b84cfdc5024c169c9687ee5c9a8407": {
      "model_module": "@jupyter-widgets/base",
      "model_module_version": "1.2.0",
      "model_name": "LayoutModel",
      "state": {}
     },
     "04c7985a3321431e86d876dc65bba4f5": {
      "model_module": "@jupyter-widgets/controls",
      "model_module_version": "1.5.0",
      "model_name": "LabelModel",
      "state": {
       "layout": "IPY_MODEL_79700aea0e674190b46ccff94205328b",
       "style": "IPY_MODEL_aabe7aa3be404386af7c0526136ab256"
      }
     },
     "0599cccc0bcc48f9a6ef02967cf590d5": {
      "model_module": "@jupyter-widgets/controls",
      "model_module_version": "1.5.0",
      "model_name": "DescriptionStyleModel",
      "state": {
       "description_width": ""
      }
     },
     "06e75478aeaa43a89ad46ec12b257224": {
      "model_module": "@jupyter-widgets/output",
      "model_module_version": "1.0.0",
      "model_name": "OutputModel",
      "state": {
       "layout": "IPY_MODEL_42b8664f1331449f9b6ae5f73eb39b2b"
      }
     },
     "06f53ad366e54368b78a22603d5dc6ae": {
      "model_module": "@jupyter-widgets/controls",
      "model_module_version": "1.5.0",
      "model_name": "ButtonStyleModel",
      "state": {}
     },
     "09ad88c3f4fe48d78a282777795eb22a": {
      "model_module": "@jupyter-widgets/controls",
      "model_module_version": "1.5.0",
      "model_name": "LabelModel",
      "state": {
       "layout": "IPY_MODEL_b4f402162b8f4539b6def7fc8a6f34fc",
       "style": "IPY_MODEL_25744ae2702748f7b4cf6efbfccdce4b"
      }
     },
     "0a98414260cc4d0ca03a7dacdd71612c": {
      "model_module": "@jupyter-widgets/controls",
      "model_module_version": "1.5.0",
      "model_name": "DescriptionStyleModel",
      "state": {
       "description_width": ""
      }
     },
     "0b26456923e942568d7b209979b0379c": {
      "model_module": "@jupyter-widgets/controls",
      "model_module_version": "1.5.0",
      "model_name": "DescriptionStyleModel",
      "state": {
       "description_width": ""
      }
     },
     "0b5ec31cb3404f5ea7c07071f4857e03": {
      "model_module": "@jupyter-widgets/controls",
      "model_module_version": "1.5.0",
      "model_name": "DescriptionStyleModel",
      "state": {
       "description_width": ""
      }
     },
     "0b65466bd17342b5a08002155d733b94": {
      "model_module": "@jupyter-widgets/controls",
      "model_module_version": "1.5.0",
      "model_name": "ComboboxModel",
      "state": {
       "_dom_classes": [
        "nbtools-menu-attached",
        "nbtools-nosendto"
       ],
       "choices": {
        "Bonobo (MPI-EVA panpan1.1/panPan2)": "panPan2",
        "C. elegans (ce11)": "ce11",
        "Chimp (SAC 2.1.4/panTro4)": "panTro4",
        "Cow (UMD_3.1.1/bosTau8)": "bosTau8",
        "D. melanogaster (dm6)": "dm6",
        "Dog (Broad CanFam3.1/canFam3)": "canFam3",
        "Gorilla (gorGor4.1/gorGor4)": "gorGor4",
        "Human (CRCh37/hg19)": "hg19",
        "Human (GRCh38/hg38)": "hg38",
        "Human (hg18)": "hg18",
        "Mouse (GRCm38/mm10)": "mm10",
        "Pig (SGSC Sscrofa11.1/susScr11)": "susScr11",
        "Rat (RGCS 6.0/rn6)": "rn6",
        "S. cerevisiae (sacCer3)": "sacCer3",
        "Zebrafish (GRCZ10/danRer10)": "danRer10",
        "Zebrafish (GRCZ11/danRer11)": "danRer11"
       },
       "ensure_option": false,
       "kinds": [],
       "layout": "IPY_MODEL_dedbcc62df204d1b947ca6ff8cad1be7",
       "style": "IPY_MODEL_64e2e5225cc64de09997eaccc9a9d3ec",
       "value": "hg38"
      }
     },
     "0bce598056b641939c5ad8b7c1182ce6": {
      "model_module": "@jupyter-widgets/controls",
      "model_module_version": "1.5.0",
      "model_name": "ButtonModel",
      "state": {
       "_dom_classes": [
        "hidden"
       ],
       "description": "Run",
       "layout": "IPY_MODEL_c051e4a7431b4d7a8248b5576c1d7a12",
       "style": "IPY_MODEL_68a66085e5d14b57a3f24db28fb8aade"
      }
     },
     "0e7f0f41f6404120831d0469e046c00e": {
      "model_module": "@jupyter-widgets/output",
      "model_module_version": "1.0.0",
      "model_name": "OutputModel",
      "state": {
       "layout": "IPY_MODEL_2598250d8b134b16ad7f879cde624b38",
       "outputs": [
        {
         "data": {},
         "metadata": {},
         "output_type": "display_data"
        }
       ]
      }
     },
     "0e9f7c8e78ac4c3eb0ec27e5bbc092db": {
      "model_module": "@jupyter-widgets/base",
      "model_module_version": "1.2.0",
      "model_name": "LayoutModel",
      "state": {
       "display": "none",
       "grid_template_areas": "\n                    \"label input\"\n                    \". description\"\n                ",
       "grid_template_columns": "25% 75%",
       "grid_template_rows": "auto auto",
       "width": "100%"
      }
     },
     "0ee47ab3b2a341da8e068e808543693c": {
      "model_module": "@jupyter-widgets/controls",
      "model_module_version": "1.5.0",
      "model_name": "ComboboxModel",
      "state": {
       "_dom_classes": [
        "nbtools-menu-attached",
        "nbtools-nosendto"
       ],
       "choices": {
        "GenePattern Cloud": "https://cloud.genepattern.org/gp"
       },
       "ensure_option": false,
       "kinds": [],
       "layout": "IPY_MODEL_c91fda535b854e73815bda86e77a05cd",
       "style": "IPY_MODEL_2d49310ed9474f82ab4771756316db81",
       "value": "https://cloud.genepattern.org/gp"
      }
     },
     "0f9ba2bcbcfc417a9d8f9d6b41e2fa99": {
      "model_module": "@jupyter-widgets/base",
      "model_module_version": "1.2.0",
      "model_name": "LayoutModel",
      "state": {}
     },
     "0fdab38a79d3494aa0895d6ba48b02ab": {
      "model_module": "@jupyter-widgets/base",
      "model_module_version": "1.2.0",
      "model_name": "LayoutModel",
      "state": {
       "grid_area": "input",
       "width": "auto"
      }
     },
     "103cae6fcdda4f7292603d98e86cf676": {
      "model_module": "@jupyter-widgets/controls",
      "model_module_version": "1.5.0",
      "model_name": "TextModel",
      "state": {
       "_dom_classes": [
        "nbtools-menu-attached"
       ],
       "layout": "IPY_MODEL_ea03bb16e21949f4918240d9a0e67b8d",
       "style": "IPY_MODEL_32e09b593fa040d0ac9111aca45eb9e7"
      }
     },
     "11ee9e444a5047b2b49923ab25993664": {
      "model_module": "@jupyter-widgets/base",
      "model_module_version": "1.2.0",
      "model_name": "LayoutModel",
      "state": {}
     },
     "1211ed548d704168820d85779fca6455": {
      "model_module": "@jupyter-widgets/controls",
      "model_module_version": "1.5.0",
      "model_name": "FileUploadModel",
      "state": {
       "accept": "._s.odf",
       "description_tooltip": null,
       "layout": "IPY_MODEL_f26a157f64f049cda655845e9af08cd4",
       "style": "IPY_MODEL_dd8413abca784065b1113ef8f7913d94"
      }
     },
     "13c54f24af624278b297ef117060372a": {
      "model_module": "@jupyter-widgets/base",
      "model_module_version": "1.2.0",
      "model_name": "LayoutModel",
      "state": {}
     },
     "13f73812d9024b9eb8c64972640930cb": {
      "model_module": "@jupyter-widgets/controls",
      "model_module_version": "1.5.0",
      "model_name": "ButtonStyleModel",
      "state": {}
     },
     "141e539fa6e547f3b8de46393b1db6bf": {
      "model_module": "@jupyter-widgets/base",
      "model_module_version": "1.2.0",
      "model_name": "LayoutModel",
      "state": {
       "grid_area": "label",
       "width": "auto"
      }
     },
     "1543bd448ac046bcbba7697dfa9acd82": {
      "model_module": "@jupyter-widgets/controls",
      "model_module_version": "1.5.0",
      "model_name": "LabelModel",
      "state": {
       "description": "output variable",
       "layout": "IPY_MODEL_d471d753a7094a99b4af40202aac109d",
       "style": "IPY_MODEL_8e130f3f80b34e3f883afc0c38780432",
       "value": "output variable"
      }
     },
     "15dbe32398304f09987df3b0c6128d6c": {
      "model_module": "@jupyter-widgets/controls",
      "model_module_version": "1.5.0",
      "model_name": "ButtonStyleModel",
      "state": {}
     },
     "16f42cad320246a98d741dcbb4f7e645": {
      "model_module": "@jupyter-widgets/controls",
      "model_module_version": "1.5.0",
      "model_name": "DescriptionStyleModel",
      "state": {
       "description_width": ""
      }
     },
     "1704bd106ea040f2b1d833a200d97c00": {
      "model_module": "@jupyter-widgets/controls",
      "model_module_version": "1.5.0",
      "model_name": "DescriptionStyleModel",
      "state": {
       "description_width": ""
      }
     },
     "19367beeeab442369388abf2f5908133": {
      "model_module": "@jupyter-widgets/controls",
      "model_module_version": "1.5.0",
      "model_name": "GridBoxModel",
      "state": {
       "_dom_classes": [
        "nbtools-input",
        "nbtools-passwordinput",
        "required"
       ],
       "children": [
        "IPY_MODEL_4022a184681141bb8db79679e0015b2e",
        "IPY_MODEL_56ef2cb41b6f4e709286a82e7494eb31",
        "IPY_MODEL_77fae4c0b20f453cb13e4f475f884fc5"
       ],
       "layout": "IPY_MODEL_5edf8ad6ef2c4232afca3f54c34925b2"
      }
     },
     "198fcab9a24f402aaf36e21ad0e0a4d7": {
      "model_module": "@jupyter-widgets/controls",
      "model_module_version": "1.5.0",
      "model_name": "DescriptionStyleModel",
      "state": {
       "description_width": ""
      }
     },
     "19a5f22e2620418faae573f1c39ec65b": {
      "model_module": "@jupyter-widgets/controls",
      "model_module_version": "1.5.0",
      "model_name": "VBoxModel",
      "state": {
       "_dom_classes": [
        "widget-interact"
       ],
       "children": [
        "IPY_MODEL_830f07bf3c3f472093b824f8f9b36204",
        "IPY_MODEL_37be207a8e03494eb13f5c1545c20791"
       ],
       "layout": "IPY_MODEL_de3bed91d4fa47b6b6080aefbc5ef7e4"
      }
     },
     "1a63524c23fd49a19dc28f61b4230b00": {
      "model_module": "@jupyter-widgets/controls",
      "model_module_version": "1.5.0",
      "model_name": "DescriptionStyleModel",
      "state": {
       "description_width": ""
      }
     },
     "1a7eae4e3d184081ab328c30cd349561": {
      "model_module": "@jupyter-widgets/base",
      "model_module_version": "1.2.0",
      "model_name": "LayoutModel",
      "state": {}
     },
     "1a82039b8aa74728bb279b629442a427": {
      "model_module": "@jupyter-widgets/base",
      "model_module_version": "1.2.0",
      "model_name": "LayoutModel",
      "state": {}
     },
     "1ac4d191debb4365b99669680dd49dec": {
      "model_module": "@jupyter-widgets/base",
      "model_module_version": "1.2.0",
      "model_name": "LayoutModel",
      "state": {
       "grid_area": "label",
       "width": "auto"
      }
     },
     "1b5702d12ef4464ca0deecdd1dbf8de7": {
      "model_module": "@jupyter-widgets/base",
      "model_module_version": "1.2.0",
      "model_name": "LayoutModel",
      "state": {
       "grid_template_areas": "\n                    \"label input\"\n                    \". description\"\n                ",
       "grid_template_columns": "25% 75%",
       "grid_template_rows": "auto auto",
       "width": "100%"
      }
     },
     "1c1611381bba4f7a9805b37680bd0a72": {
      "model_module": "@genepattern/nbtools",
      "model_module_version": "^21.9.0-beta.1",
      "model_name": "UIOutputModel",
      "state": {
       "_model_module_version": "^21.9.0-beta.1",
       "_view_module_version": "^21.9.0-beta.1",
       "appendix": "IPY_MODEL_486ef980c1dc4409ad38fe9dc4844391",
       "error": "Cannot find tool: GenePattern Cloud | urn:lsid:broad.mit.edu:cancer.software.genepattern.module.analysis:00017:4.2",
       "layout": "IPY_MODEL_696eefd5c68c459b882ebd84e4986d0f",
       "name": "Cannot find tool"
      }
     },
     "1c402cf5af974f59813c24449e9aabe4": {
      "model_module": "@jupyter-widgets/controls",
      "model_module_version": "1.5.0",
      "model_name": "DescriptionStyleModel",
      "state": {
       "description_width": ""
      }
     },
     "1da280ad2b7048c89f0b9fc2006f4111": {
      "model_module": "@jupyter-widgets/output",
      "model_module_version": "1.0.0",
      "model_name": "OutputModel",
      "state": {
       "layout": "IPY_MODEL_950abcacfffd44098c00ace1df105c27"
      }
     },
     "1ff9c384cd8a4bb7b5ac92d036de0e2b": {
      "model_module": "@jupyter-widgets/output",
      "model_module_version": "1.0.0",
      "model_name": "OutputModel",
      "state": {
       "layout": "IPY_MODEL_aa34f65512d5462bb930a4d76eaa5569"
      }
     },
     "224932d288d04158a0420f23c2d5b371": {
      "model_module": "@jupyter-widgets/base",
      "model_module_version": "1.2.0",
      "model_name": "LayoutModel",
      "state": {}
     },
     "22c372947e41438ba6169417c69e75f2": {
      "model_module": "@jupyter-widgets/controls",
      "model_module_version": "1.5.0",
      "model_name": "LabelModel",
      "state": {
       "description": "output variable",
       "layout": "IPY_MODEL_f863b47b031847c69ee6343227ff59b8",
       "style": "IPY_MODEL_5e541e6f6ddc4911aa8a2702d533f893",
       "value": "output variable"
      }
     },
     "231307b32db54533975f180197e53e2c": {
      "model_module": "@jupyter-widgets/base",
      "model_module_version": "1.2.0",
      "model_name": "LayoutModel",
      "state": {
       "grid_area": "label",
       "width": "auto"
      }
     },
     "23f60022e7ba4667b61fcc509206ea4f": {
      "model_module": "@jupyter-widgets/controls",
      "model_module_version": "1.5.0",
      "model_name": "LabelModel",
      "state": {
       "layout": "IPY_MODEL_874a470e703d473581d4aede8b2d1711",
       "style": "IPY_MODEL_79c32e2f1b214d20beb8f6af965c4546"
      }
     },
     "24491eb0238b4df886eb611fabc05a66": {
      "model_module": "@jupyter-widgets/controls",
      "model_module_version": "1.5.0",
      "model_name": "VBoxModel",
      "state": {
       "_dom_classes": [
        "widget-interact"
       ],
       "children": [
        "IPY_MODEL_abdaeb537ff3432d86eca056656703f6",
        "IPY_MODEL_377ecb85fefc4d378c4daabedf04d8e8",
        "IPY_MODEL_38a20ae4b2a6493ba54453045adb92ba"
       ],
       "layout": "IPY_MODEL_764ca214559f4ea7ae433a4c3268cb0c"
      }
     },
     "25744ae2702748f7b4cf6efbfccdce4b": {
      "model_module": "@jupyter-widgets/controls",
      "model_module_version": "1.5.0",
      "model_name": "DescriptionStyleModel",
      "state": {
       "description_width": ""
      }
     },
     "2598250d8b134b16ad7f879cde624b38": {
      "model_module": "@jupyter-widgets/base",
      "model_module_version": "1.2.0",
      "model_name": "LayoutModel",
      "state": {}
     },
     "25c23b5d06304301b3c71d031653c2ec": {
      "model_module": "@jupyter-widgets/base",
      "model_module_version": "1.2.0",
      "model_name": "LayoutModel",
      "state": {
       "grid_area": "description",
       "width": "auto"
      }
     },
     "25de169bd08b4990a30ed96913d4dad1": {
      "model_module": "@jupyter-widgets/base",
      "model_module_version": "1.2.0",
      "model_name": "LayoutModel",
      "state": {
       "grid_area": "input",
       "width": "auto"
      }
     },
     "26776375ebc14c148e04273107f6bbd6": {
      "model_module": "@jupyter-widgets/base",
      "model_module_version": "1.2.0",
      "model_name": "LayoutModel",
      "state": {
       "display": "none",
       "grid_template_areas": "\n                    \"label input\"\n                    \". description\"\n                ",
       "grid_template_columns": "25% 75%",
       "grid_template_rows": "auto auto",
       "width": "100%"
      }
     },
     "26a785cfb25145b7be042c6d3470890f": {
      "model_module": "@jupyter-widgets/controls",
      "model_module_version": "1.5.0",
      "model_name": "TextModel",
      "state": {
       "_dom_classes": [
        "nbtools-menu-attached"
       ],
       "layout": "IPY_MODEL_25de169bd08b4990a30ed96913d4dad1",
       "style": "IPY_MODEL_3ebec8ff67eb4a558c0cb3466aacba97"
      }
     },
     "276beff561e649dcb5ed61930ade447f": {
      "model_module": "@jupyter-widgets/base",
      "model_module_version": "1.2.0",
      "model_name": "LayoutModel",
      "state": {
       "grid_area": "description",
       "width": "auto"
      }
     },
     "2b8d73dd60d54edbbce4a7878110748d": {
      "model_module": "@jupyter-widgets/base",
      "model_module_version": "1.2.0",
      "model_name": "LayoutModel",
      "state": {}
     },
     "2badae0fd7f44c5d9279925ca70832d4": {
      "model_module": "@jupyter-widgets/base",
      "model_module_version": "1.2.0",
      "model_name": "LayoutModel",
      "state": {}
     },
     "2c18fa6834c1419499587b3b9cdbfe2e": {
      "model_module": "@jupyter-widgets/controls",
      "model_module_version": "1.5.0",
      "model_name": "ComboboxModel",
      "state": {
       "_dom_classes": [
        "nbtools-menu-attached"
       ],
       "choices": {},
       "ensure_option": false,
       "kinds": [],
       "layout": "IPY_MODEL_2badae0fd7f44c5d9279925ca70832d4",
       "style": "IPY_MODEL_c34b986273c9489eb4f0432e748bfe73"
      }
     },
     "2d49310ed9474f82ab4771756316db81": {
      "model_module": "@jupyter-widgets/controls",
      "model_module_version": "1.5.0",
      "model_name": "DescriptionStyleModel",
      "state": {
       "description_width": ""
      }
     },
     "2d8db26c97134fd5aa0abd18e4d7bda4": {
      "model_module": "@jupyter-widgets/base",
      "model_module_version": "1.2.0",
      "model_name": "LayoutModel",
      "state": {}
     },
     "2e708da7007c47d281aae8562a2a0f81": {
      "model_module": "@jupyter-widgets/base",
      "model_module_version": "1.2.0",
      "model_name": "LayoutModel",
      "state": {
       "grid_template_areas": "\n                    \"label input\"\n                    \". description\"\n                ",
       "grid_template_columns": "25% 75%",
       "grid_template_rows": "auto auto",
       "width": "100%"
      }
     },
     "3142d7b0b61843318bcb35c960cc9ee0": {
      "model_module": "@jupyter-widgets/base",
      "model_module_version": "1.2.0",
      "model_name": "LayoutModel",
      "state": {}
     },
     "3173164d444e4315a59b92c768cb327b": {
      "model_module": "@jupyter-widgets/controls",
      "model_module_version": "1.5.0",
      "model_name": "DescriptionStyleModel",
      "state": {
       "description_width": ""
      }
     },
     "32e09b593fa040d0ac9111aca45eb9e7": {
      "model_module": "@jupyter-widgets/controls",
      "model_module_version": "1.5.0",
      "model_name": "DescriptionStyleModel",
      "state": {
       "description_width": ""
      }
     },
     "34f0a3961db84165a40b0fdc1386b71e": {
      "model_module": "@jupyter-widgets/base",
      "model_module_version": "1.2.0",
      "model_name": "LayoutModel",
      "state": {
       "grid_area": "input",
       "width": "auto"
      }
     },
     "354fe5d8373e466381eaeb5b16f3eec1": {
      "model_module": "@jupyter-widgets/controls",
      "model_module_version": "1.5.0",
      "model_name": "LabelModel",
      "state": {
       "description": "track format",
       "layout": "IPY_MODEL_b7284762585942f7a172e4017bd6c3ff",
       "style": "IPY_MODEL_0b26456923e942568d7b209979b0379c",
       "value": "track format"
      }
     },
     "35e6b8f9f0b54d44bc99e1b23eb1d76b": {
      "model_module": "@jupyter-widgets/output",
      "model_module_version": "1.0.0",
      "model_name": "OutputModel",
      "state": {
       "layout": "IPY_MODEL_74e302cc02cc493393096c4c818ec88f"
      }
     },
     "36f0857061d8442f8d4ae7b2ae6ebae9": {
      "model_module": "@jupyter-widgets/controls",
      "model_module_version": "1.5.0",
      "model_name": "ButtonStyleModel",
      "state": {}
     },
     "377ecb85fefc4d378c4daabedf04d8e8": {
      "model_module": "@jupyter-widgets/controls",
      "model_module_version": "1.5.0",
      "model_name": "ButtonModel",
      "state": {
       "_dom_classes": [
        "hidden"
       ],
       "description": "Run",
       "layout": "IPY_MODEL_94cf87ab9e8e46399c4f666b56427eac",
       "style": "IPY_MODEL_06f53ad366e54368b78a22603d5dc6ae"
      }
     },
     "37950a5f861d44f8842937f2c3ccbc58": {
      "model_module": "@jupyter-widgets/controls",
      "model_module_version": "1.5.0",
      "model_name": "GridBoxModel",
      "state": {
       "_dom_classes": [
        "nbtools-input",
        "nbtools-comboinput"
       ],
       "children": [
        "IPY_MODEL_354fe5d8373e466381eaeb5b16f3eec1",
        "IPY_MODEL_a3454bab7a8e4dceaae1834a0a63ca33",
        "IPY_MODEL_f9d85047d58f44b9ae9b6e4b9bab54c1"
       ],
       "layout": "IPY_MODEL_2e708da7007c47d281aae8562a2a0f81"
      }
     },
     "37be207a8e03494eb13f5c1545c20791": {
      "model_module": "@jupyter-widgets/output",
      "model_module_version": "1.0.0",
      "model_name": "OutputModel",
      "state": {
       "layout": "IPY_MODEL_870ab18db615483da175027fc37dc0b7"
      }
     },
     "384d0da8c6ff43e3bebe009f7c763fb7": {
      "model_module": "@jupyter-widgets/base",
      "model_module_version": "1.2.0",
      "model_name": "LayoutModel",
      "state": {
       "grid_area": "label",
       "width": "auto"
      }
     },
     "388714a9ab54421eada68ae25c5a49b4": {
      "model_module": "@jupyter-widgets/controls",
      "model_module_version": "1.5.0",
      "model_name": "GridBoxModel",
      "state": {
       "_dom_classes": [
        "nbtools-input",
        "nbtools-textinput"
       ],
       "children": [
        "IPY_MODEL_ee95274b94574c2a87d5ba36b90ffcb5",
        "IPY_MODEL_00715d374a4147d29f64a2a8e80d7911",
        "IPY_MODEL_b6309ed1714a4c698f6b1f6f4a408777"
       ],
       "layout": "IPY_MODEL_ce55b6be634e4de8add5b7c3989a212e"
      }
     },
     "38a20ae4b2a6493ba54453045adb92ba": {
      "model_module": "@jupyter-widgets/controls",
      "model_module_version": "1.5.0",
      "model_name": "GridBoxModel",
      "state": {
       "_dom_classes": [
        "nbtools-input",
        "nbtools-textinput"
       ],
       "children": [
        "IPY_MODEL_baf5f6a3e0724a4192dbe6e3fa7536e6",
        "IPY_MODEL_e44ed04eaa1b41a08740d41673bb0b42",
        "IPY_MODEL_dd2838de5e9d467cba3df2d06a0b37bb"
       ],
       "layout": "IPY_MODEL_6139723ea00549b0b2301809fbaee65d"
      }
     },
     "38c32fda78f249e4be208d35529f8233": {
      "model_module": "@jupyter-widgets/base",
      "model_module_version": "1.2.0",
      "model_name": "LayoutModel",
      "state": {}
     },
     "3d0ab7f15fa9498487dadc3e0787b394": {
      "model_module": "@jupyter-widgets/controls",
      "model_module_version": "1.5.0",
      "model_name": "DescriptionStyleModel",
      "state": {
       "description_width": ""
      }
     },
     "3d8a43a874a045068f3a2d9861ec7117": {
      "model_module": "@jupyter-widgets/controls",
      "model_module_version": "1.5.0",
      "model_name": "DescriptionStyleModel",
      "state": {
       "description_width": ""
      }
     },
     "3e2d1857b29d4c95a48e6c13bee06436": {
      "model_module": "@jupyter-widgets/controls",
      "model_module_version": "1.5.0",
      "model_name": "GridBoxModel",
      "state": {
       "_dom_classes": [
        "nbtools-input",
        "nbtools-fileinput"
       ],
       "children": [
        "IPY_MODEL_c7f8b00d9fc3440d99609038a670e869",
        "IPY_MODEL_c02c6c09201e40388c50e4e6f66327ea",
        "IPY_MODEL_b6da2c3c1c834cfa87f6c5fb63083c64"
       ],
       "layout": "IPY_MODEL_5be4d1868bb047b684c2158dd35ec759"
      }
     },
     "3ebec8ff67eb4a558c0cb3466aacba97": {
      "model_module": "@jupyter-widgets/controls",
      "model_module_version": "1.5.0",
      "model_name": "DescriptionStyleModel",
      "state": {
       "description_width": ""
      }
     },
     "4022a184681141bb8db79679e0015b2e": {
      "model_module": "@jupyter-widgets/controls",
      "model_module_version": "1.5.0",
      "model_name": "LabelModel",
      "state": {
       "description": "Password",
       "layout": "IPY_MODEL_cba2fb88fd224d0da18b08f045fa6679",
       "style": "IPY_MODEL_c87d7698887b4a3ea78ae6dc37a5f8b4",
       "value": "Password*"
      }
     },
     "41681bb3b2c840348ef985017dcfa20c": {
      "model_module": "@jupyter-widgets/base",
      "model_module_version": "1.2.0",
      "model_name": "LayoutModel",
      "state": {
       "grid_area": "input",
       "width": "auto"
      }
     },
     "41943b297f8745ceabc5e0e7e85a6b35": {
      "model_module": "@jupyter-widgets/base",
      "model_module_version": "1.2.0",
      "model_name": "LayoutModel",
      "state": {
       "grid_area": "description",
       "width": "auto"
      }
     },
     "41f6944af27b4094afb33a98472e9f1f": {
      "model_module": "@jupyter-widgets/controls",
      "model_module_version": "1.5.0",
      "model_name": "LabelModel",
      "state": {
       "description": "Username",
       "layout": "IPY_MODEL_1ac4d191debb4365b99669680dd49dec",
       "style": "IPY_MODEL_99150319fd3a44deb7549ac3237de695",
       "value": "Username*"
      }
     },
     "4235005c8b9a4c258911703913b95562": {
      "model_module": "@genepattern/nbtools",
      "model_module_version": "^21.9.0-beta.1",
      "model_name": "UIBuilderModel",
      "state": {
       "_model_module_version": "^21.9.0-beta.1",
       "_parameters": [
        {
         "choices": {},
         "default": "",
         "description": "",
         "events": null,
         "hide": false,
         "id": null,
         "kinds": [
          "_s.odf"
         ],
         "label": "bar",
         "name": "bar",
         "optional": false,
         "type": "file",
         "value": ""
        },
        {
         "choices": {},
         "default": "",
         "description": "",
         "events": null,
         "hide": true,
         "id": null,
         "kinds": null,
         "label": "output variable",
         "name": "output_var",
         "optional": true,
         "type": "text",
         "value": ""
        }
       ],
       "_view_module_version": "^21.9.0-beta.1",
       "form": "IPY_MODEL_75bde213e44c436c97ec664ad017a506",
       "layout": "IPY_MODEL_77efa3c888f14160bd3848607cfce5a7",
       "name": "foo",
       "origin": "Notebook",
       "output": "IPY_MODEL_1ff9c384cd8a4bb7b5ac92d036de0e2b",
       "output_var": ""
      }
     },
     "42b8664f1331449f9b6ae5f73eb39b2b": {
      "model_module": "@jupyter-widgets/base",
      "model_module_version": "1.2.0",
      "model_name": "LayoutModel",
      "state": {}
     },
     "437b2845278541299171f4ae5a5fb009": {
      "model_module": "@jupyter-widgets/controls",
      "model_module_version": "1.5.0",
      "model_name": "DescriptionStyleModel",
      "state": {
       "description_width": ""
      }
     },
     "43e98e3bd4444fc1a2acc5a535cb1c48": {
      "model_module": "@jupyter-widgets/base",
      "model_module_version": "1.2.0",
      "model_name": "LayoutModel",
      "state": {}
     },
     "43eef6f899774352902487ecba3c8165": {
      "model_module": "@jupyter-widgets/controls",
      "model_module_version": "1.5.0",
      "model_name": "LabelModel",
      "state": {
       "description": "bar",
       "layout": "IPY_MODEL_bd912cc87d414c819566257b2596d16e",
       "style": "IPY_MODEL_46f38c91d58943b3a5f4aa2583c7eca0",
       "value": "bar*"
      }
     },
     "45f4283d92dc42f6bb2a6e0e82e5bf89": {
      "model_module": "@jupyter-widgets/controls",
      "model_module_version": "1.5.0",
      "model_name": "TextModel",
      "state": {
       "_dom_classes": [
        "nbtools-menu-attached"
       ],
       "layout": "IPY_MODEL_670251f8b00d4da39fc236078517579b",
       "style": "IPY_MODEL_f9355543aca54efcbc5e0e424c5fab31"
      }
     },
     "46060fca6e014a099e0f712b015ccba2": {
      "model_module": "@jupyter-widgets/controls",
      "model_module_version": "1.5.0",
      "model_name": "DescriptionStyleModel",
      "state": {
       "description_width": ""
      }
     },
     "4639652d865b4d959fce96a5410de659": {
      "model_module": "@jupyter-widgets/base",
      "model_module_version": "1.2.0",
      "model_name": "LayoutModel",
      "state": {}
     },
     "46f38c91d58943b3a5f4aa2583c7eca0": {
      "model_module": "@jupyter-widgets/controls",
      "model_module_version": "1.5.0",
      "model_name": "DescriptionStyleModel",
      "state": {
       "description_width": ""
      }
     },
     "47a08170912345ff8c9272478cfaa034": {
      "model_module": "@jupyter-widgets/base",
      "model_module_version": "1.2.0",
      "model_name": "LayoutModel",
      "state": {}
     },
     "484c16104acc4f6e920259e5568114d8": {
      "model_module": "@jupyter-widgets/controls",
      "model_module_version": "1.5.0",
      "model_name": "ButtonStyleModel",
      "state": {}
     },
     "486ef980c1dc4409ad38fe9dc4844391": {
      "model_module": "@jupyter-widgets/controls",
      "model_module_version": "1.5.0",
      "model_name": "VBoxModel",
      "state": {
       "layout": "IPY_MODEL_5a200fd87ce547af9d8832770e052ba1"
      }
     },
     "48959537d4f64ed09a6b6fc009a2afe2": {
      "model_module": "@jupyter-widgets/controls",
      "model_module_version": "1.5.0",
      "model_name": "DescriptionStyleModel",
      "state": {
       "description_width": ""
      }
     },
     "491974d850194904a1c0454254c00b56": {
      "model_module": "@jupyter-widgets/base",
      "model_module_version": "1.2.0",
      "model_name": "LayoutModel",
      "state": {
       "grid_area": "input",
       "width": "auto"
      }
     },
     "4afdd9778d5746209c3f6f1bd638bf3b": {
      "model_module": "@jupyter-widgets/base",
      "model_module_version": "1.2.0",
      "model_name": "LayoutModel",
      "state": {
       "grid_area": "input",
       "width": "auto"
      }
     },
     "4b9ff4a273614679bafc3279e4a9ee12": {
      "model_module": "@jupyter-widgets/controls",
      "model_module_version": "1.5.0",
      "model_name": "ButtonModel",
      "state": {
       "_dom_classes": [
        "hidden"
       ],
       "description": "Run",
       "layout": "IPY_MODEL_95aa5f2de9d145a6b93613416fe23697",
       "style": "IPY_MODEL_4f5287b0047545189aa728fbe47badd5"
      }
     },
     "4f5287b0047545189aa728fbe47badd5": {
      "model_module": "@jupyter-widgets/controls",
      "model_module_version": "1.5.0",
      "model_name": "ButtonStyleModel",
      "state": {}
     },
     "50c6869e406e4f7085bea80a454569ec": {
      "model_module": "@jupyter-widgets/controls",
      "model_module_version": "1.5.0",
      "model_name": "LabelModel",
      "state": {
       "description": "track type",
       "layout": "IPY_MODEL_141e539fa6e547f3b8de46393b1db6bf",
       "style": "IPY_MODEL_aaa38a33223343c6b447112dfdbe7690",
       "value": "track type"
      }
     },
     "5218a37c18474e16ba619ee7317523d2": {
      "model_module": "@jupyter-widgets/base",
      "model_module_version": "1.2.0",
      "model_name": "LayoutModel",
      "state": {
       "grid_area": "input",
       "width": "auto"
      }
     },
     "53c69f3c8b50404cac07b4cc01b82852": {
      "model_module": "@jupyter-widgets/controls",
      "model_module_version": "1.5.0",
      "model_name": "LabelModel",
      "state": {
       "description": "locus",
       "layout": "IPY_MODEL_5b7f21ead23a4989acada3e453ac0159",
       "style": "IPY_MODEL_839b096e96d54f7599a2fd49baf177b5",
       "value": "locus"
      }
     },
     "542640d1540b4d6e844a16d2b17fcfb9": {
      "model_module": "@jupyter-widgets/controls",
      "model_module_version": "1.5.0",
      "model_name": "GridBoxModel",
      "state": {
       "_dom_classes": [
        "nbtools-input",
        "nbtools-textinput"
       ],
       "children": [
        "IPY_MODEL_53c69f3c8b50404cac07b4cc01b82852",
        "IPY_MODEL_d5fadabc6f7541e1a99905d78350b6bb",
        "IPY_MODEL_d2e1bdb94a244d63ab91148ce469d948"
       ],
       "layout": "IPY_MODEL_8f8f386dc00c4625b4338c531322b7b6"
      }
     },
     "5592347f347843fc96fe302729c84987": {
      "model_module": "@jupyter-widgets/controls",
      "model_module_version": "1.5.0",
      "model_name": "DescriptionStyleModel",
      "state": {
       "description_width": ""
      }
     },
     "563c1ac300ee4578a2935fb6d3c0e8bd": {
      "model_module": "@genepattern/nbtools",
      "model_module_version": "^21.9.0-beta.1",
      "model_name": "UIBuilderModel",
      "state": {
       "_model_module_version": "^21.9.0-beta.1",
       "_parameters": [
        {
         "choices": {},
         "default": "",
         "description": "",
         "events": null,
         "hide": false,
         "id": null,
         "kinds": [
          "_s.odf"
         ],
         "label": "bar",
         "name": "bar",
         "optional": false,
         "type": "file",
         "value": ""
        },
        {
         "choices": {},
         "default": "",
         "description": "",
         "events": null,
         "hide": true,
         "id": null,
         "kinds": null,
         "label": "output variable",
         "name": "output_var",
         "optional": true,
         "type": "text",
         "value": ""
        }
       ],
       "_view_module_version": "^21.9.0-beta.1",
       "form": "IPY_MODEL_24491eb0238b4df886eb611fabc05a66",
       "layout": "IPY_MODEL_dde0f776a9984f7c805e8710a5d5a678",
       "name": "moose",
       "origin": "Notebook",
       "output": "IPY_MODEL_35e6b8f9f0b54d44bc99e1b23eb1d76b",
       "output_var": ""
      }
     },
     "56ef2cb41b6f4e709286a82e7494eb31": {
      "model_module": "@jupyter-widgets/controls",
      "model_module_version": "1.5.0",
      "model_name": "PasswordModel",
      "state": {
       "layout": "IPY_MODEL_69323fda17f94f6ca37bbf43dc15880d",
       "style": "IPY_MODEL_a7f1c9348cdc4b95aa7ee1e472a61866"
      }
     },
     "5769b68bf03a40148334003ffe328996": {
      "model_module": "@jupyter-widgets/base",
      "model_module_version": "1.2.0",
      "model_name": "LayoutModel",
      "state": {
       "grid_area": "description",
       "width": "auto"
      }
     },
     "57896de574fa425d996050e1700c07c9": {
      "model_module": "@jupyter-widgets/base",
      "model_module_version": "1.2.0",
      "model_name": "LayoutModel",
      "state": {}
     },
     "5910b691bb9f4ef19ac2e6246def625c": {
      "model_module": "@jupyter-widgets/output",
      "model_module_version": "1.0.0",
      "model_name": "OutputModel",
      "state": {
       "layout": "IPY_MODEL_666539fee0a94e70b6dc2f30a42318c0"
      }
     },
     "597f6c08028b4c8e8070b369caa7301b": {
      "model_module": "@jupyter-widgets/controls",
      "model_module_version": "1.5.0",
      "model_name": "GridBoxModel",
      "state": {
       "_dom_classes": [
        "nbtools-input",
        "nbtools-textinput"
       ],
       "children": [
        "IPY_MODEL_22c372947e41438ba6169417c69e75f2",
        "IPY_MODEL_c8b8121fb3404b6fb55309f91591a4ad",
        "IPY_MODEL_5ded2468129d42218dfc35ac16e98441"
       ],
       "layout": "IPY_MODEL_26776375ebc14c148e04273107f6bbd6"
      }
     },
     "5a200fd87ce547af9d8832770e052ba1": {
      "model_module": "@jupyter-widgets/base",
      "model_module_version": "1.2.0",
      "model_name": "LayoutModel",
      "state": {}
     },
     "5b21f5759bbc4578828569b19477815b": {
      "model_module": "@jupyter-widgets/base",
      "model_module_version": "1.2.0",
      "model_name": "LayoutModel",
      "state": {
       "grid_area": "description",
       "width": "auto"
      }
     },
     "5b30ccc4f5af4ec697e76ee4ee9208d8": {
      "model_module": "@jupyter-widgets/base",
      "model_module_version": "1.2.0",
      "model_name": "LayoutModel",
      "state": {
       "grid_area": "description",
       "width": "auto"
      }
     },
     "5b7f21ead23a4989acada3e453ac0159": {
      "model_module": "@jupyter-widgets/base",
      "model_module_version": "1.2.0",
      "model_name": "LayoutModel",
      "state": {
       "grid_area": "label",
       "width": "auto"
      }
     },
     "5be4d1868bb047b684c2158dd35ec759": {
      "model_module": "@jupyter-widgets/base",
      "model_module_version": "1.2.0",
      "model_name": "LayoutModel",
      "state": {
       "grid_template_areas": "\n                    \"label input\"\n                    \". description\"\n                ",
       "grid_template_columns": "25% 75%",
       "grid_template_rows": "auto auto",
       "width": "100%"
      }
     },
     "5d1e0567a45c45f7b6233e2fe09b87ab": {
      "model_module": "@jupyter-widgets/controls",
      "model_module_version": "1.5.0",
      "model_name": "FileUploadModel",
      "state": {
       "description_tooltip": null,
       "layout": "IPY_MODEL_ec6bf701d61e4ebab80fd0caeec0ea74",
       "style": "IPY_MODEL_36f0857061d8442f8d4ae7b2ae6ebae9"
      }
     },
     "5d44b09e97e64f4282b1cb8c02473a69": {
      "model_module": "@jupyter-widgets/base",
      "model_module_version": "1.2.0",
      "model_name": "LayoutModel",
      "state": {
       "grid_area": "label",
       "width": "auto"
      }
     },
     "5ded2468129d42218dfc35ac16e98441": {
      "model_module": "@jupyter-widgets/controls",
      "model_module_version": "1.5.0",
      "model_name": "LabelModel",
      "state": {
       "layout": "IPY_MODEL_7441448ec3094596af13cd60f534243a",
       "style": "IPY_MODEL_3d0ab7f15fa9498487dadc3e0787b394"
      }
     },
     "5e541e6f6ddc4911aa8a2702d533f893": {
      "model_module": "@jupyter-widgets/controls",
      "model_module_version": "1.5.0",
      "model_name": "DescriptionStyleModel",
      "state": {
       "description_width": ""
      }
     },
     "5e66f8d27992454b851f20d60d80893a": {
      "model_module": "@jupyter-widgets/controls",
      "model_module_version": "1.5.0",
      "model_name": "GridBoxModel",
      "state": {
       "_dom_classes": [
        "nbtools-input",
        "nbtools-fileinput"
       ],
       "children": [
        "IPY_MODEL_6e3ba6e345874a3ea95761ace7ee2ac0",
        "IPY_MODEL_71f8949640aa48bd80e8e209967fb109",
        "IPY_MODEL_bdda7b9e9a3743dabab98300d4c11182"
       ],
       "layout": "IPY_MODEL_f4e3ab1ec60d49d0a8acd9a0f4a0fac6"
      }
     },
     "5edf8ad6ef2c4232afca3f54c34925b2": {
      "model_module": "@jupyter-widgets/base",
      "model_module_version": "1.2.0",
      "model_name": "LayoutModel",
      "state": {
       "grid_template_areas": "\n                    \"label input\"\n                    \". description\"\n                ",
       "grid_template_columns": "25% 75%",
       "grid_template_rows": "auto auto",
       "width": "100%"
      }
     },
     "5f933dfd34034d2c856ec10b2584bb37": {
      "model_module": "@jupyter-widgets/controls",
      "model_module_version": "1.5.0",
      "model_name": "DescriptionStyleModel",
      "state": {
       "description_width": ""
      }
     },
     "6139723ea00549b0b2301809fbaee65d": {
      "model_module": "@jupyter-widgets/base",
      "model_module_version": "1.2.0",
      "model_name": "LayoutModel",
      "state": {
       "display": "none",
       "grid_template_areas": "\n                    \"label input\"\n                    \". description\"\n                ",
       "grid_template_columns": "25% 75%",
       "grid_template_rows": "auto auto",
       "width": "100%"
      }
     },
     "62fd836175b5427f9e2eeab2d41c4446": {
      "model_module": "@jupyter-widgets/base",
      "model_module_version": "1.2.0",
      "model_name": "LayoutModel",
      "state": {
       "grid_template_areas": "\n                    \"label input\"\n                    \". description\"\n                ",
       "grid_template_columns": "25% 75%",
       "grid_template_rows": "auto auto",
       "width": "100%"
      }
     },
     "63eb5cd42d6f48269f6b46f0936ce60d": {
      "model_module": "@jupyter-widgets/controls",
      "model_module_version": "1.5.0",
      "model_name": "DescriptionStyleModel",
      "state": {
       "description_width": ""
      }
     },
     "6401ee0b5dfa4a1b979eb1afec1bf253": {
      "model_module": "@jupyter-widgets/base",
      "model_module_version": "1.2.0",
      "model_name": "LayoutModel",
      "state": {
       "display": "none",
       "grid_template_areas": "\n                    \"label input\"\n                    \". description\"\n                ",
       "grid_template_columns": "25% 75%",
       "grid_template_rows": "auto auto",
       "width": "100%"
      }
     },
     "64e2e5225cc64de09997eaccc9a9d3ec": {
      "model_module": "@jupyter-widgets/controls",
      "model_module_version": "1.5.0",
      "model_name": "DescriptionStyleModel",
      "state": {
       "description_width": ""
      }
     },
     "654509edc1764172bdb694117e9f69be": {
      "model_module": "@jupyter-widgets/base",
      "model_module_version": "1.2.0",
      "model_name": "LayoutModel",
      "state": {
       "grid_area": "description",
       "width": "auto"
      }
     },
     "655443fc5da54526a1b9898c52a86dba": {
      "model_module": "@jupyter-widgets/base",
      "model_module_version": "1.2.0",
      "model_name": "LayoutModel",
      "state": {
       "grid_area": "input",
       "width": "auto"
      }
     },
     "666539fee0a94e70b6dc2f30a42318c0": {
      "model_module": "@jupyter-widgets/base",
      "model_module_version": "1.2.0",
      "model_name": "LayoutModel",
      "state": {}
     },
     "670251f8b00d4da39fc236078517579b": {
      "model_module": "@jupyter-widgets/base",
      "model_module_version": "1.2.0",
      "model_name": "LayoutModel",
      "state": {
       "grid_area": "input",
       "width": "auto"
      }
     },
     "67603298f1884c619d740ca724058eb7": {
      "model_module": "@jupyter-widgets/controls",
      "model_module_version": "1.5.0",
      "model_name": "LabelModel",
      "state": {
       "description": "Enter the type of the track datasets",
       "layout": "IPY_MODEL_41943b297f8745ceabc5e0e7e85a6b35",
       "style": "IPY_MODEL_1a63524c23fd49a19dc28f61b4230b00",
       "value": "Enter the type of the track datasets"
      }
     },
     "6898ccc5f89e45ecb2761c412827ce0b": {
      "model_module": "@jupyter-widgets/base",
      "model_module_version": "1.2.0",
      "model_name": "LayoutModel",
      "state": {
       "grid_area": "description",
       "width": "auto"
      }
     },
     "689a881cbd2444488d680e7f4f0bbf35": {
      "model_module": "@jupyter-widgets/base",
      "model_module_version": "1.2.0",
      "model_name": "LayoutModel",
      "state": {
       "grid_area": "description",
       "width": "auto"
      }
     },
     "68a66085e5d14b57a3f24db28fb8aade": {
      "model_module": "@jupyter-widgets/controls",
      "model_module_version": "1.5.0",
      "model_name": "ButtonStyleModel",
      "state": {}
     },
     "69323fda17f94f6ca37bbf43dc15880d": {
      "model_module": "@jupyter-widgets/base",
      "model_module_version": "1.2.0",
      "model_name": "LayoutModel",
      "state": {
       "grid_area": "input",
       "width": "auto"
      }
     },
     "696eefd5c68c459b882ebd84e4986d0f": {
      "model_module": "@jupyter-widgets/base",
      "model_module_version": "1.2.0",
      "model_name": "LayoutModel",
      "state": {}
     },
     "69e26198f7284d9584106f58b7e58fd0": {
      "model_module": "@jupyter-widgets/base",
      "model_module_version": "1.2.0",
      "model_name": "LayoutModel",
      "state": {
       "grid_area": "label",
       "width": "auto"
      }
     },
     "6aa05e4c0fb847e988937604b0b5162e": {
      "model_module": "@jupyter-widgets/controls",
      "model_module_version": "1.5.0",
      "model_name": "FileUploadModel",
      "state": {
       "description_tooltip": null,
       "layout": "IPY_MODEL_c19f64224bf741caa50427d9c024feaf",
       "style": "IPY_MODEL_13f73812d9024b9eb8c64972640930cb"
      }
     },
     "6c064a90b6654a20a243b864e4f504f0": {
      "model_module": "@jupyter-widgets/base",
      "model_module_version": "1.2.0",
      "model_name": "LayoutModel",
      "state": {}
     },
     "6dec0f1d1a104fd0a861734156780f1a": {
      "model_module": "@jupyter-widgets/controls",
      "model_module_version": "1.5.0",
      "model_name": "LabelModel",
      "state": {
       "layout": "IPY_MODEL_689a881cbd2444488d680e7f4f0bbf35",
       "style": "IPY_MODEL_8b46a32c616d4cccaa0c41b488fbc39a"
      }
     },
     "6e3ba6e345874a3ea95761ace7ee2ac0": {
      "model_module": "@jupyter-widgets/controls",
      "model_module_version": "1.5.0",
      "model_name": "LabelModel",
      "state": {
       "description": "indices",
       "layout": "IPY_MODEL_5d44b09e97e64f4282b1cb8c02473a69",
       "style": "IPY_MODEL_e0c77ab55db74853be797786d744c5f9",
       "value": "indices"
      }
     },
     "6e5af93cb0484b4c950984a6b7cf07b1": {
      "model_module": "@jupyter-widgets/base",
      "model_module_version": "1.2.0",
      "model_name": "LayoutModel",
      "state": {
       "grid_area": "label",
       "width": "auto"
      }
     },
     "6fe322f6a44543869b47a9e229d3e4e3": {
      "model_module": "@jupyter-widgets/controls",
      "model_module_version": "1.5.0",
      "model_name": "GridBoxModel",
      "state": {
       "_dom_classes": [
        "nbtools-input",
        "nbtools-fileinput",
        "required"
       ],
       "children": [
        "IPY_MODEL_43eef6f899774352902487ecba3c8165",
        "IPY_MODEL_96c3d2e1ad1046a9b169ef1056f0f2a0",
        "IPY_MODEL_23f60022e7ba4667b61fcc509206ea4f"
       ],
       "layout": "IPY_MODEL_b6ae691de3b14f398833a49eb48a97be"
      }
     },
     "703bd7ae903546d69f2466b1b61db44c": {
      "model_module": "@jupyter-widgets/controls",
      "model_module_version": "1.5.0",
      "model_name": "VBoxModel",
      "state": {
       "_dom_classes": [
        "widget-interact"
       ],
       "children": [
        "IPY_MODEL_4b9ff4a273614679bafc3279e4a9ee12",
        "IPY_MODEL_1da280ad2b7048c89f0b9fc2006f4111"
       ],
       "layout": "IPY_MODEL_224932d288d04158a0420f23c2d5b371"
      }
     },
     "71f8949640aa48bd80e8e209967fb109": {
      "model_module": "@jupyter-widgets/controls",
      "model_module_version": "1.5.0",
      "model_name": "HBoxModel",
      "state": {
       "children": [
        "IPY_MODEL_6aa05e4c0fb847e988937604b0b5162e",
        "IPY_MODEL_97944bc95bf049cab9d08d8c6d3609c6"
       ],
       "layout": "IPY_MODEL_0fdab38a79d3494aa0895d6ba48b02ab"
      }
     },
     "73394f3727e04e9c86769818a5115b27": {
      "model_module": "@jupyter-widgets/base",
      "model_module_version": "1.2.0",
      "model_name": "LayoutModel",
      "state": {
       "grid_area": "description",
       "width": "auto"
      }
     },
     "74150d3844dc44c788f3bcc764e95099": {
      "model_module": "@jupyter-widgets/controls",
      "model_module_version": "1.5.0",
      "model_name": "ButtonStyleModel",
      "state": {}
     },
     "7441448ec3094596af13cd60f534243a": {
      "model_module": "@jupyter-widgets/base",
      "model_module_version": "1.2.0",
      "model_name": "LayoutModel",
      "state": {
       "grid_area": "description",
       "width": "auto"
      }
     },
     "74de301499da4d248a22f0be726ea7be": {
      "model_module": "@jupyter-widgets/controls",
      "model_module_version": "1.5.0",
      "model_name": "LabelModel",
      "state": {
       "description": "GenePattern Server",
       "layout": "IPY_MODEL_e87abba076d449449f70e1e3fcfd656b",
       "style": "IPY_MODEL_16f42cad320246a98d741dcbb4f7e645",
       "value": "GenePattern Server*"
      }
     },
     "74e302cc02cc493393096c4c818ec88f": {
      "model_module": "@jupyter-widgets/base",
      "model_module_version": "1.2.0",
      "model_name": "LayoutModel",
      "state": {}
     },
     "756ffa07223d466e93ec99cea4d67c1f": {
      "model_module": "@jupyter-widgets/controls",
      "model_module_version": "1.5.0",
      "model_name": "VBoxModel",
      "state": {
       "_dom_classes": [
        "widget-interact"
       ],
       "children": [
        "IPY_MODEL_ebec883e8d4b4ef8bfb4074baf849855",
        "IPY_MODEL_8fa5c2596901442f86d277a6637d5ad9"
       ],
       "layout": "IPY_MODEL_9fa577ab8586447495ff2a83ad843bca"
      }
     },
     "758f5e7e50b74c5ba6ab179b04b46f12": {
      "model_module": "@jupyter-widgets/base",
      "model_module_version": "1.2.0",
      "model_name": "LayoutModel",
      "state": {
       "grid_area": "label",
       "width": "auto"
      }
     },
     "75bde213e44c436c97ec664ad017a506": {
      "model_module": "@jupyter-widgets/controls",
      "model_module_version": "1.5.0",
      "model_name": "VBoxModel",
      "state": {
       "_dom_classes": [
        "widget-interact"
       ],
       "children": [
        "IPY_MODEL_6fe322f6a44543869b47a9e229d3e4e3",
        "IPY_MODEL_7bcca93286204095b2a0e5c23dc7f6eb",
        "IPY_MODEL_80e37fb4969445b8805be11fff50521b"
       ],
       "layout": "IPY_MODEL_03b84cfdc5024c169c9687ee5c9a8407"
      }
     },
     "764ca214559f4ea7ae433a4c3268cb0c": {
      "model_module": "@jupyter-widgets/base",
      "model_module_version": "1.2.0",
      "model_name": "LayoutModel",
      "state": {}
     },
     "76a982d235d64b8499861c9ad34afe27": {
      "model_module": "@jupyter-widgets/base",
      "model_module_version": "1.2.0",
      "model_name": "LayoutModel",
      "state": {
       "grid_template_areas": "\n                    \"label input\"\n                    \". description\"\n                ",
       "grid_template_columns": "25% 75%",
       "grid_template_rows": "auto auto",
       "width": "100%"
      }
     },
     "77efa3c888f14160bd3848607cfce5a7": {
      "model_module": "@jupyter-widgets/base",
      "model_module_version": "1.2.0",
      "model_name": "LayoutModel",
      "state": {}
     },
     "77fae4c0b20f453cb13e4f475f884fc5": {
      "model_module": "@jupyter-widgets/controls",
      "model_module_version": "1.5.0",
      "model_name": "LabelModel",
      "state": {
       "layout": "IPY_MODEL_25c23b5d06304301b3c71d031653c2ec",
       "style": "IPY_MODEL_5f933dfd34034d2c856ec10b2584bb37"
      }
     },
     "79652ded70b5487ea0bee243f265bc67": {
      "model_module": "@jupyter-widgets/base",
      "model_module_version": "1.2.0",
      "model_name": "LayoutModel",
      "state": {
       "display": "none",
       "grid_template_areas": "\n                    \"label input\"\n                    \". description\"\n                ",
       "grid_template_columns": "25% 75%",
       "grid_template_rows": "auto auto",
       "width": "100%"
      }
     },
     "79700aea0e674190b46ccff94205328b": {
      "model_module": "@jupyter-widgets/base",
      "model_module_version": "1.2.0",
      "model_name": "LayoutModel",
      "state": {
       "grid_area": "description",
       "width": "auto"
      }
     },
     "7985324ccfb145d1a329a81d8c707884": {
      "model_module": "@jupyter-widgets/controls",
      "model_module_version": "1.5.0",
      "model_name": "VBoxModel",
      "state": {
       "_dom_classes": [
        "widget-interact"
       ],
       "children": [
        "IPY_MODEL_ea2aaef5113d49d795753a8aa8d9f633",
        "IPY_MODEL_9ae359960442458ba752aaa1fb4ff97b"
       ],
       "layout": "IPY_MODEL_7c3de50acf9c4284bcb7dd2360fdb24b"
      }
     },
     "79c32e2f1b214d20beb8f6af965c4546": {
      "model_module": "@jupyter-widgets/controls",
      "model_module_version": "1.5.0",
      "model_name": "DescriptionStyleModel",
      "state": {
       "description_width": ""
      }
     },
     "7ba6b3ae05d14e48bd6e1484d67ffaa3": {
      "model_module": "@jupyter-widgets/controls",
      "model_module_version": "1.5.0",
      "model_name": "GridBoxModel",
      "state": {
       "_dom_classes": [
        "nbtools-input",
        "nbtools-comboinput"
       ],
       "children": [
        "IPY_MODEL_50c6869e406e4f7085bea80a454569ec",
        "IPY_MODEL_e9c2cb95677541f7a4ff6a4f366e7383",
        "IPY_MODEL_67603298f1884c619d740ca724058eb7"
       ],
       "layout": "IPY_MODEL_1b5702d12ef4464ca0deecdd1dbf8de7"
      }
     },
     "7bcca93286204095b2a0e5c23dc7f6eb": {
      "model_module": "@jupyter-widgets/controls",
      "model_module_version": "1.5.0",
      "model_name": "ButtonModel",
      "state": {
       "_dom_classes": [
        "hidden"
       ],
       "description": "Run",
       "layout": "IPY_MODEL_47a08170912345ff8c9272478cfaa034",
       "style": "IPY_MODEL_15dbe32398304f09987df3b0c6128d6c"
      }
     },
     "7c3de50acf9c4284bcb7dd2360fdb24b": {
      "model_module": "@jupyter-widgets/base",
      "model_module_version": "1.2.0",
      "model_name": "LayoutModel",
      "state": {}
     },
     "7c8a41d688d8497e852aafcb7250d4e9": {
      "model_module": "@jupyter-widgets/controls",
      "model_module_version": "1.5.0",
      "model_name": "VBoxModel",
      "state": {
       "children": [
        "IPY_MODEL_bff316524f7546f48065ffbbeb01021a",
        "IPY_MODEL_2c18fa6834c1419499587b3b9cdbfe2e"
       ],
       "layout": "IPY_MODEL_e7cbfadeb16a4288b83aca4ad0d14c4c"
      }
     },
     "7e6014a5d3d2441cae49c9568623719b": {
      "model_module": "@jupyter-widgets/controls",
      "model_module_version": "1.5.0",
      "model_name": "LabelModel",
      "state": {
       "description": "genome",
       "layout": "IPY_MODEL_231307b32db54533975f180197e53e2c",
       "style": "IPY_MODEL_8afa142030b64cafb2a815c6c6e1f3fe",
       "value": "genome*"
      }
     },
     "7ffe9f226aab4d528b02d8db612ce3c7": {
      "model_module": "@jupyter-widgets/base",
      "model_module_version": "1.2.0",
      "model_name": "LayoutModel",
      "state": {
       "grid_template_areas": "\n                    \"label input\"\n                    \". description\"\n                ",
       "grid_template_columns": "25% 75%",
       "grid_template_rows": "auto auto",
       "width": "100%"
      }
     },
     "809c91f1d87f4de0a1a04e70eba688a2": {
      "model_module": "@genepattern/nbtools",
      "model_module_version": "^21.9.0-beta.1",
      "model_name": "UIBuilderModel",
      "state": {
       "_model_module_version": "^21.9.0-beta.1",
       "_parameters": [
        {
         "choices": {
          "GenePattern Cloud": "https://cloud.genepattern.org/gp"
         },
         "combo": true,
         "default": "https://cloud.genepattern.org/gp",
         "description": "",
         "events": null,
         "hide": false,
         "id": null,
         "kinds": null,
         "label": "GenePattern Server",
         "name": "server",
         "optional": false,
         "sendto": false,
         "type": "choice",
         "value": ""
        },
        {
         "choices": {},
         "default": "",
         "description": "",
         "events": null,
         "hide": false,
         "id": null,
         "kinds": null,
         "label": "Username",
         "name": "username",
         "optional": false,
         "sendto": false,
         "type": "text",
         "value": ""
        },
        {
         "choices": {},
         "default": "",
         "description": "",
         "events": null,
         "hide": false,
         "id": null,
         "kinds": null,
         "label": "Password",
         "name": "password",
         "optional": false,
         "sendto": false,
         "type": "password",
         "value": ""
        },
        {
         "choices": {},
         "default": "",
         "description": "",
         "events": null,
         "hide": true,
         "id": null,
         "kinds": null,
         "label": "output variable",
         "name": "output_var",
         "optional": true,
         "type": "text",
         "value": ""
        }
       ],
       "_view_module_version": "^21.9.0-beta.1",
       "buttons": {
        "Register an Account": "\n    const target = event.target;\n    const widget = target.closest('.nbtools') || target;\n    const server_input = widget.querySelector('input[type=text]');\n    if (server_input) window.open(server_input.value + '/pages/registerUser.jsf');\n    else console.warn('Cannot obtain GenePattern Server URL');"
       },
       "collapse": false,
       "color": "rgba(10, 45, 105, 0.8)",
       "description": "Login to the GenePattern server",
       "display_header": false,
       "events": {
        "load": "\n    const nameEQ = \"GenePattern=\";\n    const ca = document.cookie.split(';');\n    let cmatch = null;\n    for (let i = 0; i < ca.length; i++) {\n        let c = ca[i];\n        while (c.charAt(0) === ' ') c = c.substring(1, c.length);\n        if (c.indexOf(nameEQ) === 0) cmatch = c.substring(nameEQ.length, c.length)\n    }\n    if (cmatch === null) return;\n    const parts = cmatch.split(\"|\");\n    if (parts.length <= 1) return;\n    let [u, p] = [parts[0], atob(decodeURIComponent(parts[1]))];\n    this.widget_dialog({\n        'title': 'Log into GenePattern Server',\n        'body': 'You have already authenticated with GenePattern Cloud. Would you like to automatically sign in now?',\n        'button_label': 'Login',\n        'callback': () => {\n            this.model.get('form').get('children')[1].get('children')[1].set('value', u);\n            this.model.get('form').get('children')[1].get('children')[1].save();\n            this.model.get('form').get('children')[2].get('children')[1].set('value', p);\n            this.model.get('form').get('children')[2].get('children')[1].save();\n            this.element.querySelector(\"button.nbtools-run\").click();\n        }\n    });"
       },
       "form": "IPY_MODEL_c411f8efd6174ca0af54740c6c7bb7ee",
       "layout": "IPY_MODEL_13c54f24af624278b297ef117060372a",
       "name": "Login",
       "origin": "genepattern.authwidget",
       "output": "IPY_MODEL_ece98ea5adc04188af2595108754ff53",
       "output_var": "",
       "run_label": "Log into GenePattern"
      }
     },
     "80e37fb4969445b8805be11fff50521b": {
      "model_module": "@jupyter-widgets/controls",
      "model_module_version": "1.5.0",
      "model_name": "GridBoxModel",
      "state": {
       "_dom_classes": [
        "nbtools-input",
        "nbtools-textinput"
       ],
       "children": [
        "IPY_MODEL_f3c57e2dd79b44628cefe8cb564c5edf",
        "IPY_MODEL_103cae6fcdda4f7292603d98e86cf676",
        "IPY_MODEL_04c7985a3321431e86d876dc65bba4f5"
       ],
       "layout": "IPY_MODEL_f4517ce773c44937a0f71b552d862ccb"
      }
     },
     "830f07bf3c3f472093b824f8f9b36204": {
      "model_module": "@jupyter-widgets/controls",
      "model_module_version": "1.5.0",
      "model_name": "ButtonModel",
      "state": {
       "_dom_classes": [
        "hidden"
       ],
       "description": "Run",
       "layout": "IPY_MODEL_c539d0e283cc4164b1dd3df53f7d1ac6",
       "style": "IPY_MODEL_484c16104acc4f6e920259e5568114d8"
      }
     },
     "839b096e96d54f7599a2fd49baf177b5": {
      "model_module": "@jupyter-widgets/controls",
      "model_module_version": "1.5.0",
      "model_name": "DescriptionStyleModel",
      "state": {
       "description_width": ""
      }
     },
     "851b75618a1148eeb6cc438652ff3261": {
      "model_module": "@jupyter-widgets/base",
      "model_module_version": "1.2.0",
      "model_name": "LayoutModel",
      "state": {
       "grid_area": "input",
       "width": "auto"
      }
     },
     "870ab18db615483da175027fc37dc0b7": {
      "model_module": "@jupyter-widgets/base",
      "model_module_version": "1.2.0",
      "model_name": "LayoutModel",
      "state": {}
     },
     "874a470e703d473581d4aede8b2d1711": {
      "model_module": "@jupyter-widgets/base",
      "model_module_version": "1.2.0",
      "model_name": "LayoutModel",
      "state": {
       "grid_area": "description",
       "width": "auto"
      }
     },
     "880ee9aa62e24ed88cf65b4ed5d50b20": {
      "model_module": "@jupyter-widgets/controls",
      "model_module_version": "1.5.0",
      "model_name": "GridBoxModel",
      "state": {
       "_dom_classes": [
        "nbtools-input",
        "nbtools-textinput"
       ],
       "children": [
        "IPY_MODEL_f64422659393415c81706ab65ac15b63",
        "IPY_MODEL_26a785cfb25145b7be042c6d3470890f",
        "IPY_MODEL_92dd038cbf074f4fbd61dc1648b58813"
       ],
       "layout": "IPY_MODEL_010ba83bfda04803a04bdc61b5c2d096"
      }
     },
     "885526304a6a48579272409b889b8316": {
      "model_module": "@jupyter-widgets/base",
      "model_module_version": "1.2.0",
      "model_name": "LayoutModel",
      "state": {}
     },
     "8afa142030b64cafb2a815c6c6e1f3fe": {
      "model_module": "@jupyter-widgets/controls",
      "model_module_version": "1.5.0",
      "model_name": "DescriptionStyleModel",
      "state": {
       "description_width": ""
      }
     },
     "8b46a32c616d4cccaa0c41b488fbc39a": {
      "model_module": "@jupyter-widgets/controls",
      "model_module_version": "1.5.0",
      "model_name": "DescriptionStyleModel",
      "state": {
       "description_width": ""
      }
     },
     "8c3f816fb1a14e63929b5c746752ee33": {
      "model_module": "@jupyter-widgets/base",
      "model_module_version": "1.2.0",
      "model_name": "LayoutModel",
      "state": {
       "grid_area": "input",
       "width": "auto"
      }
     },
     "8ddb6d4da0a9414c9cb3069b1322cfa9": {
      "model_module": "@jupyter-widgets/base",
      "model_module_version": "1.2.0",
      "model_name": "LayoutModel",
      "state": {}
     },
     "8e130f3f80b34e3f883afc0c38780432": {
      "model_module": "@jupyter-widgets/controls",
      "model_module_version": "1.5.0",
      "model_name": "DescriptionStyleModel",
      "state": {
       "description_width": ""
      }
     },
     "8e9ca7a737064b62a21ccd8c2892413b": {
      "model_module": "@jupyter-widgets/controls",
      "model_module_version": "1.5.0",
      "model_name": "TextModel",
      "state": {
       "_dom_classes": [
        "nbtools-menu-attached"
       ],
       "layout": "IPY_MODEL_4afdd9778d5746209c3f6f1bd638bf3b",
       "style": "IPY_MODEL_eee7a929fe1d4a209bc14709f1761bc2"
      }
     },
     "8f8f386dc00c4625b4338c531322b7b6": {
      "model_module": "@jupyter-widgets/base",
      "model_module_version": "1.2.0",
      "model_name": "LayoutModel",
      "state": {
       "grid_template_areas": "\n                    \"label input\"\n                    \". description\"\n                ",
       "grid_template_columns": "25% 75%",
       "grid_template_rows": "auto auto",
       "width": "100%"
      }
     },
     "8fa5c2596901442f86d277a6637d5ad9": {
      "model_module": "@jupyter-widgets/output",
      "model_module_version": "1.0.0",
      "model_name": "OutputModel",
      "state": {
       "layout": "IPY_MODEL_f9103919cd5a49ec89fcd557aac45412"
      }
     },
     "8fbc436e8f21499cb87cf59a84d2fccb": {
      "model_module": "@jupyter-widgets/base",
      "model_module_version": "1.2.0",
      "model_name": "LayoutModel",
      "state": {
       "grid_area": "label",
       "width": "auto"
      }
     },
     "900b2db9e6854f2289864c68ff2b9c52": {
      "model_module": "@jupyter-widgets/base",
      "model_module_version": "1.2.0",
      "model_name": "LayoutModel",
      "state": {
       "grid_template_areas": "\n                    \"label input\"\n                    \". description\"\n                ",
       "grid_template_columns": "25% 75%",
       "grid_template_rows": "auto auto",
       "width": "100%"
      }
     },
     "901c61e42b9c4aed9f271efba9cae30e": {
      "model_module": "@jupyter-widgets/controls",
      "model_module_version": "1.5.0",
      "model_name": "ButtonModel",
      "state": {
       "_dom_classes": [
        "hidden"
       ],
       "description": "Run",
       "layout": "IPY_MODEL_3142d7b0b61843318bcb35c960cc9ee0",
       "style": "IPY_MODEL_ce6d7398ad3344548556a45a6d797052"
      }
     },
     "90846b746a264bddbb36258650ff1e2e": {
      "model_module": "@jupyter-widgets/base",
      "model_module_version": "1.2.0",
      "model_name": "LayoutModel",
      "state": {
       "grid_area": "input",
       "width": "auto"
      }
     },
     "90dc487e0a1e4f7fa23cebb403819b00": {
      "model_module": "@jupyter-widgets/base",
      "model_module_version": "1.2.0",
      "model_name": "LayoutModel",
      "state": {}
     },
     "927b2fb1cdbb40d5bb49f9304cea6e1c": {
      "model_module": "@genepattern/nbtools",
      "model_module_version": "^21.9.0-beta.1",
      "model_name": "UIBuilderModel",
      "state": {
       "_model_module_version": "^21.9.0-beta.1",
       "_parameters": [
        {
         "choices": {
          "Bonobo (MPI-EVA panpan1.1/panPan2)": "panPan2",
          "C. elegans (ce11)": "ce11",
          "Chimp (SAC 2.1.4/panTro4)": "panTro4",
          "Cow (UMD_3.1.1/bosTau8)": "bosTau8",
          "D. melanogaster (dm6)": "dm6",
          "Dog (Broad CanFam3.1/canFam3)": "canFam3",
          "Gorilla (gorGor4.1/gorGor4)": "gorGor4",
          "Human (CRCh37/hg19)": "hg19",
          "Human (GRCh38/hg38)": "hg38",
          "Human (hg18)": "hg18",
          "Mouse (GRCm38/mm10)": "mm10",
          "Pig (SGSC Sscrofa11.1/susScr11)": "susScr11",
          "Rat (RGCS 6.0/rn6)": "rn6",
          "S. cerevisiae (sacCer3)": "sacCer3",
          "Zebrafish (GRCZ10/danRer10)": "danRer10",
          "Zebrafish (GRCZ11/danRer11)": "danRer11"
         },
         "combo": true,
         "default": "hg38",
         "description": "Choose the genome for your data.",
         "events": null,
         "hide": false,
         "id": null,
         "kinds": null,
         "label": "genome",
         "name": "genome",
         "optional": false,
         "sendto": false,
         "type": "choice",
         "value": ""
        },
        {
         "choices": {},
         "default": "",
         "description": "Enter the URL to the track dataset(s)",
         "events": null,
         "hide": false,
         "id": null,
         "kinds": null,
         "label": "tracks",
         "maximum": 100,
         "name": "tracks",
         "optional": true,
         "type": "file",
         "value": "None"
        },
        {
         "choices": {},
         "default": "",
         "description": "Enter the URL to the index files that correspond to each track",
         "events": null,
         "hide": false,
         "id": null,
         "kinds": null,
         "label": "indices",
         "maximum": 100,
         "name": "indices",
         "optional": true,
         "type": "file",
         "value": "None"
        },
        {
         "choices": {
          "": "",
          "bam": "bam",
          "bb": "bb",
          "bed": "bed",
          "bedgraph": "bedgraph",
          "bedpe": "bedpe",
          "bedpe-loop": "bedpe-loop",
          "bigbed": "bigbed",
          "bigwig": "bigwig",
          "bp": "bp",
          "bw": "bw",
          "cram": "cram",
          "gwas": "gwas",
          "mut": "mut",
          "seg": "seg",
          "tdf": "tdf",
          "vcf": "vcf",
          "wig": "wig"
         },
         "combo": true,
         "default": "",
         "description": "Enter the format of the track datasets",
         "events": null,
         "hide": false,
         "id": null,
         "kinds": null,
         "label": "track format",
         "name": "track_format",
         "optional": true,
         "type": "choice",
         "value": "None"
        },
        {
         "choices": {
          "": "",
          "alignment": "alignment",
          "annotation": "annotation",
          "arc": "arc",
          "bedtype": "bedtype",
          "gwas": "gwas",
          "interaction": "interaction",
          "mut": "mut",
          "seg": "seg",
          "variant": "variant",
          "wig": "wig"
         },
         "combo": true,
         "default": "",
         "description": "Enter the type of the track datasets",
         "events": null,
         "hide": false,
         "id": null,
         "kinds": null,
         "label": "track type",
         "name": "track_type",
         "optional": true,
         "type": "choice",
         "value": "None"
        },
        {
         "choices": {},
         "default": "",
         "description": "Provide a locus or gene of interest for your data",
         "events": null,
         "hide": false,
         "id": null,
         "kinds": null,
         "label": "locus",
         "name": "locus",
         "optional": true,
         "type": "text",
         "value": "None"
        },
        {
         "choices": {},
         "default": "",
         "description": "",
         "events": null,
         "hide": true,
         "id": null,
         "kinds": null,
         "label": "output variable",
         "name": "output_var",
         "optional": true,
         "type": "text",
         "value": ""
        }
       ],
       "_view_module_version": "^21.9.0-beta.1",
       "description": "Use igv.js to embed an interactive genome visualization",
       "form": "IPY_MODEL_a078fc82c2e64696bec6c6886a760b24",
       "layout": "IPY_MODEL_57896de574fa425d996050e1700c07c9",
       "logo": "http://igv.org/web/img/favicon.ico",
       "name": "igv.js: Integrative Genomics Viewer",
       "origin": "igv",
       "output": "IPY_MODEL_b883c579da734d77899cc219604f253a",
       "output_var": "",
       "run_label": "Visualize"
      }
     },
     "92dd038cbf074f4fbd61dc1648b58813": {
      "model_module": "@jupyter-widgets/controls",
      "model_module_version": "1.5.0",
      "model_name": "LabelModel",
      "state": {
       "layout": "IPY_MODEL_6898ccc5f89e45ecb2761c412827ce0b",
       "style": "IPY_MODEL_3173164d444e4315a59b92c768cb327b"
      }
     },
     "9487a8049d0e405fb20dc5e978686733": {
      "model_module": "@jupyter-widgets/base",
      "model_module_version": "1.2.0",
      "model_name": "LayoutModel",
      "state": {
       "grid_area": "description",
       "width": "auto"
      }
     },
     "9499898c87da4a019a6d5d81c5c34136": {
      "model_module": "@jupyter-widgets/controls",
      "model_module_version": "1.5.0",
      "model_name": "HBoxModel",
      "state": {
       "children": [
        "IPY_MODEL_9696131ad0864533b68f5d349d997e76",
        "IPY_MODEL_967b1fe8a13242ef9631bcfe6d811082"
       ],
       "layout": "IPY_MODEL_34f0a3961db84165a40b0fdc1386b71e"
      }
     },
     "94cf87ab9e8e46399c4f666b56427eac": {
      "model_module": "@jupyter-widgets/base",
      "model_module_version": "1.2.0",
      "model_name": "LayoutModel",
      "state": {}
     },
     "94e33d35131846f69f14632783346046": {
      "model_module": "@jupyter-widgets/controls",
      "model_module_version": "1.5.0",
      "model_name": "LabelModel",
      "state": {
       "description": "output variable",
       "layout": "IPY_MODEL_8fbc436e8f21499cb87cf59a84d2fccb",
       "style": "IPY_MODEL_dd898594828546ebb5f4654e3c1ca294",
       "value": "output variable"
      }
     },
     "950abcacfffd44098c00ace1df105c27": {
      "model_module": "@jupyter-widgets/base",
      "model_module_version": "1.2.0",
      "model_name": "LayoutModel",
      "state": {}
     },
     "95192b2e14a34293830e6f08f204789c": {
      "model_module": "@jupyter-widgets/base",
      "model_module_version": "1.2.0",
      "model_name": "LayoutModel",
      "state": {
       "grid_area": "description",
       "width": "auto"
      }
     },
     "954f81b7988245ef8531070b0b4ebb0b": {
      "model_module": "@jupyter-widgets/base",
      "model_module_version": "1.2.0",
      "model_name": "LayoutModel",
      "state": {
       "grid_area": "description",
       "width": "auto"
      }
     },
     "95aa5f2de9d145a6b93613416fe23697": {
      "model_module": "@jupyter-widgets/base",
      "model_module_version": "1.2.0",
      "model_name": "LayoutModel",
      "state": {}
     },
     "960d87dc69ab4647a0b113d4fcf05aaa": {
      "model_module": "@jupyter-widgets/controls",
      "model_module_version": "1.5.0",
      "model_name": "DescriptionStyleModel",
      "state": {
       "description_width": ""
      }
     },
     "967b1fe8a13242ef9631bcfe6d811082": {
      "model_module": "@jupyter-widgets/controls",
      "model_module_version": "1.5.0",
      "model_name": "VBoxModel",
      "state": {
       "children": [
        "IPY_MODEL_d34e0e59c3294dce98405ebe1890a550"
       ],
       "layout": "IPY_MODEL_43e98e3bd4444fc1a2acc5a535cb1c48"
      }
     },
     "9696131ad0864533b68f5d349d997e76": {
      "model_module": "@jupyter-widgets/controls",
      "model_module_version": "1.5.0",
      "model_name": "FileUploadModel",
      "state": {
       "accept": "._s.odf",
       "description_tooltip": null,
       "layout": "IPY_MODEL_e5332c603e6d40209f9e7cf70089bbe0",
       "style": "IPY_MODEL_ab237405e1cc46be9da46eaca7a25f9b"
      }
     },
     "96c3d2e1ad1046a9b169ef1056f0f2a0": {
      "model_module": "@jupyter-widgets/controls",
      "model_module_version": "1.5.0",
      "model_name": "HBoxModel",
      "state": {
       "children": [
        "IPY_MODEL_1211ed548d704168820d85779fca6455",
        "IPY_MODEL_f9be056167bb488798b0c18b75eb4ba7"
       ],
       "layout": "IPY_MODEL_c53ec4c8bfd94ec7be594132ae5c28a9"
      }
     },
     "97944bc95bf049cab9d08d8c6d3609c6": {
      "model_module": "@jupyter-widgets/controls",
      "model_module_version": "1.5.0",
      "model_name": "VBoxModel",
      "state": {
       "children": [
        "IPY_MODEL_d405b108041b493a8b5d0f251d0ad741",
        "IPY_MODEL_a591d19aa0ab403ba510e1fb7ef06407"
       ],
       "layout": "IPY_MODEL_38c32fda78f249e4be208d35529f8233"
      }
     },
     "99150319fd3a44deb7549ac3237de695": {
      "model_module": "@jupyter-widgets/controls",
      "model_module_version": "1.5.0",
      "model_name": "DescriptionStyleModel",
      "state": {
       "description_width": ""
      }
     },
     "9ae359960442458ba752aaa1fb4ff97b": {
      "model_module": "@jupyter-widgets/output",
      "model_module_version": "1.0.0",
      "model_name": "OutputModel",
      "state": {
       "layout": "IPY_MODEL_1a82039b8aa74728bb279b629442a427"
      }
     },
     "9bb7d05553664fb9baaae97984f65961": {
      "model_module": "@jupyter-widgets/base",
      "model_module_version": "1.2.0",
      "model_name": "LayoutModel",
      "state": {
       "grid_area": "input",
       "width": "auto"
      }
     },
     "9c2aeaa156e941d392cd4dbd4d191aab": {
      "model_module": "@jupyter-widgets/controls",
      "model_module_version": "1.5.0",
      "model_name": "LabelModel",
      "state": {
       "layout": "IPY_MODEL_9487a8049d0e405fb20dc5e978686733",
       "style": "IPY_MODEL_e572d9631eb341acba6aae59031a93f3"
      }
     },
     "9cdceff89f4647409947cb7c926e6291": {
      "model_module": "@jupyter-widgets/controls",
      "model_module_version": "1.5.0",
      "model_name": "DescriptionStyleModel",
      "state": {
       "description_width": ""
      }
     },
     "9edba93b0fa64ef2abae3f53827bcf64": {
      "model_module": "@jupyter-widgets/controls",
      "model_module_version": "1.5.0",
      "model_name": "DescriptionStyleModel",
      "state": {
       "description_width": ""
      }
     },
     "9fa577ab8586447495ff2a83ad843bca": {
      "model_module": "@jupyter-widgets/base",
      "model_module_version": "1.2.0",
      "model_name": "LayoutModel",
      "state": {}
     },
     "a073a6caba8049a2b1e6638048723367": {
      "model_module": "@jupyter-widgets/controls",
      "model_module_version": "1.5.0",
      "model_name": "DescriptionStyleModel",
      "state": {
       "description_width": ""
      }
     },
     "a078fc82c2e64696bec6c6886a760b24": {
      "model_module": "@jupyter-widgets/controls",
      "model_module_version": "1.5.0",
      "model_name": "VBoxModel",
      "state": {
       "_dom_classes": [
        "widget-interact"
       ],
       "children": [
        "IPY_MODEL_c94c47c23b384db4a04575978db94c1c",
        "IPY_MODEL_3e2d1857b29d4c95a48e6c13bee06436",
        "IPY_MODEL_5e66f8d27992454b851f20d60d80893a",
        "IPY_MODEL_37950a5f861d44f8842937f2c3ccbc58",
        "IPY_MODEL_7ba6b3ae05d14e48bd6e1484d67ffaa3",
        "IPY_MODEL_542640d1540b4d6e844a16d2b17fcfb9",
        "IPY_MODEL_0bce598056b641939c5ad8b7c1182ce6",
        "IPY_MODEL_fbbc8c3fd08a4c66ad99cb286ffc81ac"
       ],
       "layout": "IPY_MODEL_11ee9e444a5047b2b49923ab25993664"
      }
     },
     "a3454bab7a8e4dceaae1834a0a63ca33": {
      "model_module": "@jupyter-widgets/controls",
      "model_module_version": "1.5.0",
      "model_name": "ComboboxModel",
      "state": {
       "_dom_classes": [
        "nbtools-menu-attached"
       ],
       "choices": {
        "": "",
        "bam": "bam",
        "bb": "bb",
        "bed": "bed",
        "bedgraph": "bedgraph",
        "bedpe": "bedpe",
        "bedpe-loop": "bedpe-loop",
        "bigbed": "bigbed",
        "bigwig": "bigwig",
        "bp": "bp",
        "bw": "bw",
        "cram": "cram",
        "gwas": "gwas",
        "mut": "mut",
        "seg": "seg",
        "tdf": "tdf",
        "vcf": "vcf",
        "wig": "wig"
       },
       "ensure_option": false,
       "kinds": [],
       "layout": "IPY_MODEL_851b75618a1148eeb6cc438652ff3261",
       "style": "IPY_MODEL_d6b9acd45eed423b909278154e3a7266"
      }
     },
     "a54878161c6047b38c371dfcb7a5b95d": {
      "model_module": "@jupyter-widgets/controls",
      "model_module_version": "1.5.0",
      "model_name": "LabelModel",
      "state": {
       "layout": "IPY_MODEL_954f81b7988245ef8531070b0b4ebb0b",
       "style": "IPY_MODEL_960d87dc69ab4647a0b113d4fcf05aaa"
      }
     },
     "a591d19aa0ab403ba510e1fb7ef06407": {
      "model_module": "@jupyter-widgets/controls",
      "model_module_version": "1.5.0",
      "model_name": "ComboboxModel",
      "state": {
       "_dom_classes": [
        "nbtools-menu-attached"
       ],
       "choices": {},
       "ensure_option": false,
       "kinds": [],
       "layout": "IPY_MODEL_8ddb6d4da0a9414c9cb3069b1322cfa9",
       "style": "IPY_MODEL_63eb5cd42d6f48269f6b46f0936ce60d"
      }
     },
     "a6a5384325474397a001c2a93109d364": {
      "model_module": "@jupyter-widgets/base",
      "model_module_version": "1.2.0",
      "model_name": "LayoutModel",
      "state": {}
     },
     "a6c17e9e8a2c4a8ba34172165c5e2d0b": {
      "model_module": "@jupyter-widgets/base",
      "model_module_version": "1.2.0",
      "model_name": "LayoutModel",
      "state": {}
     },
     "a7f1c9348cdc4b95aa7ee1e472a61866": {
      "model_module": "@jupyter-widgets/controls",
      "model_module_version": "1.5.0",
      "model_name": "DescriptionStyleModel",
      "state": {
       "description_width": ""
      }
     },
     "a93a1d58ce6847df9a9abe0d36c91e46": {
      "model_module": "@jupyter-widgets/controls",
      "model_module_version": "1.5.0",
      "model_name": "TextModel",
      "state": {
       "_dom_classes": [
        "nbtools-menu-attached",
        "nbtools-nosendto"
       ],
       "layout": "IPY_MODEL_41681bb3b2c840348ef985017dcfa20c",
       "style": "IPY_MODEL_1c402cf5af974f59813c24449e9aabe4"
      }
     },
     "aa34f65512d5462bb930a4d76eaa5569": {
      "model_module": "@jupyter-widgets/base",
      "model_module_version": "1.2.0",
      "model_name": "LayoutModel",
      "state": {}
     },
     "aaa38a33223343c6b447112dfdbe7690": {
      "model_module": "@jupyter-widgets/controls",
      "model_module_version": "1.5.0",
      "model_name": "DescriptionStyleModel",
      "state": {
       "description_width": ""
      }
     },
     "aab60f171da3467caf01dfa309a85485": {
      "model_module": "@jupyter-widgets/output",
      "model_module_version": "1.0.0",
      "model_name": "OutputModel",
      "state": {
       "layout": "IPY_MODEL_0f9ba2bcbcfc417a9d8f9d6b41e2fa99",
       "outputs": [
        {
         "data": {},
         "metadata": {},
         "output_type": "display_data"
        }
       ]
      }
     },
     "aabe7aa3be404386af7c0526136ab256": {
      "model_module": "@jupyter-widgets/controls",
      "model_module_version": "1.5.0",
      "model_name": "DescriptionStyleModel",
      "state": {
       "description_width": ""
      }
     },
     "ab237405e1cc46be9da46eaca7a25f9b": {
      "model_module": "@jupyter-widgets/controls",
      "model_module_version": "1.5.0",
      "model_name": "ButtonStyleModel",
      "state": {}
     },
     "abdaeb537ff3432d86eca056656703f6": {
      "model_module": "@jupyter-widgets/controls",
      "model_module_version": "1.5.0",
      "model_name": "GridBoxModel",
      "state": {
       "_dom_classes": [
        "nbtools-input",
        "nbtools-fileinput",
        "required"
       ],
       "children": [
        "IPY_MODEL_c258bf2bf3664e60bb6a6f7c8fec50d4",
        "IPY_MODEL_9499898c87da4a019a6d5d81c5c34136",
        "IPY_MODEL_09ad88c3f4fe48d78a282777795eb22a"
       ],
       "layout": "IPY_MODEL_62fd836175b5427f9e2eeab2d41c4446"
      }
     },
     "b27a173b283542f8a532cd7f0f30741a": {
      "model_module": "@jupyter-widgets/controls",
      "model_module_version": "1.5.0",
      "model_name": "DescriptionStyleModel",
      "state": {
       "description_width": ""
      }
     },
     "b4f402162b8f4539b6def7fc8a6f34fc": {
      "model_module": "@jupyter-widgets/base",
      "model_module_version": "1.2.0",
      "model_name": "LayoutModel",
      "state": {
       "grid_area": "description",
       "width": "auto"
      }
     },
     "b6309ed1714a4c698f6b1f6f4a408777": {
      "model_module": "@jupyter-widgets/controls",
      "model_module_version": "1.5.0",
      "model_name": "LabelModel",
      "state": {
       "layout": "IPY_MODEL_73394f3727e04e9c86769818a5115b27",
       "style": "IPY_MODEL_e60ea5249aa346bab26596fbf247410e"
      }
     },
     "b68357159f944ad7a02f6e27b32821ac": {
      "model_module": "@jupyter-widgets/controls",
      "model_module_version": "1.5.0",
      "model_name": "ComboboxModel",
      "state": {
       "_dom_classes": [
        "nbtools-menu-attached"
       ],
       "choices": {},
       "ensure_option": false,
       "kinds": [
        "_s.odf"
       ],
       "layout": "IPY_MODEL_1a7eae4e3d184081ab328c30cd349561",
       "style": "IPY_MODEL_0b5ec31cb3404f5ea7c07071f4857e03"
      }
     },
     "b6abcce517454d8fbaf6bf0a29af5cb9": {
      "model_module": "@jupyter-widgets/controls",
      "model_module_version": "1.5.0",
      "model_name": "DescriptionStyleModel",
      "state": {
       "description_width": ""
      }
     },
     "b6ae691de3b14f398833a49eb48a97be": {
      "model_module": "@jupyter-widgets/base",
      "model_module_version": "1.2.0",
      "model_name": "LayoutModel",
      "state": {
       "grid_template_areas": "\n                    \"label input\"\n                    \". description\"\n                ",
       "grid_template_columns": "25% 75%",
       "grid_template_rows": "auto auto",
       "width": "100%"
      }
     },
     "b6da2c3c1c834cfa87f6c5fb63083c64": {
      "model_module": "@jupyter-widgets/controls",
      "model_module_version": "1.5.0",
      "model_name": "LabelModel",
      "state": {
       "description": "Enter the URL to the track dataset(s)",
       "layout": "IPY_MODEL_fb1e7747345c432fa7d84acbc53ccb18",
       "style": "IPY_MODEL_f36f5b86206c47d9b2ce2946ceca5bde",
       "value": "Enter the URL to the track dataset(s)"
      }
     },
     "b7284762585942f7a172e4017bd6c3ff": {
      "model_module": "@jupyter-widgets/base",
      "model_module_version": "1.2.0",
      "model_name": "LayoutModel",
      "state": {
       "grid_area": "label",
       "width": "auto"
      }
     },
     "b883c579da734d77899cc219604f253a": {
      "model_module": "@jupyter-widgets/output",
      "model_module_version": "1.0.0",
      "model_name": "OutputModel",
      "state": {
       "layout": "IPY_MODEL_6c064a90b6654a20a243b864e4f504f0"
      }
     },
     "b95e433698684ec18bd8b6f53fa61a6c": {
      "model_module": "@genepattern/nbtools",
      "model_module_version": "^21.9.0-beta.1",
      "model_name": "UIOutputModel",
      "state": {
       "_model_module_version": "^21.9.0-beta.1",
       "_view_module_version": "^21.9.0-beta.1",
       "appendix": "IPY_MODEL_c5b642ddc4ca4e7c9bbe189713354691",
       "error": "Cannot find tool: GenePattern Cloud | urn:lsid:broad.mit.edu:cancer.software.genepattern.module.analysis:00002:2",
       "layout": "IPY_MODEL_befab06f96864e41ac5f162343782ed3",
       "name": "Cannot find tool"
      }
     },
     "ba19e6fd61ed4ff19828decf2f194170": {
      "model_module": "@jupyter-widgets/controls",
      "model_module_version": "1.5.0",
      "model_name": "DescriptionStyleModel",
      "state": {
       "description_width": ""
      }
     },
     "baf5f6a3e0724a4192dbe6e3fa7536e6": {
      "model_module": "@jupyter-widgets/controls",
      "model_module_version": "1.5.0",
      "model_name": "LabelModel",
      "state": {
       "description": "output variable",
       "layout": "IPY_MODEL_c593400e25a04958a5fde51e418ac9e2",
       "style": "IPY_MODEL_9edba93b0fa64ef2abae3f53827bcf64",
       "value": "output variable"
      }
     },
     "bcd370bfcbf44f2bbdc4b546f270bd66": {
      "model_module": "@jupyter-widgets/controls",
      "model_module_version": "1.5.0",
      "model_name": "DescriptionStyleModel",
      "state": {
       "description_width": ""
      }
     },
     "bd04bb56b2ca4eaaa53a0dfb73084119": {
      "model_module": "@jupyter-widgets/controls",
      "model_module_version": "1.5.0",
      "model_name": "DescriptionStyleModel",
      "state": {
       "description_width": ""
      }
     },
     "bd912cc87d414c819566257b2596d16e": {
      "model_module": "@jupyter-widgets/base",
      "model_module_version": "1.2.0",
      "model_name": "LayoutModel",
      "state": {
       "grid_area": "label",
       "width": "auto"
      }
     },
     "bdda7b9e9a3743dabab98300d4c11182": {
      "model_module": "@jupyter-widgets/controls",
      "model_module_version": "1.5.0",
      "model_name": "LabelModel",
      "state": {
       "description": "Enter the URL to the index files that correspond to each track",
       "layout": "IPY_MODEL_95192b2e14a34293830e6f08f204789c",
       "style": "IPY_MODEL_198fcab9a24f402aaf36e21ad0e0a4d7",
       "value": "Enter the URL to the index files that correspond to each track"
      }
     },
     "befab06f96864e41ac5f162343782ed3": {
      "model_module": "@jupyter-widgets/base",
      "model_module_version": "1.2.0",
      "model_name": "LayoutModel",
      "state": {}
     },
     "bff316524f7546f48065ffbbeb01021a": {
      "model_module": "@jupyter-widgets/controls",
      "model_module_version": "1.5.0",
      "model_name": "ComboboxModel",
      "state": {
       "_dom_classes": [
        "nbtools-menu-attached"
       ],
       "choices": {},
       "ensure_option": false,
       "kinds": [],
       "layout": "IPY_MODEL_e4d22c82ad514d4fb020f95dbe498e69",
       "style": "IPY_MODEL_3d8a43a874a045068f3a2d9861ec7117"
      }
     },
     "c02c6c09201e40388c50e4e6f66327ea": {
      "model_module": "@jupyter-widgets/controls",
      "model_module_version": "1.5.0",
      "model_name": "HBoxModel",
      "state": {
       "children": [
        "IPY_MODEL_5d1e0567a45c45f7b6233e2fe09b87ab",
        "IPY_MODEL_7c8a41d688d8497e852aafcb7250d4e9"
       ],
       "layout": "IPY_MODEL_491974d850194904a1c0454254c00b56"
      }
     },
     "c051e4a7431b4d7a8248b5576c1d7a12": {
      "model_module": "@jupyter-widgets/base",
      "model_module_version": "1.2.0",
      "model_name": "LayoutModel",
      "state": {}
     },
     "c07a46b7be084127bbb665853e3d1a58": {
      "model_module": "@jupyter-widgets/base",
      "model_module_version": "1.2.0",
      "model_name": "LayoutModel",
      "state": {
       "grid_area": "label",
       "width": "auto"
      }
     },
     "c19f64224bf741caa50427d9c024feaf": {
      "model_module": "@jupyter-widgets/base",
      "model_module_version": "1.2.0",
      "model_name": "LayoutModel",
      "state": {}
     },
     "c258bf2bf3664e60bb6a6f7c8fec50d4": {
      "model_module": "@jupyter-widgets/controls",
      "model_module_version": "1.5.0",
      "model_name": "LabelModel",
      "state": {
       "description": "bar",
       "layout": "IPY_MODEL_384d0da8c6ff43e3bebe009f7c763fb7",
       "style": "IPY_MODEL_b27a173b283542f8a532cd7f0f30741a",
       "value": "bar*"
      }
     },
     "c2adcf7dae254c639d4bdcbe3de872d4": {
      "model_module": "@jupyter-widgets/controls",
      "model_module_version": "1.5.0",
      "model_name": "GridBoxModel",
      "state": {
       "_dom_classes": [
        "nbtools-input",
        "nbtools-textinput",
        "required"
       ],
       "children": [
        "IPY_MODEL_41f6944af27b4094afb33a98472e9f1f",
        "IPY_MODEL_a93a1d58ce6847df9a9abe0d36c91e46",
        "IPY_MODEL_9c2aeaa156e941d392cd4dbd4d191aab"
       ],
       "layout": "IPY_MODEL_7ffe9f226aab4d528b02d8db612ce3c7"
      }
     },
     "c34b986273c9489eb4f0432e748bfe73": {
      "model_module": "@jupyter-widgets/controls",
      "model_module_version": "1.5.0",
      "model_name": "DescriptionStyleModel",
      "state": {
       "description_width": ""
      }
     },
     "c411f8efd6174ca0af54740c6c7bb7ee": {
      "model_module": "@jupyter-widgets/controls",
      "model_module_version": "1.5.0",
      "model_name": "VBoxModel",
      "state": {
       "_dom_classes": [
        "widget-interact"
       ],
       "children": [
        "IPY_MODEL_e9264c23b8924e9195b23f568d2337b7",
        "IPY_MODEL_c2adcf7dae254c639d4bdcbe3de872d4",
        "IPY_MODEL_19367beeeab442369388abf2f5908133",
        "IPY_MODEL_901c61e42b9c4aed9f271efba9cae30e",
        "IPY_MODEL_e7caef5c72614f47b41e814513d86f44"
       ],
       "layout": "IPY_MODEL_4639652d865b4d959fce96a5410de659"
      }
     },
     "c539d0e283cc4164b1dd3df53f7d1ac6": {
      "model_module": "@jupyter-widgets/base",
      "model_module_version": "1.2.0",
      "model_name": "LayoutModel",
      "state": {}
     },
     "c53ec4c8bfd94ec7be594132ae5c28a9": {
      "model_module": "@jupyter-widgets/base",
      "model_module_version": "1.2.0",
      "model_name": "LayoutModel",
      "state": {
       "grid_area": "input",
       "width": "auto"
      }
     },
     "c593400e25a04958a5fde51e418ac9e2": {
      "model_module": "@jupyter-widgets/base",
      "model_module_version": "1.2.0",
      "model_name": "LayoutModel",
      "state": {
       "grid_area": "label",
       "width": "auto"
      }
     },
     "c5940d9feae244be8da744b04a9281e5": {
      "model_module": "@jupyter-widgets/controls",
      "model_module_version": "1.5.0",
      "model_name": "ButtonStyleModel",
      "state": {}
     },
     "c5b642ddc4ca4e7c9bbe189713354691": {
      "model_module": "@jupyter-widgets/controls",
      "model_module_version": "1.5.0",
      "model_name": "VBoxModel",
      "state": {
       "layout": "IPY_MODEL_a6a5384325474397a001c2a93109d364"
      }
     },
     "c6c90a1ae8144fbd87384ddac2a2b98e": {
      "model_module": "@jupyter-widgets/controls",
      "model_module_version": "1.5.0",
      "model_name": "DescriptionStyleModel",
      "state": {
       "description_width": ""
      }
     },
     "c70c0346a1a840bc981561eda54822b4": {
      "model_module": "@jupyter-widgets/base",
      "model_module_version": "1.2.0",
      "model_name": "LayoutModel",
      "state": {
       "grid_area": "input",
       "width": "auto"
      }
     },
     "c7f8b00d9fc3440d99609038a670e869": {
      "model_module": "@jupyter-widgets/controls",
      "model_module_version": "1.5.0",
      "model_name": "LabelModel",
      "state": {
       "description": "tracks",
       "layout": "IPY_MODEL_c07a46b7be084127bbb665853e3d1a58",
       "style": "IPY_MODEL_c6c90a1ae8144fbd87384ddac2a2b98e",
       "value": "tracks"
      }
     },
     "c87d7698887b4a3ea78ae6dc37a5f8b4": {
      "model_module": "@jupyter-widgets/controls",
      "model_module_version": "1.5.0",
      "model_name": "DescriptionStyleModel",
      "state": {
       "description_width": ""
      }
     },
     "c8b8121fb3404b6fb55309f91591a4ad": {
      "model_module": "@jupyter-widgets/controls",
      "model_module_version": "1.5.0",
      "model_name": "TextModel",
      "state": {
       "_dom_classes": [
        "nbtools-menu-attached"
       ],
       "layout": "IPY_MODEL_9bb7d05553664fb9baaae97984f65961",
       "style": "IPY_MODEL_fff994a456114018aca6c09b9c15fea4"
      }
     },
     "c91fda535b854e73815bda86e77a05cd": {
      "model_module": "@jupyter-widgets/base",
      "model_module_version": "1.2.0",
      "model_name": "LayoutModel",
      "state": {
       "grid_area": "input",
       "width": "auto"
      }
     },
     "c94c47c23b384db4a04575978db94c1c": {
      "model_module": "@jupyter-widgets/controls",
      "model_module_version": "1.5.0",
      "model_name": "GridBoxModel",
      "state": {
       "_dom_classes": [
        "nbtools-input",
        "nbtools-comboinput",
        "required"
       ],
       "children": [
        "IPY_MODEL_7e6014a5d3d2441cae49c9568623719b",
        "IPY_MODEL_0b65466bd17342b5a08002155d733b94",
        "IPY_MODEL_e105d57698ac4b829d6555773c520cfc"
       ],
       "layout": "IPY_MODEL_900b2db9e6854f2289864c68ff2b9c52"
      }
     },
     "cb1b2f94dea24e9c98a287c60fed7309": {
      "model_module": "@jupyter-widgets/controls",
      "model_module_version": "1.5.0",
      "model_name": "LabelModel",
      "state": {
       "layout": "IPY_MODEL_df7c571b74924d86913a214c15d14db1",
       "style": "IPY_MODEL_5592347f347843fc96fe302729c84987"
      }
     },
     "cba2fb88fd224d0da18b08f045fa6679": {
      "model_module": "@jupyter-widgets/base",
      "model_module_version": "1.2.0",
      "model_name": "LayoutModel",
      "state": {
       "grid_area": "label",
       "width": "auto"
      }
     },
     "ce0a8d7fafeb45728afd19e7d302f2b7": {
      "model_module": "@jupyter-widgets/controls",
      "model_module_version": "1.5.0",
      "model_name": "DescriptionStyleModel",
      "state": {
       "description_width": ""
      }
     },
     "ce55b6be634e4de8add5b7c3989a212e": {
      "model_module": "@jupyter-widgets/base",
      "model_module_version": "1.2.0",
      "model_name": "LayoutModel",
      "state": {
       "display": "none",
       "grid_template_areas": "\n                    \"label input\"\n                    \". description\"\n                ",
       "grid_template_columns": "25% 75%",
       "grid_template_rows": "auto auto",
       "width": "100%"
      }
     },
     "ce6d7398ad3344548556a45a6d797052": {
      "model_module": "@jupyter-widgets/controls",
      "model_module_version": "1.5.0",
      "model_name": "ButtonStyleModel",
      "state": {}
     },
     "cefd37ab55f747ad93c3d0b92b56bb7d": {
      "model_module": "@jupyter-widgets/output",
      "model_module_version": "1.0.0",
      "model_name": "OutputModel",
      "state": {
       "layout": "IPY_MODEL_2d8db26c97134fd5aa0abd18e4d7bda4"
      }
     },
     "d2e1bdb94a244d63ab91148ce469d948": {
      "model_module": "@jupyter-widgets/controls",
      "model_module_version": "1.5.0",
      "model_name": "LabelModel",
      "state": {
       "description": "Provide a locus or gene of interest for your data",
       "layout": "IPY_MODEL_5769b68bf03a40148334003ffe328996",
       "style": "IPY_MODEL_48959537d4f64ed09a6b6fc009a2afe2",
       "value": "Provide a locus or gene of interest for your data"
      }
     },
     "d34e0e59c3294dce98405ebe1890a550": {
      "model_module": "@jupyter-widgets/controls",
      "model_module_version": "1.5.0",
      "model_name": "ComboboxModel",
      "state": {
       "_dom_classes": [
        "nbtools-menu-attached"
       ],
       "choices": {},
       "ensure_option": false,
       "kinds": [
        "_s.odf"
       ],
       "layout": "IPY_MODEL_885526304a6a48579272409b889b8316",
       "style": "IPY_MODEL_a073a6caba8049a2b1e6638048723367"
      }
     },
     "d405b108041b493a8b5d0f251d0ad741": {
      "model_module": "@jupyter-widgets/controls",
      "model_module_version": "1.5.0",
      "model_name": "ComboboxModel",
      "state": {
       "_dom_classes": [
        "nbtools-menu-attached"
       ],
       "choices": {},
       "ensure_option": false,
       "kinds": [],
       "layout": "IPY_MODEL_f81db54536884f1b9d2b22730ed5262a",
       "style": "IPY_MODEL_437b2845278541299171f4ae5a5fb009"
      }
     },
     "d4560925c82848f9a7055c72095d1c0c": {
      "model_module": "@jupyter-widgets/base",
      "model_module_version": "1.2.0",
      "model_name": "LayoutModel",
      "state": {}
     },
     "d471d753a7094a99b4af40202aac109d": {
      "model_module": "@jupyter-widgets/base",
      "model_module_version": "1.2.0",
      "model_name": "LayoutModel",
      "state": {
       "grid_area": "label",
       "width": "auto"
      }
     },
     "d5fadabc6f7541e1a99905d78350b6bb": {
      "model_module": "@jupyter-widgets/controls",
      "model_module_version": "1.5.0",
      "model_name": "TextModel",
      "state": {
       "_dom_classes": [
        "nbtools-menu-attached"
       ],
       "layout": "IPY_MODEL_8c3f816fb1a14e63929b5c746752ee33",
       "style": "IPY_MODEL_46060fca6e014a099e0f712b015ccba2"
      }
     },
     "d6b9acd45eed423b909278154e3a7266": {
      "model_module": "@jupyter-widgets/controls",
      "model_module_version": "1.5.0",
      "model_name": "DescriptionStyleModel",
      "state": {
       "description_width": ""
      }
     },
     "da244266fb374e4b872374b9b6b29c14": {
      "model_module": "@jupyter-widgets/controls",
      "model_module_version": "1.5.0",
      "model_name": "LabelModel",
      "state": {
       "description": "output variable",
       "layout": "IPY_MODEL_6e5af93cb0484b4c950984a6b7cf07b1",
       "style": "IPY_MODEL_ce0a8d7fafeb45728afd19e7d302f2b7",
       "value": "output variable"
      }
     },
     "dd2838de5e9d467cba3df2d06a0b37bb": {
      "model_module": "@jupyter-widgets/controls",
      "model_module_version": "1.5.0",
      "model_name": "LabelModel",
      "state": {
       "layout": "IPY_MODEL_276beff561e649dcb5ed61930ade447f",
       "style": "IPY_MODEL_e80fc137060e4627b5c708152d4c7eb3"
      }
     },
     "dd3546ac229642e0ac5612c1d2174893": {
      "model_module": "@jupyter-widgets/controls",
      "model_module_version": "1.5.0",
      "model_name": "LabelModel",
      "state": {
       "layout": "IPY_MODEL_5b30ccc4f5af4ec697e76ee4ee9208d8",
       "style": "IPY_MODEL_bd04bb56b2ca4eaaa53a0dfb73084119"
      }
     },
     "dd8413abca784065b1113ef8f7913d94": {
      "model_module": "@jupyter-widgets/controls",
      "model_module_version": "1.5.0",
      "model_name": "ButtonStyleModel",
      "state": {}
     },
     "dd898594828546ebb5f4654e3c1ca294": {
      "model_module": "@jupyter-widgets/controls",
      "model_module_version": "1.5.0",
      "model_name": "DescriptionStyleModel",
      "state": {
       "description_width": ""
      }
     },
     "dde0f776a9984f7c805e8710a5d5a678": {
      "model_module": "@jupyter-widgets/base",
      "model_module_version": "1.2.0",
      "model_name": "LayoutModel",
      "state": {}
     },
     "de3bed91d4fa47b6b6080aefbc5ef7e4": {
      "model_module": "@jupyter-widgets/base",
      "model_module_version": "1.2.0",
      "model_name": "LayoutModel",
      "state": {}
     },
     "dedbcc62df204d1b947ca6ff8cad1be7": {
      "model_module": "@jupyter-widgets/base",
      "model_module_version": "1.2.0",
      "model_name": "LayoutModel",
      "state": {
       "grid_area": "input",
       "width": "auto"
      }
     },
     "df7c571b74924d86913a214c15d14db1": {
      "model_module": "@jupyter-widgets/base",
      "model_module_version": "1.2.0",
      "model_name": "LayoutModel",
      "state": {
       "grid_area": "description",
       "width": "auto"
      }
     },
     "e04bf5a16a9946159502b1ac847a2e41": {
      "model_module": "@jupyter-widgets/controls",
      "model_module_version": "1.5.0",
      "model_name": "TextModel",
      "state": {
       "_dom_classes": [
        "nbtools-menu-attached"
       ],
       "layout": "IPY_MODEL_90846b746a264bddbb36258650ff1e2e",
       "style": "IPY_MODEL_b6abcce517454d8fbaf6bf0a29af5cb9"
      }
     },
     "e0c77ab55db74853be797786d744c5f9": {
      "model_module": "@jupyter-widgets/controls",
      "model_module_version": "1.5.0",
      "model_name": "DescriptionStyleModel",
      "state": {
       "description_width": ""
      }
     },
     "e105d57698ac4b829d6555773c520cfc": {
      "model_module": "@jupyter-widgets/controls",
      "model_module_version": "1.5.0",
      "model_name": "LabelModel",
      "state": {
       "description": "Choose the genome for your data.",
       "layout": "IPY_MODEL_654509edc1764172bdb694117e9f69be",
       "style": "IPY_MODEL_9cdceff89f4647409947cb7c926e6291",
       "value": "Choose the genome for your data."
      }
     },
     "e44ed04eaa1b41a08740d41673bb0b42": {
      "model_module": "@jupyter-widgets/controls",
      "model_module_version": "1.5.0",
      "model_name": "TextModel",
      "state": {
       "_dom_classes": [
        "nbtools-menu-attached"
       ],
       "layout": "IPY_MODEL_c70c0346a1a840bc981561eda54822b4",
       "style": "IPY_MODEL_1704bd106ea040f2b1d833a200d97c00"
      }
     },
     "e4d22c82ad514d4fb020f95dbe498e69": {
      "model_module": "@jupyter-widgets/base",
      "model_module_version": "1.2.0",
      "model_name": "LayoutModel",
      "state": {}
     },
     "e5332c603e6d40209f9e7cf70089bbe0": {
      "model_module": "@jupyter-widgets/base",
      "model_module_version": "1.2.0",
      "model_name": "LayoutModel",
      "state": {}
     },
     "e572d9631eb341acba6aae59031a93f3": {
      "model_module": "@jupyter-widgets/controls",
      "model_module_version": "1.5.0",
      "model_name": "DescriptionStyleModel",
      "state": {
       "description_width": ""
      }
     },
     "e60ea5249aa346bab26596fbf247410e": {
      "model_module": "@jupyter-widgets/controls",
      "model_module_version": "1.5.0",
      "model_name": "DescriptionStyleModel",
      "state": {
       "description_width": ""
      }
     },
     "e61b535c892348b8b8712596f190fb66": {
      "model_module": "@jupyter-widgets/controls",
      "model_module_version": "1.5.0",
      "model_name": "DescriptionStyleModel",
      "state": {
       "description_width": ""
      }
     },
     "e7caef5c72614f47b41e814513d86f44": {
      "model_module": "@jupyter-widgets/controls",
      "model_module_version": "1.5.0",
      "model_name": "GridBoxModel",
      "state": {
       "_dom_classes": [
        "nbtools-input",
        "nbtools-textinput"
       ],
       "children": [
        "IPY_MODEL_94e33d35131846f69f14632783346046",
        "IPY_MODEL_45f4283d92dc42f6bb2a6e0e82e5bf89",
        "IPY_MODEL_6dec0f1d1a104fd0a861734156780f1a"
       ],
       "layout": "IPY_MODEL_6401ee0b5dfa4a1b979eb1afec1bf253"
      }
     },
     "e7cbfadeb16a4288b83aca4ad0d14c4c": {
      "model_module": "@jupyter-widgets/base",
      "model_module_version": "1.2.0",
      "model_name": "LayoutModel",
      "state": {}
     },
     "e80fc137060e4627b5c708152d4c7eb3": {
      "model_module": "@jupyter-widgets/controls",
      "model_module_version": "1.5.0",
      "model_name": "DescriptionStyleModel",
      "state": {
       "description_width": ""
      }
     },
     "e87abba076d449449f70e1e3fcfd656b": {
      "model_module": "@jupyter-widgets/base",
      "model_module_version": "1.2.0",
      "model_name": "LayoutModel",
      "state": {
       "grid_area": "label",
       "width": "auto"
      }
     },
     "e9264c23b8924e9195b23f568d2337b7": {
      "model_module": "@jupyter-widgets/controls",
      "model_module_version": "1.5.0",
      "model_name": "GridBoxModel",
      "state": {
       "_dom_classes": [
        "nbtools-input",
        "nbtools-comboinput",
        "required"
       ],
       "children": [
        "IPY_MODEL_74de301499da4d248a22f0be726ea7be",
        "IPY_MODEL_0ee47ab3b2a341da8e068e808543693c",
        "IPY_MODEL_cb1b2f94dea24e9c98a287c60fed7309"
       ],
       "layout": "IPY_MODEL_76a982d235d64b8499861c9ad34afe27"
      }
     },
     "e9c2cb95677541f7a4ff6a4f366e7383": {
      "model_module": "@jupyter-widgets/controls",
      "model_module_version": "1.5.0",
      "model_name": "ComboboxModel",
      "state": {
       "_dom_classes": [
        "nbtools-menu-attached"
       ],
       "choices": {
        "": "",
        "alignment": "alignment",
        "annotation": "annotation",
        "arc": "arc",
        "bedtype": "bedtype",
        "gwas": "gwas",
        "interaction": "interaction",
        "mut": "mut",
        "seg": "seg",
        "variant": "variant",
        "wig": "wig"
       },
       "ensure_option": false,
       "kinds": [],
       "layout": "IPY_MODEL_655443fc5da54526a1b9898c52a86dba",
       "style": "IPY_MODEL_f55aebabcc7f4d76a2304a3b1ce8094e"
      }
     },
     "ea03bb16e21949f4918240d9a0e67b8d": {
      "model_module": "@jupyter-widgets/base",
      "model_module_version": "1.2.0",
      "model_name": "LayoutModel",
      "state": {
       "grid_area": "input",
       "width": "auto"
      }
     },
     "ea2aaef5113d49d795753a8aa8d9f633": {
      "model_module": "@jupyter-widgets/controls",
      "model_module_version": "1.5.0",
      "model_name": "ButtonModel",
      "state": {
       "_dom_classes": [
        "hidden"
       ],
       "description": "Run",
       "layout": "IPY_MODEL_a6c17e9e8a2c4a8ba34172165c5e2d0b",
       "style": "IPY_MODEL_74150d3844dc44c788f3bcc764e95099"
      }
     },
     "ebec883e8d4b4ef8bfb4074baf849855": {
      "model_module": "@jupyter-widgets/controls",
      "model_module_version": "1.5.0",
      "model_name": "ButtonModel",
      "state": {
       "_dom_classes": [
        "hidden"
       ],
       "description": "Run",
       "layout": "IPY_MODEL_2b8d73dd60d54edbbce4a7878110748d",
       "style": "IPY_MODEL_c5940d9feae244be8da744b04a9281e5"
      }
     },
     "ec6bf701d61e4ebab80fd0caeec0ea74": {
      "model_module": "@jupyter-widgets/base",
      "model_module_version": "1.2.0",
      "model_name": "LayoutModel",
      "state": {}
     },
     "ece98ea5adc04188af2595108754ff53": {
      "model_module": "@jupyter-widgets/output",
      "model_module_version": "1.0.0",
      "model_name": "OutputModel",
      "state": {
       "layout": "IPY_MODEL_90dc487e0a1e4f7fa23cebb403819b00"
      }
     },
     "ee95274b94574c2a87d5ba36b90ffcb5": {
      "model_module": "@jupyter-widgets/controls",
      "model_module_version": "1.5.0",
      "model_name": "LabelModel",
      "state": {
       "description": "output variable",
       "layout": "IPY_MODEL_f52677de00c54afb827459a8603e2250",
       "style": "IPY_MODEL_0599cccc0bcc48f9a6ef02967cf590d5",
       "value": "output variable"
      }
     },
     "eee7a929fe1d4a209bc14709f1761bc2": {
      "model_module": "@jupyter-widgets/controls",
      "model_module_version": "1.5.0",
      "model_name": "DescriptionStyleModel",
      "state": {
       "description_width": ""
      }
     },
     "f26a157f64f049cda655845e9af08cd4": {
      "model_module": "@jupyter-widgets/base",
      "model_module_version": "1.2.0",
      "model_name": "LayoutModel",
      "state": {}
     },
     "f2b6a87546a046cca3e9f0206b724547": {
      "model_module": "@jupyter-widgets/controls",
      "model_module_version": "1.5.0",
      "model_name": "GridBoxModel",
      "state": {
       "_dom_classes": [
        "nbtools-input",
        "nbtools-textinput"
       ],
       "children": [
        "IPY_MODEL_1543bd448ac046bcbba7697dfa9acd82",
        "IPY_MODEL_e04bf5a16a9946159502b1ac847a2e41",
        "IPY_MODEL_dd3546ac229642e0ac5612c1d2174893"
       ],
       "layout": "IPY_MODEL_0e9f7c8e78ac4c3eb0ec27e5bbc092db"
      }
     },
     "f36f5b86206c47d9b2ce2946ceca5bde": {
      "model_module": "@jupyter-widgets/controls",
      "model_module_version": "1.5.0",
      "model_name": "DescriptionStyleModel",
      "state": {
       "description_width": ""
      }
     },
     "f3c57e2dd79b44628cefe8cb564c5edf": {
      "model_module": "@jupyter-widgets/controls",
      "model_module_version": "1.5.0",
      "model_name": "LabelModel",
      "state": {
       "description": "output variable",
       "layout": "IPY_MODEL_758f5e7e50b74c5ba6ab179b04b46f12",
       "style": "IPY_MODEL_e61b535c892348b8b8712596f190fb66",
       "value": "output variable"
      }
     },
     "f4517ce773c44937a0f71b552d862ccb": {
      "model_module": "@jupyter-widgets/base",
      "model_module_version": "1.2.0",
      "model_name": "LayoutModel",
      "state": {
       "display": "none",
       "grid_template_areas": "\n                    \"label input\"\n                    \". description\"\n                ",
       "grid_template_columns": "25% 75%",
       "grid_template_rows": "auto auto",
       "width": "100%"
      }
     },
     "f49fe32264494484b097d526f0e85c87": {
      "model_module": "@jupyter-widgets/base",
      "model_module_version": "1.2.0",
      "model_name": "LayoutModel",
      "state": {}
     },
     "f4e3ab1ec60d49d0a8acd9a0f4a0fac6": {
      "model_module": "@jupyter-widgets/base",
      "model_module_version": "1.2.0",
      "model_name": "LayoutModel",
      "state": {
       "grid_template_areas": "\n                    \"label input\"\n                    \". description\"\n                ",
       "grid_template_columns": "25% 75%",
       "grid_template_rows": "auto auto",
       "width": "100%"
      }
     },
     "f52677de00c54afb827459a8603e2250": {
      "model_module": "@jupyter-widgets/base",
      "model_module_version": "1.2.0",
      "model_name": "LayoutModel",
      "state": {
       "grid_area": "label",
       "width": "auto"
      }
     },
     "f55aebabcc7f4d76a2304a3b1ce8094e": {
      "model_module": "@jupyter-widgets/controls",
      "model_module_version": "1.5.0",
      "model_name": "DescriptionStyleModel",
      "state": {
       "description_width": ""
      }
     },
     "f64422659393415c81706ab65ac15b63": {
      "model_module": "@jupyter-widgets/controls",
      "model_module_version": "1.5.0",
      "model_name": "LabelModel",
      "state": {
       "description": "output variable",
       "layout": "IPY_MODEL_69e26198f7284d9584106f58b7e58fd0",
       "style": "IPY_MODEL_bcd370bfcbf44f2bbdc4b546f270bd66",
       "value": "output variable"
      }
     },
     "f81db54536884f1b9d2b22730ed5262a": {
      "model_module": "@jupyter-widgets/base",
      "model_module_version": "1.2.0",
      "model_name": "LayoutModel",
      "state": {}
     },
     "f863b47b031847c69ee6343227ff59b8": {
      "model_module": "@jupyter-widgets/base",
      "model_module_version": "1.2.0",
      "model_name": "LayoutModel",
      "state": {
       "grid_area": "label",
       "width": "auto"
      }
     },
     "f9103919cd5a49ec89fcd557aac45412": {
      "model_module": "@jupyter-widgets/base",
      "model_module_version": "1.2.0",
      "model_name": "LayoutModel",
      "state": {}
     },
     "f9355543aca54efcbc5e0e424c5fab31": {
      "model_module": "@jupyter-widgets/controls",
      "model_module_version": "1.5.0",
      "model_name": "DescriptionStyleModel",
      "state": {
       "description_width": ""
      }
     },
     "f94e82d7192546d799394ff9e5204ae3": {
      "model_module": "@jupyter-widgets/output",
      "model_module_version": "1.0.0",
      "model_name": "OutputModel",
      "state": {
       "layout": "IPY_MODEL_d4560925c82848f9a7055c72095d1c0c"
      }
     },
     "f9be056167bb488798b0c18b75eb4ba7": {
      "model_module": "@jupyter-widgets/controls",
      "model_module_version": "1.5.0",
      "model_name": "VBoxModel",
      "state": {
       "children": [
        "IPY_MODEL_b68357159f944ad7a02f6e27b32821ac"
       ],
       "layout": "IPY_MODEL_f49fe32264494484b097d526f0e85c87"
      }
     },
     "f9d85047d58f44b9ae9b6e4b9bab54c1": {
      "model_module": "@jupyter-widgets/controls",
      "model_module_version": "1.5.0",
      "model_name": "LabelModel",
      "state": {
       "description": "Enter the format of the track datasets",
       "layout": "IPY_MODEL_5b21f5759bbc4578828569b19477815b",
       "style": "IPY_MODEL_0a98414260cc4d0ca03a7dacdd71612c",
       "value": "Enter the format of the track datasets"
      }
     },
     "fb1e7747345c432fa7d84acbc53ccb18": {
      "model_module": "@jupyter-widgets/base",
      "model_module_version": "1.2.0",
      "model_name": "LayoutModel",
      "state": {
       "grid_area": "description",
       "width": "auto"
      }
     },
     "fbbc8c3fd08a4c66ad99cb286ffc81ac": {
      "model_module": "@jupyter-widgets/controls",
      "model_module_version": "1.5.0",
      "model_name": "GridBoxModel",
      "state": {
       "_dom_classes": [
        "nbtools-input",
        "nbtools-textinput"
       ],
       "children": [
        "IPY_MODEL_da244266fb374e4b872374b9b6b29c14",
        "IPY_MODEL_8e9ca7a737064b62a21ccd8c2892413b",
        "IPY_MODEL_a54878161c6047b38c371dfcb7a5b95d"
       ],
       "layout": "IPY_MODEL_79652ded70b5487ea0bee243f265bc67"
      }
     },
     "fff994a456114018aca6c09b9c15fea4": {
      "model_module": "@jupyter-widgets/controls",
      "model_module_version": "1.5.0",
      "model_name": "DescriptionStyleModel",
      "state": {
       "description_width": ""
      }
     }
    },
    "version_major": 2,
    "version_minor": 0
   }
  }
 },
 "nbformat": 4,
 "nbformat_minor": 4
}
