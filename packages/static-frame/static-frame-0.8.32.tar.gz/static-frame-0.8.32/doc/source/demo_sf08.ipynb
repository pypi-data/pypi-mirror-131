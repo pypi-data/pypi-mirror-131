{
 "cells": [
  {
   "cell_type": "markdown",
   "metadata": {
    "slideshow": {
     "slide_type": "slide"
    }
   },
   "source": [
    "# API Changes in StaticFrame 0.8\n"
   ]
  },
  {
   "cell_type": "markdown",
   "metadata": {
    "slideshow": {
     "slide_type": "slide"
    }
   },
   "source": [
    "## StaticFrame follows ZeroVer (for now)\n",
    "\n",
    "* Pre 1.0 Semantic Versioning\n",
    "* https://0ver.org/\n",
    "* Backward incompatibilities introduced between \"major\" releases\n",
    "    * from 0.6 to 0.7\n",
    "    * from 0.7 to 0.8\n",
    "* Within a \"major\" release we overwhelmingly maintain backwards compatibility\n",
    "* SF 1.0 is coming\n",
    "    * API is nearly complete\n",
    "    * ArrayKit: C extensions for SF performance"
   ]
  },
  {
   "cell_type": "markdown",
   "metadata": {
    "slideshow": {
     "slide_type": "slide"
    }
   },
   "source": [
    "## Keeping up with StaticFrame\n",
    "\n",
    "* All major features and fixes are on \"micro\" releases\n",
    "* Backward-incompatible releases (0.7 to 0.8) tend to focus just on API changes\n",
    "* Release Notes: https://github.com/InvestmentSystems/static-frame/releases\n",
    "* Code: https://github.com/InvestmentSystems/static-frame/commits/master"
   ]
  },
  {
   "cell_type": "markdown",
   "metadata": {
    "slideshow": {
     "slide_type": "slide"
    }
   },
   "source": [
    "## Overview of API Changes\n",
    "* `Frame.sort_values()`\n",
    "* `Index.iter_label().apply()`\n",
    "* `Frame.iter_tuple()` and `Frame.iter_tuple_items()`\n",
    "* `iter_array`, `iter_series`, and `iter_tuple` now require `axis` as a kwarg\n",
    "* `Frame.from_element_loc_items()` renamed `Frame.from_element_items`"
   ]
  },
  {
   "cell_type": "markdown",
   "metadata": {
    "slideshow": {
     "slide_type": "slide"
    }
   },
   "source": [
    "## API Change\n",
    "\n",
    "* `Frame.sort_values()`\n",
    "* Changed name of first positional argument from `key` to `label`\n",
    "    * If using positional arguments, no change necessary\n",
    "    * `key` is now used for pre-sort function application\n",
    "* Changed selection of multiple rows/columns\n",
    "    * If selecting multiple labels, they must be in a list\n",
    "    * Previously, either a list or a tuple would select multiple columns\n",
    "    * Previously, no way to select a single column that had a tuple as a label\n",
    "* Tuples always refer to a single label\n",
    "    * Lists are not hashable, and cannot be labels\n",
    "    * Lists are always used for selecting multiple labels\n",
    "    * Consistent with all other selection interfaces: `__getitem__`, `iloc`, `loc`"
   ]
  },
  {
   "cell_type": "code",
   "execution_count": 14,
   "metadata": {
    "slideshow": {
     "slide_type": "slide"
    }
   },
   "outputs": [
    {
     "data": {
      "text/html": [
       "<table border=\"1\"><thead><tr><th></th><th>x</th><th>y</th><th>(&#x27;x&#x27;, &#x27;y&#x27;)</th></tr></thead><tbody><tr><th>0</th><td>1930.4</td><td>-610.8</td><td>-3648</td></tr><tr><th>1</th><td>-1760.34</td><td>3243.94</td><td>91301</td></tr><tr><th>2</th><td>1857.34</td><td>-823.14</td><td>30205</td></tr><tr><th>3</th><td>1699.34</td><td>114.58</td><td>54020</td></tr></tbody></table>"
      ],
      "text/plain": [
       "<FrameGO>\n",
       "<IndexGO> x         y         ('x', 'y') <object>\n",
       "<Index>\n",
       "0         1930.4    -610.8    -3648\n",
       "1         -1760.34  3243.94   91301\n",
       "2         1857.34   -823.14   30205\n",
       "3         1699.34   114.58    54020\n",
       "<int64>   <float64> <float64> <int64>"
      ]
     },
     "execution_count": 14,
     "metadata": {},
     "output_type": "execute_result"
    }
   ],
   "source": [
    "# Get a potentially problematic Frame\n",
    "import frame_fixtures as ff\n",
    "f = ff.parse('s(4,3)|v(float,float,int)').to_frame_go()\n",
    "f = f.relabel(columns=('x', 'y', ('x', 'y')))\n",
    "f"
   ]
  },
  {
   "cell_type": "code",
   "execution_count": 15,
   "metadata": {
    "slideshow": {
     "slide_type": "slide"
    }
   },
   "outputs": [
    {
     "data": {
      "text/html": [
       "<table border=\"1\"><thead><tr><th></th><th>x</th><th>y</th><th>(&#x27;x&#x27;, &#x27;y&#x27;)</th></tr></thead><tbody><tr><th>1</th><td>-1760.34</td><td>3243.94</td><td>91301</td></tr><tr><th>3</th><td>1699.34</td><td>114.58</td><td>54020</td></tr><tr><th>2</th><td>1857.34</td><td>-823.14</td><td>30205</td></tr><tr><th>0</th><td>1930.4</td><td>-610.8</td><td>-3648</td></tr></tbody></table>"
      ],
      "text/plain": [
       "<FrameGO>\n",
       "<IndexGO> x         y         ('x', 'y') <object>\n",
       "<Index>\n",
       "1         -1760.34  3243.94   91301\n",
       "3         1699.34   114.58    54020\n",
       "2         1857.34   -823.14   30205\n",
       "0         1930.4    -610.8    -3648\n",
       "<int64>   <float64> <float64> <int64>"
      ]
     },
     "execution_count": 15,
     "metadata": {},
     "output_type": "execute_result"
    }
   ],
   "source": [
    "# What does this sort?\n",
    "f.sort_values(['x', 'y'])"
   ]
  },
  {
   "cell_type": "code",
   "execution_count": 16,
   "metadata": {
    "slideshow": {
     "slide_type": "slide"
    }
   },
   "outputs": [
    {
     "data": {
      "text/html": [
       "<table border=\"1\"><thead><tr><th></th><th>x</th><th>y</th><th>(&#x27;x&#x27;, &#x27;y&#x27;)</th></tr></thead><tbody><tr><th>0</th><td>1930.4</td><td>-610.8</td><td>-3648</td></tr><tr><th>2</th><td>1857.34</td><td>-823.14</td><td>30205</td></tr><tr><th>3</th><td>1699.34</td><td>114.58</td><td>54020</td></tr><tr><th>1</th><td>-1760.34</td><td>3243.94</td><td>91301</td></tr></tbody></table>"
      ],
      "text/plain": [
       "<FrameGO>\n",
       "<IndexGO> x         y         ('x', 'y') <object>\n",
       "<Index>\n",
       "0         1930.4    -610.8    -3648\n",
       "2         1857.34   -823.14   30205\n",
       "3         1699.34   114.58    54020\n",
       "1         -1760.34  3243.94   91301\n",
       "<int64>   <float64> <float64> <int64>"
      ]
     },
     "execution_count": 16,
     "metadata": {},
     "output_type": "execute_result"
    }
   ],
   "source": [
    "# This is not the same selection as ['x', 'y']\n",
    "f.sort_values(('x', 'y'))"
   ]
  },
  {
   "cell_type": "markdown",
   "metadata": {
    "slideshow": {
     "slide_type": "slide"
    }
   },
   "source": [
    "## What to Do\n",
    "* Find cases of `f.sort_values(('x', 'y'))` and replace them with `f.sort_values(['x', 'y'])`\n",
    "* Without change will very likely fail fast\n",
    "\n"
   ]
  },
  {
   "cell_type": "markdown",
   "metadata": {
    "slideshow": {
     "slide_type": "slide"
    }
   },
   "source": [
    "## API Change\n",
    "* `Index.iter_label().apply()`\n",
    "* Formerly returned a `Series` with an auto-incremented integer index.\n",
    "    * Index on returned Series was useless\n",
    "    * Prior to 0.7 other operations on `Index` returned `Series`\n",
    "* Now returns a `np.ndarray`.\n",
    "* Consistent with general move since 0.7 to have operations on `Index` always return `np.ndarray`. \n",
    "* Useful for `key` based sorting\n",
    "    * `key` functions must return either the same container called from (`Index`, in this case) or `np.ndarray`"
   ]
  },
  {
   "cell_type": "code",
   "execution_count": 17,
   "metadata": {
    "slideshow": {
     "slide_type": "slide"
    }
   },
   "outputs": [
    {
     "data": {
      "text/html": [
       "<table border=\"1\"><thead><tr><th></th><th>zZbu</th><th>ztsv</th><th>zUvW</th></tr></thead><tbody><tr><th>0</th><td>1930.4</td><td>-610.8</td><td>-3648</td></tr><tr><th>1</th><td>-1760.34</td><td>3243.94</td><td>91301</td></tr><tr><th>2</th><td>1857.34</td><td>-823.14</td><td>30205</td></tr><tr><th>3</th><td>1699.34</td><td>114.58</td><td>54020</td></tr></tbody></table>"
      ],
      "text/plain": [
       "<FrameGO>\n",
       "<IndexGO> zZbu      ztsv      zUvW    <<U4>\n",
       "<Index>\n",
       "0         1930.4    -610.8    -3648\n",
       "1         -1760.34  3243.94   91301\n",
       "2         1857.34   -823.14   30205\n",
       "3         1699.34   114.58    54020\n",
       "<int64>   <float64> <float64> <int64>"
      ]
     },
     "execution_count": 17,
     "metadata": {},
     "output_type": "execute_result"
    }
   ],
   "source": [
    "# A sample Frame\n",
    "f = ff.parse('s(4,3)|v(float,float,int)|c(I,str)').to_frame_go()\n",
    "f"
   ]
  },
  {
   "cell_type": "code",
   "execution_count": 18,
   "metadata": {
    "slideshow": {
     "slide_type": "slide"
    }
   },
   "outputs": [
    {
     "data": {
      "text/plain": [
       "array(['ZZBU', 'ZTSV', 'ZUVW'], dtype='<U4')"
      ]
     },
     "execution_count": 18,
     "metadata": {},
     "output_type": "execute_result"
    }
   ],
   "source": [
    "# Function application returns an array\n",
    "f.columns.iter_label().apply(lambda label: label.upper())"
   ]
  },
  {
   "cell_type": "code",
   "execution_count": 19,
   "metadata": {
    "slideshow": {
     "slide_type": "slide"
    }
   },
   "outputs": [
    {
     "data": {
      "text/plain": [
       "array(['ZZBU', 'ZTSV', 'ZUVW'], dtype='<U4')"
      ]
     },
     "execution_count": 19,
     "metadata": {},
     "output_type": "execute_result"
    }
   ],
   "source": [
    "# Returning an array is consistent with other methods\n",
    "f.columns.via_str.upper()"
   ]
  },
  {
   "cell_type": "code",
   "execution_count": 20,
   "metadata": {
    "slideshow": {
     "slide_type": "slide"
    }
   },
   "outputs": [
    {
     "data": {
      "text/plain": [
       "array(['zZbuzZbu', 'ztsvztsv', 'zUvWzUvW'], dtype='<U8')"
      ]
     },
     "execution_count": 20,
     "metadata": {},
     "output_type": "execute_result"
    }
   ],
   "source": [
    "# Returning an array is consistent with other operators\n",
    "f.columns * 2"
   ]
  },
  {
   "cell_type": "code",
   "execution_count": 21,
   "metadata": {
    "slideshow": {
     "slide_type": "slide"
    }
   },
   "outputs": [
    {
     "data": {
      "text/html": [
       "<table border=\"1\"><thead><tr><th></th><th>ztsv</th><th>zUvW</th><th>zZbu</th></tr></thead><tbody><tr><th>0</th><td>-610.8</td><td>-3648</td><td>1930.4</td></tr><tr><th>1</th><td>3243.94</td><td>91301</td><td>-1760.34</td></tr><tr><th>2</th><td>-823.14</td><td>30205</td><td>1857.34</td></tr><tr><th>3</th><td>114.58</td><td>54020</td><td>1699.34</td></tr></tbody></table>"
      ],
      "text/plain": [
       "<FrameGO>\n",
       "<IndexGO> ztsv      zUvW    zZbu      <<U4>\n",
       "<Index>\n",
       "0         -610.8    -3648   1930.4\n",
       "1         3243.94   91301   -1760.34\n",
       "2         -823.14   30205   1857.34\n",
       "3         114.58    54020   1699.34\n",
       "<int64>   <float64> <int64> <float64>"
      ]
     },
     "execution_count": 21,
     "metadata": {},
     "output_type": "execute_result"
    }
   ],
   "source": [
    "# Returning an array is required when providing a key function\n",
    "# Here, we sort columns by the lowered second character\n",
    "f.sort_columns(key=lambda c: c.iter_label().apply(lambda label: label[1].lower()))"
   ]
  },
  {
   "cell_type": "markdown",
   "metadata": {
    "slideshow": {
     "slide_type": "slide"
    }
   },
   "source": [
    "## What to Do\n",
    "* Find cases of `iter_label().apply().values` and replace them with `iter_label().apply()`\n",
    "* Without change will likely fail fast\n"
   ]
  },
  {
   "cell_type": "markdown",
   "metadata": {
    "slideshow": {
     "slide_type": "slide"
    }
   },
   "source": [
    "## API Change\n",
    "* `Frame.iter_tuple()` and `Frame.iter_tuple_items()`\n",
    "* Previously tried to give you a `NamedTuple`\n",
    "    * `NamedTuple` fields have to be valid identifiers\n",
    "    * If `NamedTuple` not possible  would automatically fall back on `tuple`\n",
    "* Too nice (as Pandas)\n",
    "* Introduced `constructor` argument back in 0.7.8\n",
    "* Now `constructor=tuple` is required if a `NamedTuple` is not possible"
   ]
  },
  {
   "cell_type": "code",
   "execution_count": 22,
   "metadata": {
    "slideshow": {
     "slide_type": "slide"
    }
   },
   "outputs": [
    {
     "data": {
      "text/html": [
       "<table border=\"1\"><thead><tr><th></th><th>a a</th><th>*</th><th>3</th></tr></thead><tbody><tr><th>0</th><td>1930.4</td><td>162197</td><td>True</td></tr><tr><th>1</th><td>-1760.34</td><td>-41157</td><td>False</td></tr><tr><th>2</th><td>1857.34</td><td>5729</td><td>False</td></tr><tr><th>3</th><td>1699.34</td><td>-168387</td><td>True</td></tr></tbody></table>"
      ],
      "text/plain": [
       "<Frame>\n",
       "<Index> a a       *       3      <<U3>\n",
       "<Index>\n",
       "0       1930.4    162197  True\n",
       "1       -1760.34  -41157  False\n",
       "2       1857.34   5729    False\n",
       "3       1699.34   -168387 True\n",
       "<int64> <float64> <int64> <bool>"
      ]
     },
     "execution_count": 22,
     "metadata": {},
     "output_type": "execute_result"
    }
   ],
   "source": [
    "# A sample Frame with problematic labels\n",
    "f = ff.parse('s(4,3)|v(float,int,bool)').relabel(columns=(\"a a\", \"*\", \"3\"))\n",
    "f"
   ]
  },
  {
   "cell_type": "code",
   "execution_count": 23,
   "metadata": {
    "slideshow": {
     "slide_type": "slide"
    }
   },
   "outputs": [
    {
     "ename": "ValueError",
     "evalue": "invalid fields for namedtuple; pass `tuple` as constructor",
     "output_type": "error",
     "traceback": [
      "\u001b[0;31m---------------------------------------------------------------------------\u001b[0m",
      "\u001b[0;31mValueError\u001b[0m                                Traceback (most recent call last)",
      "\u001b[0;32m<ipython-input-23-240b5462bcb8>\u001b[0m in \u001b[0;36m<module>\u001b[0;34m\u001b[0m\n\u001b[1;32m      1\u001b[0m \u001b[0;31m# Iterating tuples now fails without a constructor\u001b[0m\u001b[0;34m\u001b[0m\u001b[0;34m\u001b[0m\u001b[0;34m\u001b[0m\u001b[0m\n\u001b[0;32m----> 2\u001b[0;31m \u001b[0;32mfor\u001b[0m \u001b[0mt\u001b[0m \u001b[0;32min\u001b[0m \u001b[0mf\u001b[0m\u001b[0;34m.\u001b[0m\u001b[0miter_tuple\u001b[0m\u001b[0;34m(\u001b[0m\u001b[0;34m)\u001b[0m\u001b[0;34m:\u001b[0m \u001b[0mprint\u001b[0m\u001b[0;34m(\u001b[0m\u001b[0mt\u001b[0m\u001b[0;34m)\u001b[0m\u001b[0;34m\u001b[0m\u001b[0;34m\u001b[0m\u001b[0m\n\u001b[0m",
      "\u001b[0;32m~/src/static-frame/static_frame/core/node_iter.py\u001b[0m in \u001b[0;36m__iter__\u001b[0;34m(self)\u001b[0m\n\u001b[1;32m    377\u001b[0m         '''\n\u001b[1;32m    378\u001b[0m         \u001b[0;32mif\u001b[0m \u001b[0mself\u001b[0m\u001b[0;34m.\u001b[0m\u001b[0m_yield_type\u001b[0m \u001b[0;32mis\u001b[0m \u001b[0mIterNodeType\u001b[0m\u001b[0;34m.\u001b[0m\u001b[0mVALUES\u001b[0m\u001b[0;34m:\u001b[0m\u001b[0;34m\u001b[0m\u001b[0;34m\u001b[0m\u001b[0m\n\u001b[0;32m--> 379\u001b[0;31m             \u001b[0;32myield\u001b[0m \u001b[0;32mfrom\u001b[0m \u001b[0mself\u001b[0m\u001b[0;34m.\u001b[0m\u001b[0m_func_values\u001b[0m\u001b[0;34m(\u001b[0m\u001b[0;34m)\u001b[0m\u001b[0;34m\u001b[0m\u001b[0;34m\u001b[0m\u001b[0m\n\u001b[0m\u001b[1;32m    380\u001b[0m         \u001b[0;32melse\u001b[0m\u001b[0;34m:\u001b[0m\u001b[0;34m\u001b[0m\u001b[0;34m\u001b[0m\u001b[0m\n\u001b[1;32m    381\u001b[0m             \u001b[0;32myield\u001b[0m \u001b[0;32mfrom\u001b[0m \u001b[0mself\u001b[0m\u001b[0;34m.\u001b[0m\u001b[0m_func_items\u001b[0m\u001b[0;34m(\u001b[0m\u001b[0;34m)\u001b[0m\u001b[0;34m\u001b[0m\u001b[0;34m\u001b[0m\u001b[0m\n",
      "\u001b[0;32m~/src/static-frame/static_frame/core/frame.py\u001b[0m in \u001b[0;36m_axis_tuple\u001b[0;34m(self, axis, constructor)\u001b[0m\n\u001b[1;32m   4091\u001b[0m                 \u001b[0;32mraise\u001b[0m \u001b[0mAxisInvalid\u001b[0m\u001b[0;34m(\u001b[0m\u001b[0;34mf'no support for axis {axis}'\u001b[0m\u001b[0;34m)\u001b[0m\u001b[0;34m\u001b[0m\u001b[0;34m\u001b[0m\u001b[0m\n\u001b[1;32m   4092\u001b[0m             \u001b[0;31m# uses _make method to call with iterable\u001b[0m\u001b[0;34m\u001b[0m\u001b[0;34m\u001b[0m\u001b[0;34m\u001b[0m\u001b[0m\n\u001b[0;32m-> 4093\u001b[0;31m             \u001b[0mconstructor\u001b[0m \u001b[0;34m=\u001b[0m \u001b[0mget_tuple_constructor\u001b[0m\u001b[0;34m(\u001b[0m\u001b[0mlabels\u001b[0m\u001b[0;34m)\u001b[0m\u001b[0;34m\u001b[0m\u001b[0;34m\u001b[0m\u001b[0m\n\u001b[0m\u001b[1;32m   4094\u001b[0m         elif (isinstance(constructor, type) and\n\u001b[1;32m   4095\u001b[0m                 \u001b[0missubclass\u001b[0m\u001b[0;34m(\u001b[0m\u001b[0mconstructor\u001b[0m\u001b[0;34m,\u001b[0m \u001b[0mtuple\u001b[0m\u001b[0;34m)\u001b[0m \u001b[0;32mand\u001b[0m\u001b[0;34m\u001b[0m\u001b[0;34m\u001b[0m\u001b[0m\n",
      "\u001b[0;32m~/src/static-frame/static_frame/core/util.py\u001b[0m in \u001b[0;36mget_tuple_constructor\u001b[0;34m(fields)\u001b[0m\n\u001b[1;32m   2453\u001b[0m     \u001b[0;32mexcept\u001b[0m \u001b[0mValueError\u001b[0m\u001b[0;34m:\u001b[0m\u001b[0;34m\u001b[0m\u001b[0;34m\u001b[0m\u001b[0m\n\u001b[1;32m   2454\u001b[0m         \u001b[0;32mpass\u001b[0m\u001b[0;34m\u001b[0m\u001b[0;34m\u001b[0m\u001b[0m\n\u001b[0;32m-> 2455\u001b[0;31m     \u001b[0;32mraise\u001b[0m \u001b[0mValueError\u001b[0m\u001b[0;34m(\u001b[0m\u001b[0;34m'invalid fields for namedtuple; pass `tuple` as constructor'\u001b[0m\u001b[0;34m)\u001b[0m\u001b[0;34m\u001b[0m\u001b[0;34m\u001b[0m\u001b[0m\n\u001b[0m\u001b[1;32m   2456\u001b[0m \u001b[0;34m\u001b[0m\u001b[0m\n\u001b[1;32m   2457\u001b[0m \u001b[0;34m\u001b[0m\u001b[0m\n",
      "\u001b[0;31mValueError\u001b[0m: invalid fields for namedtuple; pass `tuple` as constructor"
     ]
    }
   ],
   "source": [
    "# Iterating tuples now fails without a constructor\n",
    "for t in f.iter_tuple(): print(t)"
   ]
  },
  {
   "cell_type": "code",
   "execution_count": 24,
   "metadata": {
    "slideshow": {
     "slide_type": "slide"
    }
   },
   "outputs": [
    {
     "name": "stdout",
     "output_type": "stream",
     "text": [
      "(1930.4, -1760.34, 1857.34, 1699.34)\n",
      "(162197, -41157, 5729, -168387)\n",
      "(True, False, False, True)\n"
     ]
    }
   ],
   "source": [
    "# Providing the constructor restores previous behavior\n",
    "for t in f.iter_tuple(constructor=tuple): print(t)"
   ]
  },
  {
   "cell_type": "code",
   "execution_count": 25,
   "metadata": {
    "slideshow": {
     "slide_type": "slide"
    }
   },
   "outputs": [
    {
     "name": "stdout",
     "output_type": "stream",
     "text": [
      "{-1760.34, 1857.34, 1930.4, 1699.34}\n",
      "{5729, -168387, -41157, 162197}\n",
      "{False, True}\n"
     ]
    }
   ],
   "source": [
    "# The constructor argument is good for many things\n",
    "for t in f.iter_tuple(constructor=set): print(t)"
   ]
  },
  {
   "cell_type": "code",
   "execution_count": 26,
   "metadata": {
    "slideshow": {
     "slide_type": "slide"
    }
   },
   "outputs": [
    {
     "name": "stdout",
     "output_type": "stream",
     "text": [
      "A(w=1930.4, x=-1760.34, y=1857.34, z=1699.34)\n",
      "A(w=162197, x=-41157, y=5729, z=-168387)\n",
      "A(w=True, x=False, y=False, z=True)\n"
     ]
    }
   ],
   "source": [
    "# We can even supply a custom NamedTuple\n",
    "from collections import namedtuple\n",
    "for t in f.iter_tuple(constructor=namedtuple('A', tuple('wxyz'))): print(t)"
   ]
  },
  {
   "cell_type": "markdown",
   "metadata": {
    "slideshow": {
     "slide_type": "slide"
    }
   },
   "source": [
    "## What to Do\n",
    "* Find cases of `iter_tuple()` and `iter_tuple_items()` that now fail\n",
    "* Supply `constructor=tuple` to restore previous behavior\n",
    "* Withou change will always fail\n"
   ]
  },
  {
   "cell_type": "markdown",
   "metadata": {
    "slideshow": {
     "slide_type": "slide"
    }
   },
   "source": [
    "## Additional API Changes\n",
    "* A few smaller changes\n",
    "* `iter_array`, `iter_series`, and `iter_tuple` now require `axis` as a kwarg\n",
    "* `Frame.from_element_loc_items()` renamed `Frame.from_element_items`"
   ]
  }
 ],
 "metadata": {
  "celltoolbar": "Slideshow",
  "kernelspec": {
   "display_name": "Python 3",
   "language": "python",
   "name": "python3"
  },
  "language_info": {
   "codemirror_mode": {
    "name": "ipython",
    "version": 3
   },
   "file_extension": ".py",
   "mimetype": "text/x-python",
   "name": "python",
   "nbconvert_exporter": "python",
   "pygments_lexer": "ipython3",
   "version": "3.7.4"
  }
 },
 "nbformat": 4,
 "nbformat_minor": 4
}
