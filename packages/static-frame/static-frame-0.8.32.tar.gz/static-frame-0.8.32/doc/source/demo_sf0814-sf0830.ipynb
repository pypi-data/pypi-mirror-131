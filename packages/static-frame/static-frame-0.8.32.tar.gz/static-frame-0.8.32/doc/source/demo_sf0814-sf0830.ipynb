{
 "cells": [
  {
   "cell_type": "markdown",
   "metadata": {
    "slideshow": {
     "slide_type": "slide"
    }
   },
   "source": [
    "# StaticFrame 0.8.14 to 0.8.30\n",
    "\n",
    "* 0.8.14: 2021-06-14\n",
    "* 0.8.30: 2021-11-30\n"
   ]
  },
  {
   "cell_type": "markdown",
   "metadata": {
    "slideshow": {
     "slide_type": "slide"
    }
   },
   "source": [
    "## Keeping up with StaticFrame\n",
    "\n",
    "* All major features and fixes are on \"micro\" releases (i.e.: 0.8.30 to 0.8.31)\n",
    "* Backward-incompatible releases (0.8 to 0.9) tend to focus just on API changes\n",
    "* Release Notes: https://github.com/InvestmentSystems/static-frame/releases\n",
    "* Code: https://github.com/InvestmentSystems/static-frame/commits/master"
   ]
  },
  {
   "cell_type": "markdown",
   "metadata": {
    "slideshow": {
     "slide_type": "slide"
    }
   },
   "source": [
    "## What is New\n",
    "\n",
    "* New features\n",
    "* Extension to existing features\n",
    "* Performance enhancements\n",
    "* Better errors\n",
    "* Linux (or WSL) features\n",
    "* Advanced features \n"
   ]
  },
  {
   "cell_type": "markdown",
   "metadata": {
    "slideshow": {
     "slide_type": "slide"
    }
   },
   "source": [
    "## New Features\n",
    "\n",
    "* `*.rank_*` methods.\n",
    "* Support for `falsy` in many places where we have `na`.\n",
    "* New functionality on ``via_dt`` interfaces.\n",
    "* String slicing with ``*.via_str[]``\n",
    "* Added ``Yarn``\n",
    "* Unpersisting on `Bus`, `Yarn`, `Quilt`.\n",
    "* NPZ, NPY formats for `Frame`, `Bus`, `Yarn`, `Quilt`, and `Batch`. \n",
    "* `Quilt.sample()`.\n",
    "* `IndexHiearchy.relabel_at_depth()`.\n",
    " "
   ]
  },
  {
   "cell_type": "markdown",
   "metadata": {
    "slideshow": {
     "slide_type": "slide"
    }
   },
   "source": [
    "## Extensions to Existing Features\n",
    "\n",
    "* `sort_*` methods now take `ascending` as an iterable of Booleans.\n",
    "* `*.count()` methods now have `skipfalsy` and `unique` parameters.\n",
    "* `*.equals()` methods distringuish between ``datetime64`` unit.\n",
    "* Added `dtypes` parameter to `Frame.from_pandas()`\n",
    "* `Frame.iter_group()` and `Frame.iter_group_items()` take a `drop` parameter.\n",
    "* `Frame.unset_index` works with `IndexHierarchy`\n",
    "* Improved `__repr__` for `Quilt`\n",
    "* Added `index_constructors` and `columns_constructors` to many interfaces."
   ]
  },
  {
   "cell_type": "markdown",
   "metadata": {
    "slideshow": {
     "slide_type": "slide"
    }
   },
   "source": [
    "## Performance Enhancements\n",
    "\n",
    "* Improvements to `Bus` iteration when ``max_persist`` is greater than one.\n",
    "* Enhancements to `Bus` internal architecture.\n",
    "* `Bus` now uses weakrefs to avoid re-loading `Frame` already in-memory.\n",
    "* `Frame.iter_group()` and `Frame.iter_group_items()`\n",
    "* `Frame.pivot()`\n",
    "* `Frame.from_concat()`\n",
    "* `Frame.to_pandas()` creates ``pd.RangeIndex`` for ``IndexAutoFactory``-created indices."
   ]
  },
  {
   "cell_type": "markdown",
   "metadata": {
    "slideshow": {
     "slide_type": "slide"
    }
   },
   "source": [
    "### Better Errors:\n",
    "* Incorrectly formed ``Batch`` iterables raise ``BatchIterableInvalid``\n",
    "\n",
    "### Linux (or WSL) only\n",
    "* Support for VisiData via `Frame.to_visidata()`, `Bus.to_visidata()`\n",
    "\n",
    "### Advanced Features\n",
    "* `IndexAutoFactory` takes a `size` parameter.\n",
    "* `FrameGO.via_fill_value()` works with `__setitem__()`\n",
    "* `IndexDefaultFactory` can specify ``name`` of index built with a default constructor."
   ]
  },
  {
   "cell_type": "markdown",
   "metadata": {
    "slideshow": {
     "slide_type": "slide"
    }
   },
   "source": [
    "## The Five Ways to Rank\n",
    "\n",
    "Full implementation of all ranking methods after `scipy.stats.rankdata`.\n",
    "\n",
    "Each feature `skipna`, `ascending`, `start`, and `fill_value` parameters.\n",
    "\n",
    "All of Pandas `na_option` functionality (and more) can be handled by `skpina` and `fill_value` \n",
    "\n",
    "Start defaults to 0.\n",
    "\n",
    "On `Frame`, `Series`:\n",
    "\n",
    "* `*.rank_ordinal`\n",
    "* `*.rank_dense`\n",
    "* `*.rank_mean`\n",
    "* `*.rank_min`\n",
    "* `*.rank_max`"
   ]
  },
  {
   "cell_type": "code",
   "execution_count": 1,
   "metadata": {
    "slideshow": {
     "slide_type": "slide"
    }
   },
   "outputs": [
    {
     "data": {
      "text/html": [
       "<table><thead><tr><th></th><th>src</th><th>rank_ordinal</th><th>rank_dense</th><th>rank_mean</th><th>rank_min</th><th>rank_max</th></tr></thead><tbody><tr><th>a</th><td>0</td><td>0</td><td>0</td><td>0.5</td><td>0</td><td>1</td></tr><tr><th>b</th><td>0</td><td>1</td><td>0</td><td>0.5</td><td>0</td><td>1</td></tr><tr><th>c</th><td>1</td><td>2</td><td>1</td><td>2.0</td><td>2</td><td>2</td></tr></tbody></table>"
      ],
      "text/plain": [
       "<Frame>\n",
       "<Index> src     rank_ordinal rank_dense rank_mean rank_min rank_max <<U12>\n",
       "<Index>\n",
       "a       0       0            0          0.5       0        1\n",
       "b       0       1            0          0.5       0        1\n",
       "c       1       2            1          2.0       2        2\n",
       "<<U1>   <int64> <int64>      <int64>    <float64> <int64>  <int64>"
      ]
     },
     "execution_count": 1,
     "metadata": {},
     "output_type": "execute_result"
    }
   ],
   "source": [
    "from itertools import chain\n",
    "from IPython.display import display, Markdown, Latex\n",
    "import numpy as np\n",
    "import static_frame as sf\n",
    "\n",
    "s = sf.Series((0, 0, 1), index=('a', 'b', 'c'), name='src')\n",
    "methods = ('rank_ordinal', 'rank_dense', 'rank_mean', 'rank_min', 'rank_max')\n",
    "sf.Frame.from_concat(chain((s,), (getattr(s, m)().rename(m) for m in methods)), axis=1)\n",
    "              "
   ]
  },
  {
   "cell_type": "code",
   "execution_count": 2,
   "metadata": {
    "slideshow": {
     "slide_type": "slide"
    }
   },
   "outputs": [
    {
     "data": {
      "text/html": [
       "<table><thead><tr><th></th><th>{&#x27;skipna&#x27;: False}</th><th>{&#x27;skipna&#x27;: True}</th><th>{&#x27;skipna&#x27;: True, &#x27;fill_value&#x27;: -1}</th></tr></thead><tbody><tr><th>a</th><td>2.0</td><td>2.0</td><td>2.0</td></tr><tr><th>b</th><td>0.0</td><td>0.0</td><td>0.0</td></tr><tr><th>c</th><td>3.0</td><td>nan</td><td>-1.0</td></tr><tr><th>d</th><td>1.0</td><td>1.0</td><td>1.0</td></tr><tr><th>e</th><td>4.0</td><td>nan</td><td>-1.0</td></tr></tbody></table>"
      ],
      "text/plain": [
       "<Frame>\n",
       "<Index> {'skipna': False} {'skipna': True} {'skipna': True, ... <<U34>\n",
       "<Index>\n",
       "a       2.0               2.0              2.0\n",
       "b       0.0               0.0              0.0\n",
       "c       3.0               nan              -1.0\n",
       "d       1.0               1.0              1.0\n",
       "e       4.0               nan              -1.0\n",
       "<<U1>   <float64>         <float64>        <float64>"
      ]
     },
     "execution_count": 2,
     "metadata": {},
     "output_type": "execute_result"
    }
   ],
   "source": [
    "s = sf.Series((20, 3, np.nan, 5, np.nan), index=tuple('abcde'))\n",
    "params = (dict(skipna=False), dict(skipna=True), dict(skipna=True, fill_value=-1))\n",
    "sf.Frame.from_concat((s.rank_mean(**p).rename(str(p)) for p in params), axis=1)\n"
   ]
  },
  {
   "cell_type": "markdown",
   "metadata": {
    "slideshow": {
     "slide_type": "slide"
    }
   },
   "source": [
    "## Na Meet Falsy\n",
    "\n",
    "The family of `*na*` functions, which process `None`, `np.nan`, `np.nat` now have corresponding `*falsy*` functions, which process `None`, `np.nan`, `np.nat`, `0`, `False`, and `\"\"`. \n",
    "\n",
    "On `Frame`, `Series`:\n",
    "\n",
    "* `*.isfalsy()` \n",
    "* `*.notfalsy()` \n",
    "* `*.dropfalsy()` \n",
    "* `*.fillfalsy()`\n",
    "* `*.fillfalsy_forward()`\n",
    "* `*.fillfalsy_backward()`\n",
    "* `*.fillfalsy_leading()`\n",
    "* `*.fillfalsy_trailing()`\n",
    "\n"
   ]
  },
  {
   "cell_type": "code",
   "execution_count": 3,
   "metadata": {
    "slideshow": {
     "slide_type": "slide"
    }
   },
   "outputs": [
    {
     "data": {
      "text/html": [
       "<table><thead><tr><th></th><th>src</th><th>isfalsy</th><th>notfalsy</th><th>dropfalsy</th></tr></thead><tbody><tr><th>0</th><td>foo</td><td>False</td><td>True</td><td>foo</td></tr><tr><th>1</th><td></td><td>True</td><td>False</td><td>nan</td></tr><tr><th>2</th><td>bar</td><td>False</td><td>True</td><td>bar</td></tr></tbody></table>"
      ],
      "text/plain": [
       "<Frame>\n",
       "<Index> src   isfalsy notfalsy dropfalsy <<U9>\n",
       "<Index>\n",
       "0       foo   False   True     foo\n",
       "1             True    False    nan\n",
       "2       bar   False   True     bar\n",
       "<int64> <<U3> <bool>  <bool>   <object>"
      ]
     },
     "execution_count": 3,
     "metadata": {},
     "output_type": "execute_result"
    }
   ],
   "source": [
    "s = sf.Series(('foo', '', 'bar')).rename('src')\n",
    "methods = ('isfalsy', 'notfalsy', 'dropfalsy')\n",
    "sf.Frame.from_concat(chain((s,), (getattr(s, m)().rename(m) for m in methods)), axis=1)"
   ]
  },
  {
   "cell_type": "code",
   "execution_count": 4,
   "metadata": {
    "slideshow": {
     "slide_type": "slide"
    }
   },
   "outputs": [
    {
     "data": {
      "text/html": [
       "<table><thead><tr><th></th><th>0</th><th>1</th><th>2</th></tr></thead><tbody><tr><th>0</th><td></td><td></td><td></td></tr><tr><th>1</th><td></td><td>x</td><td></td></tr><tr><th>2</th><td></td><td></td><td></td></tr></tbody></table>"
      ],
      "text/plain": [
       "<Frame>\n",
       "<Index> 0     1     2     <int64>\n",
       "<Index>\n",
       "0\n",
       "1             x\n",
       "2\n",
       "<int64> <<U1> <<U1> <<U1>"
      ]
     },
     "metadata": {},
     "output_type": "display_data"
    },
    {
     "data": {
      "text/html": [
       "<table><thead><tr><th></th><th>0</th><th>1</th><th>2</th></tr></thead><tbody><tr><th>0</th><td></td><td></td><td></td></tr><tr><th>1</th><td></td><td>x</td><td></td></tr><tr><th>2</th><td></td><td>x</td><td></td></tr></tbody></table>"
      ],
      "text/plain": [
       "<Frame>\n",
       "<Index> 0     1     2     <int64>\n",
       "<Index>\n",
       "0\n",
       "1             x\n",
       "2             x\n",
       "<int64> <<U1> <<U1> <<U1>"
      ]
     },
     "metadata": {},
     "output_type": "display_data"
    },
    {
     "data": {
      "text/html": [
       "<table><thead><tr><th></th><th>0</th><th>1</th><th>2</th></tr></thead><tbody><tr><th>0</th><td></td><td>x</td><td></td></tr><tr><th>1</th><td></td><td>x</td><td></td></tr><tr><th>2</th><td></td><td></td><td></td></tr></tbody></table>"
      ],
      "text/plain": [
       "<Frame>\n",
       "<Index> 0     1     2     <int64>\n",
       "<Index>\n",
       "0             x\n",
       "1             x\n",
       "2\n",
       "<int64> <<U1> <<U1> <<U1>"
      ]
     },
     "metadata": {},
     "output_type": "display_data"
    }
   ],
   "source": [
    "f = sf.Frame.from_records((['', '', ''], ['', 'x', ''], ['', '', '']))\n",
    "display(f)\n",
    "methods = ('fillfalsy_forward', 'fillfalsy_backward')\n",
    "for m in methods:\n",
    "    display(getattr(f, m)(axis=0))\n"
   ]
  },
  {
   "cell_type": "code",
   "execution_count": 5,
   "metadata": {
    "slideshow": {
     "slide_type": "slide"
    }
   },
   "outputs": [
    {
     "data": {
      "text/html": [
       "<table><thead><tr><th></th><th>0</th><th>1</th><th>2</th></tr></thead><tbody><tr><th>0</th><td></td><td></td><td></td></tr><tr><th>1</th><td></td><td>x</td><td></td></tr><tr><th>2</th><td></td><td></td><td></td></tr></tbody></table>"
      ],
      "text/plain": [
       "<Frame>\n",
       "<Index> 0     1     2     <int64>\n",
       "<Index>\n",
       "0\n",
       "1             x\n",
       "2\n",
       "<int64> <<U1> <<U1> <<U1>"
      ]
     },
     "metadata": {},
     "output_type": "display_data"
    },
    {
     "data": {
      "text/html": [
       "<table><thead><tr><th></th><th>0</th><th>1</th><th>2</th></tr></thead><tbody><tr><th>0</th><td></td><td></td><td></td></tr><tr><th>1</th><td></td><td>x</td><td>x</td></tr><tr><th>2</th><td></td><td></td><td></td></tr></tbody></table>"
      ],
      "text/plain": [
       "<Frame>\n",
       "<Index> 0     1     2     <int64>\n",
       "<Index>\n",
       "0\n",
       "1             x     x\n",
       "2\n",
       "<int64> <<U1> <<U1> <<U1>"
      ]
     },
     "metadata": {},
     "output_type": "display_data"
    },
    {
     "data": {
      "text/html": [
       "<table><thead><tr><th></th><th>0</th><th>1</th><th>2</th></tr></thead><tbody><tr><th>0</th><td></td><td></td><td></td></tr><tr><th>1</th><td>x</td><td>x</td><td></td></tr><tr><th>2</th><td></td><td></td><td></td></tr></tbody></table>"
      ],
      "text/plain": [
       "<Frame>\n",
       "<Index> 0     1     2     <int64>\n",
       "<Index>\n",
       "0\n",
       "1       x     x\n",
       "2\n",
       "<int64> <<U1> <<U1> <<U1>"
      ]
     },
     "metadata": {},
     "output_type": "display_data"
    }
   ],
   "source": [
    "f = sf.Frame.from_records((['', '', ''], ['', 'x', ''], ['', '', '']))\n",
    "display(f)\n",
    "methods = ('fillfalsy_forward', 'fillfalsy_backward')\n",
    "for m in methods:\n",
    "    display(getattr(f, m)(axis=1))\n"
   ]
  },
  {
   "cell_type": "code",
   "execution_count": 6,
   "metadata": {
    "scrolled": true,
    "slideshow": {
     "slide_type": "slide"
    }
   },
   "outputs": [
    {
     "data": {
      "text/html": [
       "<table><thead><tr><th></th><th>0</th><th>1</th><th>2</th></tr></thead><tbody><tr><th>0</th><td></td><td></td><td></td></tr><tr><th>1</th><td></td><td>x</td><td></td></tr><tr><th>2</th><td></td><td></td><td></td></tr></tbody></table>"
      ],
      "text/plain": [
       "<Frame>\n",
       "<Index> 0     1     2     <int64>\n",
       "<Index>\n",
       "0\n",
       "1             x\n",
       "2\n",
       "<int64> <<U1> <<U1> <<U1>"
      ]
     },
     "metadata": {},
     "output_type": "display_data"
    },
    {
     "data": {
      "text/html": [
       "<table><thead><tr><th></th><th>0</th><th>1</th><th>2</th></tr></thead><tbody><tr><th>0</th><td>o</td><td>o</td><td>o</td></tr><tr><th>1</th><td>o</td><td>x</td><td>o</td></tr><tr><th>2</th><td>o</td><td></td><td>o</td></tr></tbody></table>"
      ],
      "text/plain": [
       "<Frame>\n",
       "<Index> 0     1     2     <int64>\n",
       "<Index>\n",
       "0       o     o     o\n",
       "1       o     x     o\n",
       "2       o           o\n",
       "<int64> <<U1> <<U1> <<U1>"
      ]
     },
     "metadata": {},
     "output_type": "display_data"
    },
    {
     "data": {
      "text/html": [
       "<table><thead><tr><th></th><th>0</th><th>1</th><th>2</th></tr></thead><tbody><tr><th>0</th><td>o</td><td></td><td>o</td></tr><tr><th>1</th><td>o</td><td>x</td><td>o</td></tr><tr><th>2</th><td>o</td><td>o</td><td>o</td></tr></tbody></table>"
      ],
      "text/plain": [
       "<Frame>\n",
       "<Index> 0     1     2     <int64>\n",
       "<Index>\n",
       "0       o           o\n",
       "1       o     x     o\n",
       "2       o     o     o\n",
       "<int64> <<U1> <<U1> <<U1>"
      ]
     },
     "metadata": {},
     "output_type": "display_data"
    }
   ],
   "source": [
    "f = sf.Frame.from_records((['', '', ''], ['', 'x', ''], ['', '', '']))\n",
    "display(f)\n",
    "methods = ('fillfalsy_leading', 'fillfalsy_trailing')\n",
    "for m in methods:\n",
    "    display(getattr(f, m)('o', axis=0))"
   ]
  },
  {
   "cell_type": "code",
   "execution_count": 7,
   "metadata": {
    "scrolled": true,
    "slideshow": {
     "slide_type": "slide"
    }
   },
   "outputs": [
    {
     "data": {
      "text/html": [
       "<table><thead><tr><th></th><th>0</th><th>1</th><th>2</th></tr></thead><tbody><tr><th>0</th><td></td><td></td><td></td></tr><tr><th>1</th><td></td><td>x</td><td></td></tr><tr><th>2</th><td></td><td></td><td></td></tr></tbody></table>"
      ],
      "text/plain": [
       "<Frame>\n",
       "<Index> 0     1     2     <int64>\n",
       "<Index>\n",
       "0\n",
       "1             x\n",
       "2\n",
       "<int64> <<U1> <<U1> <<U1>"
      ]
     },
     "metadata": {},
     "output_type": "display_data"
    },
    {
     "data": {
      "text/html": [
       "<table><thead><tr><th></th><th>0</th><th>1</th><th>2</th></tr></thead><tbody><tr><th>0</th><td>o</td><td>o</td><td>o</td></tr><tr><th>1</th><td>o</td><td>x</td><td></td></tr><tr><th>2</th><td>o</td><td>o</td><td>o</td></tr></tbody></table>"
      ],
      "text/plain": [
       "<Frame>\n",
       "<Index> 0     1     2     <int64>\n",
       "<Index>\n",
       "0       o     o     o\n",
       "1       o     x\n",
       "2       o     o     o\n",
       "<int64> <<U1> <<U1> <<U1>"
      ]
     },
     "metadata": {},
     "output_type": "display_data"
    },
    {
     "data": {
      "text/html": [
       "<table><thead><tr><th></th><th>0</th><th>1</th><th>2</th></tr></thead><tbody><tr><th>0</th><td>o</td><td>o</td><td>o</td></tr><tr><th>1</th><td></td><td>x</td><td>o</td></tr><tr><th>2</th><td>o</td><td>o</td><td>o</td></tr></tbody></table>"
      ],
      "text/plain": [
       "<Frame>\n",
       "<Index> 0     1     2     <int64>\n",
       "<Index>\n",
       "0       o     o     o\n",
       "1             x     o\n",
       "2       o     o     o\n",
       "<int64> <<U1> <<U1> <<U1>"
      ]
     },
     "metadata": {},
     "output_type": "display_data"
    }
   ],
   "source": [
    "f = sf.Frame.from_records((['', '', ''], ['', 'x', ''], ['', '', '']))\n",
    "display(f)\n",
    "methods = ('fillfalsy_leading', 'fillfalsy_trailing')\n",
    "for m in methods:\n",
    "    display(getattr(f, m)('o', axis=1))"
   ]
  },
  {
   "cell_type": "markdown",
   "metadata": {
    "slideshow": {
     "slide_type": "slide"
    }
   },
   "source": [
    "## Lazily Stringing `Bus`s together with `Yarn`\n",
    "\n",
    "The `Yarn` is a container of `Bus` that permits relabelling an arbitrary `Index` over the virtual concatenation of all contained `Bus`.\n",
    "\n",
    "Each `Bus` retains its lazy-loading and (optionally) `max_persist` characteristics.\n",
    "\n",
    "\n"
   ]
  },
  {
   "cell_type": "code",
   "execution_count": 15,
   "metadata": {
    "slideshow": {
     "slide_type": "slide"
    }
   },
   "outputs": [
    {
     "data": {
      "text/plain": [
       "<Yarn>\n",
       "<IndexHierarchy>\n",
       "x                a     Frame\n",
       "x                b     Frame\n",
       "y                c     Frame\n",
       "y                d     Frame\n",
       "<<U1>            <<U1> <object>"
      ]
     },
     "metadata": {},
     "output_type": "display_data"
    },
    {
     "data": {
      "text/plain": [
       "<Yarn>\n",
       "<IndexDate>\n",
       "2021-01-01      Frame\n",
       "2021-01-02      Frame\n",
       "2021-01-03      Frame\n",
       "2021-01-04      Frame\n",
       "<datetime64[D]> <object>"
      ]
     },
     "metadata": {},
     "output_type": "display_data"
    }
   ],
   "source": [
    "import frame_fixtures as ff\n",
    "\n",
    "f = ff.parse('s(4,4)')\n",
    "b1 = sf.Bus.from_frames((f.rename('a'), f.rename('b')), name='x')\n",
    "b2 = sf.Bus.from_frames((f.rename('c'), f.rename('d')), name='y')\n",
    "y1 = sf.Yarn.from_buses((b1, b2), retain_labels=True) \n",
    "y2 = y1.relabel(sf.IndexDate.from_date_range('2021-01-01', '2021-01-04')) \n",
    "\n",
    "display(y1)\n",
    "display(y2)"
   ]
  },
  {
   "cell_type": "markdown",
   "metadata": {
    "slideshow": {
     "slide_type": "slide"
    }
   },
   "source": [
    "## More Features on `via_dt` Interfaces\n",
    "\n",
    "All faster than using `datetime` objects.\n",
    "\n",
    "* ``hour``\n",
    "* ``minute``\n",
    "* ``second``\n",
    "* ``is_month_start()``\n",
    "* ``is_month_end()``\n",
    "* ``is_year_start()``\n",
    "* ``is_year_end()``\n",
    "* ``is_quarter_start()``\n",
    "* ``is_quarter_end()`` \n",
    "* ``quarter()``"
   ]
  },
  {
   "cell_type": "code",
   "execution_count": 8,
   "metadata": {
    "slideshow": {
     "slide_type": "slide"
    }
   },
   "outputs": [
    {
     "data": {
      "text/html": [
       "<table><thead><tr><th></th><th>src</th><th>is_month_start</th><th>is_month_end</th><th>is_year_start</th><th>is_year_end</th><th>is_quarter_start</th><th>is_quarter_end</th><th>quarter</th></tr></thead><tbody><tr><th>2020-12-30</th><td>2020-12-30</td><td>False</td><td>False</td><td>False</td><td>False</td><td>False</td><td>False</td><td>4</td></tr><tr><th>2020-12-31</th><td>2020-12-31</td><td>False</td><td>True</td><td>False</td><td>True</td><td>False</td><td>True</td><td>4</td></tr><tr><th>2021-01-01</th><td>2021-01-01</td><td>True</td><td>False</td><td>True</td><td>False</td><td>True</td><td>False</td><td>1</td></tr></tbody></table>"
      ],
      "text/plain": [
       "<Frame>\n",
       "<Index>         src             is_month_start is_month_end is_year_start is_year_end is_quarter_start is_quarter_end quarter <<U16>\n",
       "<IndexDate>\n",
       "2020-12-30      2020-12-30      False          False        False         False       False            False          4\n",
       "2020-12-31      2020-12-31      False          True         False         True        False            True           4\n",
       "2021-01-01      2021-01-01      True           False        True          False       True             False          1\n",
       "<datetime64[D]> <datetime64[D]> <bool>         <bool>       <bool>        <bool>      <bool>           <bool>         <int64>"
      ]
     },
     "execution_count": 8,
     "metadata": {},
     "output_type": "execute_result"
    }
   ],
   "source": [
    "index = sf.IndexDate.from_date_range('2020-12-30', '2021-01-01')\n",
    "s = sf.Series(index, index=index).rename('src')\n",
    "methods = ('is_month_start', \n",
    "           'is_month_end', \n",
    "           'is_year_start', \n",
    "           'is_year_end', \n",
    "           'is_quarter_start', \n",
    "           'is_quarter_end', \n",
    "           'quarter')\n",
    "sf.Frame.from_concat(\n",
    "        chain((s,), (getattr(s.via_dt, m)().rename(m) for m in methods)), \n",
    "        axis=1,\n",
    "        )"
   ]
  },
  {
   "cell_type": "markdown",
   "metadata": {
    "slideshow": {
     "slide_type": "slide"
    }
   },
   "source": [
    "## More Features on `via_str` Interfaces\n",
    "\n",
    "Access characters via `__getitem__` selection and slices\n",
    "\n",
    "Get the first character of all elements: `s.via_str[0]`\n",
    "\n",
    "Get the last two characters of all elemetns: `s.via_str[-2:]`\n"
   ]
  },
  {
   "cell_type": "code",
   "execution_count": 9,
   "metadata": {
    "slideshow": {
     "slide_type": "slide"
    }
   },
   "outputs": [
    {
     "data": {
      "text/html": [
       "<table><thead><tr><th></th><th>src</th><th>0</th><th>-1</th><th>slice(-2, None, None)</th></tr></thead><tbody><tr><th>0</th><td>USD</td><td>U</td><td>D</td><td>SD</td></tr><tr><th>1</th><td>AUD</td><td>A</td><td>D</td><td>UD</td></tr><tr><th>2</th><td>JPY</td><td>J</td><td>Y</td><td>PY</td></tr></tbody></table>"
      ],
      "text/plain": [
       "<Frame>\n",
       "<Index> src   0     -1    slice(-2, None, N... <<U21>\n",
       "<Index>\n",
       "0       USD   U     D     SD\n",
       "1       AUD   A     D     UD\n",
       "2       JPY   J     Y     PY\n",
       "<int64> <<U3> <<U1> <<U1> <<U2>"
      ]
     },
     "execution_count": 9,
     "metadata": {},
     "output_type": "execute_result"
    }
   ],
   "source": [
    "s = sf.Series(('USD', 'AUD', 'JPY')).rename('src')\n",
    "args = (0, -1, slice(-2, None))\n",
    "sf.Frame.from_concat(chain((s,), (s.via_str[a].rename(str(a)) for a in args)), axis=1)"
   ]
  },
  {
   "cell_type": "markdown",
   "metadata": {
    "slideshow": {
     "slide_type": "slide"
    }
   },
   "source": [
    "## NPY and NPZ\n",
    "\n",
    "A new serialization format that fully captures all `Frame` characteristics, `dtype`s, and is faster than Parquet.\n",
    "\n",
    "NPZ is a zip archive; NPY is the same files in a directory for memory mapping.\n",
    "\n",
    "The `to_npz()` and `to_npy()` interfaces offer a `consolidate_blocks` parameter.\n",
    "\n",
    "`Bus`, `Yarn`, `Quilt`, and `Batch` all support NPZ just as other formats.\n",
    "\n",
    "* `Frame.to_npz()`\n",
    "* `Frame.from_npz()`\n",
    "* `Frame.to_npy()`\n",
    "* `Frame.from_npy()`\n",
    "* `Frame.from_npy_mmap()` (0.8.31)\n",
    "* ``*.to_zip_npz()``\n",
    "* ``*.from_zip_npz()``\n",
    "\n"
   ]
  },
  {
   "cell_type": "markdown",
   "metadata": {
    "slideshow": {
     "slide_type": "slide"
    }
   },
   "source": [
    "## Unpersisting\n",
    "\n",
    "Force \"forgetting\" all loaded `Frame`s, regardless of `max_persist` configuration.\n",
    "\n",
    "\n",
    "### Interfaces\n",
    "* `Bus.unpersist()`\n",
    "* `Yarn.unpersist()`\n",
    "* `Quilt.unpersist()`\n",
    "\n"
   ]
  },
  {
   "cell_type": "markdown",
   "metadata": {
    "slideshow": {
     "slide_type": "slide"
    }
   },
   "source": [
    "## Exclude what You Group-By in Your Groups\n",
    "\n",
    "Permit removing the values used in grouping from the group `Frame`s.\n",
    "\n",
    "Simply pass `drop=True`.\n"
   ]
  },
  {
   "cell_type": "code",
   "execution_count": 11,
   "metadata": {
    "slideshow": {
     "slide_type": "slide"
    }
   },
   "outputs": [
    {
     "data": {
      "text/html": [
       "<table><thead><tr><th></th><th>a</th><th>b</th><th>c</th></tr></thead><tbody><tr><th>0</th><td>False</td><td>zaji</td><td>-3648</td></tr><tr><th>1</th><td>False</td><td>zJnC</td><td>91301</td></tr><tr><th>2</th><td>False</td><td>zDdR</td><td>30205</td></tr><tr><th>3</th><td>True</td><td>zuVU</td><td>54020</td></tr></tbody></table>"
      ],
      "text/plain": [
       "<Frame>\n",
       "<Index> a      b     c       <<U1>\n",
       "<Index>\n",
       "0       False  zaji  -3648\n",
       "1       False  zJnC  91301\n",
       "2       False  zDdR  30205\n",
       "3       True   zuVU  54020\n",
       "<int64> <bool> <<U4> <int64>"
      ]
     },
     "metadata": {},
     "output_type": "display_data"
    },
    {
     "data": {
      "text/html": [
       "<table><thead><tr><th></th><th>b</th><th>c</th></tr></thead><tbody><tr><th>0</th><td>zaji</td><td>-3648</td></tr><tr><th>1</th><td>zJnC</td><td>91301</td></tr><tr><th>2</th><td>zDdR</td><td>30205</td></tr></tbody></table>"
      ],
      "text/plain": [
       "<Frame>\n",
       "<Index> b     c       <<U1>\n",
       "<Index>\n",
       "0       zaji  -3648\n",
       "1       zJnC  91301\n",
       "2       zDdR  30205\n",
       "<int64> <<U4> <int64>"
      ]
     },
     "metadata": {},
     "output_type": "display_data"
    },
    {
     "data": {
      "text/html": [
       "<table><thead><tr><th></th><th>b</th><th>c</th></tr></thead><tbody><tr><th>3</th><td>zuVU</td><td>54020</td></tr></tbody></table>"
      ],
      "text/plain": [
       "<Frame>\n",
       "<Index> b     c       <<U1>\n",
       "<Index>\n",
       "3       zuVU  54020\n",
       "<int64> <<U4> <int64>"
      ]
     },
     "metadata": {},
     "output_type": "display_data"
    }
   ],
   "source": [
    "f = ff.parse('s(4,3)|v(bool,str,int)').relabel(columns=tuple('abc')) \n",
    "for frame in chain((f,), f.iter_group('a', drop=True)):\n",
    "    display(frame)"
   ]
  },
  {
   "cell_type": "markdown",
   "metadata": {
    "slideshow": {
     "slide_type": "slide"
    }
   },
   "source": [
    "## Using `IndexAutoFactory` to set initial `FrameGO` size\n",
    "\n",
    "Previously, `IndexAutoFactory` could only be applied on an already-sized container.\n",
    "\n",
    "Now, you can size a `FrameGO.index` with minal overhead.\n",
    "\n",
    "Generally only useful for `FrameGO`."
   ]
  },
  {
   "cell_type": "code",
   "execution_count": 12,
   "metadata": {
    "slideshow": {
     "slide_type": "slide"
    }
   },
   "outputs": [
    {
     "data": {
      "text/html": [
       "<table><thead><tr><th></th><th>a</th></tr></thead><tbody><tr><th>0</th><td>None</td></tr><tr><th>1</th><td>None</td></tr><tr><th>2</th><td>None</td></tr><tr><th>3</th><td>None</td></tr></tbody></table>"
      ],
      "text/plain": [
       "<FrameGO>\n",
       "<IndexGO> a        <<U1>\n",
       "<Index>\n",
       "0         None\n",
       "1         None\n",
       "2         None\n",
       "3         None\n",
       "<int64>   <object>"
      ]
     },
     "metadata": {},
     "output_type": "display_data"
    },
    {
     "data": {
      "text/html": [
       "<table><thead><tr><th></th><th>b</th></tr></thead><tbody><tr><th>0</th><td>5</td></tr><tr><th>1</th><td>4</td></tr><tr><th>2</th><td>3</td></tr><tr><th>3</th><td>2</td></tr><tr><th>4</th><td>1</td></tr><tr><th>5</th><td>0</td></tr></tbody></table>"
      ],
      "text/plain": [
       "<FrameGO>\n",
       "<IndexGO> b       <<U1>\n",
       "<Index>\n",
       "0         5\n",
       "1         4\n",
       "2         3\n",
       "3         2\n",
       "4         1\n",
       "5         0\n",
       "<int64>   <int64>"
      ]
     },
     "metadata": {},
     "output_type": "display_data"
    }
   ],
   "source": [
    "f1 = sf.FrameGO(index=sf.IndexAutoFactory(size=4))\n",
    "f1['a'] = None \n",
    "display(f1)\n",
    "\n",
    "f2 = sf.FrameGO(index=sf.IndexAutoFactory(size=6))\n",
    "f2['b'] = reversed(range(6)) \n",
    "display(f2)"
   ]
  },
  {
   "cell_type": "markdown",
   "metadata": {
    "slideshow": {
     "slide_type": "slide"
    }
   },
   "source": [
    "## Using `via_fill_value` with `__setitem__()`\n",
    "\n",
    "`via_*` intefaces present containers with a different context.\n",
    "\n",
    "`via_T` permits operator application of a `Series` by column instead of row.\n",
    "\n",
    "`via_fillvalue()` permits specifying fill value in the context of a binary operators.\n",
    "\n",
    "With a `FrameGO`, `via_fillvalue()[]` can be used to provide a fill value in column assignment."
   ]
  },
  {
   "cell_type": "code",
   "execution_count": 14,
   "metadata": {
    "slideshow": {
     "slide_type": "slide"
    }
   },
   "outputs": [
    {
     "data": {
      "text/html": [
       "<table><thead><tr><th></th><th>0</th><th>1</th><th>default</th></tr></thead><tbody><tr><th>0</th><td>False</td><td>zaji</td><td>foo</td></tr><tr><th>1</th><td>False</td><td>zJnC</td><td>foo</td></tr><tr><th>2</th><td>False</td><td>zDdR</td><td>foo</td></tr><tr><th>3</th><td>True</td><td>zuVU</td><td>nan</td></tr></tbody></table>"
      ],
      "text/plain": [
       "<FrameGO>\n",
       "<IndexGO> 0      1     default  <object>\n",
       "<Index>\n",
       "0         False  zaji  foo\n",
       "1         False  zJnC  foo\n",
       "2         False  zDdR  foo\n",
       "3         True   zuVU  nan\n",
       "<int64>   <bool> <<U4> <object>"
      ]
     },
     "metadata": {},
     "output_type": "display_data"
    },
    {
     "data": {
      "text/html": [
       "<table><thead><tr><th></th><th>0</th><th>1</th><th>default</th><th>via_fill_value</th></tr></thead><tbody><tr><th>0</th><td>False</td><td>zaji</td><td>foo</td><td>foo</td></tr><tr><th>1</th><td>False</td><td>zJnC</td><td>foo</td><td>foo</td></tr><tr><th>2</th><td>False</td><td>zDdR</td><td>foo</td><td>foo</td></tr><tr><th>3</th><td>True</td><td>zuVU</td><td>nan</td><td></td></tr></tbody></table>"
      ],
      "text/plain": [
       "<FrameGO>\n",
       "<IndexGO> 0      1     default  via_fill_value <object>\n",
       "<Index>\n",
       "0         False  zaji  foo      foo\n",
       "1         False  zJnC  foo      foo\n",
       "2         False  zDdR  foo      foo\n",
       "3         True   zuVU  nan\n",
       "<int64>   <bool> <<U4> <object> <<U3>"
      ]
     },
     "metadata": {},
     "output_type": "display_data"
    }
   ],
   "source": [
    "f = ff.parse('s(4,2)|v(bool,str)').to_frame_go() \n",
    "\n",
    "f['default'] = sf.Series.from_element('foo', index=range(3)) \n",
    "display(f)\n",
    "\n",
    "f.via_fill_value('')['via_fill_value'] = sf.Series.from_element('foo', index=range(3))\n",
    "display(f)"
   ]
  },
  {
   "cell_type": "markdown",
   "metadata": {
    "slideshow": {
     "slide_type": "slide"
    }
   },
   "source": [
    "## Performance\n",
    "\n",
    "* Significant performance gains in implementations of grouping, pivoting, concatenating, and core  `TypeBlocks` routines.\n",
    "* Improvements to `Bus` performance in time and space.\n",
    "* Continued implementation of optimzed C routines through `arraykit`."
   ]
  },
  {
   "cell_type": "markdown",
   "metadata": {
    "slideshow": {
     "slide_type": "slide"
    }
   },
   "source": [
    "## StaticFrame 0.9 Coming Soon\n",
    "\n",
    "Backward-incompatible changes\n",
    "\n",
    "* Dissallow creating `Index` with `datetime64` arrays\n",
    "    * Requires using `datetime64` `Index` subclasses.\n",
    "    * Motivates new `index_constructors`, `columns_constructors` arguments.\n",
    "* Change `Bus.__init__()` to no longer accept a Series but take internally managed components.\n",
    "* `Batch` no longer automatically promotes container types, must explicitly use `via_container`.\n",
    "* `*.from_overlay()` will be renamed `*.from_overlay_na()` to permit adding a `*.from_overlay_falsy()`."
   ]
  }
 ],
 "metadata": {
  "celltoolbar": "Slideshow",
  "interpreter": {
   "hash": "aee8b7b246df8f9039afb4144a1f6fd8d2ca17a180786b69acc140d282b71a49"
  },
  "kernelspec": {
   "display_name": "Python 3",
   "language": "python",
   "name": "python3"
  },
  "language_info": {
   "codemirror_mode": {
    "name": "ipython",
    "version": 3
   },
   "file_extension": ".py",
   "mimetype": "text/x-python",
   "name": "python",
   "nbconvert_exporter": "python",
   "pygments_lexer": "ipython3",
   "version": "3.8.12"
  }
 },
 "nbformat": 4,
 "nbformat_minor": 4
}
